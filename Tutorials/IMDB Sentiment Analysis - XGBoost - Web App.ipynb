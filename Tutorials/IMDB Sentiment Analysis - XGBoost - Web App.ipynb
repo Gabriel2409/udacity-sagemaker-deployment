{
 "cells": [
  {
   "cell_type": "markdown",
   "metadata": {},
   "source": [
    "# Sentiment Analysis Web App\n",
    "\n",
    "_Deep Learning Nanodegree Program | Deployment_\n",
    "\n",
    "---\n",
    "\n",
    "In this notebook we will use Amazon's SageMaker service to construct a random tree model to predict the sentiment of a movie review. In addition, we will deploy this model to an endpoint and construct a very simple web app which will interact with our model's deployed endpoint.\n",
    "\n",
    "## General Outline\n",
    "\n",
    "Typically, when using a notebook instance with SageMaker, you will proceed through the following steps. Of course, not every step will need to be done with each project. Also, there is quite a lot of room for variation in many of the steps, as you will see throughout these lessons.\n",
    "\n",
    "1. Download or otherwise retrieve the data.\n",
    "2. Process / Prepare the data.\n",
    "3. Upload the processed data to S3.\n",
    "4. Train a chosen model.\n",
    "5. Test the trained model (typically using a batch transform job).\n",
    "6. Deploy the trained model.\n",
    "7. Use the deployed model.\n",
    "\n",
    "In this notebook we will progress through each of the steps above. We will also see that the final step, using the deployed model, can be quite challenging."
   ]
  },
  {
   "cell_type": "markdown",
   "metadata": {},
   "source": [
    "## Step 1: Downloading the data\n",
    "\n",
    "The dataset we are going to use is very popular among researchers in Natural Language Processing, usually referred to as the [IMDb dataset](http://ai.stanford.edu/~amaas/data/sentiment/). It consists of movie reviews from the website [imdb.com](http://www.imdb.com/), each labeled as either '**pos**itive', if the reviewer enjoyed the film, or '**neg**ative' otherwise.\n",
    "\n",
    "> Maas, Andrew L., et al. [Learning Word Vectors for Sentiment Analysis](http://ai.stanford.edu/~amaas/data/sentiment/). In _Proceedings of the 49th Annual Meeting of the Association for Computational Linguistics: Human Language Technologies_. Association for Computational Linguistics, 2011.\n",
    "\n",
    "We begin by using some Jupyter Notebook magic to download and extract the dataset."
   ]
  },
  {
   "cell_type": "code",
   "execution_count": 1,
   "metadata": {},
   "outputs": [
    {
     "name": "stdout",
     "output_type": "stream",
     "text": [
      "mkdir: cannot create directory ‘../data’: File exists\n",
      "--2020-08-04 07:21:33--  http://ai.stanford.edu/~amaas/data/sentiment/aclImdb_v1.tar.gz\n",
      "Resolving ai.stanford.edu (ai.stanford.edu)... 171.64.68.10\n",
      "Connecting to ai.stanford.edu (ai.stanford.edu)|171.64.68.10|:80... connected.\n",
      "HTTP request sent, awaiting response... 200 OK\n",
      "Length: 84125825 (80M) [application/x-gzip]\n",
      "Saving to: ‘../data/aclImdb_v1.tar.gz’\n",
      "\n",
      "../data/aclImdb_v1. 100%[===================>]  80.23M  24.3MB/s    in 3.9s    \n",
      "\n",
      "2020-08-04 07:21:37 (20.5 MB/s) - ‘../data/aclImdb_v1.tar.gz’ saved [84125825/84125825]\n",
      "\n"
     ]
    }
   ],
   "source": [
    "%mkdir ../data\n",
    "!wget -O ../data/aclImdb_v1.tar.gz http://ai.stanford.edu/~amaas/data/sentiment/aclImdb_v1.tar.gz\n",
    "!tar -zxf ../data/aclImdb_v1.tar.gz -C ../data"
   ]
  },
  {
   "cell_type": "markdown",
   "metadata": {},
   "source": [
    "## Step 2: Preparing and Processing the data\n",
    "\n",
    "The data we have downloaded is split into various files, each of which contains a single review. It will be much easier going forward if we combine these individual files into two large files, one for training and one for testing."
   ]
  },
  {
   "cell_type": "code",
   "execution_count": 2,
   "metadata": {},
   "outputs": [],
   "source": [
    "import os\n",
    "import glob\n",
    "\n",
    "def read_imdb_data(data_dir='../data/aclImdb'):\n",
    "    data = {}\n",
    "    labels = {}\n",
    "    \n",
    "    for data_type in ['train', 'test']:\n",
    "        data[data_type] = {}\n",
    "        labels[data_type] = {}\n",
    "        \n",
    "        for sentiment in ['pos', 'neg']:\n",
    "            data[data_type][sentiment] = []\n",
    "            labels[data_type][sentiment] = []\n",
    "            \n",
    "            path = os.path.join(data_dir, data_type, sentiment, '*.txt')\n",
    "            files = glob.glob(path)\n",
    "            \n",
    "            for f in files:\n",
    "                with open(f) as review:\n",
    "                    data[data_type][sentiment].append(review.read())\n",
    "                    # Here we represent a positive review by '1' and a negative review by '0'\n",
    "                    labels[data_type][sentiment].append(1 if sentiment == 'pos' else 0)\n",
    "                    \n",
    "            assert len(data[data_type][sentiment]) == len(labels[data_type][sentiment]), \\\n",
    "                    \"{}/{} data size does not match labels size\".format(data_type, sentiment)\n",
    "                \n",
    "    return data, labels"
   ]
  },
  {
   "cell_type": "code",
   "execution_count": 3,
   "metadata": {},
   "outputs": [
    {
     "name": "stdout",
     "output_type": "stream",
     "text": [
      "IMDB reviews: train = 12500 pos / 12500 neg, test = 12500 pos / 12500 neg\n"
     ]
    }
   ],
   "source": [
    "data, labels = read_imdb_data()\n",
    "print(\"IMDB reviews: train = {} pos / {} neg, test = {} pos / {} neg\".format(\n",
    "            len(data['train']['pos']), len(data['train']['neg']),\n",
    "            len(data['test']['pos']), len(data['test']['neg'])))"
   ]
  },
  {
   "cell_type": "code",
   "execution_count": 4,
   "metadata": {},
   "outputs": [],
   "source": [
    "from sklearn.utils import shuffle\n",
    "\n",
    "def prepare_imdb_data(data, labels):\n",
    "    \"\"\"Prepare training and test sets from IMDb movie reviews.\"\"\"\n",
    "    \n",
    "    #Combine positive and negative reviews and labels\n",
    "    data_train = data['train']['pos'] + data['train']['neg']\n",
    "    data_test = data['test']['pos'] + data['test']['neg']\n",
    "    labels_train = labels['train']['pos'] + labels['train']['neg']\n",
    "    labels_test = labels['test']['pos'] + labels['test']['neg']\n",
    "    \n",
    "    #Shuffle reviews and corresponding labels within training and test sets\n",
    "    data_train, labels_train = shuffle(data_train, labels_train)\n",
    "    data_test, labels_test = shuffle(data_test, labels_test)\n",
    "    \n",
    "    # Return a unified training data, test data, training labels, test labets\n",
    "    return data_train, data_test, labels_train, labels_test"
   ]
  },
  {
   "cell_type": "code",
   "execution_count": 5,
   "metadata": {},
   "outputs": [
    {
     "name": "stdout",
     "output_type": "stream",
     "text": [
      "IMDb reviews (combined): train = 25000, test = 25000\n"
     ]
    }
   ],
   "source": [
    "train_X, test_X, train_y, test_y = prepare_imdb_data(data, labels)\n",
    "print(\"IMDb reviews (combined): train = {}, test = {}\".format(len(train_X), len(test_X)))"
   ]
  },
  {
   "cell_type": "code",
   "execution_count": 6,
   "metadata": {},
   "outputs": [
    {
     "data": {
      "text/plain": [
       "'I have no idea what on earth, or beyond, could have possibly made Sam Mraovich believe that this would have been a worthy project to undertake. Ben & Arthur is one of the worst movies ever made. In fact, I see no reason why it should not be at #1 on the Bottom 100. For although I have not seen, for example, SuperBabies: Baby Geniuses 2 (#5 at the time of this publication), I would venture to guess that that film is considerably better than this oozing wound, because even in its vapid dismalness at least Baby Geniuses 2 was professionally made. By contrast, everything, and I do mean everything, in this film is completely unprofessional.<br /><br />The movie is intended to be an attack on the Christian Right\\'s supposed bigotry and hatred toward gays. And I do emphasize \"intended.\" Not only does it completely and utterly fail at its purpose, it also leaves an ugly scar. Instead of creating a compelling and realistic portrait of a gay couple\\'s struggle against a society that largely opposes them, it creates tired, crass stereotypes of each party involved. Ben and Arthur, the namesake couple, are portrayed as two crude, sex-starved, and hopelessly romantic cardboard cutouts who marry when the laws change to allow them to do so. This meets with the opposition of Ben\\'s brother Victor, a Christian minister who, like all Christians (as this movie would have us believe), is loud, prying, stupid, and violent. He tries to kill Ben and Arthur after his associations with them get him kicked out of the ministry. Just like in real life. And if you think that\\'s dreadful (it is), you haven\\'t seen it all.<br /><br />The actors (?) here manage to completely destroy any vestige of credibility in this movie by saying their lines as if they were narrating a YouTube home comedy video. But not even Daniel Day-Lewis and Marlon Brando as the title characters could have saved this clunker, for there would still be the matter of the completely inane and laugh-inducing dialogue that fills every minute of the movie. Every scene has at least one awkward or misplaced quote. For example, in one scene, Victor tries to complain about not being able to have nieces or nephews because of his brother\\'s homosexuality. But instead of portraying this idea clearly, he spits out the stupid, utterly confusing, whiny-sounding line, \"You know what, I\\'m never going to have any nieces or nephews, okay, because you\\'re so F***ED UP!\"<br /><br />Even more glaring is the complete lack of production values. Yes, I know this ain\\'t The Dark Knight, but even amateur film makers should know some basics about special effects and editing. For example, six dots of red cake dye do not suffice for realistic bullet wounds. People do not teleport across a room between takes. And objects do not fall FORWARD when shot! <br /><br />Do not waste your money on Ben & Arthur. I don\\'t care if you\\'re 7, 17, or 107. I don\\'t care if you\\'re gay, straight, bi, or undecided. I don\\'t care if you\\'re \"just curious.\" I don\\'t care what pathetic reason you may have to be tempted to buy this dung-heap. Stay away, far away. This movie\\'s only redeeming quality is its ability to be used as a Frisbee.'"
      ]
     },
     "execution_count": 6,
     "metadata": {},
     "output_type": "execute_result"
    }
   ],
   "source": [
    "train_X[100]"
   ]
  },
  {
   "cell_type": "markdown",
   "metadata": {},
   "source": [
    "## Processing the data\n",
    "\n",
    "Now that we have our training and testing datasets merged and ready to use, we need to start processing the raw data into something that will be useable by our machine learning algorithm. To begin with, we remove any html formatting and any non-alpha numeric characters that may appear in the reviews. We will do this in a very simplistic way using Python's regular expression module. We will discuss the reason for this rather simplistic pre-processing later on."
   ]
  },
  {
   "cell_type": "code",
   "execution_count": 7,
   "metadata": {},
   "outputs": [],
   "source": [
    "import re\n",
    "\n",
    "REPLACE_NO_SPACE = re.compile(\"(\\.)|(\\;)|(\\:)|(\\!)|(\\')|(\\?)|(\\,)|(\\\")|(\\()|(\\))|(\\[)|(\\])\")\n",
    "REPLACE_WITH_SPACE = re.compile(\"(<br\\s*/><br\\s*/>)|(\\-)|(\\/)\")\n",
    "\n",
    "def review_to_words(review):\n",
    "    words = REPLACE_NO_SPACE.sub(\"\", review.lower())\n",
    "    words = REPLACE_WITH_SPACE.sub(\" \", words)\n",
    "    return words"
   ]
  },
  {
   "cell_type": "code",
   "execution_count": 8,
   "metadata": {},
   "outputs": [
    {
     "data": {
      "text/plain": [
       "'i have no idea what on earth or beyond could have possibly made sam mraovich believe that this would have been a worthy project to undertake ben & arthur is one of the worst movies ever made in fact i see no reason why it should not be at #1 on the bottom 100 for although i have not seen for example superbabies baby geniuses 2 #5 at the time of this publication i would venture to guess that that film is considerably better than this oozing wound because even in its vapid dismalness at least baby geniuses 2 was professionally made by contrast everything and i do mean everything in this film is completely unprofessional the movie is intended to be an attack on the christian rights supposed bigotry and hatred toward gays and i do emphasize intended not only does it completely and utterly fail at its purpose it also leaves an ugly scar instead of creating a compelling and realistic portrait of a gay couples struggle against a society that largely opposes them it creates tired crass stereotypes of each party involved ben and arthur the namesake couple are portrayed as two crude sex starved and hopelessly romantic cardboard cutouts who marry when the laws change to allow them to do so this meets with the opposition of bens brother victor a christian minister who like all christians as this movie would have us believe is loud prying stupid and violent he tries to kill ben and arthur after his associations with them get him kicked out of the ministry just like in real life and if you think thats dreadful it is you havent seen it all the actors  here manage to completely destroy any vestige of credibility in this movie by saying their lines as if they were narrating a youtube home comedy video but not even daniel day lewis and marlon brando as the title characters could have saved this clunker for there would still be the matter of the completely inane and laugh inducing dialogue that fills every minute of the movie every scene has at least one awkward or misplaced quote for example in one scene victor tries to complain about not being able to have nieces or nephews because of his brothers homosexuality but instead of portraying this idea clearly he spits out the stupid utterly confusing whiny sounding line you know what im never going to have any nieces or nephews okay because youre so f***ed up even more glaring is the complete lack of production values yes i know this aint the dark knight but even amateur film makers should know some basics about special effects and editing for example six dots of red cake dye do not suffice for realistic bullet wounds people do not teleport across a room between takes and objects do not fall forward when shot  do not waste your money on ben & arthur i dont care if youre 7 17 or 107 i dont care if youre gay straight bi or undecided i dont care if youre just curious i dont care what pathetic reason you may have to be tempted to buy this dung heap stay away far away this movies only redeeming quality is its ability to be used as a frisbee'"
      ]
     },
     "execution_count": 8,
     "metadata": {},
     "output_type": "execute_result"
    }
   ],
   "source": [
    "review_to_words(train_X[100])"
   ]
  },
  {
   "cell_type": "code",
   "execution_count": 9,
   "metadata": {},
   "outputs": [],
   "source": [
    "import pickle\n",
    "\n",
    "cache_dir = os.path.join(\"../cache\", \"sentiment_web_app\")  # where to store cache files\n",
    "os.makedirs(cache_dir, exist_ok=True)  # ensure cache directory exists\n",
    "\n",
    "def preprocess_data(data_train, data_test, labels_train, labels_test,\n",
    "                    cache_dir=cache_dir, cache_file=\"preprocessed_data.pkl\"):\n",
    "    \"\"\"Convert each review to words; read from cache if available.\"\"\"\n",
    "\n",
    "    # If cache_file is not None, try to read from it first\n",
    "    cache_data = None\n",
    "    if cache_file is not None:\n",
    "        try:\n",
    "            with open(os.path.join(cache_dir, cache_file), \"rb\") as f:\n",
    "                cache_data = pickle.load(f)\n",
    "            print(\"Read preprocessed data from cache file:\", cache_file)\n",
    "        except:\n",
    "            pass  # unable to read from cache, but that's okay\n",
    "    \n",
    "    # If cache is missing, then do the heavy lifting\n",
    "    if cache_data is None:\n",
    "        # Preprocess training and test data to obtain words for each review\n",
    "        #words_train = list(map(review_to_words, data_train))\n",
    "        #words_test = list(map(review_to_words, data_test))\n",
    "        words_train = [review_to_words(review) for review in data_train]\n",
    "        words_test = [review_to_words(review) for review in data_test]\n",
    "        \n",
    "        # Write to cache file for future runs\n",
    "        if cache_file is not None:\n",
    "            cache_data = dict(words_train=words_train, words_test=words_test,\n",
    "                              labels_train=labels_train, labels_test=labels_test)\n",
    "            with open(os.path.join(cache_dir, cache_file), \"wb\") as f:\n",
    "                pickle.dump(cache_data, f)\n",
    "            print(\"Wrote preprocessed data to cache file:\", cache_file)\n",
    "    else:\n",
    "        # Unpack data loaded from cache file\n",
    "        words_train, words_test, labels_train, labels_test = (cache_data['words_train'],\n",
    "                cache_data['words_test'], cache_data['labels_train'], cache_data['labels_test'])\n",
    "    \n",
    "    return words_train, words_test, labels_train, labels_test"
   ]
  },
  {
   "cell_type": "code",
   "execution_count": 10,
   "metadata": {},
   "outputs": [
    {
     "name": "stdout",
     "output_type": "stream",
     "text": [
      "Wrote preprocessed data to cache file: preprocessed_data.pkl\n"
     ]
    }
   ],
   "source": [
    "# Preprocess data\n",
    "train_X, test_X, train_y, test_y = preprocess_data(train_X, test_X, train_y, test_y)"
   ]
  },
  {
   "cell_type": "markdown",
   "metadata": {},
   "source": [
    "### Extract Bag-of-Words features\n",
    "\n",
    "For the model we will be implementing, rather than using the reviews directly, we are going to transform each review into a Bag-of-Words feature representation. Keep in mind that 'in the wild' we will only have access to the training set so our transformer can only use the training set to construct a representation."
   ]
  },
  {
   "cell_type": "code",
   "execution_count": 11,
   "metadata": {},
   "outputs": [
    {
     "name": "stderr",
     "output_type": "stream",
     "text": [
      "/home/ec2-user/anaconda3/envs/python3/lib/python3.6/site-packages/sklearn/externals/joblib/__init__.py:15: FutureWarning: sklearn.externals.joblib is deprecated in 0.21 and will be removed in 0.23. Please import this functionality directly from joblib, which can be installed with: pip install joblib. If this warning is raised when loading pickled models, you may need to re-serialize those models with scikit-learn 0.21+.\n",
      "  warnings.warn(msg, category=FutureWarning)\n"
     ]
    }
   ],
   "source": [
    "import numpy as np\n",
    "from sklearn.feature_extraction.text import CountVectorizer\n",
    "from sklearn.externals import joblib\n",
    "# joblib is an enhanced version of pickle that is more efficient for storing NumPy arrays\n",
    "\n",
    "def extract_BoW_features(words_train, words_test, vocabulary_size=5000,\n",
    "                         cache_dir=cache_dir, cache_file=\"bow_features.pkl\"):\n",
    "    \"\"\"Extract Bag-of-Words for a given set of documents, already preprocessed into words.\"\"\"\n",
    "    \n",
    "    # If cache_file is not None, try to read from it first\n",
    "    cache_data = None\n",
    "    if cache_file is not None:\n",
    "        try:\n",
    "            with open(os.path.join(cache_dir, cache_file), \"rb\") as f:\n",
    "                cache_data = joblib.load(f)\n",
    "            print(\"Read features from cache file:\", cache_file)\n",
    "        except:\n",
    "            pass  # unable to read from cache, but that's okay\n",
    "    \n",
    "    # If cache is missing, then do the heavy lifting\n",
    "    if cache_data is None:\n",
    "        # Fit a vectorizer to training documents and use it to transform them\n",
    "        # NOTE: Training documents have already been preprocessed and tokenized into words;\n",
    "        #       pass in dummy functions to skip those steps, e.g. preprocessor=lambda x: x\n",
    "        vectorizer = CountVectorizer(max_features=vocabulary_size)\n",
    "        features_train = vectorizer.fit_transform(words_train).toarray()\n",
    "\n",
    "        # Apply the same vectorizer to transform the test documents (ignore unknown words)\n",
    "        features_test = vectorizer.transform(words_test).toarray()\n",
    "        \n",
    "        # NOTE: Remember to convert the features using .toarray() for a compact representation\n",
    "        \n",
    "        # Write to cache file for future runs (store vocabulary as well)\n",
    "        if cache_file is not None:\n",
    "            vocabulary = vectorizer.vocabulary_\n",
    "            cache_data = dict(features_train=features_train, features_test=features_test,\n",
    "                             vocabulary=vocabulary)\n",
    "            with open(os.path.join(cache_dir, cache_file), \"wb\") as f:\n",
    "                joblib.dump(cache_data, f)\n",
    "            print(\"Wrote features to cache file:\", cache_file)\n",
    "    else:\n",
    "        # Unpack data loaded from cache file\n",
    "        features_train, features_test, vocabulary = (cache_data['features_train'],\n",
    "                cache_data['features_test'], cache_data['vocabulary'])\n",
    "    \n",
    "    # Return both the extracted features as well as the vocabulary\n",
    "    return features_train, features_test, vocabulary"
   ]
  },
  {
   "cell_type": "code",
   "execution_count": 12,
   "metadata": {},
   "outputs": [
    {
     "name": "stdout",
     "output_type": "stream",
     "text": [
      "Wrote features to cache file: bow_features.pkl\n"
     ]
    }
   ],
   "source": [
    "# Extract Bag of Words features for both training and test datasets\n",
    "train_X, test_X, vocabulary = extract_BoW_features(train_X, test_X)"
   ]
  },
  {
   "cell_type": "code",
   "execution_count": 13,
   "metadata": {},
   "outputs": [
    {
     "data": {
      "text/plain": [
       "5000"
      ]
     },
     "execution_count": 13,
     "metadata": {},
     "output_type": "execute_result"
    }
   ],
   "source": [
    "len(train_X[100])"
   ]
  },
  {
   "cell_type": "markdown",
   "metadata": {},
   "source": [
    "## Step 3: Upload data to S3\n",
    "\n",
    "Now that we have created the feature representation of our training (and testing) data, it is time to start setting up and using the XGBoost classifier provided by SageMaker.\n",
    "\n",
    "### Writing the datasets\n",
    "\n",
    "The XGBoost classifier that we will be using requires the dataset to be written to a file and stored using Amazon S3. To do this, we will start by splitting the training dataset into two parts, the data we will train the model with and a validation set. Then, we will write those datasets to a file locally and then upload the files to S3. In addition, we will write the test set to a file and upload that file to S3. This is so that we can use SageMakers Batch Transform functionality to test our model once we've fit it."
   ]
  },
  {
   "cell_type": "code",
   "execution_count": 14,
   "metadata": {},
   "outputs": [],
   "source": [
    "import pandas as pd\n",
    "\n",
    "# Earlier we shuffled the training dataset so to make things simple we can just assign\n",
    "# the first 10 000 reviews to the validation set and use the remaining reviews for training.\n",
    "val_X = pd.DataFrame(train_X[:10000])\n",
    "train_X = pd.DataFrame(train_X[10000:])\n",
    "\n",
    "val_y = pd.DataFrame(train_y[:10000])\n",
    "train_y = pd.DataFrame(train_y[10000:])"
   ]
  },
  {
   "cell_type": "markdown",
   "metadata": {},
   "source": [
    "The documentation for the XGBoost algorithm in SageMaker requires that the training and validation datasets should contain no headers or index and that the label should occur first for each sample.\n",
    "\n",
    "For more information about this and other algorithms, the SageMaker developer documentation can be found on __[Amazon's website.](https://docs.aws.amazon.com/sagemaker/latest/dg/)__"
   ]
  },
  {
   "cell_type": "code",
   "execution_count": 15,
   "metadata": {},
   "outputs": [],
   "source": [
    "# First we make sure that the local directory in which we'd like to store the training and validation csv files exists.\n",
    "data_dir = '../data/sentiment_web_app'\n",
    "if not os.path.exists(data_dir):\n",
    "    os.makedirs(data_dir)"
   ]
  },
  {
   "cell_type": "code",
   "execution_count": 16,
   "metadata": {},
   "outputs": [],
   "source": [
    "pd.DataFrame(test_X).to_csv(os.path.join(data_dir, 'test.csv'), header=False, index=False)\n",
    "\n",
    "pd.concat([val_y, val_X], axis=1).to_csv(os.path.join(data_dir, 'validation.csv'), header=False, index=False)\n",
    "pd.concat([train_y, train_X], axis=1).to_csv(os.path.join(data_dir, 'train.csv'), header=False, index=False)"
   ]
  },
  {
   "cell_type": "code",
   "execution_count": 17,
   "metadata": {},
   "outputs": [],
   "source": [
    "# To save a bit of memory we can set text_X, train_X, val_X, train_y and val_y to None.\n",
    "\n",
    "test_X = train_X = val_X = train_y = val_y = None"
   ]
  },
  {
   "cell_type": "markdown",
   "metadata": {},
   "source": [
    "### Uploading Training / Validation files to S3\n",
    "\n",
    "Amazon's S3 service allows us to store files that can be accessed by both the built-in training models such as the XGBoost model we will be using as well as custom models such as the one we will see a little later.\n",
    "\n",
    "For this and most other tasks we will be doing using SageMaker, there are two methods we could use. The first is to use the low level functionality of SageMaker which requires knowing each of the objects involved in the SageMaker environment. The second is to use the high level functionality in which certain choices have been made on the user's behalf. The low level approach benefits from allowing the user a great deal of flexibility while the high level approach makes development much quicker. For our purposes we will opt to use the high level approach although using the low-level approach is certainly an option.\n",
    "\n",
    "Recall the method `upload_data()` which is a member of the object representing our current SageMaker session. What this method does is upload the data to the default bucket (which is created if it does not exist) into the path described by the key_prefix variable. To see this for yourself, once you have uploaded the data files, go to the S3 console and look to see where the files have been uploaded.\n",
    "\n",
    "For additional resources, see the __[SageMaker API documentation](http://sagemaker.readthedocs.io/en/latest/)__ and in addition the __[SageMaker Developer Guide.](https://docs.aws.amazon.com/sagemaker/latest/dg/)__"
   ]
  },
  {
   "cell_type": "code",
   "execution_count": 18,
   "metadata": {},
   "outputs": [],
   "source": [
    "import sagemaker\n",
    "\n",
    "session = sagemaker.Session() # Store the current SageMaker session\n",
    "\n",
    "# S3 prefix (which folder will we use)\n",
    "prefix = 'sentiment-web-app'\n",
    "\n",
    "test_location = session.upload_data(os.path.join(data_dir, 'test.csv'), key_prefix=prefix)\n",
    "val_location = session.upload_data(os.path.join(data_dir, 'validation.csv'), key_prefix=prefix)\n",
    "train_location = session.upload_data(os.path.join(data_dir, 'train.csv'), key_prefix=prefix)"
   ]
  },
  {
   "cell_type": "markdown",
   "metadata": {},
   "source": [
    "## Step 4: Creating the XGBoost model\n",
    "\n",
    "Now that the data has been uploaded it is time to create the XGBoost model. To begin with, we need to do some setup. At this point it is worth discussing what a model is in SageMaker. It is easiest to think of a model of comprising three different objects in the SageMaker ecosystem, which interact with one another.\n",
    "\n",
    "- Model Artifacts\n",
    "- Training Code (Container)\n",
    "- Inference Code (Container)\n",
    "\n",
    "The Model Artifacts are what you might think of as the actual model itself. For example, if you were building a neural network, the model artifacts would be the weights of the various layers. In our case, for an XGBoost model, the artifacts are the actual trees that are created during training.\n",
    "\n",
    "The other two objects, the training code and the inference code are then used to manipulate the training artifacts. More precisely, the training code uses the training data that is provided and creates the model artifacts, while the inference code uses the model artifacts to make predictions on new data.\n",
    "\n",
    "The way that SageMaker runs the training and inference code is by making use of Docker containers. For now, think of a container as being a way of packaging code up so that dependencies aren't an issue."
   ]
  },
  {
   "cell_type": "code",
   "execution_count": 19,
   "metadata": {},
   "outputs": [],
   "source": [
    "from sagemaker import get_execution_role\n",
    "\n",
    "# Our current execution role is required when creating the model as the training\n",
    "# and inference code will need to access the model artifacts.\n",
    "role = get_execution_role()"
   ]
  },
  {
   "cell_type": "code",
   "execution_count": 20,
   "metadata": {},
   "outputs": [
    {
     "name": "stderr",
     "output_type": "stream",
     "text": [
      "'get_image_uri' method will be deprecated in favor of 'ImageURIProvider' class in SageMaker Python SDK v2.\n",
      "There is a more up to date SageMaker XGBoost image. To use the newer image, please set 'repo_version'='1.0-1'. For example:\n",
      "\tget_image_uri(region, 'xgboost', '1.0-1').\n"
     ]
    }
   ],
   "source": [
    "# We need to retrieve the location of the container which is provided by Amazon for using XGBoost.\n",
    "# As a matter of convenience, the training and inference code both use the same container.\n",
    "from sagemaker.amazon.amazon_estimator import get_image_uri\n",
    "\n",
    "container = get_image_uri(session.boto_region_name, 'xgboost')"
   ]
  },
  {
   "cell_type": "code",
   "execution_count": 21,
   "metadata": {},
   "outputs": [
    {
     "name": "stderr",
     "output_type": "stream",
     "text": [
      "Parameter image_name will be renamed to image_uri in SageMaker Python SDK v2.\n"
     ]
    }
   ],
   "source": [
    "# First we create a SageMaker estimator object for our model.\n",
    "xgb = sagemaker.estimator.Estimator(container, # The location of the container we wish to use\n",
    "                                    role,                                    # What is our current IAM Role\n",
    "                                    train_instance_count=1,                  # How many compute instances\n",
    "                                    train_instance_type='ml.m4.xlarge',      # What kind of compute instances\n",
    "                                    output_path='s3://{}/{}/output'.format(session.default_bucket(), prefix),\n",
    "                                    sagemaker_session=session)\n",
    "\n",
    "# And then set the algorithm specific parameters.\n",
    "xgb.set_hyperparameters(max_depth=5,\n",
    "                        eta=0.2,\n",
    "                        gamma=4,\n",
    "                        min_child_weight=6,\n",
    "                        subsample=0.8,\n",
    "                        silent=0,\n",
    "                        objective='binary:logistic',\n",
    "                        early_stopping_rounds=10,\n",
    "                        num_round=500)"
   ]
  },
  {
   "cell_type": "markdown",
   "metadata": {},
   "source": [
    "### Fit the XGBoost model\n",
    "\n",
    "Now that our model has been set up we simply need to attach the training and validation datasets and then ask SageMaker to set up the computation."
   ]
  },
  {
   "cell_type": "code",
   "execution_count": 22,
   "metadata": {},
   "outputs": [
    {
     "name": "stderr",
     "output_type": "stream",
     "text": [
      "'s3_input' class will be renamed to 'TrainingInput' in SageMaker Python SDK v2.\n",
      "'s3_input' class will be renamed to 'TrainingInput' in SageMaker Python SDK v2.\n"
     ]
    }
   ],
   "source": [
    "s3_input_train = sagemaker.s3_input(s3_data=train_location, content_type='csv')\n",
    "s3_input_validation = sagemaker.s3_input(s3_data=val_location, content_type='csv')"
   ]
  },
  {
   "cell_type": "code",
   "execution_count": 23,
   "metadata": {},
   "outputs": [
    {
     "name": "stdout",
     "output_type": "stream",
     "text": [
      "2020-08-04 07:23:49 Starting - Starting the training job...\n",
      "2020-08-04 07:23:51 Starting - Launching requested ML instances......\n",
      "2020-08-04 07:24:56 Starting - Preparing the instances for training......\n",
      "2020-08-04 07:26:10 Downloading - Downloading input data\n",
      "2020-08-04 07:26:10 Training - Downloading the training image..\u001b[34mArguments: train\u001b[0m\n",
      "\u001b[34m[2020-08-04:07:26:30:INFO] Running standalone xgboost training.\u001b[0m\n",
      "\u001b[34m[2020-08-04:07:26:30:INFO] File size need to be processed in the node: 238.5mb. Available memory size in the node: 8477.72mb\u001b[0m\n",
      "\u001b[34m[2020-08-04:07:26:30:INFO] Determined delimiter of CSV input is ','\u001b[0m\n",
      "\u001b[34m[07:26:30] S3DistributionType set as FullyReplicated\u001b[0m\n",
      "\u001b[34m[07:26:32] 15000x5000 matrix with 75000000 entries loaded from /opt/ml/input/data/train?format=csv&label_column=0&delimiter=,\u001b[0m\n",
      "\u001b[34m[2020-08-04:07:26:32:INFO] Determined delimiter of CSV input is ','\u001b[0m\n",
      "\u001b[34m[07:26:32] S3DistributionType set as FullyReplicated\u001b[0m\n",
      "\u001b[34m[07:26:33] 10000x5000 matrix with 50000000 entries loaded from /opt/ml/input/data/validation?format=csv&label_column=0&delimiter=,\u001b[0m\n",
      "\n",
      "2020-08-04 07:26:29 Training - Training image download completed. Training in progress.\u001b[34m[07:26:37] src/tree/updater_prune.cc:74: tree pruning end, 1 roots, 38 extra nodes, 8 pruned nodes, max_depth=5\u001b[0m\n",
      "\u001b[34m[0]#011train-error:0.3066#011validation-error:0.3061\u001b[0m\n",
      "\u001b[34mMultiple eval metrics have been passed: 'validation-error' will be used for early stopping.\n",
      "\u001b[0m\n",
      "\u001b[34mWill train until validation-error hasn't improved in 10 rounds.\u001b[0m\n",
      "\u001b[34m[07:26:38] src/tree/updater_prune.cc:74: tree pruning end, 1 roots, 34 extra nodes, 6 pruned nodes, max_depth=5\u001b[0m\n",
      "\u001b[34m[1]#011train-error:0.303733#011validation-error:0.3051\u001b[0m\n",
      "\u001b[34m[07:26:39] src/tree/updater_prune.cc:74: tree pruning end, 1 roots, 40 extra nodes, 8 pruned nodes, max_depth=5\u001b[0m\n",
      "\u001b[34m[2]#011train-error:0.290333#011validation-error:0.2955\u001b[0m\n",
      "\u001b[34m[07:26:40] src/tree/updater_prune.cc:74: tree pruning end, 1 roots, 30 extra nodes, 10 pruned nodes, max_depth=5\u001b[0m\n",
      "\u001b[34m[3]#011train-error:0.2824#011validation-error:0.2841\u001b[0m\n",
      "\u001b[34m[07:26:42] src/tree/updater_prune.cc:74: tree pruning end, 1 roots, 24 extra nodes, 10 pruned nodes, max_depth=5\u001b[0m\n",
      "\u001b[34m[4]#011train-error:0.2752#011validation-error:0.2789\u001b[0m\n",
      "\u001b[34m[07:26:43] src/tree/updater_prune.cc:74: tree pruning end, 1 roots, 34 extra nodes, 6 pruned nodes, max_depth=5\u001b[0m\n",
      "\u001b[34m[5]#011train-error:0.253267#011validation-error:0.2634\u001b[0m\n",
      "\u001b[34m[07:26:45] src/tree/updater_prune.cc:74: tree pruning end, 1 roots, 38 extra nodes, 0 pruned nodes, max_depth=5\u001b[0m\n",
      "\u001b[34m[6]#011train-error:0.2444#011validation-error:0.2532\u001b[0m\n",
      "\u001b[34m[07:26:46] src/tree/updater_prune.cc:74: tree pruning end, 1 roots, 30 extra nodes, 8 pruned nodes, max_depth=5\u001b[0m\n",
      "\u001b[34m[7]#011train-error:0.2404#011validation-error:0.2489\u001b[0m\n",
      "\u001b[34m[07:26:47] src/tree/updater_prune.cc:74: tree pruning end, 1 roots, 38 extra nodes, 8 pruned nodes, max_depth=5\u001b[0m\n",
      "\u001b[34m[8]#011train-error:0.231533#011validation-error:0.2426\u001b[0m\n",
      "\u001b[34m[07:26:48] src/tree/updater_prune.cc:74: tree pruning end, 1 roots, 24 extra nodes, 6 pruned nodes, max_depth=5\u001b[0m\n",
      "\u001b[34m[9]#011train-error:0.226467#011validation-error:0.2387\u001b[0m\n",
      "\u001b[34m[07:26:50] src/tree/updater_prune.cc:74: tree pruning end, 1 roots, 34 extra nodes, 2 pruned nodes, max_depth=5\u001b[0m\n",
      "\u001b[34m[10]#011train-error:0.223467#011validation-error:0.2378\u001b[0m\n",
      "\u001b[34m[07:26:51] src/tree/updater_prune.cc:74: tree pruning end, 1 roots, 44 extra nodes, 2 pruned nodes, max_depth=5\u001b[0m\n",
      "\u001b[34m[11]#011train-error:0.2188#011validation-error:0.2338\u001b[0m\n",
      "\u001b[34m[07:26:52] src/tree/updater_prune.cc:74: tree pruning end, 1 roots, 26 extra nodes, 10 pruned nodes, max_depth=5\u001b[0m\n",
      "\u001b[34m[12]#011train-error:0.214667#011validation-error:0.2299\u001b[0m\n",
      "\u001b[34m[07:26:53] src/tree/updater_prune.cc:74: tree pruning end, 1 roots, 28 extra nodes, 10 pruned nodes, max_depth=5\u001b[0m\n",
      "\u001b[34m[13]#011train-error:0.208867#011validation-error:0.2247\u001b[0m\n",
      "\u001b[34m[07:26:55] src/tree/updater_prune.cc:74: tree pruning end, 1 roots, 28 extra nodes, 4 pruned nodes, max_depth=5\u001b[0m\n",
      "\u001b[34m[14]#011train-error:0.203067#011validation-error:0.2179\u001b[0m\n",
      "\u001b[34m[07:26:56] src/tree/updater_prune.cc:74: tree pruning end, 1 roots, 26 extra nodes, 8 pruned nodes, max_depth=5\u001b[0m\n",
      "\u001b[34m[15]#011train-error:0.199533#011validation-error:0.2167\u001b[0m\n",
      "\u001b[34m[07:26:57] src/tree/updater_prune.cc:74: tree pruning end, 1 roots, 22 extra nodes, 6 pruned nodes, max_depth=5\u001b[0m\n",
      "\u001b[34m[16]#011train-error:0.198267#011validation-error:0.2139\u001b[0m\n",
      "\u001b[34m[07:26:59] src/tree/updater_prune.cc:74: tree pruning end, 1 roots, 38 extra nodes, 4 pruned nodes, max_depth=5\u001b[0m\n",
      "\u001b[34m[17]#011train-error:0.195067#011validation-error:0.2129\u001b[0m\n",
      "\u001b[34m[07:27:00] src/tree/updater_prune.cc:74: tree pruning end, 1 roots, 30 extra nodes, 4 pruned nodes, max_depth=5\u001b[0m\n",
      "\u001b[34m[18]#011train-error:0.191333#011validation-error:0.2111\u001b[0m\n",
      "\u001b[34m[07:27:01] src/tree/updater_prune.cc:74: tree pruning end, 1 roots, 20 extra nodes, 12 pruned nodes, max_depth=5\u001b[0m\n",
      "\u001b[34m[19]#011train-error:0.191333#011validation-error:0.2084\u001b[0m\n",
      "\u001b[34m[07:27:02] src/tree/updater_prune.cc:74: tree pruning end, 1 roots, 22 extra nodes, 12 pruned nodes, max_depth=5\u001b[0m\n",
      "\u001b[34m[20]#011train-error:0.186333#011validation-error:0.2072\u001b[0m\n",
      "\u001b[34m[07:27:04] src/tree/updater_prune.cc:74: tree pruning end, 1 roots, 36 extra nodes, 6 pruned nodes, max_depth=5\u001b[0m\n",
      "\u001b[34m[21]#011train-error:0.1842#011validation-error:0.2078\u001b[0m\n",
      "\u001b[34m[07:27:05] src/tree/updater_prune.cc:74: tree pruning end, 1 roots, 28 extra nodes, 2 pruned nodes, max_depth=5\u001b[0m\n",
      "\u001b[34m[22]#011train-error:0.1822#011validation-error:0.2032\u001b[0m\n",
      "\u001b[34m[07:27:06] src/tree/updater_prune.cc:74: tree pruning end, 1 roots, 30 extra nodes, 4 pruned nodes, max_depth=5\u001b[0m\n",
      "\u001b[34m[23]#011train-error:0.180933#011validation-error:0.2022\u001b[0m\n",
      "\u001b[34m[07:27:07] src/tree/updater_prune.cc:74: tree pruning end, 1 roots, 18 extra nodes, 12 pruned nodes, max_depth=5\u001b[0m\n",
      "\u001b[34m[24]#011train-error:0.180067#011validation-error:0.2003\u001b[0m\n",
      "\u001b[34m[07:27:09] src/tree/updater_prune.cc:74: tree pruning end, 1 roots, 34 extra nodes, 6 pruned nodes, max_depth=5\u001b[0m\n",
      "\u001b[34m[25]#011train-error:0.176867#011validation-error:0.1969\u001b[0m\n",
      "\u001b[34m[07:27:10] src/tree/updater_prune.cc:74: tree pruning end, 1 roots, 24 extra nodes, 6 pruned nodes, max_depth=5\u001b[0m\n",
      "\u001b[34m[26]#011train-error:0.173867#011validation-error:0.1952\u001b[0m\n",
      "\u001b[34m[07:27:11] src/tree/updater_prune.cc:74: tree pruning end, 1 roots, 30 extra nodes, 8 pruned nodes, max_depth=5\u001b[0m\n",
      "\u001b[34m[27]#011train-error:0.172267#011validation-error:0.1953\u001b[0m\n",
      "\u001b[34m[07:27:12] src/tree/updater_prune.cc:74: tree pruning end, 1 roots, 22 extra nodes, 10 pruned nodes, max_depth=5\u001b[0m\n",
      "\u001b[34m[28]#011train-error:0.1712#011validation-error:0.1938\u001b[0m\n",
      "\u001b[34m[07:27:14] src/tree/updater_prune.cc:74: tree pruning end, 1 roots, 26 extra nodes, 6 pruned nodes, max_depth=5\u001b[0m\n",
      "\u001b[34m[29]#011train-error:0.169267#011validation-error:0.1932\u001b[0m\n",
      "\u001b[34m[07:27:15] src/tree/updater_prune.cc:74: tree pruning end, 1 roots, 32 extra nodes, 10 pruned nodes, max_depth=5\u001b[0m\n",
      "\u001b[34m[30]#011train-error:0.167933#011validation-error:0.1912\u001b[0m\n",
      "\u001b[34m[07:27:16] src/tree/updater_prune.cc:74: tree pruning end, 1 roots, 26 extra nodes, 14 pruned nodes, max_depth=5\u001b[0m\n",
      "\u001b[34m[31]#011train-error:0.1662#011validation-error:0.1884\u001b[0m\n",
      "\u001b[34m[07:27:17] src/tree/updater_prune.cc:74: tree pruning end, 1 roots, 32 extra nodes, 4 pruned nodes, max_depth=5\u001b[0m\n",
      "\u001b[34m[32]#011train-error:0.1644#011validation-error:0.1887\u001b[0m\n",
      "\u001b[34m[07:27:19] src/tree/updater_prune.cc:74: tree pruning end, 1 roots, 16 extra nodes, 10 pruned nodes, max_depth=5\u001b[0m\n",
      "\u001b[34m[33]#011train-error:0.162933#011validation-error:0.1878\u001b[0m\n",
      "\u001b[34m[07:27:20] src/tree/updater_prune.cc:74: tree pruning end, 1 roots, 34 extra nodes, 4 pruned nodes, max_depth=5\u001b[0m\n",
      "\u001b[34m[34]#011train-error:0.1618#011validation-error:0.1866\u001b[0m\n",
      "\u001b[34m[07:27:21] src/tree/updater_prune.cc:74: tree pruning end, 1 roots, 16 extra nodes, 6 pruned nodes, max_depth=5\u001b[0m\n",
      "\u001b[34m[35]#011train-error:0.160333#011validation-error:0.1855\u001b[0m\n",
      "\u001b[34m[07:27:23] src/tree/updater_prune.cc:74: tree pruning end, 1 roots, 30 extra nodes, 14 pruned nodes, max_depth=5\u001b[0m\n",
      "\u001b[34m[36]#011train-error:0.158133#011validation-error:0.1854\u001b[0m\n",
      "\u001b[34m[07:27:24] src/tree/updater_prune.cc:74: tree pruning end, 1 roots, 32 extra nodes, 2 pruned nodes, max_depth=5\u001b[0m\n",
      "\u001b[34m[37]#011train-error:0.156#011validation-error:0.1845\u001b[0m\n",
      "\u001b[34m[07:27:25] src/tree/updater_prune.cc:74: tree pruning end, 1 roots, 24 extra nodes, 6 pruned nodes, max_depth=5\u001b[0m\n",
      "\u001b[34m[38]#011train-error:0.155133#011validation-error:0.1822\u001b[0m\n",
      "\u001b[34m[07:27:26] src/tree/updater_prune.cc:74: tree pruning end, 1 roots, 24 extra nodes, 4 pruned nodes, max_depth=5\u001b[0m\n",
      "\u001b[34m[39]#011train-error:0.153467#011validation-error:0.1815\u001b[0m\n"
     ]
    },
    {
     "name": "stdout",
     "output_type": "stream",
     "text": [
      "\u001b[34m[07:27:28] src/tree/updater_prune.cc:74: tree pruning end, 1 roots, 24 extra nodes, 10 pruned nodes, max_depth=5\u001b[0m\n",
      "\u001b[34m[40]#011train-error:0.152667#011validation-error:0.1793\u001b[0m\n",
      "\u001b[34m[07:27:29] src/tree/updater_prune.cc:74: tree pruning end, 1 roots, 22 extra nodes, 6 pruned nodes, max_depth=5\u001b[0m\n",
      "\u001b[34m[41]#011train-error:0.152#011validation-error:0.1776\u001b[0m\n",
      "\u001b[34m[07:27:30] src/tree/updater_prune.cc:74: tree pruning end, 1 roots, 16 extra nodes, 10 pruned nodes, max_depth=5\u001b[0m\n",
      "\u001b[34m[42]#011train-error:0.1502#011validation-error:0.1765\u001b[0m\n",
      "\u001b[34m[07:27:31] src/tree/updater_prune.cc:74: tree pruning end, 1 roots, 20 extra nodes, 8 pruned nodes, max_depth=5\u001b[0m\n",
      "\u001b[34m[43]#011train-error:0.149533#011validation-error:0.1751\u001b[0m\n",
      "\u001b[34m[07:27:33] src/tree/updater_prune.cc:74: tree pruning end, 1 roots, 36 extra nodes, 4 pruned nodes, max_depth=5\u001b[0m\n",
      "\u001b[34m[44]#011train-error:0.148#011validation-error:0.1735\u001b[0m\n",
      "\u001b[34m[07:27:34] src/tree/updater_prune.cc:74: tree pruning end, 1 roots, 18 extra nodes, 12 pruned nodes, max_depth=5\u001b[0m\n",
      "\u001b[34m[45]#011train-error:0.147067#011validation-error:0.1729\u001b[0m\n",
      "\u001b[34m[07:27:35] src/tree/updater_prune.cc:74: tree pruning end, 1 roots, 20 extra nodes, 4 pruned nodes, max_depth=5\u001b[0m\n",
      "\u001b[34m[46]#011train-error:0.145133#011validation-error:0.1727\u001b[0m\n",
      "\u001b[34m[07:27:37] src/tree/updater_prune.cc:74: tree pruning end, 1 roots, 26 extra nodes, 2 pruned nodes, max_depth=5\u001b[0m\n",
      "\u001b[34m[47]#011train-error:0.142667#011validation-error:0.1733\u001b[0m\n",
      "\u001b[34m[07:27:38] src/tree/updater_prune.cc:74: tree pruning end, 1 roots, 20 extra nodes, 8 pruned nodes, max_depth=5\u001b[0m\n",
      "\u001b[34m[48]#011train-error:0.1424#011validation-error:0.1722\u001b[0m\n",
      "\u001b[34m[07:27:39] src/tree/updater_prune.cc:74: tree pruning end, 1 roots, 18 extra nodes, 8 pruned nodes, max_depth=5\u001b[0m\n",
      "\u001b[34m[49]#011train-error:0.142733#011validation-error:0.1712\u001b[0m\n",
      "\u001b[34m[07:27:40] src/tree/updater_prune.cc:74: tree pruning end, 1 roots, 22 extra nodes, 4 pruned nodes, max_depth=5\u001b[0m\n",
      "\u001b[34m[50]#011train-error:0.142267#011validation-error:0.1709\u001b[0m\n",
      "\u001b[34m[07:27:42] src/tree/updater_prune.cc:74: tree pruning end, 1 roots, 30 extra nodes, 10 pruned nodes, max_depth=5\u001b[0m\n",
      "\u001b[34m[51]#011train-error:0.140933#011validation-error:0.1704\u001b[0m\n",
      "\u001b[34m[07:27:43] src/tree/updater_prune.cc:74: tree pruning end, 1 roots, 14 extra nodes, 8 pruned nodes, max_depth=5\u001b[0m\n",
      "\u001b[34m[52]#011train-error:0.140067#011validation-error:0.1709\u001b[0m\n",
      "\u001b[34m[07:27:44] src/tree/updater_prune.cc:74: tree pruning end, 1 roots, 22 extra nodes, 10 pruned nodes, max_depth=5\u001b[0m\n",
      "\u001b[34m[53]#011train-error:0.138533#011validation-error:0.1717\u001b[0m\n",
      "\u001b[34m[07:27:45] src/tree/updater_prune.cc:74: tree pruning end, 1 roots, 14 extra nodes, 6 pruned nodes, max_depth=5\u001b[0m\n",
      "\u001b[34m[54]#011train-error:0.137733#011validation-error:0.171\u001b[0m\n",
      "\u001b[34m[07:27:47] src/tree/updater_prune.cc:74: tree pruning end, 1 roots, 24 extra nodes, 8 pruned nodes, max_depth=5\u001b[0m\n",
      "\u001b[34m[55]#011train-error:0.1362#011validation-error:0.1698\u001b[0m\n",
      "\u001b[34m[07:27:48] src/tree/updater_prune.cc:74: tree pruning end, 1 roots, 18 extra nodes, 4 pruned nodes, max_depth=5\u001b[0m\n",
      "\u001b[34m[56]#011train-error:0.135667#011validation-error:0.1687\u001b[0m\n",
      "\u001b[34m[07:27:49] src/tree/updater_prune.cc:74: tree pruning end, 1 roots, 30 extra nodes, 4 pruned nodes, max_depth=5\u001b[0m\n",
      "\u001b[34m[57]#011train-error:0.135067#011validation-error:0.1688\u001b[0m\n",
      "\u001b[34m[07:27:51] src/tree/updater_prune.cc:74: tree pruning end, 1 roots, 18 extra nodes, 10 pruned nodes, max_depth=5\u001b[0m\n",
      "\u001b[34m[58]#011train-error:0.134467#011validation-error:0.1673\u001b[0m\n",
      "\u001b[34m[07:27:52] src/tree/updater_prune.cc:74: tree pruning end, 1 roots, 34 extra nodes, 10 pruned nodes, max_depth=5\u001b[0m\n",
      "\u001b[34m[59]#011train-error:0.132667#011validation-error:0.1676\u001b[0m\n",
      "\u001b[34m[07:27:53] src/tree/updater_prune.cc:74: tree pruning end, 1 roots, 16 extra nodes, 8 pruned nodes, max_depth=5\u001b[0m\n",
      "\u001b[34m[60]#011train-error:0.132933#011validation-error:0.1684\u001b[0m\n",
      "\u001b[34m[07:27:54] src/tree/updater_prune.cc:74: tree pruning end, 1 roots, 12 extra nodes, 14 pruned nodes, max_depth=5\u001b[0m\n",
      "\u001b[34m[61]#011train-error:0.1324#011validation-error:0.1678\u001b[0m\n",
      "\u001b[34m[07:27:56] src/tree/updater_prune.cc:74: tree pruning end, 1 roots, 20 extra nodes, 8 pruned nodes, max_depth=5\u001b[0m\n",
      "\u001b[34m[62]#011train-error:0.1312#011validation-error:0.1656\u001b[0m\n",
      "\u001b[34m[07:27:57] src/tree/updater_prune.cc:74: tree pruning end, 1 roots, 30 extra nodes, 4 pruned nodes, max_depth=5\u001b[0m\n",
      "\u001b[34m[63]#011train-error:0.130133#011validation-error:0.1644\u001b[0m\n",
      "\u001b[34m[07:27:58] src/tree/updater_prune.cc:74: tree pruning end, 1 roots, 24 extra nodes, 12 pruned nodes, max_depth=5\u001b[0m\n",
      "\u001b[34m[64]#011train-error:0.1286#011validation-error:0.1646\u001b[0m\n",
      "\u001b[34m[07:27:59] src/tree/updater_prune.cc:74: tree pruning end, 1 roots, 20 extra nodes, 8 pruned nodes, max_depth=5\u001b[0m\n",
      "\u001b[34m[65]#011train-error:0.128067#011validation-error:0.1633\u001b[0m\n",
      "\u001b[34m[07:28:01] src/tree/updater_prune.cc:74: tree pruning end, 1 roots, 12 extra nodes, 10 pruned nodes, max_depth=5\u001b[0m\n",
      "\u001b[34m[66]#011train-error:0.127867#011validation-error:0.1627\u001b[0m\n",
      "\u001b[34m[07:28:02] src/tree/updater_prune.cc:74: tree pruning end, 1 roots, 20 extra nodes, 6 pruned nodes, max_depth=5\u001b[0m\n",
      "\u001b[34m[67]#011train-error:0.127533#011validation-error:0.1624\u001b[0m\n",
      "\u001b[34m[07:28:03] src/tree/updater_prune.cc:74: tree pruning end, 1 roots, 24 extra nodes, 6 pruned nodes, max_depth=5\u001b[0m\n",
      "\u001b[34m[68]#011train-error:0.126467#011validation-error:0.1617\u001b[0m\n",
      "\u001b[34m[07:28:04] src/tree/updater_prune.cc:74: tree pruning end, 1 roots, 14 extra nodes, 8 pruned nodes, max_depth=5\u001b[0m\n",
      "\u001b[34m[69]#011train-error:0.1258#011validation-error:0.1623\u001b[0m\n",
      "\u001b[34m[07:28:06] src/tree/updater_prune.cc:74: tree pruning end, 1 roots, 22 extra nodes, 10 pruned nodes, max_depth=5\u001b[0m\n",
      "\u001b[34m[70]#011train-error:0.124667#011validation-error:0.1603\u001b[0m\n",
      "\u001b[34m[07:28:07] src/tree/updater_prune.cc:74: tree pruning end, 1 roots, 26 extra nodes, 6 pruned nodes, max_depth=5\u001b[0m\n",
      "\u001b[34m[71]#011train-error:0.1228#011validation-error:0.1604\u001b[0m\n",
      "\u001b[34m[07:28:08] src/tree/updater_prune.cc:74: tree pruning end, 1 roots, 36 extra nodes, 12 pruned nodes, max_depth=5\u001b[0m\n",
      "\u001b[34m[72]#011train-error:0.121133#011validation-error:0.1594\u001b[0m\n",
      "\u001b[34m[07:28:09] src/tree/updater_prune.cc:74: tree pruning end, 1 roots, 24 extra nodes, 10 pruned nodes, max_depth=5\u001b[0m\n",
      "\u001b[34m[73]#011train-error:0.120533#011validation-error:0.159\u001b[0m\n",
      "\u001b[34m[07:28:11] src/tree/updater_prune.cc:74: tree pruning end, 1 roots, 16 extra nodes, 8 pruned nodes, max_depth=5\u001b[0m\n",
      "\u001b[34m[74]#011train-error:0.119667#011validation-error:0.1591\u001b[0m\n",
      "\u001b[34m[07:28:12] src/tree/updater_prune.cc:74: tree pruning end, 1 roots, 12 extra nodes, 4 pruned nodes, max_depth=5\u001b[0m\n",
      "\u001b[34m[75]#011train-error:0.1192#011validation-error:0.1579\u001b[0m\n",
      "\u001b[34m[07:28:13] src/tree/updater_prune.cc:74: tree pruning end, 1 roots, 14 extra nodes, 6 pruned nodes, max_depth=5\u001b[0m\n",
      "\u001b[34m[76]#011train-error:0.118467#011validation-error:0.1573\u001b[0m\n",
      "\u001b[34m[07:28:14] src/tree/updater_prune.cc:74: tree pruning end, 1 roots, 34 extra nodes, 10 pruned nodes, max_depth=5\u001b[0m\n",
      "\u001b[34m[77]#011train-error:0.1184#011validation-error:0.157\u001b[0m\n",
      "\u001b[34m[07:28:16] src/tree/updater_prune.cc:74: tree pruning end, 1 roots, 26 extra nodes, 8 pruned nodes, max_depth=5\u001b[0m\n",
      "\u001b[34m[78]#011train-error:0.117133#011validation-error:0.1554\u001b[0m\n",
      "\u001b[34m[07:28:17] src/tree/updater_prune.cc:74: tree pruning end, 1 roots, 16 extra nodes, 20 pruned nodes, max_depth=5\u001b[0m\n",
      "\u001b[34m[79]#011train-error:0.116667#011validation-error:0.1548\u001b[0m\n",
      "\u001b[34m[07:28:18] src/tree/updater_prune.cc:74: tree pruning end, 1 roots, 12 extra nodes, 6 pruned nodes, max_depth=5\u001b[0m\n",
      "\u001b[34m[80]#011train-error:0.1162#011validation-error:0.1546\u001b[0m\n",
      "\u001b[34m[07:28:20] src/tree/updater_prune.cc:74: tree pruning end, 1 roots, 16 extra nodes, 10 pruned nodes, max_depth=5\u001b[0m\n",
      "\u001b[34m[81]#011train-error:0.115267#011validation-error:0.153\u001b[0m\n",
      "\u001b[34m[07:28:21] src/tree/updater_prune.cc:74: tree pruning end, 1 roots, 14 extra nodes, 6 pruned nodes, max_depth=5\u001b[0m\n",
      "\u001b[34m[82]#011train-error:0.114933#011validation-error:0.153\u001b[0m\n",
      "\u001b[34m[07:28:22] src/tree/updater_prune.cc:74: tree pruning end, 1 roots, 26 extra nodes, 14 pruned nodes, max_depth=5\u001b[0m\n",
      "\u001b[34m[83]#011train-error:0.113733#011validation-error:0.1533\u001b[0m\n",
      "\u001b[34m[07:28:23] src/tree/updater_prune.cc:74: tree pruning end, 1 roots, 28 extra nodes, 12 pruned nodes, max_depth=5\u001b[0m\n",
      "\u001b[34m[84]#011train-error:0.1128#011validation-error:0.1525\u001b[0m\n",
      "\u001b[34m[07:28:25] src/tree/updater_prune.cc:74: tree pruning end, 1 roots, 18 extra nodes, 12 pruned nodes, max_depth=5\u001b[0m\n",
      "\u001b[34m[85]#011train-error:0.112667#011validation-error:0.1527\u001b[0m\n",
      "\u001b[34m[07:28:26] src/tree/updater_prune.cc:74: tree pruning end, 1 roots, 20 extra nodes, 16 pruned nodes, max_depth=5\u001b[0m\n",
      "\u001b[34m[86]#011train-error:0.1118#011validation-error:0.1533\u001b[0m\n",
      "\u001b[34m[07:28:27] src/tree/updater_prune.cc:74: tree pruning end, 1 roots, 38 extra nodes, 6 pruned nodes, max_depth=5\u001b[0m\n",
      "\u001b[34m[87]#011train-error:0.111667#011validation-error:0.1531\u001b[0m\n"
     ]
    },
    {
     "name": "stdout",
     "output_type": "stream",
     "text": [
      "\u001b[34m[07:28:28] src/tree/updater_prune.cc:74: tree pruning end, 1 roots, 10 extra nodes, 6 pruned nodes, max_depth=5\u001b[0m\n",
      "\u001b[34m[88]#011train-error:0.111467#011validation-error:0.1529\u001b[0m\n",
      "\u001b[34m[07:28:30] src/tree/updater_prune.cc:74: tree pruning end, 1 roots, 22 extra nodes, 8 pruned nodes, max_depth=5\u001b[0m\n",
      "\u001b[34m[89]#011train-error:0.110267#011validation-error:0.1518\u001b[0m\n",
      "\u001b[34m[07:28:31] src/tree/updater_prune.cc:74: tree pruning end, 1 roots, 16 extra nodes, 2 pruned nodes, max_depth=5\u001b[0m\n",
      "\u001b[34m[90]#011train-error:0.11#011validation-error:0.1525\u001b[0m\n",
      "\u001b[34m[07:28:32] src/tree/updater_prune.cc:74: tree pruning end, 1 roots, 20 extra nodes, 10 pruned nodes, max_depth=5\u001b[0m\n",
      "\u001b[34m[91]#011train-error:0.109333#011validation-error:0.1523\u001b[0m\n",
      "\u001b[34m[07:28:33] src/tree/updater_prune.cc:74: tree pruning end, 1 roots, 14 extra nodes, 10 pruned nodes, max_depth=5\u001b[0m\n",
      "\u001b[34m[92]#011train-error:0.1096#011validation-error:0.153\u001b[0m\n",
      "\u001b[34m[07:28:35] src/tree/updater_prune.cc:74: tree pruning end, 1 roots, 36 extra nodes, 10 pruned nodes, max_depth=5\u001b[0m\n",
      "\u001b[34m[93]#011train-error:0.1082#011validation-error:0.1518\u001b[0m\n",
      "\u001b[34m[07:28:36] src/tree/updater_prune.cc:74: tree pruning end, 1 roots, 10 extra nodes, 4 pruned nodes, max_depth=5\u001b[0m\n",
      "\u001b[34m[94]#011train-error:0.107933#011validation-error:0.1509\u001b[0m\n",
      "\u001b[34m[07:28:37] src/tree/updater_prune.cc:74: tree pruning end, 1 roots, 12 extra nodes, 12 pruned nodes, max_depth=5\u001b[0m\n",
      "\u001b[34m[95]#011train-error:0.107533#011validation-error:0.1509\u001b[0m\n",
      "\u001b[34m[07:28:39] src/tree/updater_prune.cc:74: tree pruning end, 1 roots, 32 extra nodes, 4 pruned nodes, max_depth=5\u001b[0m\n",
      "\u001b[34m[96]#011train-error:0.108067#011validation-error:0.1508\u001b[0m\n",
      "\u001b[34m[07:28:40] src/tree/updater_prune.cc:74: tree pruning end, 1 roots, 20 extra nodes, 10 pruned nodes, max_depth=5\u001b[0m\n",
      "\u001b[34m[97]#011train-error:0.107533#011validation-error:0.1514\u001b[0m\n",
      "\u001b[34m[07:28:41] src/tree/updater_prune.cc:74: tree pruning end, 1 roots, 10 extra nodes, 10 pruned nodes, max_depth=5\u001b[0m\n",
      "\u001b[34m[98]#011train-error:0.106867#011validation-error:0.1512\u001b[0m\n",
      "\u001b[34m[07:28:42] src/tree/updater_prune.cc:74: tree pruning end, 1 roots, 16 extra nodes, 6 pruned nodes, max_depth=5\u001b[0m\n",
      "\u001b[34m[99]#011train-error:0.1074#011validation-error:0.1504\u001b[0m\n",
      "\u001b[34m[07:28:44] src/tree/updater_prune.cc:74: tree pruning end, 1 roots, 24 extra nodes, 6 pruned nodes, max_depth=5\u001b[0m\n",
      "\u001b[34m[100]#011train-error:0.106267#011validation-error:0.1503\u001b[0m\n",
      "\u001b[34m[07:28:45] src/tree/updater_prune.cc:74: tree pruning end, 1 roots, 18 extra nodes, 6 pruned nodes, max_depth=5\u001b[0m\n",
      "\u001b[34m[101]#011train-error:0.106333#011validation-error:0.1509\u001b[0m\n",
      "\u001b[34m[07:28:46] src/tree/updater_prune.cc:74: tree pruning end, 1 roots, 20 extra nodes, 10 pruned nodes, max_depth=5\u001b[0m\n",
      "\u001b[34m[102]#011train-error:0.105467#011validation-error:0.1502\u001b[0m\n",
      "\u001b[34m[07:28:47] src/tree/updater_prune.cc:74: tree pruning end, 1 roots, 16 extra nodes, 8 pruned nodes, max_depth=5\u001b[0m\n",
      "\u001b[34m[103]#011train-error:0.1046#011validation-error:0.1511\u001b[0m\n",
      "\u001b[34m[07:28:49] src/tree/updater_prune.cc:74: tree pruning end, 1 roots, 20 extra nodes, 10 pruned nodes, max_depth=5\u001b[0m\n",
      "\u001b[34m[104]#011train-error:0.1044#011validation-error:0.1503\u001b[0m\n",
      "\u001b[34m[07:28:50] src/tree/updater_prune.cc:74: tree pruning end, 1 roots, 18 extra nodes, 8 pruned nodes, max_depth=5\u001b[0m\n",
      "\u001b[34m[105]#011train-error:0.103533#011validation-error:0.1489\u001b[0m\n",
      "\u001b[34m[07:28:51] src/tree/updater_prune.cc:74: tree pruning end, 1 roots, 18 extra nodes, 12 pruned nodes, max_depth=5\u001b[0m\n",
      "\u001b[34m[106]#011train-error:0.103#011validation-error:0.1481\u001b[0m\n",
      "\u001b[34m[07:28:52] src/tree/updater_prune.cc:74: tree pruning end, 1 roots, 26 extra nodes, 8 pruned nodes, max_depth=5\u001b[0m\n",
      "\u001b[34m[107]#011train-error:0.101867#011validation-error:0.1475\u001b[0m\n",
      "\u001b[34m[07:28:54] src/tree/updater_prune.cc:74: tree pruning end, 1 roots, 14 extra nodes, 10 pruned nodes, max_depth=5\u001b[0m\n",
      "\u001b[34m[108]#011train-error:0.100867#011validation-error:0.1475\u001b[0m\n",
      "\u001b[34m[07:28:55] src/tree/updater_prune.cc:74: tree pruning end, 1 roots, 18 extra nodes, 10 pruned nodes, max_depth=5\u001b[0m\n",
      "\u001b[34m[109]#011train-error:0.1006#011validation-error:0.1473\u001b[0m\n",
      "\u001b[34m[07:28:56] src/tree/updater_prune.cc:74: tree pruning end, 1 roots, 12 extra nodes, 0 pruned nodes, max_depth=5\u001b[0m\n",
      "\u001b[34m[110]#011train-error:0.100133#011validation-error:0.1466\u001b[0m\n",
      "\u001b[34m[07:28:57] src/tree/updater_prune.cc:74: tree pruning end, 1 roots, 28 extra nodes, 6 pruned nodes, max_depth=5\u001b[0m\n",
      "\u001b[34m[111]#011train-error:0.099467#011validation-error:0.147\u001b[0m\n",
      "\u001b[34m[07:28:59] src/tree/updater_prune.cc:74: tree pruning end, 1 roots, 10 extra nodes, 2 pruned nodes, max_depth=5\u001b[0m\n",
      "\u001b[34m[112]#011train-error:0.099067#011validation-error:0.1468\u001b[0m\n",
      "\u001b[34m[07:29:00] src/tree/updater_prune.cc:74: tree pruning end, 1 roots, 12 extra nodes, 0 pruned nodes, max_depth=5\u001b[0m\n",
      "\u001b[34m[113]#011train-error:0.0988#011validation-error:0.1466\u001b[0m\n",
      "\u001b[34m[07:29:01] src/tree/updater_prune.cc:74: tree pruning end, 1 roots, 16 extra nodes, 10 pruned nodes, max_depth=5\u001b[0m\n",
      "\u001b[34m[114]#011train-error:0.098267#011validation-error:0.1465\u001b[0m\n",
      "\u001b[34m[07:29:03] src/tree/updater_prune.cc:74: tree pruning end, 1 roots, 20 extra nodes, 2 pruned nodes, max_depth=5\u001b[0m\n",
      "\u001b[34m[115]#011train-error:0.098067#011validation-error:0.1466\u001b[0m\n",
      "\u001b[34m[07:29:04] src/tree/updater_prune.cc:74: tree pruning end, 1 roots, 10 extra nodes, 6 pruned nodes, max_depth=5\u001b[0m\n",
      "\u001b[34m[116]#011train-error:0.097667#011validation-error:0.1463\u001b[0m\n",
      "\u001b[34m[07:29:05] src/tree/updater_prune.cc:74: tree pruning end, 1 roots, 16 extra nodes, 20 pruned nodes, max_depth=5\u001b[0m\n",
      "\u001b[34m[117]#011train-error:0.097#011validation-error:0.1465\u001b[0m\n",
      "\u001b[34m[07:29:06] src/tree/updater_prune.cc:74: tree pruning end, 1 roots, 12 extra nodes, 16 pruned nodes, max_depth=5\u001b[0m\n",
      "\u001b[34m[118]#011train-error:0.0968#011validation-error:0.1464\u001b[0m\n",
      "\u001b[34m[07:29:08] src/tree/updater_prune.cc:74: tree pruning end, 1 roots, 14 extra nodes, 2 pruned nodes, max_depth=5\u001b[0m\n",
      "\u001b[34m[119]#011train-error:0.0966#011validation-error:0.1463\u001b[0m\n",
      "\u001b[34m[07:29:09] src/tree/updater_prune.cc:74: tree pruning end, 1 roots, 16 extra nodes, 0 pruned nodes, max_depth=5\u001b[0m\n",
      "\u001b[34m[120]#011train-error:0.097067#011validation-error:0.1457\u001b[0m\n",
      "\u001b[34m[07:29:10] src/tree/updater_prune.cc:74: tree pruning end, 1 roots, 12 extra nodes, 6 pruned nodes, max_depth=5\u001b[0m\n",
      "\u001b[34m[121]#011train-error:0.097067#011validation-error:0.1462\u001b[0m\n",
      "\u001b[34m[07:29:11] src/tree/updater_prune.cc:74: tree pruning end, 1 roots, 20 extra nodes, 14 pruned nodes, max_depth=5\u001b[0m\n",
      "\u001b[34m[122]#011train-error:0.0968#011validation-error:0.1461\u001b[0m\n",
      "\u001b[34m[07:29:13] src/tree/updater_prune.cc:74: tree pruning end, 1 roots, 12 extra nodes, 6 pruned nodes, max_depth=5\u001b[0m\n",
      "\u001b[34m[123]#011train-error:0.096467#011validation-error:0.1464\u001b[0m\n",
      "\u001b[34m[07:29:14] src/tree/updater_prune.cc:74: tree pruning end, 1 roots, 32 extra nodes, 0 pruned nodes, max_depth=5\u001b[0m\n",
      "\u001b[34m[124]#011train-error:0.095667#011validation-error:0.1448\u001b[0m\n",
      "\u001b[34m[07:29:15] src/tree/updater_prune.cc:74: tree pruning end, 1 roots, 14 extra nodes, 8 pruned nodes, max_depth=5\u001b[0m\n",
      "\u001b[34m[125]#011train-error:0.095333#011validation-error:0.1445\u001b[0m\n",
      "\u001b[34m[07:29:17] src/tree/updater_prune.cc:74: tree pruning end, 1 roots, 16 extra nodes, 4 pruned nodes, max_depth=5\u001b[0m\n",
      "\u001b[34m[126]#011train-error:0.0938#011validation-error:0.144\u001b[0m\n",
      "\u001b[34m[07:29:18] src/tree/updater_prune.cc:74: tree pruning end, 1 roots, 20 extra nodes, 10 pruned nodes, max_depth=5\u001b[0m\n",
      "\u001b[34m[127]#011train-error:0.093467#011validation-error:0.1441\u001b[0m\n",
      "\u001b[34m[07:29:19] src/tree/updater_prune.cc:74: tree pruning end, 1 roots, 20 extra nodes, 14 pruned nodes, max_depth=5\u001b[0m\n",
      "\u001b[34m[128]#011train-error:0.0936#011validation-error:0.144\u001b[0m\n",
      "\u001b[34m[07:29:20] src/tree/updater_prune.cc:74: tree pruning end, 1 roots, 14 extra nodes, 4 pruned nodes, max_depth=5\u001b[0m\n",
      "\u001b[34m[129]#011train-error:0.093533#011validation-error:0.1442\u001b[0m\n",
      "\u001b[34m[07:29:22] src/tree/updater_prune.cc:74: tree pruning end, 1 roots, 14 extra nodes, 8 pruned nodes, max_depth=5\u001b[0m\n",
      "\u001b[34m[130]#011train-error:0.093067#011validation-error:0.1433\u001b[0m\n",
      "\u001b[34m[07:29:23] src/tree/updater_prune.cc:74: tree pruning end, 1 roots, 10 extra nodes, 4 pruned nodes, max_depth=5\u001b[0m\n",
      "\u001b[34m[131]#011train-error:0.093133#011validation-error:0.1432\u001b[0m\n",
      "\u001b[34m[07:29:24] src/tree/updater_prune.cc:74: tree pruning end, 1 roots, 26 extra nodes, 6 pruned nodes, max_depth=5\u001b[0m\n",
      "\u001b[34m[132]#011train-error:0.092867#011validation-error:0.1428\u001b[0m\n",
      "\u001b[34m[07:29:25] src/tree/updater_prune.cc:74: tree pruning end, 1 roots, 18 extra nodes, 14 pruned nodes, max_depth=5\u001b[0m\n",
      "\u001b[34m[133]#011train-error:0.091867#011validation-error:0.1421\u001b[0m\n",
      "\u001b[34m[07:29:27] src/tree/updater_prune.cc:74: tree pruning end, 1 roots, 16 extra nodes, 8 pruned nodes, max_depth=5\u001b[0m\n",
      "\u001b[34m[134]#011train-error:0.091#011validation-error:0.1428\u001b[0m\n",
      "\u001b[34m[07:29:28] src/tree/updater_prune.cc:74: tree pruning end, 1 roots, 12 extra nodes, 2 pruned nodes, max_depth=5\u001b[0m\n",
      "\u001b[34m[135]#011train-error:0.090867#011validation-error:0.1424\u001b[0m\n"
     ]
    },
    {
     "name": "stdout",
     "output_type": "stream",
     "text": [
      "\u001b[34m[07:29:29] src/tree/updater_prune.cc:74: tree pruning end, 1 roots, 12 extra nodes, 10 pruned nodes, max_depth=5\u001b[0m\n",
      "\u001b[34m[136]#011train-error:0.090867#011validation-error:0.1418\u001b[0m\n",
      "\u001b[34m[07:29:31] src/tree/updater_prune.cc:74: tree pruning end, 1 roots, 12 extra nodes, 0 pruned nodes, max_depth=5\u001b[0m\n",
      "\u001b[34m[137]#011train-error:0.090333#011validation-error:0.1418\u001b[0m\n",
      "\u001b[34m[07:29:32] src/tree/updater_prune.cc:74: tree pruning end, 1 roots, 20 extra nodes, 12 pruned nodes, max_depth=5\u001b[0m\n",
      "\u001b[34m[138]#011train-error:0.090667#011validation-error:0.1415\u001b[0m\n",
      "\u001b[34m[07:29:33] src/tree/updater_prune.cc:74: tree pruning end, 1 roots, 18 extra nodes, 12 pruned nodes, max_depth=5\u001b[0m\n",
      "\u001b[34m[139]#011train-error:0.089733#011validation-error:0.1417\u001b[0m\n",
      "\u001b[34m[07:29:34] src/tree/updater_prune.cc:74: tree pruning end, 1 roots, 34 extra nodes, 18 pruned nodes, max_depth=5\u001b[0m\n",
      "\u001b[34m[140]#011train-error:0.0888#011validation-error:0.1407\u001b[0m\n",
      "\u001b[34m[07:29:36] src/tree/updater_prune.cc:74: tree pruning end, 1 roots, 20 extra nodes, 6 pruned nodes, max_depth=5\u001b[0m\n",
      "\u001b[34m[141]#011train-error:0.088933#011validation-error:0.1408\u001b[0m\n",
      "\u001b[34m[07:29:37] src/tree/updater_prune.cc:74: tree pruning end, 1 roots, 10 extra nodes, 12 pruned nodes, max_depth=5\u001b[0m\n",
      "\u001b[34m[142]#011train-error:0.0886#011validation-error:0.1413\u001b[0m\n",
      "\u001b[34m[07:29:38] src/tree/updater_prune.cc:74: tree pruning end, 1 roots, 14 extra nodes, 8 pruned nodes, max_depth=5\u001b[0m\n",
      "\u001b[34m[143]#011train-error:0.088267#011validation-error:0.1409\u001b[0m\n",
      "\u001b[34m[07:29:39] src/tree/updater_prune.cc:74: tree pruning end, 1 roots, 12 extra nodes, 2 pruned nodes, max_depth=5\u001b[0m\n",
      "\u001b[34m[144]#011train-error:0.087933#011validation-error:0.1407\u001b[0m\n",
      "\u001b[34m[07:29:41] src/tree/updater_prune.cc:74: tree pruning end, 1 roots, 14 extra nodes, 10 pruned nodes, max_depth=5\u001b[0m\n",
      "\u001b[34m[145]#011train-error:0.087067#011validation-error:0.1409\u001b[0m\n",
      "\u001b[34m[07:29:42] src/tree/updater_prune.cc:74: tree pruning end, 1 roots, 24 extra nodes, 8 pruned nodes, max_depth=5\u001b[0m\n",
      "\u001b[34m[146]#011train-error:0.086867#011validation-error:0.1409\u001b[0m\n",
      "\u001b[34m[07:29:43] src/tree/updater_prune.cc:74: tree pruning end, 1 roots, 12 extra nodes, 10 pruned nodes, max_depth=5\u001b[0m\n",
      "\u001b[34m[147]#011train-error:0.0868#011validation-error:0.1411\u001b[0m\n",
      "\u001b[34m[07:29:45] src/tree/updater_prune.cc:74: tree pruning end, 1 roots, 14 extra nodes, 2 pruned nodes, max_depth=5\u001b[0m\n",
      "\u001b[34m[148]#011train-error:0.0868#011validation-error:0.142\u001b[0m\n",
      "\u001b[34m[07:29:46] src/tree/updater_prune.cc:74: tree pruning end, 1 roots, 14 extra nodes, 4 pruned nodes, max_depth=5\u001b[0m\n",
      "\u001b[34m[149]#011train-error:0.085933#011validation-error:0.1417\u001b[0m\n",
      "\u001b[34m[07:29:47] src/tree/updater_prune.cc:74: tree pruning end, 1 roots, 14 extra nodes, 2 pruned nodes, max_depth=5\u001b[0m\n",
      "\u001b[34m[150]#011train-error:0.0856#011validation-error:0.1413\u001b[0m\n",
      "\u001b[34mStopping. Best iteration:\u001b[0m\n",
      "\u001b[34m[140]#011train-error:0.0888#011validation-error:0.1407\n",
      "\u001b[0m\n",
      "\n",
      "2020-08-04 07:29:59 Uploading - Uploading generated training model\n",
      "2020-08-04 07:29:59 Completed - Training job completed\n",
      "Training seconds: 245\n",
      "Billable seconds: 245\n"
     ]
    }
   ],
   "source": [
    "xgb.fit({'train': s3_input_train, 'validation': s3_input_validation})"
   ]
  },
  {
   "cell_type": "markdown",
   "metadata": {},
   "source": [
    "## Step 5: Testing the model\n",
    "\n",
    "Now that we've fit our XGBoost model, it's time to see how well it performs. To do this we will use SageMakers Batch Transform functionality. Batch Transform is a convenient way to perform inference on a large dataset in a way that is not realtime. That is, we don't necessarily need to use our model's results immediately and instead we can perform inference on a large number of samples. An example of this in industry might be performing an end of month report. This method of inference can also be useful to us as it means that we can perform inference on our entire test set. \n",
    "\n",
    "To perform a Batch Transformation we need to first create a transformer objects from our trained estimator object."
   ]
  },
  {
   "cell_type": "code",
   "execution_count": 24,
   "metadata": {},
   "outputs": [
    {
     "name": "stderr",
     "output_type": "stream",
     "text": [
      "Parameter image will be renamed to image_uri in SageMaker Python SDK v2.\n"
     ]
    }
   ],
   "source": [
    "xgb_transformer = xgb.transformer(instance_count = 1, instance_type = 'ml.m4.xlarge')"
   ]
  },
  {
   "cell_type": "markdown",
   "metadata": {},
   "source": [
    "Next we actually perform the transform job. When doing so we need to make sure to specify the type of data we are sending so that it is serialized correctly in the background. In our case we are providing our model with csv data so we specify `text/csv`. Also, if the test data that we have provided is too large to process all at once then we need to specify how the data file should be split up. Since each line is a single entry in our data set we tell SageMaker that it can split the input on each line."
   ]
  },
  {
   "cell_type": "code",
   "execution_count": 25,
   "metadata": {},
   "outputs": [],
   "source": [
    "xgb_transformer.transform(test_location, content_type='text/csv', split_type='Line')"
   ]
  },
  {
   "cell_type": "markdown",
   "metadata": {},
   "source": [
    "Currently the transform job is running but it is doing so in the background. Since we wish to wait until the transform job is done and we would like a bit of feedback we can run the `wait()` method."
   ]
  },
  {
   "cell_type": "code",
   "execution_count": 26,
   "metadata": {},
   "outputs": [
    {
     "name": "stdout",
     "output_type": "stream",
     "text": [
      "......................\u001b[34mArguments: serve\u001b[0m\n",
      "\u001b[34m[2020-08-04 07:34:00 +0000] [1] [INFO] Starting gunicorn 19.7.1\u001b[0m\n",
      "\u001b[34m[2020-08-04 07:34:00 +0000] [1] [INFO] Listening at: http://0.0.0.0:8080 (1)\u001b[0m\n",
      "\u001b[34m[2020-08-04 07:34:00 +0000] [1] [INFO] Using worker: gevent\u001b[0m\n",
      "\u001b[34m[2020-08-04 07:34:00 +0000] [37] [INFO] Booting worker with pid: 37\u001b[0m\n",
      "\u001b[34m[2020-08-04 07:34:00 +0000] [38] [INFO] Booting worker with pid: 38\u001b[0m\n",
      "\u001b[34m[2020-08-04 07:34:00 +0000] [39] [INFO] Booting worker with pid: 39\u001b[0m\n",
      "\u001b[34m[2020-08-04 07:34:00 +0000] [40] [INFO] Booting worker with pid: 40\u001b[0m\n",
      "\u001b[34m[2020-08-04:07:34:00:INFO] Model loaded successfully for worker : 38\u001b[0m\n",
      "\u001b[34m[2020-08-04:07:34:00:INFO] Model loaded successfully for worker : 37\u001b[0m\n",
      "\u001b[34m[2020-08-04:07:34:00:INFO] Model loaded successfully for worker : 39\u001b[0m\n",
      "\u001b[34m[2020-08-04:07:34:00:INFO] Model loaded successfully for worker : 40\u001b[0m\n",
      "\u001b[34m[2020-08-04:07:34:18:INFO] Sniff delimiter as ','\u001b[0m\n",
      "\u001b[34m[2020-08-04:07:34:18:INFO] Determined delimiter of CSV input is ','\u001b[0m\n",
      "\u001b[34m[2020-08-04:07:34:18:INFO] Sniff delimiter as ','\u001b[0m\n",
      "\u001b[35m[2020-08-04:07:34:18:INFO] Sniff delimiter as ','\u001b[0m\n",
      "\u001b[35m[2020-08-04:07:34:18:INFO] Determined delimiter of CSV input is ','\u001b[0m\n",
      "\u001b[35m[2020-08-04:07:34:18:INFO] Sniff delimiter as ','\u001b[0m\n",
      "\u001b[34m[2020-08-04:07:34:18:INFO] Determined delimiter of CSV input is ','\u001b[0m\n",
      "\u001b[34m[2020-08-04:07:34:19:INFO] Sniff delimiter as ','\u001b[0m\n",
      "\u001b[34m[2020-08-04:07:34:19:INFO] Determined delimiter of CSV input is ','\u001b[0m\n",
      "\u001b[34m[2020-08-04:07:34:19:INFO] Sniff delimiter as ','\u001b[0m\n",
      "\u001b[34m[2020-08-04:07:34:19:INFO] Determined delimiter of CSV input is ','\u001b[0m\n",
      "\u001b[35m[2020-08-04:07:34:18:INFO] Determined delimiter of CSV input is ','\u001b[0m\n",
      "\u001b[35m[2020-08-04:07:34:19:INFO] Sniff delimiter as ','\u001b[0m\n",
      "\u001b[35m[2020-08-04:07:34:19:INFO] Determined delimiter of CSV input is ','\u001b[0m\n",
      "\u001b[35m[2020-08-04:07:34:19:INFO] Sniff delimiter as ','\u001b[0m\n",
      "\u001b[35m[2020-08-04:07:34:19:INFO] Determined delimiter of CSV input is ','\u001b[0m\n",
      "\u001b[32m2020-08-04T07:34:15.918:[sagemaker logs]: MaxConcurrentTransforms=4, MaxPayloadInMB=6, BatchStrategy=MULTI_RECORD\u001b[0m\n",
      "\u001b[34m[2020-08-04:07:34:21:INFO] Sniff delimiter as ','\u001b[0m\n",
      "\u001b[34m[2020-08-04:07:34:21:INFO] Determined delimiter of CSV input is ','\u001b[0m\n",
      "\u001b[34m[2020-08-04:07:34:21:INFO] Sniff delimiter as ','\u001b[0m\n",
      "\u001b[34m[2020-08-04:07:34:21:INFO] Determined delimiter of CSV input is ','\u001b[0m\n",
      "\u001b[34m[2020-08-04:07:34:21:INFO] Sniff delimiter as ','\u001b[0m\n",
      "\u001b[34m[2020-08-04:07:34:21:INFO] Determined delimiter of CSV input is ','\u001b[0m\n",
      "\u001b[34m[2020-08-04:07:34:21:INFO] Sniff delimiter as ','\u001b[0m\n",
      "\u001b[34m[2020-08-04:07:34:21:INFO] Determined delimiter of CSV input is ','\u001b[0m\n",
      "\u001b[35m[2020-08-04:07:34:21:INFO] Sniff delimiter as ','\u001b[0m\n",
      "\u001b[35m[2020-08-04:07:34:21:INFO] Determined delimiter of CSV input is ','\u001b[0m\n",
      "\u001b[35m[2020-08-04:07:34:21:INFO] Sniff delimiter as ','\u001b[0m\n",
      "\u001b[35m[2020-08-04:07:34:21:INFO] Determined delimiter of CSV input is ','\u001b[0m\n",
      "\u001b[35m[2020-08-04:07:34:21:INFO] Sniff delimiter as ','\u001b[0m\n",
      "\u001b[35m[2020-08-04:07:34:21:INFO] Determined delimiter of CSV input is ','\u001b[0m\n",
      "\u001b[35m[2020-08-04:07:34:21:INFO] Sniff delimiter as ','\u001b[0m\n",
      "\u001b[35m[2020-08-04:07:34:21:INFO] Determined delimiter of CSV input is ','\u001b[0m\n",
      "\u001b[34m[2020-08-04:07:34:23:INFO] Sniff delimiter as ','\u001b[0m\n",
      "\u001b[34m[2020-08-04:07:34:23:INFO] Determined delimiter of CSV input is ','\u001b[0m\n",
      "\u001b[34m[2020-08-04:07:34:23:INFO] Sniff delimiter as ','\u001b[0m\n",
      "\u001b[34m[2020-08-04:07:34:23:INFO] Determined delimiter of CSV input is ','\u001b[0m\n",
      "\u001b[34m[2020-08-04:07:34:24:INFO] Sniff delimiter as ','\u001b[0m\n",
      "\u001b[34m[2020-08-04:07:34:24:INFO] Determined delimiter of CSV input is ','\u001b[0m\n",
      "\u001b[34m[2020-08-04:07:34:24:INFO] Sniff delimiter as ','\u001b[0m\n",
      "\u001b[34m[2020-08-04:07:34:24:INFO] Determined delimiter of CSV input is ','\u001b[0m\n",
      "\u001b[35m[2020-08-04:07:34:23:INFO] Sniff delimiter as ','\u001b[0m\n",
      "\u001b[35m[2020-08-04:07:34:23:INFO] Determined delimiter of CSV input is ','\u001b[0m\n",
      "\u001b[35m[2020-08-04:07:34:23:INFO] Sniff delimiter as ','\u001b[0m\n",
      "\u001b[35m[2020-08-04:07:34:23:INFO] Determined delimiter of CSV input is ','\u001b[0m\n",
      "\u001b[35m[2020-08-04:07:34:24:INFO] Sniff delimiter as ','\u001b[0m\n",
      "\u001b[35m[2020-08-04:07:34:24:INFO] Determined delimiter of CSV input is ','\u001b[0m\n",
      "\u001b[35m[2020-08-04:07:34:24:INFO] Sniff delimiter as ','\u001b[0m\n",
      "\u001b[35m[2020-08-04:07:34:24:INFO] Determined delimiter of CSV input is ','\u001b[0m\n",
      "\u001b[34m[2020-08-04:07:34:26:INFO] Sniff delimiter as ','\u001b[0m\n",
      "\u001b[34m[2020-08-04:07:34:26:INFO] Determined delimiter of CSV input is ','\u001b[0m\n",
      "\u001b[34m[2020-08-04:07:34:26:INFO] Sniff delimiter as ','\u001b[0m\n",
      "\u001b[34m[2020-08-04:07:34:26:INFO] Determined delimiter of CSV input is ','\u001b[0m\n",
      "\u001b[35m[2020-08-04:07:34:26:INFO] Sniff delimiter as ','\u001b[0m\n",
      "\u001b[35m[2020-08-04:07:34:26:INFO] Determined delimiter of CSV input is ','\u001b[0m\n",
      "\u001b[35m[2020-08-04:07:34:26:INFO] Sniff delimiter as ','\u001b[0m\n",
      "\u001b[35m[2020-08-04:07:34:26:INFO] Determined delimiter of CSV input is ','\u001b[0m\n",
      "\u001b[34m[2020-08-04:07:34:26:INFO] Sniff delimiter as ','\u001b[0m\n",
      "\u001b[34m[2020-08-04:07:34:26:INFO] Determined delimiter of CSV input is ','\u001b[0m\n",
      "\u001b[34m[2020-08-04:07:34:26:INFO] Sniff delimiter as ','\u001b[0m\n",
      "\u001b[34m[2020-08-04:07:34:26:INFO] Determined delimiter of CSV input is ','\u001b[0m\n",
      "\u001b[35m[2020-08-04:07:34:26:INFO] Sniff delimiter as ','\u001b[0m\n",
      "\u001b[35m[2020-08-04:07:34:26:INFO] Determined delimiter of CSV input is ','\u001b[0m\n",
      "\u001b[35m[2020-08-04:07:34:26:INFO] Sniff delimiter as ','\u001b[0m\n",
      "\u001b[35m[2020-08-04:07:34:26:INFO] Determined delimiter of CSV input is ','\u001b[0m\n",
      "\u001b[34m[2020-08-04:07:34:29:INFO] Sniff delimiter as ','\u001b[0m\n",
      "\u001b[34m[2020-08-04:07:34:29:INFO] Determined delimiter of CSV input is ','\u001b[0m\n",
      "\u001b[34m[2020-08-04:07:34:29:INFO] Sniff delimiter as ','\u001b[0m\n",
      "\u001b[34m[2020-08-04:07:34:29:INFO] Determined delimiter of CSV input is ','\u001b[0m\n",
      "\u001b[35m[2020-08-04:07:34:29:INFO] Sniff delimiter as ','\u001b[0m\n",
      "\u001b[35m[2020-08-04:07:34:29:INFO] Determined delimiter of CSV input is ','\u001b[0m\n",
      "\u001b[35m[2020-08-04:07:34:29:INFO] Sniff delimiter as ','\u001b[0m\n",
      "\u001b[35m[2020-08-04:07:34:29:INFO] Determined delimiter of CSV input is ','\u001b[0m\n",
      "\u001b[34m[2020-08-04:07:34:31:INFO] Sniff delimiter as ','\u001b[0m\n",
      "\u001b[34m[2020-08-04:07:34:31:INFO] Determined delimiter of CSV input is ','\u001b[0m\n",
      "\u001b[34m[2020-08-04:07:34:31:INFO] Sniff delimiter as ','\u001b[0m\n",
      "\u001b[34m[2020-08-04:07:34:31:INFO] Determined delimiter of CSV input is ','\u001b[0m\n",
      "\u001b[35m[2020-08-04:07:34:31:INFO] Sniff delimiter as ','\u001b[0m\n",
      "\u001b[35m[2020-08-04:07:34:31:INFO] Determined delimiter of CSV input is ','\u001b[0m\n",
      "\u001b[35m[2020-08-04:07:34:31:INFO] Sniff delimiter as ','\u001b[0m\n",
      "\u001b[35m[2020-08-04:07:34:31:INFO] Determined delimiter of CSV input is ','\u001b[0m\n",
      "\u001b[34m[2020-08-04:07:34:31:INFO] Sniff delimiter as ','\u001b[0m\n",
      "\u001b[34m[2020-08-04:07:34:31:INFO] Determined delimiter of CSV input is ','\u001b[0m\n",
      "\u001b[35m[2020-08-04:07:34:31:INFO] Sniff delimiter as ','\u001b[0m\n",
      "\u001b[35m[2020-08-04:07:34:31:INFO] Determined delimiter of CSV input is ','\u001b[0m\n",
      "\u001b[34m[2020-08-04:07:34:31:INFO] Sniff delimiter as ','\u001b[0m\n",
      "\u001b[34m[2020-08-04:07:34:31:INFO] Determined delimiter of CSV input is ','\u001b[0m\n",
      "\u001b[35m[2020-08-04:07:34:31:INFO] Sniff delimiter as ','\u001b[0m\n",
      "\u001b[35m[2020-08-04:07:34:31:INFO] Determined delimiter of CSV input is ','\u001b[0m\n",
      "\u001b[34m[2020-08-04:07:34:33:INFO] Sniff delimiter as ','\u001b[0m\n",
      "\u001b[34m[2020-08-04:07:34:33:INFO] Determined delimiter of CSV input is ','\u001b[0m\n",
      "\u001b[34m[2020-08-04:07:34:33:INFO] Sniff delimiter as ','\u001b[0m\n",
      "\u001b[34m[2020-08-04:07:34:33:INFO] Determined delimiter of CSV input is ','\u001b[0m\n",
      "\u001b[34m[2020-08-04:07:34:33:INFO] Sniff delimiter as ','\u001b[0m\n",
      "\u001b[34m[2020-08-04:07:34:33:INFO] Determined delimiter of CSV input is ','\u001b[0m\n",
      "\u001b[34m[2020-08-04:07:34:34:INFO] Sniff delimiter as ','\u001b[0m\n",
      "\u001b[35m[2020-08-04:07:34:33:INFO] Sniff delimiter as ','\u001b[0m\n",
      "\u001b[35m[2020-08-04:07:34:33:INFO] Determined delimiter of CSV input is ','\u001b[0m\n",
      "\u001b[35m[2020-08-04:07:34:33:INFO] Sniff delimiter as ','\u001b[0m\n",
      "\u001b[35m[2020-08-04:07:34:33:INFO] Determined delimiter of CSV input is ','\u001b[0m\n",
      "\u001b[35m[2020-08-04:07:34:33:INFO] Sniff delimiter as ','\u001b[0m\n",
      "\u001b[35m[2020-08-04:07:34:33:INFO] Determined delimiter of CSV input is ','\u001b[0m\n",
      "\u001b[35m[2020-08-04:07:34:34:INFO] Sniff delimiter as ','\u001b[0m\n",
      "\u001b[34m[2020-08-04:07:34:34:INFO] Determined delimiter of CSV input is ','\u001b[0m\n",
      "\u001b[35m[2020-08-04:07:34:34:INFO] Determined delimiter of CSV input is ','\u001b[0m\n",
      "\u001b[34m[2020-08-04:07:34:36:INFO] Sniff delimiter as ','\u001b[0m\n",
      "\u001b[34m[2020-08-04:07:34:36:INFO] Determined delimiter of CSV input is ','\u001b[0m\n",
      "\u001b[34m[2020-08-04:07:34:36:INFO] Sniff delimiter as ','\u001b[0m\n",
      "\u001b[34m[2020-08-04:07:34:36:INFO] Determined delimiter of CSV input is ','\u001b[0m\n",
      "\u001b[34m[2020-08-04:07:34:36:INFO] Sniff delimiter as ','\u001b[0m\n",
      "\u001b[34m[2020-08-04:07:34:36:INFO] Determined delimiter of CSV input is ','\u001b[0m\n",
      "\u001b[35m[2020-08-04:07:34:36:INFO] Sniff delimiter as ','\u001b[0m\n",
      "\u001b[35m[2020-08-04:07:34:36:INFO] Determined delimiter of CSV input is ','\u001b[0m\n",
      "\u001b[35m[2020-08-04:07:34:36:INFO] Sniff delimiter as ','\u001b[0m\n",
      "\u001b[35m[2020-08-04:07:34:36:INFO] Determined delimiter of CSV input is ','\u001b[0m\n",
      "\u001b[35m[2020-08-04:07:34:36:INFO] Sniff delimiter as ','\u001b[0m\n",
      "\u001b[35m[2020-08-04:07:34:36:INFO] Determined delimiter of CSV input is ','\u001b[0m\n",
      "\u001b[34m[2020-08-04:07:34:36:INFO] Sniff delimiter as ','\u001b[0m\n",
      "\u001b[34m[2020-08-04:07:34:36:INFO] Determined delimiter of CSV input is ','\u001b[0m\n",
      "\u001b[35m[2020-08-04:07:34:36:INFO] Sniff delimiter as ','\u001b[0m\n",
      "\u001b[35m[2020-08-04:07:34:36:INFO] Determined delimiter of CSV input is ','\u001b[0m\n"
     ]
    },
    {
     "name": "stdout",
     "output_type": "stream",
     "text": [
      "\u001b[34m[2020-08-04:07:34:38:INFO] Sniff delimiter as ','\u001b[0m\n",
      "\u001b[34m[2020-08-04:07:34:38:INFO] Determined delimiter of CSV input is ','\u001b[0m\n",
      "\u001b[34m[2020-08-04:07:34:38:INFO] Sniff delimiter as ','\u001b[0m\n",
      "\u001b[34m[2020-08-04:07:34:38:INFO] Determined delimiter of CSV input is ','\u001b[0m\n",
      "\u001b[34m[2020-08-04:07:34:38:INFO] Sniff delimiter as ','\u001b[0m\n",
      "\u001b[35m[2020-08-04:07:34:38:INFO] Sniff delimiter as ','\u001b[0m\n",
      "\u001b[35m[2020-08-04:07:34:38:INFO] Determined delimiter of CSV input is ','\u001b[0m\n",
      "\u001b[35m[2020-08-04:07:34:38:INFO] Sniff delimiter as ','\u001b[0m\n",
      "\u001b[35m[2020-08-04:07:34:38:INFO] Determined delimiter of CSV input is ','\u001b[0m\n",
      "\u001b[35m[2020-08-04:07:34:38:INFO] Sniff delimiter as ','\u001b[0m\n",
      "\u001b[34m[2020-08-04:07:34:38:INFO] Determined delimiter of CSV input is ','\u001b[0m\n",
      "\u001b[35m[2020-08-04:07:34:38:INFO] Determined delimiter of CSV input is ','\u001b[0m\n",
      "\u001b[34m[2020-08-04:07:34:40:INFO] Sniff delimiter as ','\u001b[0m\n",
      "\u001b[34m[2020-08-04:07:34:40:INFO] Determined delimiter of CSV input is ','\u001b[0m\n",
      "\u001b[34m[2020-08-04:07:34:41:INFO] Sniff delimiter as ','\u001b[0m\n",
      "\u001b[34m[2020-08-04:07:34:41:INFO] Determined delimiter of CSV input is ','\u001b[0m\n",
      "\u001b[34m[2020-08-04:07:34:41:INFO] Sniff delimiter as ','\u001b[0m\n",
      "\u001b[34m[2020-08-04:07:34:41:INFO] Determined delimiter of CSV input is ','\u001b[0m\n",
      "\u001b[34m[2020-08-04:07:34:41:INFO] Sniff delimiter as ','\u001b[0m\n",
      "\u001b[35m[2020-08-04:07:34:40:INFO] Sniff delimiter as ','\u001b[0m\n",
      "\u001b[35m[2020-08-04:07:34:40:INFO] Determined delimiter of CSV input is ','\u001b[0m\n",
      "\u001b[35m[2020-08-04:07:34:41:INFO] Sniff delimiter as ','\u001b[0m\n",
      "\u001b[35m[2020-08-04:07:34:41:INFO] Determined delimiter of CSV input is ','\u001b[0m\n",
      "\u001b[35m[2020-08-04:07:34:41:INFO] Sniff delimiter as ','\u001b[0m\n",
      "\u001b[35m[2020-08-04:07:34:41:INFO] Determined delimiter of CSV input is ','\u001b[0m\n",
      "\u001b[35m[2020-08-04:07:34:41:INFO] Sniff delimiter as ','\u001b[0m\n",
      "\u001b[34m[2020-08-04:07:34:41:INFO] Determined delimiter of CSV input is ','\u001b[0m\n",
      "\u001b[35m[2020-08-04:07:34:41:INFO] Determined delimiter of CSV input is ','\u001b[0m\n",
      "\n"
     ]
    }
   ],
   "source": [
    "xgb_transformer.wait()"
   ]
  },
  {
   "cell_type": "markdown",
   "metadata": {},
   "source": [
    "Now the transform job has executed and the result, the estimated sentiment of each review, has been saved on S3. Since we would rather work on this file locally we can perform a bit of notebook magic to copy the file to the `data_dir`."
   ]
  },
  {
   "cell_type": "code",
   "execution_count": 27,
   "metadata": {},
   "outputs": [
    {
     "name": "stdout",
     "output_type": "stream",
     "text": [
      "Completed 256.0 KiB/369.7 KiB (3.0 MiB/s) with 1 file(s) remaining\r",
      "Completed 369.7 KiB/369.7 KiB (4.2 MiB/s) with 1 file(s) remaining\r",
      "download: s3://sagemaker-us-east-2-574947211111/xgboost-2020-08-04-07-30-33-606/test.csv.out to ../data/sentiment_web_app/test.csv.out\r\n"
     ]
    }
   ],
   "source": [
    "!aws s3 cp --recursive $xgb_transformer.output_path $data_dir"
   ]
  },
  {
   "cell_type": "markdown",
   "metadata": {},
   "source": [
    "The last step is now to read in the output from our model, convert the output to something a little more usable, in this case we want the sentiment to be either `1` (positive) or `0` (negative), and then compare to the ground truth labels."
   ]
  },
  {
   "cell_type": "code",
   "execution_count": 28,
   "metadata": {},
   "outputs": [],
   "source": [
    "predictions = pd.read_csv(os.path.join(data_dir, 'test.csv.out'), header=None)\n",
    "predictions = [round(num) for num in predictions.squeeze().values]"
   ]
  },
  {
   "cell_type": "code",
   "execution_count": 29,
   "metadata": {},
   "outputs": [
    {
     "data": {
      "text/plain": [
       "0.85484"
      ]
     },
     "execution_count": 29,
     "metadata": {},
     "output_type": "execute_result"
    }
   ],
   "source": [
    "from sklearn.metrics import accuracy_score\n",
    "accuracy_score(test_y, predictions)"
   ]
  },
  {
   "cell_type": "markdown",
   "metadata": {},
   "source": [
    "## Step 6: Deploying the model\n",
    "\n",
    "Once we construct and fit our model, SageMaker stores the resulting model artifacts and we can use those to deploy an endpoint (inference code). To see this, look in the SageMaker console and you should see that a model has been created along with a link to the S3 location where the model artifacts have been stored.\n",
    "\n",
    "Deploying an endpoint is a lot like training the model with a few important differences. The first is that a deployed model doesn't change the model artifacts, so as you send it various testing instances the model won't change. Another difference is that since we aren't performing a fixed computation, as we were in the training step or while performing a batch transform, the compute instance that gets started stays running until we tell it to stop. This is important to note as if we forget and leave it running we will be charged the entire time.\n",
    "\n",
    "In other words **If you are no longer using a deployed endpoint, shut it down!**"
   ]
  },
  {
   "cell_type": "code",
   "execution_count": 30,
   "metadata": {},
   "outputs": [
    {
     "name": "stderr",
     "output_type": "stream",
     "text": [
      "Parameter image will be renamed to image_uri in SageMaker Python SDK v2.\n",
      "Using already existing model: xgboost-2020-08-04-07-23-48-943\n"
     ]
    },
    {
     "name": "stdout",
     "output_type": "stream",
     "text": [
      "---------------!"
     ]
    }
   ],
   "source": [
    "xgb_predictor = xgb.deploy(initial_instance_count = 1, instance_type = 'ml.m4.xlarge')"
   ]
  },
  {
   "cell_type": "markdown",
   "metadata": {},
   "source": [
    "### Testing the model (again)\n",
    "\n",
    "Now that we have deployed our endpoint, we can send the testing data to it and get back the inference results. We already did this earlier using the batch transform functionality of SageMaker, however, we will test our model again using the newly deployed endpoint so that we can make sure that it works properly and to get a bit of a feel for how the endpoint works.\n",
    "\n",
    "When using the created endpoint it is important to know that we are limited in the amount of information we can send in each call so we need to break the testing data up into chunks and then send each chunk. Also, we need to serialize our data before we send it to the endpoint to ensure that our data is transmitted properly. Fortunately, SageMaker can do the serialization part for us provided we tell it the format of our data."
   ]
  },
  {
   "cell_type": "code",
   "execution_count": 31,
   "metadata": {},
   "outputs": [],
   "source": [
    "from sagemaker.predictor import csv_serializer\n",
    "\n",
    "# We need to tell the endpoint what format the data we are sending is in so that SageMaker can perform the serialization.\n",
    "xgb_predictor.content_type = 'text/csv'\n",
    "xgb_predictor.serializer = csv_serializer"
   ]
  },
  {
   "cell_type": "code",
   "execution_count": 32,
   "metadata": {},
   "outputs": [],
   "source": [
    "# We split the data into chunks and send each chunk seperately, accumulating the results.\n",
    "\n",
    "def predict(data, rows=512):\n",
    "    split_array = np.array_split(data, int(data.shape[0] / float(rows) + 1))\n",
    "    predictions = ''\n",
    "    for array in split_array:\n",
    "        predictions = ','.join([predictions, xgb_predictor.predict(array).decode('utf-8')])\n",
    "    \n",
    "    return np.fromstring(predictions[1:], sep=',')"
   ]
  },
  {
   "cell_type": "code",
   "execution_count": 33,
   "metadata": {},
   "outputs": [],
   "source": [
    "test_X = pd.read_csv(os.path.join(data_dir, 'test.csv'), header=None).values\n",
    "\n",
    "predictions = predict(test_X)\n",
    "predictions = [round(num) for num in predictions]"
   ]
  },
  {
   "cell_type": "markdown",
   "metadata": {},
   "source": [
    "Lastly, we check to see what the accuracy of our model is."
   ]
  },
  {
   "cell_type": "code",
   "execution_count": 34,
   "metadata": {},
   "outputs": [
    {
     "data": {
      "text/plain": [
       "0.85484"
      ]
     },
     "execution_count": 34,
     "metadata": {},
     "output_type": "execute_result"
    }
   ],
   "source": [
    "from sklearn.metrics import accuracy_score\n",
    "accuracy_score(test_y, predictions)"
   ]
  },
  {
   "cell_type": "markdown",
   "metadata": {},
   "source": [
    "And the results here should agree with the model testing that we did earlier using the batch transform job.\n",
    "\n",
    "### Cleaning up\n",
    "\n",
    "Now that we've determined that deploying our model works as expected, we are going to shut it down. Remember that the longer the endpoint is left running, the greater the cost and since we have a bit more work to do before we are able to use our endpoint with our simple web app, we should shut everything down."
   ]
  },
  {
   "cell_type": "code",
   "execution_count": 35,
   "metadata": {},
   "outputs": [],
   "source": [
    "xgb_predictor.delete_endpoint()"
   ]
  },
  {
   "cell_type": "markdown",
   "metadata": {},
   "source": [
    "## Step 7: Putting our model to work\n",
    "\n",
    "As we've mentioned a few times now, our goal is to have our model deployed and then access it using a very simple web app. The intent is for this web app to take some user submitted data (a review), send it off to our endpoint (the model) and then display the result.\n",
    "\n",
    "However, there is a small catch. Currently the only way we can access the endpoint to send it data is using the SageMaker API. We can, if we wish, expose the actual URL that our model's endpoint is receiving data from, however, if we just send it data ourselves we will not get anything in return. This is because the endpoint created by SageMaker requires the entity accessing it have the correct permissions. So, we would need to somehow authenticate our web app with AWS.\n",
    "\n",
    "Having a website that authenticates to AWS seems a bit beyond the scope of this lesson so we will opt for an alternative approach. Namely, we will create a new endpoint which does not require authentication and which acts as a proxy for the SageMaker endpoint.\n",
    "\n",
    "As an additional constraint, we will try to avoid doing any data processing in the web app itself. Remember that when we constructed and tested our model we started with a movie review, then we simplified it by removing any html formatting and punctuation, then we constructed a bag of words embedding and the resulting vector is what we sent to our model. All of this needs to be done to our user input as well.\n",
    "\n",
    "Fortunately we can do all of this data processing in the backend, using Amazon's Lambda service.\n",
    "\n",
    "<img src=\"Web App Diagram.svg\">\n",
    "\n",
    "The diagram above gives an overview of how the various services will work together. On the far right is the model which we trained above and which will be deployed using SageMaker. On the far left is our web app that collects a user's movie review, sends it off and expects a positive or negative sentiment in return.\n",
    "\n",
    "In the middle is where some of the magic happens. We will construct a Lambda function, which you can think of as a straightforward Python function that can be executed whenever a specified event occurs. This Python function will do the data processing we need to perform on a user submitted review. In addition, we will give this function permission to send and recieve data from a SageMaker endpoint.\n",
    "\n",
    "Lastly, the method we will use to execute the Lambda function is a new endpoint that we will create using API Gateway. This endpoint will be a url that listens for data to be sent to it. Once it gets some data it will pass that data on to the Lambda function and then return whatever the Lambda function returns. Essentially it will act as an interface that lets our web app communicate with the Lambda function.\n",
    "\n",
    "### Processing a single review\n",
    "\n",
    "For now, suppose we are given a movie review by our user in the form of a string, like so:"
   ]
  },
  {
   "cell_type": "code",
   "execution_count": 36,
   "metadata": {},
   "outputs": [],
   "source": [
    "test_review = \"Nothing but a disgusting materialistic pageant of glistening abed remote control greed zombies, totally devoid of any heart or heat. A romantic comedy that has zero romantic chemestry and zero laughs!\""
   ]
  },
  {
   "cell_type": "markdown",
   "metadata": {},
   "source": [
    "How do we go from this string to the bag of words feature vector that is expected by our model?\n",
    "\n",
    "If we recall at the beginning of this notebook, the first step is to remove any unnecessary characters using the `review_to_words` method. Remember that we intentionally did this in a very simplistic way. This is because we are going to have to copy this method to our (eventual) Lambda function (we will go into more detail later) and this means it needs to be rather simplistic."
   ]
  },
  {
   "cell_type": "code",
   "execution_count": 37,
   "metadata": {},
   "outputs": [
    {
     "name": "stdout",
     "output_type": "stream",
     "text": [
      "nothing but a disgusting materialistic pageant of glistening abed remote control greed zombies totally devoid of any heart or heat a romantic comedy that has zero romantic chemestry and zero laughs\n"
     ]
    }
   ],
   "source": [
    "test_words = review_to_words(test_review)\n",
    "print(test_words)"
   ]
  },
  {
   "cell_type": "markdown",
   "metadata": {},
   "source": [
    "Next, we need to construct a bag of words embedding of the `test_words` string. To do this, remember that a bag of words embedding uses a `vocabulary` consisting of the most frequently appearing words in a set of documents. Then, for each word in the vocabulary we record the number of times that word appears in `test_words`. We constructed the `vocabulary` earlier using the training set for our problem so encoding `test_words` is relatively straightforward."
   ]
  },
  {
   "cell_type": "code",
   "execution_count": 38,
   "metadata": {},
   "outputs": [],
   "source": [
    "def bow_encoding(words, vocabulary):\n",
    "    bow = [0] * len(vocabulary) # Start by setting the count for each word in the vocabulary to zero.\n",
    "    for word in words.split():  # For each word in the string\n",
    "        if word in vocabulary:  # If the word is one that occurs in the vocabulary, increase its count.\n",
    "            bow[vocabulary[word]] += 1\n",
    "    return bow"
   ]
  },
  {
   "cell_type": "code",
   "execution_count": 39,
   "metadata": {},
   "outputs": [
    {
     "name": "stdout",
     "output_type": "stream",
     "text": [
      "[0, 0, 0, 0, 0, 0, 0, 0, 0, 0, 0, 0, 0, 0, 0, 0, 0, 0, 0, 0, 0, 0, 0, 0, 0, 0, 0, 0, 0, 0, 0, 0, 0, 0, 0, 0, 0, 0, 0, 0, 0, 0, 0, 0, 0, 0, 0, 0, 0, 0, 0, 0, 0, 0, 0, 0, 0, 0, 0, 0, 0, 0, 0, 0, 0, 0, 0, 0, 0, 0, 0, 0, 0, 0, 0, 0, 0, 0, 0, 0, 0, 0, 0, 0, 0, 0, 0, 0, 0, 0, 0, 0, 0, 0, 0, 0, 0, 0, 0, 0, 0, 0, 0, 0, 0, 0, 0, 0, 0, 0, 0, 0, 0, 0, 0, 0, 0, 0, 0, 0, 0, 0, 0, 0, 0, 0, 0, 0, 0, 0, 0, 0, 0, 0, 0, 0, 0, 0, 0, 0, 0, 0, 0, 0, 0, 0, 0, 0, 0, 0, 0, 0, 0, 0, 0, 0, 0, 0, 0, 0, 0, 0, 0, 0, 0, 0, 0, 0, 0, 0, 0, 0, 0, 0, 0, 0, 0, 0, 0, 0, 0, 0, 0, 0, 0, 0, 0, 0, 0, 0, 0, 0, 0, 0, 0, 0, 0, 0, 0, 0, 0, 0, 0, 0, 0, 0, 0, 0, 0, 0, 0, 0, 0, 0, 0, 0, 0, 0, 0, 0, 0, 0, 0, 0, 0, 0, 1, 0, 0, 0, 0, 0, 0, 0, 0, 0, 0, 0, 0, 0, 0, 0, 0, 0, 0, 0, 0, 0, 0, 0, 0, 0, 0, 0, 0, 0, 1, 0, 0, 0, 0, 0, 0, 0, 0, 0, 0, 0, 0, 0, 0, 0, 0, 0, 0, 0, 0, 0, 0, 0, 0, 0, 0, 0, 0, 0, 0, 0, 0, 0, 0, 0, 0, 0, 0, 0, 0, 0, 0, 0, 0, 0, 0, 0, 0, 0, 0, 0, 0, 0, 0, 0, 0, 0, 0, 0, 0, 0, 0, 0, 0, 0, 0, 0, 0, 0, 0, 0, 0, 0, 0, 0, 0, 0, 0, 0, 0, 0, 0, 0, 0, 0, 0, 0, 0, 0, 0, 0, 0, 0, 0, 0, 0, 0, 0, 0, 0, 0, 0, 0, 0, 0, 0, 0, 0, 0, 0, 0, 0, 0, 0, 0, 0, 0, 0, 0, 0, 0, 0, 0, 0, 0, 0, 0, 0, 0, 0, 0, 0, 0, 0, 0, 0, 0, 0, 0, 0, 0, 0, 0, 0, 0, 0, 0, 0, 0, 0, 0, 0, 0, 0, 0, 0, 0, 0, 0, 0, 0, 0, 0, 0, 0, 0, 0, 0, 0, 0, 0, 0, 0, 0, 0, 0, 0, 0, 0, 0, 0, 0, 0, 0, 0, 0, 0, 0, 0, 0, 0, 0, 0, 0, 0, 0, 0, 0, 0, 0, 0, 0, 0, 0, 0, 0, 0, 0, 0, 0, 0, 0, 0, 0, 0, 0, 0, 0, 0, 0, 0, 0, 0, 0, 0, 0, 0, 0, 0, 0, 0, 0, 0, 0, 0, 0, 0, 0, 0, 0, 0, 0, 0, 0, 0, 0, 0, 0, 0, 0, 0, 0, 0, 0, 0, 0, 0, 0, 0, 0, 0, 0, 0, 0, 0, 0, 0, 0, 0, 0, 0, 0, 0, 0, 0, 0, 0, 0, 0, 0, 0, 0, 0, 0, 0, 0, 0, 0, 0, 0, 0, 0, 0, 0, 0, 0, 0, 0, 0, 0, 0, 0, 0, 0, 0, 0, 0, 0, 0, 0, 0, 0, 0, 0, 0, 0, 0, 0, 0, 0, 0, 0, 0, 0, 0, 0, 0, 0, 0, 0, 0, 0, 0, 0, 0, 0, 0, 0, 0, 0, 0, 0, 0, 0, 0, 0, 0, 0, 0, 0, 0, 0, 0, 0, 0, 0, 0, 0, 0, 0, 0, 0, 0, 0, 0, 0, 0, 0, 0, 0, 0, 0, 0, 0, 0, 0, 0, 0, 0, 1, 0, 0, 0, 0, 0, 0, 0, 0, 0, 0, 0, 0, 0, 0, 0, 0, 0, 0, 0, 0, 0, 0, 0, 0, 0, 0, 0, 0, 0, 0, 0, 0, 0, 0, 0, 0, 0, 0, 0, 0, 0, 0, 0, 0, 0, 0, 0, 0, 0, 0, 0, 0, 0, 0, 0, 0, 0, 0, 0, 0, 0, 0, 0, 0, 0, 0, 0, 0, 0, 0, 0, 0, 0, 0, 0, 0, 0, 0, 0, 0, 0, 0, 0, 0, 0, 0, 0, 0, 0, 0, 0, 0, 0, 0, 0, 0, 0, 0, 0, 0, 0, 0, 0, 0, 0, 0, 0, 0, 0, 0, 0, 0, 0, 0, 0, 0, 0, 0, 0, 0, 0, 0, 0, 0, 0, 0, 0, 0, 0, 0, 0, 0, 0, 0, 0, 0, 0, 0, 0, 0, 0, 0, 0, 0, 0, 0, 0, 0, 0, 0, 0, 0, 0, 0, 0, 0, 0, 0, 0, 0, 0, 0, 0, 0, 0, 0, 0, 0, 0, 0, 0, 0, 0, 0, 0, 0, 0, 0, 0, 0, 0, 0, 0, 0, 0, 0, 0, 0, 0, 0, 0, 0, 0, 0, 0, 0, 0, 0, 0, 0, 0, 0, 0, 0, 0, 0, 0, 0, 0, 0, 0, 0, 0, 0, 0, 0, 0, 0, 0, 0, 0, 0, 0, 0, 0, 0, 0, 0, 0, 0, 0, 0, 0, 0, 0, 0, 0, 0, 0, 0, 0, 0, 0, 0, 0, 0, 0, 0, 0, 0, 0, 0, 0, 1, 0, 0, 0, 0, 0, 0, 0, 0, 0, 0, 0, 0, 0, 0, 0, 0, 0, 0, 0, 0, 0, 0, 0, 0, 0, 0, 0, 0, 0, 0, 0, 0, 0, 0, 0, 0, 0, 0, 0, 0, 0, 0, 0, 0, 0, 0, 0, 0, 0, 0, 0, 0, 0, 0, 0, 0, 0, 0, 0, 0, 0, 0, 0, 0, 0, 0, 0, 0, 0, 0, 0, 0, 0, 0, 0, 0, 0, 0, 0, 0, 0, 0, 0, 0, 0, 0, 1, 0, 0, 0, 0, 0, 0, 0, 0, 0, 0, 0, 0, 0, 0, 0, 0, 0, 0, 0, 0, 0, 0, 0, 0, 0, 0, 0, 0, 0, 0, 0, 0, 0, 0, 0, 0, 0, 0, 0, 0, 0, 0, 0, 0, 0, 0, 0, 0, 0, 0, 0, 0, 0, 0, 0, 0, 0, 0, 0, 0, 0, 0, 0, 0, 0, 0, 0, 0, 0, 0, 0, 0, 0, 0, 0, 0, 0, 0, 0, 0, 0, 0, 0, 0, 0, 0, 0, 0, 0, 0, 0, 0, 0, 0, 0, 0, 0, 0, 0, 0, 0, 0, 0, 0, 0, 0, 0, 0, 0, 0, 0, 0, 0, 0, 0, 0, 0, 0, 0, 0, 0, 0, 0, 0, 0, 0, 0, 0, 0, 0, 0, 0, 0, 0, 0, 0, 0, 0, 0, 0, 0, 0, 0, 0, 0, 0, 0, 0, 0, 0, 0, 0, 0, 0, 0, 0, 0, 0, 0, 0, 0, 0, 0, 0, 0, 0, 0, 0, 0, 0, 0, 0, 0, 0, 0, 0, 0, 0, 0, 0, 0, 0, 0, 0, 0, 0, 0, 0, 0, 0, 0, 0, 0, 0, 0, 0, 0, 0, 0, 0, 0, 0, 0, 0, 0, 0, 0, 0, 0, 0, 0, 0, 0, 0, 0, 0, 0, 0, 0, 0, 0, 0, 0, 0, 0, 0, 0, 0, 0, 0, 0, 0, 0, 0, 0, 0, 0, 0, 0, 0, 0, 0, 0, 0, 0, 0, 0, 0, 0, 0, 0, 0, 1, 0, 0, 0, 0, 0, 0, 0, 0, 0, 0, 0, 0, 0, 0, 0, 0, 0, 0, 0, 0, 0, 0, 0, 0, 0, 0, 0, 0, 0, 0, 0, 0, 0, 0, 0, 0, 0, 0, 0, 0, 0, 0, 0, 0, 0, 0, 0, 0, 0, 0, 0, 0, 0, 0, 0, 1, 0, 0, 0, 0, 0, 0, 0, 0, 0, 0, 0, 0, 0, 0, 0, 0, 0, 0, 0, 0, 0, 0, 0, 0, 0, 0, 0, 0, 0, 0, 0, 0, 0, 0, 0, 0, 0, 0, 0, 0, 0, 0, 0, 0, 0, 0, 0, 0, 0, 0, 0, 0, 0, 0, 0, 0, 0, 0, 0, 0, 0, 0, 0, 0, 0, 0, 0, 0, 0, 0, 0, 0, 0, 0, 0, 0, 0, 0, 0, 0, 0, 0, 0, 0, 0, 0, 0, 0, 0, 0, 0, 0, 0, 0, 0, 0, 0, 0, 0, 0, 0, 0, 0, 0, 0, 0, 0, 0, 0, 0, 0, 0, 0, 0, 0, 0, 0, 0, 0, 0, 0, 0, 0, 0, 0, 0, 0, 0, 0, 0, 0, 0, 0, 0, 0, 0, 0, 0, 0, 0, 0, 0, 0, 0, 0, 0, 0, 0, 0, 0, 0, 0, 0, 0, 0, 0, 0, 0, 0, 0, 0, 0, 0, 0, 0, 0, 0, 0, 0, 0, 0, 0, 0, 0, 0, 0, 0, 0, 0, 0, 0, 0, 0, 0, 0, 0, 0, 0, 0, 0, 0, 0, 0, 0, 0, 0, 0, 0, 0, 0, 0, 0, 0, 0, 0, 0, 0, 0, 0, 0, 0, 0, 0, 0, 0, 0, 0, 0, 0, 0, 0, 0, 0, 0, 0, 0, 0, 0, 0, 0, 0, 0, 0, 0, 0, 0, 0, 0, 0, 0, 0, 0, 0, 0, 0, 0, 0, 0, 0, 0, 0, 0, 0, 0, 0, 0, 0, 0, 0, 0, 0, 0, 0, 0, 0, 0, 0, 0, 0, 0, 0, 0, 0, 0, 0, 0, 0, 0, 0, 0, 0, 0, 0, 0, 0, 0, 0, 0, 0, 0, 0, 0, 0, 0, 0, 0, 0, 0, 0, 0, 0, 0, 0, 0, 0, 0, 0, 0, 0, 0, 0, 0, 0, 0, 0, 0, 0, 0, 0, 0, 0, 0, 0, 0, 0, 0, 0, 0, 0, 0, 0, 0, 0, 0, 0, 0, 0, 0, 0, 0, 0, 0, 0, 0, 0, 0, 0, 0, 0, 0, 0, 0, 0, 0, 0, 0, 0, 0, 0, 0, 0, 0, 0, 0, 0, 0, 0, 0, 0, 0, 0, 0, 0, 0, 0, 0, 0, 0, 0, 0, 0, 0, 0, 0, 0, 0, 0, 0, 0, 0, 0, 0, 0, 0, 0, 0, 0, 0, 0, 0, 0, 0, 0, 0, 0, 0, 0, 0, 0, 0, 0, 0, 0, 0, 0, 0, 0, 0, 0, 0, 0, 0, 0, 0, 0, 0, 0, 0, 0, 0, 0, 0, 0, 0, 0, 0, 0, 0, 0, 0, 0, 0, 0, 0, 0, 0, 0, 0, 0, 0, 0, 0, 0, 0, 0, 0, 0, 0, 0, 0, 0, 0, 0, 0, 0, 0, 0, 0, 0, 0, 0, 0, 0, 0, 0, 0, 0, 0, 0, 0, 0, 0, 0, 0, 0, 0, 0, 0, 0, 0, 0, 0, 0, 0, 0, 0, 0, 0, 0, 0, 0, 0, 0, 0, 0, 0, 0, 0, 0, 0, 0, 0, 0, 0, 0, 0, 0, 0, 0, 0, 0, 0, 0, 0, 0, 0, 0, 0, 0, 0, 0, 0, 0, 0, 0, 0, 0, 0, 0, 0, 0, 0, 0, 0, 0, 0, 0, 0, 0, 0, 0, 0, 0, 0, 0, 0, 0, 0, 0, 0, 0, 0, 0, 0, 0, 0, 0, 0, 0, 0, 0, 0, 0, 0, 0, 0, 0, 0, 0, 0, 0, 0, 0, 0, 0, 0, 0, 0, 0, 0, 0, 0, 0, 0, 0, 0, 0, 0, 0, 0, 0, 0, 0, 0, 0, 0, 0, 0, 0, 0, 0, 0, 0, 0, 0, 0, 0, 0, 0, 0, 0, 0, 0, 0, 0, 0, 0, 0, 0, 0, 0, 0, 0, 0, 0, 0, 0, 0, 0, 0, 0, 0, 0, 0, 0, 0, 0, 0, 0, 0, 0, 0, 0, 0, 0, 0, 0, 0, 0, 0, 0, 0, 0, 0, 0, 0, 0, 0, 0, 0, 0, 0, 0, 0, 0, 0, 0, 0, 0, 0, 0, 1, 0, 0, 0, 0, 0, 0, 0, 0, 0, 0, 0, 0, 0, 0, 0, 0, 0, 0, 0, 0, 0, 0, 0, 0, 0, 0, 0, 0, 0, 0, 0, 0, 0, 0, 0, 0, 0, 0, 0, 0, 0, 0, 0, 0, 0, 0, 0, 0, 0, 0, 0, 0, 0, 0, 0, 0, 0, 0, 0, 0, 0, 0, 0, 0, 0, 0, 0, 0, 0, 0, 0, 0, 0, 0, 1, 0, 0, 0, 0, 0, 0, 0, 0, 0, 0, 0, 0, 0, 0, 0, 0, 0, 0, 0, 0, 1, 0, 0, 1, 0, 0, 0, 0, 0, 0, 0, 0, 0, 0, 0, 0, 0, 0, 0, 0, 0, 0, 0, 0, 0, 0, 0, 0, 0, 0, 0, 0, 0, 0, 0, 0, 0, 0, 0, 0, 0, 0, 0, 0, 0, 0, 0, 0, 0, 0, 0, 0, 0, 0, 0, 0, 0, 0, 0, 0, 0, 0, 0, 0, 0, 0, 0, 0, 0, 0, 0, 0, 0, 0, 0, 0, 0, 0, 0, 0, 0, 0, 0, 0, 0, 0, 0, 0, 0, 0, 0, 0, 0, 0, 0, 0, 0, 0, 0, 0, 0, 0, 0, 0, 0, 0, 0, 0, 0, 0, 0, 0, 0, 0, 0, 0, 0, 0, 0, 0, 0, 0, 0, 0, 0, 0, 0, 0, 0, 0, 0, 0, 0, 0, 0, 0, 0, 0, 0, 0, 0, 0, 0, 0, 0, 0, 0, 0, 0, 0, 0, 0, 0, 0, 0, 0, 0, 0, 0, 0, 0, 0, 0, 0, 0, 0, 0, 0, 0, 0, 0, 0, 0, 0, 0, 0, 0, 0, 0, 0, 0, 0, 0, 0, 0, 0, 0, 0, 0, 0, 0, 0, 0, 0, 0, 0, 0, 0, 0, 0, 0, 0, 0, 0, 0, 0, 0, 0, 0, 0, 0, 0, 0, 0, 0, 0, 0, 0, 0, 0, 0, 0, 0, 0, 0, 0, 0, 0, 0, 0, 0, 0, 0, 0, 0, 0, 0, 0, 0, 0, 0, 0, 0, 0, 0, 0, 0, 0, 0, 0, 0, 0, 0, 0, 0, 0, 0, 0, 0, 0, 0, 0, 0, 0, 0, 0, 0, 0, 0, 0, 0, 0, 0, 0, 0, 0, 0, 0, 0, 0, 0, 0, 0, 0, 0, 0, 0, 0, 0, 0, 0, 0, 0, 0, 0, 0, 0, 0, 0, 0, 0, 0, 0, 0, 0, 0, 0, 0, 0, 0, 0, 0, 0, 0, 0, 0, 0, 0, 0, 0, 0, 0, 0, 0, 0, 0, 0, 0, 0, 0, 0, 0, 0, 0, 0, 0, 0, 0, 0, 0, 0, 0, 0, 0, 0, 0, 0, 0, 0, 0, 0, 0, 0, 0, 0, 0, 0, 0, 0, 0, 0, 0, 0, 0, 0, 0, 0, 0, 0, 0, 0, 0, 0, 0, 0, 0, 0, 0, 0, 0, 0, 0, 0, 0, 0, 0, 0, 0, 0, 0, 0, 0, 0, 0, 0, 0, 0, 0, 0, 0, 0, 0, 0, 0, 0, 0, 0, 0, 0, 0, 0, 0, 0, 0, 0, 0, 0, 0, 0, 0, 0, 0, 0, 0, 0, 0, 0, 0, 0, 0, 0, 0, 0, 0, 0, 0, 0, 0, 0, 0, 0, 0, 0, 0, 0, 0, 0, 0, 0, 0, 0, 0, 0, 0, 0, 0, 0, 0, 0, 0, 0, 0, 0, 0, 0, 0, 0, 0, 0, 0, 1, 0, 0, 0, 0, 0, 0, 0, 0, 0, 0, 0, 0, 0, 0, 0, 0, 0, 0, 0, 0, 0, 0, 0, 0, 0, 0, 0, 0, 0, 0, 0, 0, 0, 0, 0, 0, 0, 0, 0, 0, 0, 0, 0, 0, 0, 0, 0, 0, 0, 0, 0, 0, 0, 0, 0, 0, 0, 0, 0, 0, 0, 0, 0, 0, 0, 0, 0, 0, 0, 0, 0, 0, 0, 0, 0, 0, 0, 0, 0, 0, 0, 0, 0, 0, 0, 0, 0, 0, 0, 0, 0, 0, 0, 0, 0, 0, 0, 0, 0, 0, 0, 0, 0, 0, 0, 0, 0, 0, 0, 0, 0, 0, 0, 0, 0, 0, 0, 0, 0, 0, 0, 0, 0, 0, 0, 0, 0, 0, 0, 0, 0, 0, 0, 0, 0, 0, 0, 0, 0, 0, 0, 0, 0, 0, 0, 0, 0, 0, 0, 0, 0, 0, 0, 0, 0, 0, 0, 0, 0, 0, 0, 0, 0, 0, 0, 0, 0, 0, 0, 0, 0, 0, 0, 0, 0, 0, 0, 0, 0, 0, 0, 0, 0, 0, 0, 0, 0, 0, 0, 0, 0, 0, 0, 0, 0, 0, 0, 0, 0, 0, 0, 0, 0, 0, 0, 0, 0, 0, 0, 0, 0, 0, 0, 0, 0, 0, 0, 0, 0, 0, 0, 0, 0, 0, 0, 0, 0, 0, 0, 0, 0, 0, 0, 0, 0, 0, 0, 0, 0, 0, 0, 0, 0, 0, 0, 0, 0, 0, 0, 0, 0, 0, 0, 0, 0, 0, 0, 0, 0, 0, 0, 0, 0, 0, 0, 0, 0, 0, 0, 0, 0, 0, 0, 0, 0, 0, 0, 0, 0, 0, 0, 0, 0, 0, 0, 0, 0, 0, 0, 0, 0, 0, 0, 0, 0, 0, 0, 0, 0, 0, 0, 0, 0, 0, 0, 0, 0, 0, 0, 0, 0, 0, 0, 0, 0, 0, 0, 0, 0, 0, 0, 0, 0, 0, 0, 0, 0, 0, 0, 0, 0, 0, 0, 0, 0, 0, 0, 0, 0, 0, 0, 0, 0, 0, 0, 0, 0, 0, 0, 0, 0, 0, 0, 0, 0, 0, 0, 0, 0, 0, 0, 0, 0, 0, 0, 0, 0, 0, 0, 0, 0, 0, 0, 0, 0, 0, 0, 0, 0, 0, 0, 0, 0, 0, 0, 0, 0, 0, 0, 0, 0, 0, 0, 0, 0, 0, 0, 0, 0, 0, 0, 0, 0, 0, 0, 0, 0, 0, 0, 0, 0, 0, 0, 0, 0, 0, 0, 0, 0, 0, 0, 0, 0, 0, 0, 0, 0, 0, 0, 0, 0, 0, 0, 0, 0, 0, 0, 0, 0, 0, 0, 0, 0, 0, 0, 0, 0, 0, 0, 0, 0, 0, 0, 0, 0, 0, 0, 0, 0, 0, 0, 0, 0, 0, 0, 0, 0, 0, 0, 0, 0, 0, 0, 0, 0, 0, 0, 0, 0, 0, 0, 0, 0, 0, 0, 0, 0, 0, 0, 0, 0, 0, 0, 0, 0, 0, 0, 0, 0, 0, 0, 0, 0, 0, 0, 0, 0, 0, 0, 0, 0, 0, 1, 0, 0, 0, 0, 0, 0, 0, 0, 0, 0, 0, 0, 0, 0, 0, 0, 0, 0, 0, 0, 0, 0, 0, 0, 0, 0, 0, 0, 0, 0, 0, 0, 0, 0, 0, 2, 0, 0, 0, 0, 0, 0, 0, 0, 0, 0, 0, 0, 0, 0, 0, 0, 0, 0, 0, 0, 0, 0, 0, 0, 0, 0, 0, 0, 0, 0, 0, 0, 0, 0, 0, 0, 0, 0, 0, 0, 1, 0, 0, 0, 0, 0, 0, 0, 0, 0, 0, 0, 0, 0, 0, 0, 0, 0, 0, 0, 0, 0, 0, 0, 0, 0, 0, 0, 0, 0, 0, 0, 0, 0, 0, 0, 0, 0, 0, 0, 0, 0, 0, 0, 0, 0, 0, 0, 0, 0, 0, 0, 0, 0, 0, 0, 0, 0, 0, 0, 0, 0, 0, 0, 0, 0, 0, 0, 0, 0, 0, 0, 0, 0, 0, 0, 0, 0, 0, 0, 0, 0, 0, 0, 0, 0, 0, 0, 0, 0, 0, 0, 0, 0, 0, 0, 0, 0, 0, 0, 0, 0, 0, 0, 0, 0, 0, 0, 0, 0, 0, 0, 0, 0, 0, 0, 0, 0, 0, 0, 0, 0, 0, 0, 0, 0, 0, 0, 0, 0, 0, 0, 0, 0, 0, 0, 0, 0, 0, 0, 0, 0, 0, 0, 0, 0, 0, 0, 0, 0, 0, 0, 0, 0, 0, 0, 0, 0, 0, 0, 0, 0, 0, 0, 0, 0, 0, 0, 0, 0, 0, 0, 0, 0, 0, 0, 0, 0, 0, 0, 0, 0, 0, 0, 0, 0, 0, 0, 0, 0, 0, 0, 0, 0, 0, 0, 0, 0, 0, 0, 0, 0, 0, 0, 0, 0, 0, 0, 0, 0, 0, 0, 0, 0, 0, 0, 0, 0, 0, 0, 0, 0, 0, 0, 0, 0, 0, 0, 0, 0, 0, 0, 0, 0, 0, 0, 0, 0, 0, 0, 0, 0, 0, 0, 0, 0, 0, 0, 0, 0, 0, 0, 0, 0, 0, 0, 0, 0, 0, 0, 0, 0, 0, 0, 0, 0, 0, 0, 0, 0, 0, 0, 0, 0, 0, 0, 0, 0, 0, 0, 0, 0, 0, 0, 0, 0, 0, 0, 0, 0, 0, 0, 0, 0, 0, 0, 0, 0, 0, 0, 0, 0, 0, 0, 0, 0, 0, 0, 0, 0, 0, 0, 0, 0, 0, 0, 0, 0, 0, 0, 0, 0, 0, 0, 0, 0, 0, 0, 0, 0, 0, 0, 0, 0, 0, 0, 0, 0, 0, 0, 0, 0, 0, 0, 0, 0, 0, 0, 0, 0, 0, 0, 0, 0, 0, 0, 0, 0, 0, 0, 0, 0, 0, 0, 0, 0, 0, 0, 0, 0, 0, 0, 0, 0, 0, 0, 0, 0, 0, 0, 0, 0, 0, 0, 0, 0, 0, 0, 0, 0, 0, 0, 0, 0, 0, 0, 0, 0, 0, 0, 0, 0, 0, 0, 0, 0, 0, 0, 0, 0, 0, 0, 0, 0, 0, 0, 0, 0, 0, 0, 0, 0, 0, 0, 0, 0, 0, 0, 0, 0, 0, 0, 0, 0, 0, 0, 0, 0, 0, 0, 0, 0, 0, 0, 0, 0, 0, 0, 0, 0, 0, 0, 0, 0, 0, 0, 0, 0, 0, 0, 0, 0, 0, 0, 0, 0, 0, 0, 0, 0, 0, 0, 0, 0, 0, 0, 0, 0, 0, 0, 0, 0, 0, 0, 0, 0, 0, 0, 0, 0, 0, 0, 0, 0, 0, 0, 0, 0, 1, 0, 0, 0, 0, 0, 0, 0, 0, 0, 0, 0, 0, 0, 0, 0, 0, 0, 0, 0, 0, 0, 0, 0, 0, 0, 0, 0, 0, 0, 0, 0, 0, 0, 0, 0, 0, 0, 0, 0, 0, 0, 0, 0, 0, 0, 0, 0, 0, 0, 0, 0, 0, 0, 0, 0, 0, 0, 0, 0, 0, 0, 0, 0, 0, 0, 0, 0, 0, 0, 0, 0, 0, 0, 0, 0, 0, 0, 0, 0, 0, 0, 0, 0, 0, 0, 0, 0, 0, 0, 0, 0, 0, 0, 0, 0, 0, 0, 0, 0, 0, 0, 0, 0, 0, 0, 0, 0, 0, 0, 0, 2, 0, 0, 0, 0, 0, 0, 0, 0, 0, 0, 0, 0, 0, 0, 0, 0, 0, 0, 0, 0, 0, 0, 0, 0, 0, 0, 0, 0, 0, 0, 0, 0, 0, 0, 0, 0, 0, 0, 0, 0, 0, 0, 0, 0, 0, 0, 0, 0, 0, 0, 0, 0, 0, 0, 0, 0, 0, 0, 0, 0, 0, 0, 0, 0, 0, 0, 0, 0, 0, 0, 0, 0, 0, 0, 0, 0, 0, 0, 0, 0, 0, 0, 0, 0, 0, 0, 0, 0, 0, 0, 0, 0, 0, 0, 0, 0, 0, 0, 0, 0, 0, 0, 0, 0, 0, 0, 0, 0, 0, 0, 0, 0, 0, 0, 0, 0, 0, 0, 0, 0, 0, 0, 0, 0, 0, 0, 0, 0, 0, 0, 0, 0, 0, 0, 0, 0, 0, 0, 0, 0, 0, 0, 0, 0, 0, 0, 0, 0, 0, 0, 0, 0, 0, 0, 0, 0, 0, 0, 0, 0, 0, 0, 0, 0, 0, 0, 0, 0, 0, 0, 0, 0, 0, 0, 0, 0, 0, 0, 0, 0, 0, 0, 0, 0, 0, 0, 0, 0, 0, 0, 0, 0, 0, 0, 0, 0, 0, 0, 0, 0, 0, 0, 0, 0, 0, 0, 0, 0, 0, 0, 0, 0, 0, 0, 0, 0, 0, 0, 0, 0, 0, 0, 0, 0, 0, 0, 0, 0, 0, 0, 0, 0, 0, 0, 0, 0, 0, 0, 0, 0, 0, 0, 0, 0, 0, 0, 0, 0, 0, 0, 0, 0, 0, 0, 0, 0, 0, 0, 0, 0, 0, 0, 0, 0, 0, 0, 0, 0, 0, 0, 0, 0, 0, 0, 0, 0, 0, 0, 0, 0, 0, 0, 0, 0, 0, 0, 0, 0, 0, 0, 0, 0, 0, 0, 0, 0, 0, 0, 0, 0, 0, 0, 0, 0, 0, 0, 0, 0, 0, 0, 0, 0, 0, 0, 0, 0, 0, 0, 0, 0, 0, 0, 0, 0, 0, 0, 0, 0, 0, 0, 0, 0, 0, 0, 0, 0, 0, 0, 0, 0, 0, 0, 0, 0, 0, 0, 0, 0, 0, 0, 0, 0, 0, 0, 0, 0, 0, 0, 0, 0, 0, 0, 0, 0, 0, 0, 0, 0, 0, 0, 0, 0, 0, 0, 0, 0, 0, 0, 0, 0, 0, 0, 0, 0, 0, 0, 0, 0, 0, 0, 0, 0, 0, 0, 0, 0, 0, 0, 0, 0, 0, 0, 0, 0, 0, 0, 0, 0, 0, 0, 0, 0, 0, 0, 0, 0, 0, 0, 0, 0, 0, 0, 0, 0, 0, 0, 0, 0, 0, 0, 0, 0, 0, 0, 0, 0, 0, 0, 0, 0, 0, 0, 0, 0, 0, 0, 0, 0, 0, 0, 0, 0, 0, 0, 0, 0, 0, 0, 0, 0, 0, 0, 0, 0, 0, 0, 0, 0, 0, 0, 0, 0, 0, 0, 0, 0, 0, 0, 0, 0, 0, 0, 0, 0, 0, 0, 0, 0, 0, 0, 0, 0, 0, 0, 0, 0, 0, 0, 0, 0, 0, 0, 0, 0, 0, 0, 0, 0, 0, 0, 0, 0, 0, 0, 0, 0, 0, 0, 0, 0, 0, 0, 0, 0, 0, 0, 0, 0, 0, 0, 0, 0, 0, 0, 0, 0, 0, 0, 0, 0, 0, 0, 0, 0, 0, 0, 0, 0, 0, 0, 0, 0, 0, 0, 0, 0, 0, 0, 0, 0, 0, 0, 0, 0, 0, 0, 0, 0, 0, 0, 0, 0, 0, 0, 0, 0, 0, 0, 0, 0, 0, 0, 0, 0, 0, 0, 0, 0, 0, 0, 0, 0, 0, 0, 0, 0, 0, 0, 0, 0, 0, 0, 0, 0, 0, 0, 0, 0, 0, 0, 0, 0, 0, 0, 0, 0, 0, 0, 0, 0, 0, 0, 0, 0, 0, 0, 0, 0, 0, 0, 0, 0, 0, 0, 0, 0, 0, 0, 0, 0, 0, 0, 0, 0, 0, 0, 0, 0, 0, 0, 0, 0, 0, 0, 0, 0, 0, 0, 0, 0, 0, 0, 0, 0, 0, 0, 0, 0, 0, 0, 0, 0, 0, 0, 0, 0, 0, 0, 0, 0, 0, 0, 0, 0, 0, 0, 0, 0, 0, 0, 1, 0, 0, 0, 0, 0, 0, 0, 0, 0, 0, 0, 0, 0, 0, 0, 0, 0, 0, 0, 0, 0, 0, 0, 0, 0, 0, 0, 0, 0, 0, 0, 0, 0, 0, 0, 0, 0, 0, 0, 0, 0, 0, 0, 0, 0, 0, 0, 0, 0, 0, 0, 0, 0, 0, 0, 0, 0, 0, 0, 0, 0, 0, 0, 0, 0, 0, 0, 0, 0, 0, 0, 0, 0, 0, 0, 0, 0, 0, 0, 0, 0, 0, 0, 0, 0, 0, 0, 0, 0, 0, 0, 0, 0, 0, 0, 0, 0, 0, 0, 0, 0, 0, 0, 0, 0, 0, 0, 1, 0, 0, 0, 0, 0, 0, 0, 0, 0, 0, 0, 0, 0, 0, 0, 0, 0, 0, 0, 0, 0, 0, 0, 0, 0, 0, 0, 0, 0, 0, 0, 0, 0, 0, 0, 0, 0, 0, 0, 0, 0, 0, 0, 0, 0, 0, 0, 0, 0, 0, 0, 0, 0, 0, 0, 0, 0, 0, 0, 0, 0, 0, 0, 0, 0, 0, 0, 0, 0, 0, 0, 0, 0, 0, 0, 0, 0, 0, 0, 0, 0, 0, 0, 0, 0, 0, 0, 0, 0, 0, 0, 0, 0, 0, 0, 0, 0, 0, 0, 0, 0, 0, 0, 0, 0, 0, 0, 0, 0, 0, 0, 0, 0, 0, 0, 0, 0, 0, 0, 0, 0, 0, 0, 0, 0, 0, 0, 0, 0, 0, 0, 0, 0, 0, 0, 0, 0, 0, 0, 0, 0, 0, 0, 0, 0, 0, 0, 0, 0, 0, 0, 0, 0, 0, 0, 0, 0, 0, 0, 0, 0, 0, 0, 0, 0, 0, 0, 0, 0, 0, 0, 0, 0, 0, 0, 0, 0, 0, 0, 0, 0, 0, 0, 0, 0, 0, 0, 0, 0, 0, 0, 0, 0, 0, 0, 0, 0, 0, 0, 0, 0, 0, 0, 0, 0, 0, 0, 0, 0, 0, 0, 0, 0, 0, 0, 0, 0, 0, 0, 0, 0, 0, 0, 0, 0, 0, 0, 0, 0, 0, 0, 0, 0, 0, 0, 0, 0, 0, 0, 0, 0, 0, 0, 0, 0, 0, 0, 0, 0, 0, 0, 0, 0, 0, 0, 0, 0, 0, 0, 0, 0, 0, 0, 0, 0, 0, 0, 0, 0, 0, 0, 0, 0, 0, 0, 0, 0, 0, 0, 0, 0, 0, 0, 0, 0, 0, 0, 0, 0, 0, 0, 0, 0, 0, 0, 0, 0, 0, 0, 0, 0, 0, 0, 0, 0, 0, 0, 0, 0, 0, 0, 0, 0, 0, 0, 0, 0, 0, 0, 0, 0, 0, 0, 0, 0, 0, 0, 0, 0, 0, 0, 0, 0, 0, 0, 0, 0, 0, 0, 0, 0, 0, 0, 0, 0, 0, 0, 0, 0, 0, 0, 0, 0, 0, 0, 0, 0, 0, 0, 0, 0, 0, 0, 0, 0, 0, 0, 0, 0, 0, 0, 0, 0, 0, 0, 0, 0, 0, 0, 0, 0, 0, 0, 0, 0, 0, 0, 0, 0, 0, 0, 0, 0, 0, 0, 0, 0, 0, 0, 0, 0, 0, 0, 0, 0, 0, 0, 0, 0, 0, 0, 0, 0, 0, 0, 0, 0, 0, 0, 0, 0, 0, 0, 0, 0, 0, 0, 0, 0, 0, 0, 0, 0, 0, 0, 0, 0, 0, 0, 0, 0, 0, 0, 0, 0, 0, 0, 0, 0, 0, 0, 0, 0, 0, 0, 0, 0, 0, 0, 0, 0, 0, 0, 2, 0, 1, 0]\n"
     ]
    }
   ],
   "source": [
    "test_bow = bow_encoding(test_words, vocabulary)\n",
    "print(test_bow)"
   ]
  },
  {
   "cell_type": "code",
   "execution_count": 40,
   "metadata": {},
   "outputs": [
    {
     "data": {
      "text/plain": [
       "5000"
      ]
     },
     "execution_count": 40,
     "metadata": {},
     "output_type": "execute_result"
    }
   ],
   "source": [
    "len(test_bow)"
   ]
  },
  {
   "cell_type": "markdown",
   "metadata": {},
   "source": [
    "So now we know how to construct a bag of words encoding of a user provided review, how to we send it to our endpoint? First, we need to start the endpoint back up."
   ]
  },
  {
   "cell_type": "code",
   "execution_count": 44,
   "metadata": {},
   "outputs": [
    {
     "name": "stderr",
     "output_type": "stream",
     "text": [
      "Parameter image will be renamed to image_uri in SageMaker Python SDK v2.\n",
      "Using already existing model: xgboost-2020-08-04-07-23-48-943\n"
     ]
    },
    {
     "name": "stdout",
     "output_type": "stream",
     "text": [
      "-------------!"
     ]
    }
   ],
   "source": [
    "xgb_predictor = xgb.deploy(initial_instance_count = 1, instance_type = 'ml.m4.xlarge')"
   ]
  },
  {
   "cell_type": "markdown",
   "metadata": {},
   "source": [
    "At this point we could just do the same thing that we did earlier when we tested our deployed model and send `test_bow` to our endpoint using the `xgb_predictor` object. However, when we eventually construct our Lambda function we won't have access to this object, so how do we call a SageMaker endpoint?\n",
    "\n",
    "It turns out that Python functions that are used in Lambda have access to another Amazon library called `boto3`. This library provides an API for working with Amazon services, including SageMaker. To start with, we need to get a handle to the SageMaker runtime."
   ]
  },
  {
   "cell_type": "code",
   "execution_count": 45,
   "metadata": {},
   "outputs": [],
   "source": [
    "import boto3\n",
    "\n",
    "runtime = boto3.Session().client('sagemaker-runtime')"
   ]
  },
  {
   "cell_type": "markdown",
   "metadata": {},
   "source": [
    "And now that we have access to the SageMaker runtime, we can ask it to make use of (invoke) an endpoint that has already been created. However, we need to provide SageMaker with the name of the deployed endpoint. To find this out we can print it out using the `xgb_predictor` object."
   ]
  },
  {
   "cell_type": "code",
   "execution_count": 46,
   "metadata": {},
   "outputs": [
    {
     "data": {
      "text/plain": [
       "'xgboost-2020-08-04-07-23-48-943'"
      ]
     },
     "execution_count": 46,
     "metadata": {},
     "output_type": "execute_result"
    }
   ],
   "source": [
    "xgb_predictor.endpoint # to put in lambda handler"
   ]
  },
  {
   "cell_type": "code",
   "execution_count": 50,
   "metadata": {},
   "outputs": [
    {
     "name": "stdout",
     "output_type": "stream",
     "text": [
      "{'boy': 557, 'that': 4424, 'was': 4805, 'definitely': 1162, 'one': 3107, 'of': 3083, 'the': 4426, 'worst': 4952, 'flicks': 1755, 'ive': 2372, 'seen': 3865, 'all': 187, 'summer': 4291, 'granted': 1957, 'it': 2366, 'on': 3105, 'sci': 3815, 'fi': 1701, 'and': 226, 'dont': 1324, 'watch': 4811, 'much': 2934, 'but': 636, 'man': 2721, 'talk': 4358, 'about': 67, 'thin': 4449, 'plot': 3309, 'two': 4620, 'dimensional': 1253, 'characters': 760, 'to': 4507, 'max': 2774, 'were': 4848, 'stereotypical': 4180, 'overdone': 3152, 'setting': 3900, 'unbelievable': 4634, 'vampires': 4712, 'less': 2575, 'more': 2904, 'funny': 1852, 'looking': 2648, 'gore': 1941, 'unnecessary': 4672, 'special': 4097, 'effects': 1431, 'down': 1335, 'right': 3696, 'horrible': 2163, 'ending': 1471, 'well': 4843, 'only': 3110, 'thing': 4450, 'unpredictable': 4675, 'when': 4862, 'suddenly': 4273, 'becomes': 434, 'lesbian': 2573, 'starts': 4159, 'do': 1302, 'with': 4911, 'female': 1693, 'vampire': 4711, 'which': 4867, 'by': 642, 'way': 4820, 'isnt': 2362, 'really': 3556, 'hot': 2174, 'considering': 952, 'occurs': 3078, 'for': 1784, 'three': 4469, 'seconds': 3848, 'in': 2257, 'youre': 4992, 'closer': 856, 'what': 4858, 'hell': 2077, 'then': 4436, 'thats': 4425, 'if': 2222, 'this': 4457, 'ever': 1538, 'appears': 278, 'god': 1926, 'bizarre': 492, 'forget': 1793, 'story': 4207, 'full': 1846, 'ahead': 159, 'low': 2676, 'budget': 610, 'williams': 4888, 'family': 1645, 'living': 2629, 'california': 650, 'desert': 1198, 'they': 4442, 'become': 433, 'witness': 4914, 'series': 3890, 'events': 1536, 'their': 4431, 'level': 2584, 'apparently': 270, 'theyve': 4446, 'been': 438, 'caught': 722, 'time': 4495, 'space': 4090, 'where': 4864, 'past': 3207, 'present': 3374, 'future': 1856, 'is': 2360, 'excuse': 1564, 'highly': 2105, 'amusing': 221, 'constant': 957, 'light': 2595, 'sound': 4081, 'show': 3953, 'dinosaur': 1255, 'like': 2599, 'creatures': 1046, 'have': 2052, 'at': 331, 'each': 1395, 'other': 3135, 'friendly': 1836, 'tiny': 4500, 'little': 2624, 'et': 1526, 'who': 4871, 'so': 4046, 'picture': 3269, 'does': 1308, 'off': 3084, 'imagination': 2236, 'nothing': 3047, 'else': 1448, 'very': 4723, 'nice': 3008, 'music': 2946, 'richard': 3686, 'band': 391, 'engaging': 1481, 'work': 4940, 'from': 1840, 'likes': 2602, 'david': 1124, 'allen': 188, 'william': 4887, 'cook': 988, 'peter': 3247, 'importantly': 2248, 'likable': 2598, 'are': 285, 'key': 2458, 'sense': 3877, 'child': 789, 'may': 2775, 'be': 418, 'its': 2370, 'kids': 2467, 'or': 3124, 'inside': 2297, 'many': 2732, 'us': 4690, 'able': 66, 'over': 3148, 'any': 256, 'flaws': 1752, 'narrative': 2966, 'presentation': 3375, 'found': 1811, 'hard': 2033, 'resist': 3648, 'short': 3946, 'sweet': 4336, '80': 58, 'minutes': 2859, 'decent': 1147, 'credit': 1049, 'director': 1264, 'john': 2409, 'bud': 607, 'kingdom': 2480, 'fame': 1642, 'executive': 1567, 'producer': 3415, 'charles': 764, '10': 0, 'youve': 4995, 'got': 1944, 'admire': 121, 'todd': 4510, 'his': 2118, 'drive': 1363, 'enthusiasm': 1501, 'comes': 891, 'movie': 2926, 'making': 2718, 'between': 475, '2000': 30, 'he': 2056, 'made': 2697, 'films': 1721, 'unfortunately': 4654, 'zombie': 4997, 'trilogy': 4586, 'anything': 260, 'go': 1924, 'theyre': 4445, 'probably': 3407, 'crap': 1031, 'quick': 3490, 'look': 2646, 'imdb': 2240, 'ratings': 3530, 'seems': 3864, 'my': 2951, 'part': 3193, 'sees': 3866, 'group': 1980, 'obnoxious': 3067, 'students': 4239, 'finding': 1727, 'than': 4420, 'usual': 4699, 'after': 143, 'attacked': 338, 'dead': 1132, 'escaped': 1518, 'top': 4525, 'secret': 3849, 'army': 295, 'base': 402, 'directly': 1263, 'beneath': 464, 'school': 3813, 'working': 4944, 'dreadful': 1353, 'script': 3834, 'brian': 576, 'relies': 3606, 'heavily': 2069, 'liberal': 2588, 'use': 4692, 'bomb': 531, 'delivers': 1172, 'yet': 4984, 'another': 250, 'amateurish': 207, 'effort': 1432, 'featuring': 1681, 'some': 4061, 'mind': 2849, 'awful': 372, 'performances': 3229, 'talent': 4354, 'free': 1827, 'cast': 710, 'visual': 4757, 'cgi': 740, 'looks': 2649, 'front': 1841, 'giant': 1905, 'cardboard': 682, 'trademark': 4548, 'pulled': 3462, 'victims': 4730, 'clothing': 861, 'finally': 1724, 'an': 223, 'watching': 4815, 'irritating': 2359, 'running': 3756, 'lives': 2628, 'unconvincing': 4638, 'people': 3221, 'animal': 239, 'travel': 4567, 'twist': 4617, 'forces': 1788, 'viewers': 4739, 're': 3535, 'several': 3905, 'beginning': 443, 'film': 1716, 'honestly': 2147, 'once': 3106, 'enough': 1491, 'mr': 2929, 'we': 4823, 'done': 1322, 'deserve': 1199, 'having': 2054, 'again': 146, 'day': 1129, 'italy': 2368, 'canada': 666, 'every': 1539, 'while': 4868, 'you': 4986, 'come': 886, 'across': 96, 'touches': 4535, 'offers': 3090, 'simple': 3983, 'premise': 3370, 'almost': 193, 'executed': 1565, 'incredibly': 2270, 'moving': 2928, 'same': 3778, 'surprising': 4315, 'relatively': 3600, 'even': 1533, 'hated': 2047, 'critics': 1064, 'out': 3141, 'calls': 654, 'rubbish': 3748, 'leonard': 2572, 'somewhat': 4068, 'pleasant': 3302, 'disagree': 1269, 'not': 3040, 'because': 432, 'deeply': 1156, 'within': 4912, 'shows': 3960, 'daily': 1097, 'life': 2592, 'most': 2909, 'cinematography': 820, 'bit': 488, 'bland': 500, 'storyline': 4208, 'might': 2835, 'explain': 1586, 'relative': 3599, 'late': 2523, '70s': 56, 'audiences': 353, 'werent': 4849, 'exactly': 1551, 'spoiled': 4122, 'great': 1964, 'italian': 2367, 'stranger': 4213, 'didnt': 1242, 'catch': 714, 'begins': 444, 'ten': 4399, 'minute': 2858, 'footage': 1782, 'visit': 4755, 'set': 3898, 'against': 147, 'background': 380, 'first': 1736, 'meet': 2793, 'lonely': 2643, 'love': 2669, 'ridden': 3691, 'six': 4010, 'children': 792, 'roman': 3731, 'apartment': 265, 'building': 615, 'her': 2085, 'escapes': 1519, 'she': 3923, 'meets': 2795, 'soon': 4074, 'attracted': 349, 'him': 2110, 'during': 1387, 'whole': 4873, 'hear': 2061, 'radio': 3504, 'through': 4477, 'uses': 4697, 'camera': 659, 'make': 2713, 'proceedings': 3410, 'opening': 3114, 'scene': 3809, 'block': 508, 'seemingly': 3863, 'searching': 3842, 'our': 3139, 'main': 2707, 'whom': 4875, 'havent': 2053, 'met': 2822, 'unforgettable': 4652, 'leading': 2547, 'roles': 3727, 'since': 3990, 'completely': 922, 'type': 4621, 'canadian': 667, 'born': 544, 'plays': 3301, 'husband': 2204, 'screen': 3829, 'last': 2521, 'figure': 1711, 'voice': 4761, 'must': 2950, 'dubbed': 1379, 'hes': 2093, 'descent': 1193, 'never': 3001, 'lived': 2626, 'there': 4438, 'knowledge': 2491, 'cannot': 670, 'imagine': 2238, 'speaks': 4096, 'has': 2043, 'notice': 3048, 'contrary': 974, 'believable': 453, 'as': 311, 'rest': 3657, 'extremely': 1610, 'effective': 1429, 'outstanding': 3147, 'just': 2437, 'perfect': 3224, 'doesnt': 1309, 'overly': 3155, 'pretentious': 3383, 'works': 4945, 'miss': 2866, 'loved': 2670, 'could': 1007, 'break': 569, 'into': 2332, 'tears': 4380, 'struck': 4232, 'performance': 3228, 'ray': 3533, 'especially': 1520, 'tom': 4514, 'portraying': 3343, 'twin': 4615, 'brother': 598, 'mentally': 2809, 'slow': 4031, 'due': 1382, 'tragic': 4552, 'terrible': 4407, 'childhood': 790, 'event': 1535, 'character': 758, 'though': 4461, 'knows': 2493, 'no': 3020, 'self': 3869, 'pity': 3281, 'hope': 2155, 'gave': 1875, 'needed': 2988, 'scary': 3807, 'elements': 1443, 'actors': 104, 'want': 4788, 'tell': 4395, 'anyone': 259, 'acting': 99, 'will': 4886, 'ruin': 3750, 'recommend': 3571, 'straight': 4210, 'your': 4991, 'now': 3054, 'rent': 3626, 'popcorn': 3331, 'masterpiece': 2759, 'best': 469, 'movies': 2927, 'jean': 2389, 'disturbing': 1300, 'gruesome': 1986, 'stories': 4205, 'deep': 1154, 'interest': 2323, 'directing': 1260, 'totally': 4532, 'inventive': 2341, 'spite': 4117, 'lack': 2502, 'money': 2888, 'see': 3855, 'bridge': 578, 'recommended': 3572, 'aspect': 321, 'format': 1799, 'fair': 1630, 'account': 89, 'times': 4497, 'mike': 2838, 'given': 1913, 'rape': 3521, 'charge': 761, 'careful': 688, 'portray': 3340, 'hero': 2088, 'villain': 4744, 'portrait': 3339, 'rise': 3702, 'success': 4265, 'destiny': 1212, 'good': 1937, 'bad': 382, 'limits': 2607, 'relevant': 3604, 'details': 1219, 'briefly': 580, 'significant': 3972, 'boxing': 556, 'fans': 1650, 'entertained': 1498, 'approach': 282, 'material': 2766, 'portrays': 3344, 'ultimately': 4628, 'led': 2558, 'circumstances': 822, 'own': 3158, 'fact': 1621, 'ex': 1549, 'wife': 4884, 'robin': 3715, 'gold': 1932, 'took': 4523, 'advantage': 129, 'production': 3419, 'values': 4710, 'solid': 4057, 'superb': 4296, 'michael': 2829, 'white': 4870, 'imitation': 2241, 'title': 4504, 'george': 1893, 'scott': 3824, 'teeth': 4393, 'paul': 3214, 'surely': 4309, 'play': 3296, 'don': 1320, 'king': 2479, 'saw': 3798, '40': 48, 'years': 4979, 'ago': 154, 'television': 4394, 'thought': 4462, 'depressing': 1188, 'wells': 4845, 'private': 3404, '30': 42, 'year': 4978, 'plus': 3311, 'war': 4792, 'reason': 3557, 'shown': 3959, 'british': 589, 'doing': 1312, 'concept': 930, 'co': 867, 'machines': 2694, 'real': 3547, 'stars': 4155, 'ralph': 3510, 'richardson': 3688, 'boss': 546, 'combination': 883, 'absolutely': 72, 'fabulous': 1615, 'comedy': 890, 'interesting': 2325, 'note': 3044, 'negative': 2991, 'personality': 3242, 'similar': 3978, 'liked': 2600, 'basically': 407, 'did': 1241, 'had': 2003, 'kept': 2456, 'studio': 4240, 'would': 4957, 'harder': 2035, 'develop': 1222, 'guy': 2000, 'playing': 3300, 'job': 2405, 'showing': 3958, 'someone': 4064, 'haunted': 2050, 'memories': 2803, 'also': 199, 'dialog': 1232, 'pretty': 3384, 'parts': 3199, 'can': 665, 'coming': 896, 'mile': 2842, 'away': 369, 'expect': 1575, 'turn': 4605, 'minimal': 2855, 'ghost': 1902, 'side': 3965, 'everything': 1544, 'being': 448, 'revealed': 3671, 'felt': 1692, 'amount': 219, 'started': 4157, 'drag': 1342, 'robert': 3713, 'taylor': 4372, 'mad': 2696, 'hunter': 2199, 'charlie': 765, 'thinking': 4453, 'end': 1468, 'up': 4683, 'redeeming': 3577, 'himself': 2111, 'wayne': 4821, 'james': 2378, 'stewart': 4184, 'naked': 2959, 'goes': 1930, 'along': 195, 'keeps': 2451, 'until': 4680, 'realize': 3552, 'wants': 4791, 'stop': 4201, 'hunting': 2201, 'realizes': 3554, 'gone': 1935, 'act': 97, 'killing': 2472, 'natural': 2973, 'killer': 2470, 'makes': 2716, 'animals': 240, 'human': 2188, 'beings': 449, 'indian': 2274, 'girl': 1909, 'lies': 2591, 'total': 4531, 'hates': 2048, 'wanted': 4789, 'always': 203, 'seemed': 3862, 'too': 4522, 'me': 2778, 'feel': 1684, 'soundtrack': 4085, 'favorite': 1671, 'hand': 2015, 'moves': 2925, 'occasionally': 3075, 'pace': 3161, 'manipulative': 2727, 'inducing': 2279, 'tale': 4353, 'mother': 2911, 'bette': 471, 'hip': 2114, 'erotic': 1515, 'sexy': 3911, 'whatever': 4859, 'seriously': 3892, 'cop': 991, 'saves': 3796, 'waitress': 4773, 'big': 478, 'monster': 2892, 'lead': 2545, 'actor': 103, 'ryan': 3765, 'theres': 4440, 'massacre': 2754, 'police': 3322, 'red': 3576, 'eyes': 1613, 'contains': 964, 'dialogue': 1234, 'lines': 2612, 'said': 3774, 'yourself': 4993, 'wont': 4932, 'dire': 1257, 'screenwriter': 3833, 'thank': 4421, 'hasnt': 2044, 'sold': 4052, 'thrown': 4481, 'together': 4511, 'opens': 3115, 'strip': 4228, 'bar': 396, 'sign': 3970, 'mean': 2779, 'apparent': 269, 'cops': 993, 'them': 4432, 'black': 493, 'shock': 3938, 'horror': 2168, 'gets': 1900, 'killed': 2469, 'five': 1743, 'downhill': 1336, 'next': 3007, 'hour': 2176, 'picks': 3268, 'action': 100, 'sequences': 3888, 'before': 440, 'abysmal': 76, 'competent': 917, 'whos': 4876, 'willing': 4889, 'settle': 3902, 'appear': 273, 'learning': 2552, 'how': 2181, 'supporting': 4304, 'signs': 3973, 'form': 1798, 'played': 3297, 'kane': 2442, 'famous': 1647, 'numerous': 3062, 'jason': 2383, 'friday': 1834, '13th': 5, 'used': 4693, 'speaking': 4095, 'amongst': 218, 'groups': 1981, 'teenage': 4389, 'boys': 559, 'couple': 1016, 'grand': 1953, 'tradition': 4549, 'former': 1800, 'power': 3359, 'rangers': 3517, 'actresses': 106, 'clear': 839, 'editor': 1423, 'spent': 4108, 'anyway': 261, 'feature': 1678, 'physical': 3262, 'werewolf': 4850, 'rather': 3528, 'design': 1202, 'wolf': 4920, 'plain': 3286, 'cant': 671, 'reach': 3536, 'realism': 3549, 'why': 4878, 'bother': 548, 'throw': 4479, 'extra': 1606, 'aside': 315, 'moments': 2887, 'unintentionally': 4659, 'laugh': 2529, 'better': 472, 'spend': 4105, 'please': 3304, 'remain': 3609, 'homeless': 2143, 'stupid': 4247, 'producers': 3416, 'pay': 3216, 'instead': 2307, 'worse': 4951, 'chicks': 787, 'lame': 2510, 'baby': 376, 'written': 4972, 'idea': 2213, 'still': 4188, 'wouldnt': 4958, 'original': 3129, 'rip': 3700, 'cartoon': 704, 'episode': 1507, 'involved': 2346, 'should': 3951, 'ashamed': 312, 'themselves': 4435, 'racist': 3503, 'offensive': 3086, 'sympathy': 4343, 'makers': 2715, 'fun': 1848, 'pretending': 3382, 'abandoned': 62, 'get': 1899, 'diamond': 1236, 'certain': 737, 'something': 4066, 'worth': 4953, 'huge': 2185, 'waste': 4808, '11': 2, 'presents': 3377, 'outside': 3146, 'new': 3003, 'york': 4985, 'september': 3884, '2001': 31, 'gory': 1943, 'powerful': 3360, 'treat': 4572, 'moved': 2922, 'disappointing': 1274, 'established': 1524, 'protagonist': 3441, 'young': 4989, 'individual': 2277, 'actually': 109, 'move': 2921, 'surprise': 4312, 'focus': 1766, 'relatives': 3601, 'seem': 3861, 'predictable': 3367, 'quite': 3495, 'question': 3487, 'going': 1931, 'breaking': 570, 'ground': 1979, 'compelling': 916, 'told': 4513, 'entertain': 1497, 'hours': 2177, 'technically': 4382, 'disgusting': 1286, 'shot': 3949, 'excellent': 1555, 'entertainment': 1500, 'ingredients': 2289, 'keep': 2449, 'ones': 3108, 'attention': 345, 'intrigue': 2333, 'lady': 2507, 'named': 2961, 'stevens': 4183, 'flynn': 1765, 'mission': 2870, 'fine': 1729, 'romantic': 3733, 'pair': 3176, 'anthony': 253, 'web': 4833, 'noticed': 3049, 'familiar': 1643, 'face': 1616, 'mildred': 2841, 'role': 3726, 'mrs': 2930, 'princess': 3397, 'alice': 182, 'beautifully': 429, 'filmed': 1717, 'scenery': 3810, 'ships': 3935, 'bay': 416, 'lots': 2662, 'sword': 4340, 'fighting': 1709, 'ship': 3934, 'battles': 415, 'daring': 1114, 'hood': 2151, 'board': 522, 'herself': 2092, 'heard': 2062, 'interview': 2329, 'command': 897, 'those': 4460, 'days': 1130, 'need': 2987, 'put': 3480, 'test': 4416, 'here': 2086, 'enjoyable': 1485, 'guys': 2001, 'thinks': 4454, 'already': 197, 'heads': 2059, 'jack': 2373, 'grade': 1951, 'bunch': 623, 'teens': 4392, 'sex': 3907, 'scenes': 3811, 'watched': 4813, 'nearby': 2980, 'tree': 4576, 'stuff': 4243, 'cabin': 643, 'fever': 1699, 'least': 2554, 'fall': 1637, 'asleep': 320, 'tv': 4610, 'crying': 1074, 'woody': 4936, 'around': 297, 'wrap': 4963, 'punch': 3466, 'line': 2610, 'nobody': 3022, 'however': 2183, 'closing': 859, 'intriguing': 2335, 'ideas': 2215, 'four': 1812, 'friends': 1837, 'sit': 4003, 'restaurant': 3658, 'whether': 4866, 'essence': 1521, 'drama': 1346, 'help': 2079, 'argument': 291, 'asks': 319, 'men': 2805, 'comic': 893, 'dramatic': 1348, 'tragedy': 4551, 'continue': 969, 'understanding': 4645, 'exact': 1550, 'genre': 1888, 'changes': 751, 'share': 3920, 'element': 1442, 'few': 1700, 'entirely': 1503, 'different': 1248, 'major': 2711, 'differences': 1247, 'scripted': 3835, 'parody': 3192, 'point': 3316, 'failed': 1626, 'these': 4441, 'prevent': 3385, 'audience': 352, 'feeling': 1685, 'emotional': 1459, 'obviously': 3072, 'meant': 2784, 'stand': 4143, 'without': 4913, 'adding': 117, 'tries': 4585, 'pulls': 3464, 'leave': 2555, 'theater': 4427, 'spirit': 4113, 'walked': 4776, 'wish': 4904, 'back': 378, 'romance': 3732, 'situations': 4009, 'ridiculous': 3693, 'example': 1553, 'serious': 3891, 'problems': 3409, 'german': 1896, 'english': 1483, 'father': 1666, 'prisoner': 3402, 'camp': 662, 'unique': 4662, 'position': 3345, 'deal': 1135, 'various': 4715, 'nazis': 2978, 'single': 3996, 'give': 1912, 'viewer': 4738, 'general': 1880, 'situation': 4008, 'state': 4160, 'information': 2288, 'relationships': 3598, 'others': 3136, 'party': 3200, 'hitler': 2124, 'followed': 1773, 'letter': 2581, 'often': 3095, 'certainly': 738, 'later': 2525, 'murderous': 2942, 'career': 686, 'research': 3644, 'subject': 4253, 'understand': 4643, 'allowed': 190, 'old': 3100, 'virgin': 4749, 'image': 2233, 'feels': 1687, 'urge': 4689, 'simply': 3986, 'experiences': 1582, 'women': 4923, 'unexpected': 4650, 'happens': 2029, 'falls': 1640, 'whats': 4860, 'called': 652, 'andy': 230, 'steve': 4181, 'indeed': 2271, 'store': 4204, 'figures': 1713, 'displayed': 1292, 'throughout': 4478, 'lovely': 2671, 'home': 2142, 'system': 4345, 'watches': 4814, 'survivor': 4324, 'kind': 2476, 'elderly': 1440, 'neighbors': 2994, 'definition': 1163, 'needs': 2990, 'heres': 2087, 'impossible': 2249, 'task': 4368, 'dealing': 1136, 'matter': 2769, 'cute': 1090, 'mature': 2773, 'fashion': 1659, 'easily': 1406, 'turned': 4606, 'lot': 2661, 'hands': 2020, 'team': 4378, 'filmmakers': 1720, 'endless': 1473, 'gags': 1862, 'jokes': 2415, 'thankfully': 4422, 'sure': 4308, 'aimed': 162, 'gay': 1876, 'community': 908, 'taken': 4350, 'towards': 4540, 'video': 4733, 'game': 1864, 'ultimate': 4627, 'driven': 1365, '20': 29, 'toys': 4543, 'touching': 4536, 'relate': 3593, 'teenager': 4390, 'everyone': 1542, 'looked': 2647, 'arrogant': 303, 'know': 2489, 'teen': 4388, 'afternoon': 144, 'screening': 3830, 'course': 1019, 'everyday': 1541, 'morning': 2906, 'ask': 316, 'buddies': 608, 'try': 4600, 'methods': 2825, 'opposite': 3123, 'discovered': 1280, 'fellow': 1691, 'jay': 2386, 'assume': 328, 'woman': 4921, 'couldnt': 1008, 'further': 1853, 'truth': 4599, 'loves': 2674, 'hilariously': 2107, 'flashback': 1746, 'sequence': 3887, 'laid': 2508, 'such': 4268, 'disaster': 1276, 'proved': 3446, 'date': 1118, 'leslie': 2574, 'mann': 2728, 'puts': 3481, 'drunk': 1375, 'driving': 1368, 'experience': 1580, 'think': 4452, 'creepy': 1052, 'encounter': 1466, 'elizabeth': 1445, 'eventually': 1537, 'things': 4451, 'catherine': 719, 'street': 4216, 'collection': 874, 'large': 2517, 'financial': 1725, 'weve': 4856, 'waiting': 4772, 'deals': 1137, 'issue': 2364, 'wrong': 4973, 'lets': 2580, 'forever': 1792, 'important': 2247, 'taught': 4370, 'body': 527, 'honest': 2146, 'according': 88, 'website': 4834, 'news': 3005, 'blood': 512, 'shirt': 3937, 'directed': 1259, 'starred': 4153, 'shut': 3961, 'intelligent': 2314, 'treated': 4573, 'dignity': 1252, 'respect': 3652, 'pass': 3201, 'advice': 133, 'cover': 1022, 'relationship': 3597, 'related': 3594, 'ill': 2228, 'strength': 4219, 'true': 4596, '1983': 22, '1984': 23, 'steven': 4182, 'half': 2007, 'courage': 1018, 'wisdom': 4902, 'forgotten': 1797, 'south': 4087, 'africa': 141, 'largely': 2518, 'friendship': 1838, 'dance': 1103, 'sing': 3992, 'hair': 2005, 'stood': 4199, 'ends': 1474, 'learn': 2550, 'peoples': 3222, 'magnificent': 2705, 'getting': 1901, 'necessarily': 2983, 'shooting': 3943, 'above': 68, 'both': 547, 'pain': 3170, 'endure': 1475, 'case': 707, 'contrast': 975, 'rage': 3505, 'obsession': 3070, 'creates': 1038, 'atmosphere': 333, 'halfway': 2008, 'wonder': 4926, 'possibly': 3351, 'pull': 3461, 'happy': 2032, 'hat': 2045, 'intelligence': 2313, 'sappy': 3784, 'beyond': 476, 'head': 2057, 'fiction': 1702, 'admit': 122, 'cried': 1054, 'lost': 2660, 'hit': 2122, 'close': 853, 'opened': 3113, 'tend': 4400, 'starring': 4154, 'specific': 4099, 'charm': 767, 'nowhere': 3056, 'entertaining': 1499, 'rule': 3753, 'exception': 1557, 'del': 1165, 'aka': 168, 'devils': 1229, 'possessed': 3347, 'proves': 3447, 'flick': 1754, 'sadly': 3769, 'drags': 1345, 'far': 1653, 'dull': 1384, 'evil': 1548, 'de': 1131, 'magic': 2703, 'bloody': 513, 'stay': 4166, 'learns': 2553, 'behavior': 446, 'decides': 1150, 'arms': 294, 'known': 2492, 'la': 2500, 'vs': 4767, 'say': 3799, 'mostly': 2910, 'built': 618, 'historical': 2119, 'adventure': 130, 'boring': 543, 'middle': 2833, 'resembles': 3646, '50s': 52, 'added': 116, 'name': 2960, 'giving': 1915, 'weird': 4841, 'innocent': 2294, 'etc': 1527, 'members': 2801, 'unlike': 4670, 'features': 1680, 'nudity': 3059, 'clumsy': 866, 'overall': 3150, 'dozens': 1339, 'spanish': 4092, '1973': 19, 'los': 2653, 'hanging': 2023, 'panic': 3181, 'beats': 426, '2004': 34, 'die': 1243, 'fear': 1676, 'supposed': 4306, 'leaves': 2556, 'created': 1037, 'alex': 179, 'sleazy': 4023, '80s': 59, 'connected': 945, 'tied': 4489, 'revenge': 3675, 'horrific': 2166, 'violence': 4747, 'singer': 3993, 'metal': 2823, 'wanting': 4790, 'particular': 3194, 'context': 968, 'sexual': 3908, 'murderer': 2941, 'angel': 231, 'son': 4070, 'insane': 2296, 'provides': 3450, 'editing': 1421, 'piece': 3272, 'opportunity': 3121, 'let': 2579, 'sick': 3963, 'run': 3755, 'take': 4349, 'delight': 1167, 'reached': 3537, 'ups': 4686, 'imagery': 2234, 'engage': 1479, 'personal': 3240, 'closely': 855, 'follow': 1772, 'odd': 3080, 'aint': 163, 'reminds': 3620, 'number': 3060, 'images': 2235, 'left': 2561, 'mark': 2739, 'viewed': 4737, 'particularly': 3195, 'death': 1141, 'pursuit': 3476, 'internet': 2327, 'room': 3735, 'user': 4696, 'control': 977, 'allows': 192, 'exercise': 1568, 'overlooked': 3154, 'visuals': 4759, 'using': 4698, 'city': 825, 'london': 2641, 'backdrop': 379, 'opposed': 3122, 'adds': 119, 'support': 4303, 'ok': 3098, 'classic': 835, 'guts': 1999, 'demons': 1178, 'slightly': 4029, 'remake': 3612, 'epic': 1506, 'thriller': 4472, 'visually': 4758, 'incredible': 2269, 'awesome': 371, 'burton': 630, 'calm': 655, 'world': 4946, 'wasnt': 4807, 'cool': 989, 'parallel': 3185, 'universe': 4666, 'sucks': 4271, 'hate': 2046, 'severe': 3906, 'damage': 1099, 'brain': 562, 'cure': 1081, 'taking': 4352, 'happiness': 2031, 'melting': 2799, 'trick': 4582, 'start': 4156, 'finish': 1732, 'keeping': 2450, 'disneys': 1290, 'practice': 3363, 'stealing': 4171, 'buying': 641, 'live': 2625, 'version': 4720, 'grew': 1972, 'laughs': 2534, 'entire': 1502, 'computer': 927, 'book': 535, 'gag': 1861, 'orders': 3127, 'chief': 788, 'smooth': 4041, 'talking': 4360, 'gadget': 1860, 'vehicle': 4718, 'van': 4713, 'car': 680, 'typical': 4623, 'unrealistic': 4677, 'hollywood': 2137, 'fill': 1714, 'disney': 1289, 'night': 3013, 'long': 2644, 'instant': 2305, 'perhaps': 3235, 'subtle': 4260, 'todays': 4509, 'theyll': 4444, 'grow': 1982, 'appreciation': 281, 'hotel': 2175, 'actual': 108, 'program': 3424, 'inspired': 2301, 'dick': 1239, 'powell': 3358, 'host': 2173, 'network': 3000, 'star': 4150, 'latest': 2526, 'american': 213, 'artists': 309, 'won': 4925, 'ended': 1470, 'went': 4847, 'covered': 1023, 'tony': 4521, 'thomas': 4458, 'came': 656, 'warner': 4799, 'brothers': 599, 'signed': 3971, 'contract': 973, 'lane': 2515, 'double': 1331, 'sister': 4001, 'ham': 2011, 'alan': 171, 'upon': 4684, 'civil': 826, 'develops': 1226, 'problem': 3408, 'asked': 317, 'broadcast': 591, 'singing': 3995, 'rain': 3506, 'manager': 2724, 'ted': 4386, 'johnny': 2410, 'provide': 3448, 'score': 3822, 'song': 4071, 'davis': 1126, 'hollywoods': 2138, 'im': 2232, 'fish': 1738, 'water': 4816, 'listening': 2620, 'lyrics': 2692, 'ginger': 1908, 'rogers': 3725, 'brooklyn': 595, 'sally': 3776, 'fan': 1648, 'popular': 3333, 'culture': 1079, 'choreography': 802, 'earlier': 1399, 'numbers': 3061, 'staged': 4140, 'moment': 2886, 'forced': 1787, 'jobs': 2406, 'lesson': 2577, 'place': 3282, 'owner': 3159, 'edgar': 1417, 'kennedy': 2454, 'gene': 1879, 'ensemble': 1492, 'surviving': 4323, 'member': 2800, 'small': 4033, 'died': 1244, 'became': 431, 'president': 3378, 'united': 4664, 'states': 4163, 'pat': 3208, 'eager': 1396, 'player': 3298, 'delightful': 1168, 'motion': 2913, 'dated': 1119, 'japan': 2381, 'lover': 2672, 'suicide': 4283, 'jumps': 2432, 'edward': 1426, 'albert': 174, 'laura': 2536, 'susan': 4326, 'annoying': 249, 'kid': 2464, 'house': 2178, 'murders': 2943, 'ghosts': 1903, 'makeup': 2717, 'sounds': 4084, 'hopeless': 2158, 'attack': 337, 'fake': 1635, 'swear': 4334, 'pulling': 3463, 'pointless': 3318, 'georges': 1894, 'necessary': 2984, 'silly': 3976, 'fight': 1707, 'believed': 455, 'friend': 1835, 'terrific': 4409, 'lousy': 2667, 'gives': 1914, 'save': 3794, 'documentary': 1307, 'festival': 1697, 'seat': 3845, 'cinema': 816, 'mix': 2876, 'fictional': 1703, 'amazing': 209, 'rate': 3526, 'spoilers': 4124, 'tells': 4397, 'blues': 519, 'bands': 392, 'maybe': 2776, 'dislike': 1288, 'modern': 2882, 'rock': 3720, 'songs': 4072, 'appreciate': 279, 'un': 4630, 'musical': 2947, 'taste': 4369, 'social': 4049, 'club': 863, 'standing': 4146, 'normal': 3033, 'beach': 419, 'open': 3112, 'air': 164, 'quality': 3484, 'difficult': 1249, 'enjoy': 1484, 'thousands': 4466, 'sitting': 4007, 'theatrical': 4430, 'distribution': 1298, 'dvd': 1391, 'doc': 1303, 'sad': 3767, 'bottom': 551, 'id': 2212, 'americans': 214, 'stretch': 4221, 'helps': 2082, 'explore': 1594, 'random': 3514, 'chaos': 755, 'distracting': 1297, 'subtitles': 4259, 'dollars': 1315, 'seeing': 3857, 'paris': 3189, 'effect': 1428, 'reminded': 3619, 'am': 204, 'forward': 1808, 'writer': 4968, 'notorious': 3051, 'trashy': 4566, 'pop': 3330, 'hits': 2125, 'heart': 2064, 'soul': 4079, 'decided': 1149, 'hire': 2116, 'result': 3660, 'selfish': 3870, 'twisted': 4618, 'fit': 1740, 'word': 4937, 'beaten': 424, 'hospital': 2172, 'style': 4249, 'appearance': 274, 'comments': 901, 'hype': 2207, 'mentioned': 2811, 'somebody': 4062, 'der': 1191, 'rarely': 3524, 'desperately': 1209, 'fails': 1628, 'none': 3028, 'although': 201, 'obvious': 3071, 'childish': 791, 'lengthy': 2570, 'destroy': 1213, 'motivation': 2914, 'content': 966, 'sloppy': 4030, 'based': 404, 'memory': 2804, 'freedom': 1828, 'satire': 3788, 'uninteresting': 4660, 'considered': 951, 'release': 3602, 'rotten': 3740, 'high': 2100, 'recently': 3567, 'current': 1084, 'season': 3843, 'mediocre': 2791, 'biggest': 480, 'yellow': 4981, 'press': 3379, 'newspaper': 3006, 'desperate': 1208, 'station': 4164, 'channel': 753, 'arrived': 301, 'cartoons': 705, 'therefore': 4439, 'arrival': 299, 'sets': 3899, 'feelings': 1686, 'village': 4743, 'church': 813, 'gradually': 1952, 'change': 749, 'smile': 4036, 'lips': 2615, 'bringing': 586, 'kay': 2447, 'charming': 768, 'vivid': 4760, 'per': 3223, 'masters': 2761, 'today': 4508, 'second': 3846, 'wow': 4962, 'continues': 971, 'dark': 1115, 'soap': 4047, 'opera': 3116, 'picking': 3267, 'previous': 3387, 'intensity': 2317, 'suspense': 4330, 'franchise': 1817, 'week': 4837, 'whereas': 4865, 'clearly': 840, 'von': 4765, 'eccentric': 1414, 'qualities': 3483, 'regular': 3592, 'minor': 2857, 'players': 3299, 'episodes': 1508, 'returns': 3668, 'pacing': 3163, 'sharp': 3922, 'myself': 2953, 'involve': 2345, 'constantly': 958, 'points': 3319, 'strongly': 4231, 'loud': 2664, 'unusual': 4681, 'silent': 3975, 'person': 3238, 'brings': 587, 'loaded': 2632, 'questions': 3489, 'sequel': 3885, 'scope': 3821, 'bigger': 479, 'spirits': 4115, 'subplots': 4256, 'strong': 4229, 'graphic': 1958, 'kicked': 2461, 'notch': 3043, 'developed': 1223, 'likely': 2601, 'language': 2516, 'remains': 3611, 'held': 2074, 'occasional': 3074, 'direct': 1258, 'cuts': 1091, 'under': 4639, 'truly': 4597, 'enjoyed': 1486, 'regret': 3591, 'humor': 2192, 'takes': 4351, 'relief': 3605, 'unpleasant': 4674, 'yes': 4982, 'sadistic': 3768, 'hiding': 2099, 'changed': 750, 'beloved': 461, 'bathroom': 412, 'angle': 236, 'read': 3543, 'whilst': 4869, 'writing': 4971, 'downright': 1337, 'mini': 2854, 'guess': 1989, 'popularity': 3334, 'aired': 165, 'fortunately': 1805, 'explained': 1587, 'mysterious': 2955, 'addition': 118, 'humble': 2191, 'opinion': 3118, 'belong': 459, 'finished': 1733, 'bought': 552, 'glad': 1916, 'brief': 579, 'summary': 4290, 'aspects': 322, 'lesser': 2576, 'kurt': 2499, 'era': 1513, 'missing': 2869, 'screens': 3832, 'stands': 4147, 'tall': 4362, 'cd': 728, 'merits': 2817, 'considerable': 950, 'fantasy': 1652, 'fred': 1825, 'grasp': 1960, 'segment': 3867, 'carry': 700, 'ladies': 2506, 'joan': 2404, 'june': 2433, 'ii': 2226, 'history': 2121, 'albeit': 173, 'available': 361, 'find': 1726, 'sort': 4077, 'guilty': 1995, 'pleasure': 3306, 'joe': 2407, 'walter': 4784, 'matthau': 2771, 'ability': 65, 'hearted': 2065, 'suppose': 4305, 'ways': 4822, 'shocked': 3939, 'laughed': 2532, 'actress': 105, 'spoil': 4121, 'wild': 4885, 'harris': 2038, 'roger': 3724, 'moore': 2901, 'caine': 647, 'doctor': 1304, 'married': 2744, 'beautiful': 428, 'johnson': 2411, 'trained': 4557, 'america': 212, 'slave': 4022, 'perfectly': 3226, 'trying': 4601, 'brilliant': 583, 'determined': 1221, 'prepared': 3371, 'gun': 1996, 'helped': 2080, 'trade': 4547, 'rex': 3683, 'helicopter': 2076, 'pilot': 3276, 'intense': 2316, 'involves': 2348, 'wonderful': 4928, 'miserably': 2864, 'morality': 2903, 'progress': 3425, 'faster': 1662, 'pushed': 3478, 'costume': 1005, 'recognize': 3569, 'aged': 149, 'thru': 4483, 'books': 536, 'proper': 3436, 'putting': 3482, 'outrageous': 3145, 'bitter': 491, 'busy': 635, 'sub': 4252, 'par': 3184, 'succeed': 4262, 'mildly': 2840, 'humorous': 2193, 'spots': 4132, 'means': 2783, 'lower': 2677, '90': 60, 'places': 3284, 'colors': 879, '24': 39, 'shoot': 3942, 'mill': 2845, 'struggling': 4236, 'add': 115, 'realistic': 3550, 'sent': 3880, 'avoided': 364, '60s': 54, 'adult': 125, 'appeared': 276, 'reunion': 3669, 'shortly': 3947, 'luke': 2687, 'babe': 375, 'equally': 1510, 'complete': 921, 'absence': 70, 'mention': 2810, 'reed': 3580, 'passed': 3202, '1999': 27, 'curious': 1083, 'suspect': 4327, 'alive': 186, 'either': 1438, 'discussion': 1284, 'desire': 1205, 'conversation': 980, 'otherwise': 3137, 'wonderfully': 4929, 'remember': 3616, 'walk': 4775, 'parents': 3188, 'laughing': 2533, 'million': 2847, 'capable': 672, 'speak': 4094, 'unfortunate': 4653, 'realise': 3548, 'training': 4558, 'punishment': 3467, 'novel': 3052, 'psycho': 3457, 'beating': 425, 'prison': 3401, 'cell': 730, 'useless': 4695, 'wondered': 4927, 'investigation': 2343, 'blew': 505, 'lawyer': 2541, 'illegal': 2229, 'order': 3126, 'torture': 4529, 'assault': 324, 'officer': 3092, 'walks': 4780, 'unwatchable': 4682, 'bed': 436, 'slowly': 4032, 'dreary': 1356, 'decide': 1148, 'castle': 712, 'month': 2896, 'april': 284, 'passes': 3203, 'ride': 3692, 'storm': 4206, 'hilarious': 2106, 'walker': 4778, 'satisfying': 3791, 'business': 633, 'sentimental': 3882, 'consistent': 953, 'tone': 4517, 'gangster': 1868, 'screenplay': 3831, 'oliver': 3102, 'stone': 4197, 'al': 170, 'pacino': 3164, 'memorable': 2802, '1980': 20, 'cuba': 1075, 'allow': 189, 'join': 2412, 'families': 1644, 'among': 217, 'florida': 1761, 'criminal': 1057, 'criminals': 1058, 'redemption': 3578, 'merely': 2815, 'rid': 3690, 'land': 2511, 'chicago': 785, 'ambitious': 211, 'montana': 2895, 'grown': 1984, 'boat': 523, 'wealth': 4826, 'dream': 1354, 'favor': 1670, 'frank': 1821, 'currently': 1085, 'government': 1948, 'transition': 4561, 'stage': 4139, 'wealthy': 4827, 'businessman': 634, 'return': 3665, 'released': 3603, 'holding': 2130, 'gain': 1863, 'equivalent': 1512, 'wing': 4896, 'satisfied': 3789, 'cold': 872, 'iron': 2354, 'cost': 1003, 'price': 3389, 'step': 4175, 'vision': 4754, 'larger': 2519, 'accent': 78, 'thoroughly': 4459, 'attitude': 346, 'convincing': 985, 'niro': 3019, 'sympathetic': 4342, 'nor': 3032, 'presence': 3373, 'emotionally': 1460, 'dynamic': 1394, 'michelle': 2830, 'path': 3209, 'elvira': 1450, 'understated': 4646, 'distant': 1295, 'fairly': 1631, 'includes': 2263, 'mary': 2751, 'abraham': 69, 'recent': 3566, 'blow': 514, 'climactic': 848, 'reminiscent': 3621, 'originally': 3131, 'saga': 3773, 'edge': 1418, 'learned': 2551, 'lessons': 2578, 'valuable': 4708, 'french': 1830, 'prisoners': 3403, 'wall': 4781, 'serial': 3889, 'somehow': 4063, 'leaving': 2557, 'discover': 1279, 'arts': 310, 'horrifying': 2167, 'deliver': 1169, 'despite': 1211, 'smoking': 4040, 'call': 651, 'insult': 2309, 'hideous': 2098, 'madonna': 2699, 'shes': 3930, 'warned': 4798, 'literally': 2622, 'hurts': 2203, 'poorly': 3329, 'delivered': 1170, 'description': 1197, 'photography': 3260, 'inept': 2281, 'lighting': 2596, 'horrid': 2165, 'basic': 406, 'seek': 3858, 'contrived': 976, 'snow': 4045, 'except': 1556, 'near': 2979, 'superbly': 4297, 'acted': 98, 'breathtaking': 574, 'practically': 3362, 'sea': 3838, 'tension': 4404, 'worked': 4941, 'manhattan': 2726, 'park': 3190, 'hall': 2009, 'mayor': 2777, 'doors': 1329, 'speech': 4102, 'african': 142, 'kevin': 2457, 'devoted': 1231, 'attempted': 341, 'danny': 1112, 'mob': 2879, 'choices': 798, 'fantastic': 1651, 'nyc': 3065, 'stops': 4203, 'delivering': 1171, 'surprises': 4314, '2005': 35, 'wacky': 4769, 'perfection': 3225, 'brosnan': 597, 'noble': 3021, 'corporate': 998, 'rich': 3685, 'mid': 2832, 'crisis': 1060, 'planned': 3290, 'mexican': 2826, 'runs': 3757, 'luck': 2681, 'losing': 2658, 'cheese': 780, 'hardly': 2036, 'common': 906, 'chain': 741, 'laurel': 2537, 'hardy': 2037, 'fool': 1779, 'trouble': 4592, 'mistake': 2871, 'decade': 1144, 'immediately': 2242, 'youd': 4987, 'forgive': 1795, 'cinemas': 817, 'endearing': 1469, 'oscar': 3133, 'consider': 949, 'thoughts': 4464, 'bond': 532, 'manages': 2725, 'lose': 2654, 'toward': 4539, 'turns': 4609, 'thumbs': 4485, 'birthday': 487, 'bedroom': 437, 'reaches': 3538, 'depth': 1190, 'emotion': 1458, 'stylish': 4251, 'gem': 1877, 'possible': 3350, 'favourite': 1673, 'parker': 3191, 'library': 2589, 'student': 4238, 'buy': 640, 'poster': 3353, 'hang': 2022, 'disappointed': 1273, 'fired': 1735, 'thus': 4486, 'sensitive': 3879, 'racism': 3502, 'country': 1014, 'mainly': 2708, 'bits': 490, 'town': 4541, 'center': 732, 'progresses': 3426, 'poignant': 3315, 'lifestyle': 2593, 'credibility': 1047, 'hold': 2129, 'bergman': 466, 'suit': 4284, 'international': 2326, 'intentions': 2321, 'green': 1971, 'phony': 3256, 'angeles': 233, 'casting': 711, 'agents': 151, 'ie': 2221, 'blonde': 511, 'dumb': 1385, 'finds': 1728, 'teaching': 4377, 'nation': 2969, 'turning': 4608, 'initially': 2291, 'sudden': 4272, 'loose': 2650, 'obsessed': 3069, 'taxi': 4371, 'driver': 1366, 'battle': 414, 'villains': 4745, 'attempt': 340, 'reveals': 3673, 'itself': 2371, 'psychotic': 3459, 'paranoia': 3186, 'leader': 2546, 'interested': 2324, 'girlfriend': 1910, 'lacks': 2505, 'development': 1225, 'walking': 4779, 'draw': 1349, 'concerns': 934, 'accepted': 82, 'twenty': 4612, 'thirty': 4456, 'wasted': 4809, 'fears': 1677, 'behind': 447, 'code': 869, 'tarzan': 4367, 'mate': 2765, 'remarkable': 3613, 'exposed': 1598, 'flesh': 1753, 'nude': 3058, 'swim': 4337, 'pushing': 3479, 'nature': 2975, 'exciting': 1563, 'jungle': 2434, '30s': 44, '40s': 49, 'attacks': 339, 'apes': 267, 'manage': 2722, 'create': 1036, 'throwing': 4480, 'win': 4892, 'awards': 367, 'adequate': 120, 'stolen': 4195, 'monkey': 2890, 'examples': 1554, 'pre': 3365, 'sat': 3786, 'turkey': 4604, 'hadnt': 2004, 'sounded': 4082, 'potential': 3355, 'wind': 4893, 'trees': 4577, 'bright': 581, 'visible': 4753, 'arent': 288, 'sunshine': 4294, 'conventional': 979, 'lovers': 2673, 'marriage': 2743, 'relation': 3595, 'period': 3236, 'newly': 3004, 'wed': 4835, 'spell': 4104, 'quiet': 3492, 'dialogs': 1233, 'appropriate': 283, 'direction': 1261, 'bollywood': 530, 'offer': 3087, 'clean': 838, 'countless': 1012, 'batman': 413, 'partner': 3198, 'wounded': 4961, 'law': 2538, 'says': 3801, 'telling': 4396, 'letting': 2583, 'kissing': 2484, 'fooled': 1780, 'kiss': 2483, 'convincingly': 986, 'okay': 3099, 'paltrow': 3178, 'detail': 1217, 'jeremy': 2394, 'smiling': 4037, 'enjoyment': 1488, 'load': 2631, 'anderson': 227, 'road': 3709, 'sentence': 3881, 'cheap': 774, 'tried': 4584, 'chance': 747, 'cinematic': 818, 'techniques': 4384, 'landscape': 2513, 'capturing': 679, 'wearing': 4831, 'wrapped': 4964, 'shoes': 3941, 'ease': 1404, 'comfortable': 892, 'chooses': 800, 'sexually': 3910, 'seeks': 3860, 'holds': 2131, 'shame': 3918, 'facts': 1624, 'primary': 3394, 'chances': 748, 'fate': 1665, 'follows': 1775, 'yeah': 4977, 'cliché': 844, 'funeral': 1849, 'pick': 3265, 'theatre': 4429, 'singers': 3994, 'clichés': 846, 'jail': 2376, 'religion': 3607, 'carries': 699, 'overlook': 3153, 'sometimes': 4067, 'simplistic': 3985, 'notes': 3046, 'button': 639, 'ian': 2209, 'ball': 388, 'standard': 4144, 'fare': 1655, 'loving': 2675, 'curiosity': 1082, 'talents': 4356, 'guard': 1988, 'hank': 2024, 'dirty': 1268, 'tense': 4403, 'alone': 194, 'jennifer': 2392, 'neil': 2995, 'commentary': 899, 'blowing': 515, 'public': 3460, 'thanks': 4423, 'seven': 3903, 'aging': 153, 'incoherent': 2265, 'tedious': 4387, 'rated': 3527, 'judge': 2424, 'following': 1774, 'virus': 4752, 'designed': 1203, 'frustrated': 1842, 'sends': 3876, 'enters': 1496, 'eye': 1611, 'access': 83, 'patient': 3211, 'neck': 2985, 'skin': 4015, 'crack': 1027, 'blind': 506, 'expert': 1585, 'device': 1227, 'causes': 725, 'burning': 627, 'remote': 3622, 'stopped': 4202, 'broken': 594, 'feet': 1688, 'oh': 3096, 'dear': 1140, 'fitting': 1742, 'attractive': 351, 'male': 2719, 'heroine': 2091, 'parent': 3187, 'troubles': 4594, 'classical': 836, 'send': 3875, 'message': 2819, 'minded': 2850, 'recall': 3562, 'quote': 3496, 'holly': 2136, 'insulting': 2310, 'third': 4455, 'portrayed': 3342, 'reasonably': 3559, 'amy': 222, '1930s': 11, 'keaton': 2448, 'catches': 715, 'steal': 4170, 'pet': 3246, 'health': 2060, 'crime': 1055, 'early': 1400, 'age': 148, 'via': 4726, 'meanwhile': 2785, 'rival': 3706, 'lord': 2652, 'ranks': 3519, 'younger': 4990, 'attorney': 348, 'expected': 1577, 'loses': 2657, 'cagney': 646, 'impression': 2252, 'jr': 2423, 'clark': 832, 'aware': 368, 'billy': 482, 'bill': 481, 'justify': 2439, 'christmas': 810, 'extended': 1604, 'vacation': 4704, 'greatest': 1966, 'separate': 3883, 'bring': 585, 'care': 684, 'brought': 600, 'poor': 3328, 'grave': 1962, 'equal': 1509, 'americas': 215, 'upper': 4685, 'class': 833, 'happen': 2026, 'positive': 3346, 'dreams': 1355, 'plenty': 3307, 'hopes': 2159, 'individuals': 2278, 'pack': 3165, 'beliefs': 452, 'expressed': 1601, 'faith': 1633, 'rank': 3518, 'honesty': 2148, 'deserves': 1201, 'zero': 4996, 'integrity': 2311, 'struggles': 4235, 'smart': 4035, 'tim': 4494, 'robbins': 3712, 'magical': 2704, 'besides': 468, '13': 4, 'months': 2897, 'angry': 238, 'wooden': 4934, 'non': 3027, 'existent': 1572, 'merit': 2816, 'unless': 4669, 'couldve': 1009, 'concerned': 932, 'prequel': 3372, 'cat': 713, 'videos': 4734, 'dude': 1381, 'mouth': 2920, 'dancing': 1107, 'mario': 2738, 'surprised': 4313, 'gonna': 1936, 'skills': 4014, 'appreciated': 280, 'energy': 1478, 'efforts': 1433, 'clue': 864, '2nd': 41, 'cash': 709, 'failure': 1629, 'fell': 1690, 'earned': 1401, 'wouldve': 4959, 'hbo': 2055, 'suggests': 4282, 'suggest': 4280, 'adaptation': 113, 'holmes': 2139, 'matt': 2768, 'dawn': 1127, 'scarecrow': 3804, 'uncomfortable': 4637, 'gray': 1963, 'artificial': 306, 'wore': 4939, 'traditional': 4550, 'dress': 1357, 'painful': 3171, 'outfit': 3144, 'listen': 2619, 'overacting': 3149, 'russell': 3761, 'dog': 1310, 'awfully': 373, 'witnesses': 4916, 'talks': 4361, 'childrens': 793, 'interpretation': 2328, 'including': 2264, 'heston': 2094, 'jones': 2418, 'murder': 2939, 'wrote': 4974, 'suspects': 4328, 'explaining': 1588, 'compare': 911, 'jim': 2402, 'miles': 2843, 'below': 462, 'columbo': 881, 'fault': 1668, 'bbc': 417, 'accents': 79, 'spot': 4131, 'ken': 2453, 'compared': 912, 'credible': 1048, 'clues': 865, 'faces': 1618, 'suspicious': 4332, 'superman': 4301, 'cut': 1089, 'photos': 3261, 'existed': 1570, 'page': 3167, 'unable': 4631, 'restored': 3659, 'winning': 4898, 'nightmare': 3014, 'imagined': 2239, 'thrill': 4471, 'project': 3427, 'text': 4419, 'graphics': 1959, 'trial': 4580, 'hey': 2095, 'neat': 2982, 'alright': 198, 'convince': 983, 'supposedly': 4307, 'whose': 4877, 'tag': 4348, 'youll': 4988, 'believe': 454, 'fly': 1763, 'productions': 3420, 'holes': 2133, 'intent': 2318, 'coherent': 871, 'viewing': 4740, 'faithful': 1634, 'moon': 2900, 'ironically': 2356, 'edited': 1420, 'bus': 631, 'brando': 566, 'highlights': 2104, 'jumping': 2431, 'served': 3894, 'section': 3853, 'nonsensical': 3031, 'inferior': 2285, 'alternate': 200, 'decisions': 1152, 'planet': 3289, 'jackie': 2374, 'cooper': 990, 'lights': 2597, 'confused': 941, 'filled': 1715, 'questionable': 3488, 'mess': 2818, 'pride': 3391, 'military': 2844, 'noted': 3045, 'elsewhere': 1449, 'bears': 421, 'honor': 2150, 'dropped': 1370, 'final': 1722, 'product': 3418, 'affair': 135, 'easier': 1405, 'essentially': 1523, 'bonus': 534, 'disc': 1278, 'legendary': 2565, 'initial': 2290, 'dust': 1388, 'realized': 3553, 'bold': 528, 'managed': 2723, 'remembered': 3617, 'weak': 4824, 'miserable': 2863, 'wondering': 4930, '1st': 28, 'flop': 1760, 'committed': 905, 'knife': 2487, 'throat': 4476, 'agent': 150, 'stupidity': 4248, 'joke': 2414, 'continuity': 972, 'instance': 2304, 'lying': 2690, 'bride': 577, 'area': 286, 'asking': 318, 'write': 4967, 'comment': 898, 'vicious': 4728, 'western': 4853, 'central': 735, 'theme': 4433, 'west': 4852, 'march': 2734, 'andrew': 228, 'incomprehensible': 2267, 'heroes': 2089, 'chris': 806, 'fire': 1734, 'treatment': 4574, 'womans': 4922, 'reaction': 3541, 'afterwards': 145, 'ring': 3698, 'nasty': 2968, 'typically': 4624, 'sheriff': 3929, 'survived': 4322, 'stinker': 4191, 'joined': 2413, 'midnight': 2834, 'cult': 1077, 'debut': 1143, 'begin': 442, 'theaters': 4428, 'ready': 3546, 'unbelievably': 4635, 'youth': 4994, 'neo': 2998, 'hooked': 2153, 'drugs': 1374, 'notion': 3050, 'structure': 4233, 'amateur': 206, 'bored': 541, 'gang': 1867, 'falling': 1639, 'burn': 625, 'garbage': 1870, 'moral': 2902, 'influenced': 2287, 'larry': 2520, 'filmmaker': 1719, 'stick': 4185, 'force': 1786, 'brains': 563, 'yelling': 4980, 'technique': 4383, 'recording': 3575, 'appalling': 268, 'freak': 1824, 'bound': 553, 'protagonists': 3442, 'fetched': 1698, 'minimum': 2856, 'gritty': 1977, 'damn': 1100, 'leads': 2548, 'exists': 1573, 'directors': 1266, 'profound': 3423, 'hatred': 2049, 'benefit': 465, 'promising': 3433, 'brazil': 568, 'eyed': 1612, 'porn': 3336, 'interviews': 2330, 'proof': 3434, 'highlight': 2103, 'exist': 1569, 'everywhere': 1545, 'prove': 3445, 'saying': 3800, 'boredom': 542, 'reasons': 3560, 'manner': 2729, 'buried': 624, 'adults': 126, 'showed': 3956, 'river': 3707, 'destroyed': 1214, 'shots': 3950, 'dad': 1095, 'evening': 1534, 'molly': 2884, 'swimming': 4338, 'bank': 394, 'nurse': 3063, 'dies': 1245, 'independent': 2272, 'lion': 2614, 'toy': 4542, 'successful': 4266, 'dentist': 1180, 'smith': 4038, 'daughter': 1121, 'empty': 1465, 'ordinary': 3128, 'college': 875, 'adam': 111, 'sandler': 3781, 'depressed': 1187, 'cares': 690, 'plane': 3288, 'crash': 1033, 'nearly': 2981, 'mentions': 2813, 'violent': 4748, 'deceased': 1146, 'anger': 235, 'sadness': 3770, 'impressive': 2253, 'psychiatrist': 3455, 'crush': 1072, 'box': 555, 'office': 3091, 'disappointment': 1275, 'reviews': 3679, 'locations': 2636, 'transfer': 4559, 'digital': 1251, 'photo': 3257, 'montage': 2894, 'expecting': 1578, 'audio': 354, 'track': 4544, 'underrated': 4642, 'pictures': 3270, 'wedding': 4836, 'selling': 3873, 'saturday': 3792, 'nights': 3016, 'weeks': 4839, 'cable': 644, 'weekend': 4838, 'witnessed': 4915, 'terribly': 4408, 'attraction': 350, 'sinister': 3998, 'eric': 1514, 'brown': 601, 'scared': 3805, 'reactions': 3542, 'junk': 2436, 'subplot': 4255, 'planning': 3291, 'older': 3101, 'clothes': 860, 'spoiler': 4123, 'warning': 4800, 'credits': 1050, 'teachers': 4376, 'dinner': 1254, 'cruise': 1071, 'triumph': 4590, 'risk': 3704, 'appeal': 271, 'comedies': 889, 'teenagers': 4391, 'helping': 2081, 'actions': 101, 'beatty': 427, 'slight': 4027, 'cage': 645, 'island': 2361, 'stock': 4193, 'renting': 3629, 'picked': 3266, 'strange': 4211, 'food': 1778, 'gross': 1978, 'trash': 4565, 'freddy': 1826, 'safety': 3772, 'slasher': 4020, 'unseen': 4678, 'choice': 797, 'explanation': 1590, 'naturally': 2974, 'attempts': 343, 'identity': 2217, 'winds': 4895, 'process': 3412, 'oddly': 3081, 'classes': 834, 'murdered': 2940, 'factor': 1622, 'prior': 3400, 'knew': 2486, 'logical': 2639, 'chases': 771, 'hundreds': 2196, 'womens': 4924, 'measure': 2786, 'happened': 2027, 'morgan': 2905, 'freeman': 1829, 'contain': 962, 'complex': 923, 'plots': 3310, 'easy': 1410, 'petty': 3249, 'sides': 3967, 'laughter': 2535, 'rare': 3523, 'buddy': 609, 'mine': 2853, 'usually': 4700, 'cousin': 1021, 'funnier': 1850, 'drink': 1361, 'twice': 4613, 'balls': 390, 'stayed': 4167, 'frankly': 1823, 'causing': 726, 'cared': 685, 'believing': 457, 'hello': 2078, 'trip': 4588, 'asian': 314, 'demented': 1176, 'themes': 4434, 'elephant': 1444, 'composed': 926, '12': 3, 'monkeys': 2891, 'underlying': 4641, 'reflection': 3585, 'terry': 4415, 'plague': 3285, 'earth': 1403, 'survivors': 4325, 'underground': 4640, 'affected': 137, 'willis': 4890, '90s': 61, 'investigate': 2342, 'whoever': 4872, 'scientists': 3819, 'inevitable': 2282, 'cole': 873, 'striking': 4226, 'latter': 2528, 'ironic': 2355, 'highest': 2102, 'airport': 167, 'armed': 293, 'visits': 4756, 'reality': 3551, 'escape': 1517, 'avoid': 363, 'scientist': 3818, 'peters': 3248, 'responsible': 3656, 'disease': 1285, 'understood': 4647, 'regarding': 3589, 'masterpieces': 2760, 'crew': 1053, 'versus': 4722, 'hundred': 2195, 'monsters': 2893, 'worthwhile': 4955, 'routine': 3743, 'france': 1816, 'consistently': 954, 'results': 3662, 'desperation': 1210, 'displays': 1293, 'status': 4165, 'sight': 3969, 'journalist': 2420, 'ya': 4976, 'absurd': 73, 'wishes': 4906, 'requires': 3642, 'farce': 1654, 'sitcom': 4004, 'timing': 4498, '2003': 33, 'martin': 2748, 'mafia': 2700, 'wake': 4774, 'genuine': 1891, 'polanski': 3321, 'award': 366, 'jonathan': 2417, 'round': 3742, 'sky': 4017, 'barry': 401, 'norman': 3035, 'jamie': 2379, 'bob': 524, 'happily': 2030, 'opinions': 3119, 'losers': 2656, 'location': 2635, 'sports': 4130, 'oscars': 3134, 'handed': 2016, 'animated': 241, 'deserved': 1200, 'academy': 77, 'becoming': 435, 'agree': 155, 'category': 718, 'politics': 3326, 'clint': 850, 'eastwood': 1409, 'hed': 2072, 'bull': 619, 'dollar': 1314, 'split': 4120, 'controversial': 978, 'ignore': 2224, 'genuinely': 1892, 'sake': 3775, 'vote': 4766, 'hearts': 2066, 'draws': 1352, 'samurai': 3779, 'century': 736, 'tales': 4357, 'mundane': 2938, 'timeless': 4496, 'buff': 611, 'unhappy': 4656, 'loser': 2655, 'luckily': 2682, '15': 7, 'awkward': 374, 'whatsoever': 4861, 'miracle': 2860, 'remaining': 3610, 'copies': 992, 'sam': 3777, 'worthy': 4956, 'ben': 463, 'arthur': 305, '100': 1, 'wound': 4960, 'intended': 2315, 'christian': 808, 'rights': 3697, 'utterly': 4702, 'fail': 1625, 'purpose': 3474, 'ugly': 4625, 'creating': 1039, 'couples': 1017, 'struggle': 4234, 'society': 4050, 'tired': 4501, 'stereotypes': 4179, 'crude': 1069, 'marry': 2745, 'laws': 2540, 'victor': 4731, 'christians': 809, 'kill': 2468, 'daniel': 1111, 'lewis': 2586, 'saved': 3795, 'inane': 2258, 'complain': 919, 'confusing': 942, 'sounding': 4083, 'ed': 1415, 'cake': 648, 'suffice': 4279, 'bullet': 620, '17': 9, 'pathetic': 3210, 'rented': 3628, 'hoped': 2156, 'false': 1641, 'view': 4736, 'football': 1783, 'raise': 3507, 'stuck': 4237, 'christ': 807, 'chaplin': 756, 'persona': 3239, 'lacked': 2503, 'exceptionally': 1559, 'vague': 4705, 'race': 3499, 'sneak': 4043, 'chased': 770, 'steals': 4172, 'forgettable': 1794, 'similarly': 3980, 'harsh': 2040, 'ensues': 1493, 'perform': 3227, 'depicting': 1184, 'admittedly': 123, 'useful': 4694, 'depicted': 1183, 'somewhere': 4069, 'conclusion': 936, 'accept': 80, 'suffers': 4278, 'suffer': 4275, 'official': 3094, 'abuse': 74, 'spends': 4107, 'everybody': 1540, 'amounts': 220, 'hence': 2083, 'sorry': 4076, 'closed': 854, 'slap': 4018, 'francis': 1818, 'horse': 2170, 'mysteries': 2954, 'sidekick': 3966, 'hearing': 2063, 'sid': 3964, 'blend': 504, 'types': 4622, 'beat': 423, 'adapted': 114, 'matters': 2770, 'chemistry': 782, 'essential': 1522, 'writers': 4969, 'confidence': 938, 'quickly': 3491, 'rules': 3754, 'jeff': 2390, 'brilliance': 582, 'crazy': 1035, 'eight': 1436, 'comical': 894, 'gabriel': 1859, 'lake': 2509, 'burt': 629, 'reynolds': 3684, 'decision': 1151, 'survival': 4320, 'evident': 1547, 'breath': 573, 'voight': 4764, 'cox': 1026, 'widely': 4881, 'australia': 356, 'dramas': 1347, 'produced': 3414, 'anywhere': 263, 'raw': 3532, 'shy': 3962, 'darker': 1116, 'ran': 3513, 'seasons': 3844, 'sell': 3871, 'loss': 2659, 'limited': 2606, 'length': 2569, 'candy': 668, 'european': 1530, 'lie': 2590, 'protect': 3443, 'ticket': 4487, 'stellar': 4174, 'mystery': 2956, 'anyways': 262, 'grab': 1949, 'tea': 4373, 'acceptable': 81, 'disappoint': 1272, 'heights': 2073, 'charismatic': 763, 'directs': 1267, 'knowing': 2490, 'climax': 849, 'humour': 2194, 'twists': 4619, 'thrills': 4475, 'loads': 2633, 'screams': 3828, 'speed': 4103, 'tongue': 4518, 'cheek': 779, 'accidentally': 85, 'surfing': 4311, 'korean': 2495, 'hong': 2149, 'kong': 2494, 'fresh': 1833, 'tricks': 4583, 'witty': 4917, 'enemies': 1476, 'caring': 691, 'realizing': 3555, 'pure': 3471, 'distinct': 1296, 'dances': 1106, 'accompanied': 86, 'showdown': 3955, 'embarrassed': 1453, 'san': 3780, 'list': 2617, 'carrey': 696, 'target': 4366, 'mood': 2898, 'crappy': 1032, 'mighty': 2836, 'fest': 1696, 'cliche': 843, 'seventies': 3904, 'eighties': 1437, 'formula': 1802, 'laughable': 2530, 'bruce': 602, 'campbell': 663, 'atrocious': 335, 'goodness': 1938, 'jackson': 2375, 'sue': 4274, 'build': 614, 'terror': 4412, 'superior': 4300, 'eg': 1434, 'scares': 3806, 'jesse': 2397, 'reputation': 3640, 'settings': 3901, 'expectations': 1576, 'flashbacks': 1747, 'environment': 1505, 'extreme': 1609, 'drug': 1373, 'generally': 1881, 'fast': 1661, 'normally': 3034, 'perspective': 3245, 'notably': 3042, 'projects': 3428, 'mentioning': 2812, 'rating': 3529, 'scores': 3823, 'chest': 784, 'names': 2963, 'bet': 470, 'suspend': 4329, 'disbelief': 1277, 'justin': 2440, 'blame': 499, 'badly': 383, 'developing': 1224, 'terms': 4406, 'apart': 264, 'impact': 2244, 'nonetheless': 3029, 'passing': 3204, 'effectively': 1430, 'tape': 4365, 'art': 304, 'copy': 994, 'legend': 2564, '1980s': 21, 'gift': 1906, 'aunt': 355, 'hanks': 2025, 'games': 1865, 'lovable': 2668, 'enter': 1494, 'anti': 254, 'religious': 3608, 'folk': 1770, 'satan': 3787, 'mental': 2808, 'dragon': 1344, 'creature': 1045, 'intentionally': 2320, 'illness': 2230, 'hudson': 2184, 'saving': 3797, 'hoping': 2160, 'convey': 982, 'sunday': 4293, 'absolute': 71, 'tear': 4379, 'stephen': 4176, 'kings': 2481, 'terrifying': 4410, 'educational': 1425, 'strictly': 4223, 'mindless': 2851, 'racial': 3501, 'sarah': 3785, 'achieve': 92, 'dinosaurs': 1256, 'wait': 4770, 'stretched': 4222, 'nostalgic': 3039, 'flat': 1748, 'satisfy': 3790, 'semi': 3874, 'chess': 783, 'motives': 2916, 'thrillers': 4473, 'produce': 3413, 'value': 4709, 'utter': 4701, 'wasting': 4810, 'thrilling': 4474, 'akshay': 169, 'needless': 2989, 'slapstick': 4019, 'noise': 3024, 'clips': 852, 'mere': 2814, 'kapoor': 2443, 'multi': 2935, 'impress': 2250, 'girls': 1911, '45': 50, '60': 53, 'increasingly': 2268, 'stale': 4141, 'appealing': 272, 'survive': 4321, 'doubts': 1333, 'revolution': 3680, 'arrive': 300, 'annie': 247, 'link': 2613, 'model': 2880, 'washington': 4806, 'captain': 674, 'indians': 2275, 'plan': 3287, 'kick': 2460, 'donald': 1321, 'butt': 638, 'hugh': 2186, 'thick': 4447, 'painting': 3175, 'soldier': 4053, 'hide': 2097, 'cause': 723, 'lowest': 2678, 'league': 2549, 'post': 3352, 'remarkably': 3614, 'bleak': 503, 'mgm': 2828, 'convinced': 984, 'trail': 4553, 'stronger': 4230, 'meat': 2787, 'dan': 1102, 'mitchell': 2875, 'shelley': 3928, 'winters': 4901, 'curtis': 1087, 'maggie': 2702, 'pieces': 3273, 'beauty': 430, 'mothers': 2912, 'disturbed': 1299, 'believes': 456, 'daughters': 1122, 'fortune': 1806, 'square': 4136, 'hole': 2132, 'destruction': 1216, 'precious': 3366, 'purely': 3472, 'horrendous': 2162, 'bargain': 400, 'basement': 405, 'remarks': 3615, 'chan': 746, 'suffered': 4276, 'dying': 1393, 'eat': 1411, 'soft': 4051, 'core': 995, 'clever': 841, 'feed': 1683, 'cultural': 1078, 'references': 3583, 'obscure': 3068, 'universal': 4665, 'experiments': 1584, 'secrets': 3852, 'frequently': 1832, 'theyd': 4443, 'field': 1704, 'cheesy': 781, 'rooms': 3736, 'misses': 2868, 'uncle': 4636, 'hal': 2006, 'combined': 885, 'string': 4227, 'carl': 692, 'lifetime': 2594, 'navy': 2976, 'master': 2757, 'doubt': 1332, 'local': 2634, 'chose': 804, 'homosexual': 2145, 'average': 362, 'blank': 501, 'connection': 946, 'choose': 799, 'happening': 2028, 'blond': 510, 'blah': 496, 'excitement': 1562, 'boyfriend': 558, 'guarantee': 1987, 'remotely': 3623, 'conflict': 939, 'activities': 102, 'topless': 4527, 'enjoying': 1487, 'wanna': 4786, 'refuses': 3587, 'issues': 2365, 'incompetent': 2266, 'handled': 2019, 'doctors': 1305, 'count': 1010, 'trust': 4598, 'yesterday': 4983, 'fallen': 1638, 'trap': 4563, 'matrix': 2767, 'versions': 4721, 'davies': 1125, 'hoffman': 2128, 'match': 2762, 'drawn': 1351, 'overcome': 3151, 'poverty': 3357, 'brilliantly': 584, 'capture': 676, 'movement': 2923, 'importance': 2246, 'cowboy': 1025, 'brave': 567, 'influence': 2286, 'sucked': 4270, 'meaning': 2780, 'figured': 1712, 'succeeded': 4263, 'intimate': 2331, 'horrors': 2169, 'vice': 4727, 'multiple': 2936, 'justice': 2438, 'laughably': 2531, 'exaggerated': 1552, 'union': 4661, 'workers': 4943, 'strike': 4224, 'truck': 4595, 'explosions': 1597, 'skill': 4013, 'color': 877, 'concert': 935, 'someones': 4065, 'ego': 1435, 'crowd': 1067, 'performed': 3230, 'baker': 385, 'cinderella': 815, 'fairy': 1632, 'captivating': 675, 'coach': 868, 'gorgeous': 1942, 'jerry': 2396, 'scenario': 3808, 'melodrama': 2797, 'wicked': 4879, 'menace': 2806, 'nicely': 3009, 'segments': 3868, 'reveal': 3670, 'personalities': 3241, 'kelly': 2452, 'dancers': 1105, 'quirky': 3493, 'ballet': 389, 'choreographed': 801, 'opportunities': 3120, 'kills': 2474, 'retarded': 3663, 'fat': 1663, 'paying': 3217, 'screaming': 3827, 'chair': 742, 'barely': 399, 'stomach': 4196, 'plant': 3293, 'leg': 2562, 'japanese': 2382, 'fields': 1705, 'fifteen': 1706, 'promised': 3431, 'portrayal': 3341, 'alien': 183, 'captures': 678, 'goofy': 1939, 'record': 3573, 'bumbling': 622, 'idiot': 2218, 'seeking': 3859, 'explicit': 1591, 'express': 1600, 'nine': 3017, '1970s': 17, 'wars': 4804, 'queen': 3485, 'appearances': 275, 'anime': 243, 'included': 2262, 'possibility': 3349, 'mechanical': 2788, 'bodies': 526, 'cruel': 1070, 'train': 4556, 'expensive': 1579, 'resemblance': 3645, 'condition': 937, 'journey': 2421, 'bothered': 549, 'rushed': 3760, 'include': 2261, 'animation': 242, 'detailed': 1218, 'dub': 1378, 'excited': 1561, 'shadows': 3913, 'claire': 831, 'suitable': 4285, 'deeper': 1155, 'messages': 2820, 'headed': 2058, 'naive': 2958, 'humans': 2190, 'stays': 4169, 'answer': 251, 'growing': 1983, 'decades': 1145, 'unknown': 4668, 'term': 4405, 'describe': 1194, 'corny': 997, 'shell': 3927, 'difference': 1246, 'impressed': 2251, 'lees': 2560, 'machine': 2693, 'packed': 3166, 'warn': 4797, 'tight': 4492, 'fascinating': 1658, 'ninja': 3018, 'jewish': 2401, 'husbands': 2205, 'locked': 2637, 'lena': 2568, 'service': 3896, 'bush': 632, 'ruth': 3763, 'colonel': 876, 'search': 3841, 'grandfather': 1954, 'sellers': 3872, 'hippie': 2115, 'disjointed': 1287, 'definite': 1161, 'dr': 1340, 'senseless': 3878, 'kubrick': 2496, 'site': 4005, 'nicholson': 3011, 'wendy': 4846, 'wide': 4880, 'francisco': 1819, 'anna': 245, 'forbidden': 1785, 'author': 359, 'killings': 2473, 'exceptional': 1558, 'exposure': 1599, 'portion': 3338, 'heavy': 2070, 'weight': 4840, 'prize': 3405, 'resolution': 3649, 'check': 777, 'synopsis': 4344, 'purchased': 3470, 'drives': 1367, 'aforementioned': 139, 'slaughter': 4021, 'implausible': 2245, 'namely': 2962, 'linda': 2609, 'pitt': 3280, 'unsettling': 4679, 'sorts': 4078, 'enjoys': 1489, 'garden': 1872, 'spoken': 4126, 'trio': 4587, 'minds': 2852, 'frightening': 1839, 'blue': 518, 'remind': 3618, 'nevertheless': 3002, 'sincere': 3991, 'suspenseful': 4331, 'fully': 1847, 'shallow': 3917, 'invasion': 2340, 'ridiculously': 3694, 'irrelevant': 2358, 'buffs': 612, 'demon': 1177, 'mask': 2752, 'ought': 3138, 'cameos': 658, 'worried': 4949, 'installment': 2303, 'carpenter': 694, 'plausible': 3295, 'sons': 4073, 'advance': 127, 'throws': 4482, 'lacking': 2504, 'classics': 837, 'halloween': 2010, 'favorites': 1672, 'witch': 4909, 'pleased': 3305, 'lee': 2559, 'bang': 393, 'blown': 516, 'andrews': 229, 'psychological': 3458, 'brutal': 603, 'featured': 1679, 'onto': 3111, 'breaks': 571, 'paper': 3183, 'birth': 486, 'alert': 178, 'execution': 1566, 'claimed': 829, 'massive': 2756, 'lone': 2642, 'propaganda': 3435, 'nonsense': 3030, 'louis': 2665, 'successfully': 4267, 'stanley': 4148, 'spending': 4106, 'kate': 2446, 'explains': 1589, 'curse': 1086, 'jon': 2416, 'sir': 4000, 'jake': 2377, 'ages': 152, 'shouldnt': 3952, 'theory': 4437, 'flight': 1757, 'study': 4242, 'artist': 307, 'branagh': 564, 'carter': 703, 'wit': 4908, 'virtually': 4751, 'kenneth': 2455, 'pleasantly': 3303, 'trailer': 4554, 'extent': 1605, 'ruthless': 3764, 'standards': 4145, 'identify': 2216, 'adventures': 131, 'stunning': 4244, 'creative': 1041, 'futuristic': 1857, 'designs': 1204, 'historically': 2120, 'scientific': 3817, 'reporter': 3636, 'storytelling': 4209, 'characterization': 759, 'performers': 3232, 'wishing': 4907, 'generated': 1882, 'substance': 4258, 'mel': 2796, 'promise': 3430, 'hook': 2152, 'deliberately': 1166, 'meaningless': 2782, 'meaningful': 2781, 'technical': 4381, 'rap': 3520, 'hop': 2154, 'mtv': 2933, 'tap': 4364, 'butler': 637, 'uninspired': 4657, 'slightest': 4028, 'prince': 3396, 'knock': 2488, 'weapons': 4829, 'poem': 3312, 'jump': 2429, 'door': 1328, 'watchable': 4812, 'occasion': 3073, 'carradine': 695, 'solo': 4058, 'surface': 4310, 'purple': 3473, 'attached': 336, 'pal': 3177, 'contact': 961, 'mail': 2706, 'chick': 786, 'immensely': 2243, 'uneven': 4649, 'root': 3737, 'gotten': 1947, 'safe': 3771, 'hidden': 2096, 'creators': 1044, '16': 8, '1933': 12, 'ruby': 3749, 'musicals': 2948, 'offered': 3088, 'depression': 1189, 'broadway': 592, 'tunes': 4603, 'arguably': 289, 'warren': 4801, 'burned': 626, 'size': 4012, 'surreal': 4317, 'nick': 3012, 'nowadays': 3055, 'anne': 246, 'represent': 3637, 'civilization': 827, 'hurt': 2202, 'shark': 3921, 'table': 4346, 'surrounded': 4318, 'lol': 2640, 'accurate': 90, 'mom': 2885, 'eating': 1413, 'words': 4938, 'dickens': 1240, 'mild': 2839, 'sings': 3997, 'england': 1482, 'shakespeare': 3915, 'hamlet': 2013, 'starting': 4158, 'hopefully': 2157, 'exploration': 1593, 'cutting': 1092, 'flying': 1764, 'emotions': 1461, 'derek': 1192, 'nicholas': 3010, 'welcome': 4842, 'gothic': 1945, 'patrick': 3213, 'tune': 4602, 'nominated': 3025, 'sum': 4289, 'genius': 1887, '2002': 32, 'providing': 3451, 'treats': 4575, 'moronic': 2907, 'producing': 3417, 'subjects': 4254, 'jerk': 2395, 'hint': 2112, 'rough': 3741, 'kudos': 2497, 'reviewer': 3677, 'stated': 4161, 'indie': 2276, 'criticism': 1063, 'continued': 970, 'dare': 1113, 'philosophical': 3253, 'afford': 138, 'chosen': 805, 'began': 441, 'rolled': 3729, 'thousand': 4465, 'scale': 3802, 'super': 4295, 'folks': 1771, 'da': 1094, 'statement': 4162, 'wannabe': 4787, 'blockbuster': 509, 'involvement': 2347, 'tender': 4401, 'regard': 3588, '25': 40, 'unbearable': 4633, 'studios': 4241, 'pile': 3275, 'resources': 3651, 'cameron': 661, 'stiller': 4189, 'talented': 4355, 'costs': 1004, 'rush': 3759, 'ourselves': 3140, 'discuss': 1283, 'chase': 769, 'eddie': 1416, 'consequences': 947, 'proceeds': 3411, 'funniest': 1851, 'bucks': 606, 'pulp': 3465, 'ludicrous': 2685, 'unlikely': 4671, 'quotes': 3497, '2006': 36, 'victim': 4729, 'flies': 1756, 'toilet': 4512, 'closet': 858, 'vast': 4716, 'dangerous': 1110, 'personally': 3243, 'evidence': 1546, 'guilt': 1994, 'assigned': 325, 'glass': 1917, 'patients': 3212, 'troubled': 4593, 'roy': 3745, 'prime': 3395, 'charlotte': 766, 'nostalgia': 3038, 'stones': 4198, 'strangely': 4212, 'cliff': 847, 'instinct': 2308, 'louise': 2666, 'associated': 327, 'intrigued': 2334, 'assumed': 329, 'shed': 3924, 'focusing': 1769, 'wins': 4899, 'legal': 2563, 'coffee': 870, 'shop': 3945, 'removed': 3624, 'dating': 1120, 'painted': 3174, 'respected': 3653, 'teacher': 4375, 'teach': 4374, 'staying': 4168, 'commercials': 903, 'rambo': 3511, 'secretly': 3851, 'vietnam': 4735, 'enemy': 1477, 'guns': 1998, 'slick': 4026, 'suits': 4287, 'cynical': 1093, 'foreign': 1790, 'beer': 439, 'north': 3036, 'weapon': 4828, 'pig': 3274, 'display': 1291, 'russian': 3762, 'returning': 3667, 'raped': 3522, 'deadly': 1133, 'finest': 1730, 'burns': 628, 'pro': 3406, 'devoid': 1230, 'describes': 1196, 'proud': 3444, 'touch': 4533, 'winter': 4900, 'surprisingly': 4316, 'fox': 1814, 'timothy': 4499, 'physically': 3263, 'ripped': 3701, 'awake': 365, 'forth': 1804, 'artistic': 308, 'floating': 1758, 'ocean': 3079, 'contemporary': 965, 'technology': 4385, 'ms': 2931, 'olivier': 3103, 'ann': 244, 'repeatedly': 3632, 'neither': 2996, 'bone': 533, 'defined': 1160, 'sexuality': 3909, 'martial': 2747, 'fighter': 1708, 'wwii': 4975, 'heaven': 2068, 'poetic': 3313, 'henry': 2084, 'fay': 1674, 'grim': 1974, 'claims': 830, 'serving': 3897, 'empire': 1464, 'strikes': 4225, 'cringe': 1059, 'dig': 1250, 'sun': 4292, 'treasure': 4571, 'colorful': 878, 'stan': 4142, 'smaller': 4034, 'rocks': 3722, 'company': 910, 'generic': 1885, 'em': 1452, 'unit': 4663, 'waited': 4771, 'introduced': 2337, 'method': 2824, 'broke': 593, 'vaguely': 4706, 'comparison': 914, 'tough': 4537, 'property': 3438, 'winner': 4897, 'mst3k': 2932, 'repeat': 3630, 'presumably': 3380, 'conflicts': 940, 'catching': 716, 'harry': 2039, 'finger': 1731, 'fashioned': 1660, 'performer': 3231, 'filming': 1718, 'titles': 4506, 'lately': 2524, 'focused': 1767, 'jaw': 2384, 'inspiring': 2302, 'jessica': 2398, 'generous': 1886, 'ass': 323, 'appearing': 277, 'experienced': 1581, 'agrees': 157, 'previously': 3388, 'styles': 4250, 'afraid': 140, 'ignorant': 2223, 'drunken': 1376, 'drivel': 1364, 'commit': 904, 'mass': 2753, 'represents': 3639, 'sleeping': 4025, 'range': 3516, 'wear': 4830, 'duo': 1386, 'ears': 1402, 'rabbit': 3498, 'thugs': 4484, 'worry': 4950, 'guessed': 1990, 'neighborhood': 2993, 'wilson': 4891, 'cleverly': 842, 'revealing': 3672, 'shocking': 3940, 'corruption': 1002, 'corner': 996, 'humanity': 2189, 'higher': 2101, 'convoluted': 987, 'review': 3676, 'finale': 1723, 'liking': 2604, 'reflect': 3584, 'iraq': 2351, 'soldiers': 4054, 'motivations': 2915, 'dry': 1377, 'adorable': 124, 'inner': 2292, 'outer': 3143, 'insight': 2298, 'anybody': 257, 'handle': 2018, 'innovative': 2295, 'diane': 1238, 'tommy': 4516, 'extraordinary': 1607, 'messed': 2821, 'commercial': 902, 'randomly': 3515, 'itll': 2369, 'glover': 1923, '1940s': 13, 'emma': 1457, 'marvelous': 2750, 'missed': 2867, 'rick': 3689, 'morris': 2908, 'claim': 828, 'countries': 1013, 'flash': 1745, 'cases': 708, 'degree': 1164, 'centered': 733, 'christopher': 811, 'paced': 3162, 'undoubtedly': 4648, 'imaginative': 2237, 'irony': 2357, 'comedian': 887, 'stooges': 4200, 'shorts': 3948, 'aid': 160, 'comedic': 888, 'outcome': 3142, 'print': 3399, 'colour': 880, 'ruined': 3751, 'reading': 3544, 'intention': 2319, 'calling': 653, 'flow': 1762, 'forgot': 1796, 'unfunny': 4655, 'latin': 2527, 'amazingly': 210, 'achievement': 94, 'modesty': 2883, 'purchase': 3469, 'blob': 507, 'tracks': 4545, 'edition': 1422, 'switch': 4339, 'flaw': 1749, '1950s': 14, 'attitudes': 347, 'sole': 4055, 'juvenile': 2441, 'kicks': 2463, 'traveling': 4568, 'variety': 4714, 'emphasis': 1463, 'bullets': 621, 'danger': 1109, '1972': 18, 'suck': 4269, 'professor': 3422, 'science': 3816, 'ha': 2002, 'millions': 2848, 'specifically': 4100, 'concern': 931, 'presented': 3376, 'warrior': 4802, 'majority': 2712, 'directions': 1262, 'craig': 1030, 'powers': 3361, 'hammer': 2014, 'guessing': 1991, 'rising': 3703, 'snake': 4042, 'pants': 3182, 'repetitive': 3633, 'robot': 3717, 'ps': 3453, 'lisa': 2616, 'vhs': 4725, 'dave': 1123, 'campy': 664, 'ritter': 3705, 'paid': 3169, 'ultra': 4629, 'kinda': 2477, 'ron': 3734, 'attend': 344, 'fascinated': 1657, 'royal': 3746, 'britain': 588, 'victoria': 4732, 'bore': 540, 'passionate': 3206, 'emily': 1456, 'blunt': 520, 'handful': 2017, 'professional': 3421, 'falk': 1636, 'helen': 2075, 'abusive': 75, 'contest': 967, 'conservative': 948, 'reaching': 3539, 'peace': 3219, 'wet': 4855, 'terrorists': 4414, 'carefully': 689, 'shall': 3916, 'foot': 1781, '70': 55, 'zone': 4999, 'lincoln': 2608, 'huh': 2187, 'global': 1920, 'warming': 4795, '50': 51, 'magazine': 2701, 'ice': 2210, 'usa': 4691, 'titled': 4505, 'china': 795, 'india': 2273, 'heck': 2071, 'santa': 3783, 'pg': 3250, 'rental': 3627, 'serves': 3895, 'blair': 497, 'cameras': 660, 'wise': 4903, 'advise': 134, '3d': 46, 'bugs': 613, 'generation': 1883, 'scream': 3826, 'giallo': 1904, 'focuses': 1768, 'julie': 2428, 'offended': 3085, 'surrounding': 4319, 'doomed': 1327, 'lucky': 2683, '3rd': 47, 'souls': 4080, 'mexico': 2827, 'voiced': 4762, 'affect': 136, 'reviewers': 3678, 'channels': 754, 'challenge': 743, 'holiday': 2134, 'painfully': 3172, 'sidney': 3968, 'lumet': 2688, 'garbo': 1871, 'quest': 3486, 'silver': 3977, 'carrie': 697, 'fisher': 1739, 'worker': 4942, 'jane': 2380, 'guest': 1992, 'harvey': 2042, '75': 57, 'frustration': 1843, 'translation': 4562, 'silence': 3974, 'kinds': 2478, 'provoking': 3452, 'carried': 698, 'combat': 882, 'savage': 3793, 'monk': 2889, 'nightmares': 3015, 'homage': 2141, 'earl': 1398, 'clichéd': 845, 'soccer': 4048, 'political': 3324, 'communist': 907, 'corpse': 999, 'domino': 1319, 'hunters': 2200, 'mickey': 2831, 'sin': 3988, 'lucy': 2684, 'acid': 95, 'blacks': 494, 'miscast': 2862, 'mountain': 2917, 'upset': 4687, 'mainstream': 2709, 'chilling': 794, 'floor': 1759, 'suggested': 4281, 'mans': 2730, 'furthermore': 1854, 'received': 3564, 'east': 1407, 'germany': 1898, 'pays': 3218, 'fathers': 1667, 'education': 1424, 'department': 1182, 'talked': 4359, 'uk': 4626, 'spike': 4111, 'gordon': 1940, 'gentle': 1890, 'shape': 3919, 'junior': 2435, 'unintentional': 4658, 'handsome': 2021, 'jet': 2400, 'bobby': 525, 'sophisticated': 4075, 'prefer': 3368, 'wallace': 4782, 'philip': 3252, 'devil': 1228, 'howard': 2182, 'inspiration': 2300, 'streep': 4215, 'angles': 237, 'jumped': 2430, 'bela': 450, 'lugosi': 2686, 'invisible': 2344, 'karloff': 2445, 'comics': 895, 'novels': 3053, 'border': 539, 'writes': 4970, 'object': 3066, 'wives': 4918, 'bible': 477, 'jesus': 2399, 'horribly': 2164, 'wood': 4933, 'joy': 2422, 'alcohol': 176, 'rescue': 3643, 'correct': 1000, 'costumes': 1006, 'rolling': 3730, 'arm': 292, 'movements': 2924, 'succeeds': 4264, 'card': 681, 'julia': 2427, 'described': 1195, 'idiotic': 2219, 'hardcore': 2034, 'answers': 252, 'ned': 2986, 'odds': 3082, 'legs': 2566, 'captured': 677, 'schools': 3814, 'attempting': 342, 'irish': 2353, 'mixed': 2877, 'chinese': 796, 'corrupt': 1001, 'infamous': 2284, 'roll': 3728, 'grace': 1950, 'passion': 3205, 'testament': 4417, 'walls': 4783, 'warriors': 4803, 'court': 1020, 'refreshing': 3586, 'bath': 411, 'officers': 3093, 'discovers': 1281, 'threat': 4467, 'pregnant': 3369, 'gods': 1928, 'spread': 4133, 'plight': 3308, 'demand': 1174, 'raymond': 3534, 'greed': 1968, 'national': 2970, 'lazy': 2543, 'ho': 2127, 'drew': 1360, 'hunt': 2198, 'operation': 3117, 'hired': 2117, 'sink': 3999, 'wears': 4832, 'abc': 63, 'tad': 4347, 'provided': 3449, 'dubbing': 1380, 'extras': 1608, 'secretary': 3850, 'familys': 1646, 'estate': 1525, 'golden': 1934, 'melodramatic': 2798, 'spain': 4091, 'dragged': 1343, 'ah': 158, 'nail': 2957, 'shelf': 3926, 'tiresome': 4502, 'commented': 900, 'instantly': 2306, 'marketing': 2741, 'documentaries': 1306, 'frame': 1815, 'solely': 4056, 'deaths': 1142, 'resulting': 3661, 'longer': 2645, 'fights': 1710, 'forest': 1791, 'loosely': 2651, 'resort': 3650, 'jealous': 2388, 'repeated': 3631, 'viewings': 4741, 'dressed': 1358, 'hysterical': 2208, 'phone': 3255, 'views': 4742, 'forty': 1807, 'trite': 4589, 'incident': 2260, 'spielberg': 4110, 'pitch': 3279, 'alongside': 196, 'antics': 255, 'robbery': 3711, 'maria': 2736, 'balance': 387, 'craft': 1028, 'liners': 2611, 'overwhelming': 3157, 'push': 3477, 'altogether': 202, 'subtlety': 4261, 'gandhi': 1866, 'godfather': 1927, 'rings': 3699, 'eve': 1532, 'scare': 3803, 'scrooge': 3837, 'grows': 1985, 'grey': 1973, 'market': 2740, 'ruins': 3752, 'ancient': 225, 'kim': 2475, 'spring': 4134, 'alike': 185, 'mountains': 2918, 'waters': 4817, 'dvds': 1392, 'anymore': 258, 'greater': 1965, 'source': 4086, 'miike': 2837, 'behave': 445, 'notable': 3041, 'mixture': 2878, 'facial': 1619, 'expressions': 1603, 'suffering': 4277, 'accomplished': 87, 'confusion': 943, 'improve': 2254, 'breasts': 572, 'partly': 3197, 'crafted': 1029, 'westerns': 4854, 'chuck': 812, 'baseball': 403, 'existence': 1571, 'nuclear': 3057, 'grant': 1956, 'constructed': 959, 'alas': 172, 'embarrassing': 1454, 'occur': 3076, 'bakshi': 386, 'understandable': 4644, 'ford': 1789, 'required': 3641, 'counter': 1011, 'faced': 1617, 'heroic': 2090, 'worn': 4948, 'woods': 4935, 'introduction': 2339, 'threatening': 4468, 'lust': 2689, 'depiction': 1185, 'illogical': 2231, 'revolves': 3682, 'brady': 561, 'cats': 721, 'whenever': 4863, 'lay': 2542, 'spare': 4093, 'tends': 4402, 'dean': 1139, 'mirror': 2861, 'elm': 1447, 'eva': 1531, 'ellen': 1446, 'expression': 1602, '14': 6, 'drinking': 1362, 'reads': 3545, 'simplicity': 3984, 'empathy': 1462, 'carrying': 701, 'transformation': 4560, 'polished': 3323, 'cry': 1073, 'serve': 3893, 'household': 2179, 'ad': 110, 'nose': 3037, 'drops': 1372, 'pool': 3327, 'encounters': 1467, 'accident': 84, 'jimmy': 2403, 'nelson': 2997, 'boll': 529, 'shines': 3932, '1990': 24, 'gripping': 1976, 'sisters': 4002, 'recognized': 3570, 'distance': 1294, 'generations': 1884, 'defend': 1158, 'glory': 1922, 'careers': 687, 'tie': 4488, 'li': 2587, 'jazz': 2387, 'dancer': 1104, 'orange': 3125, 'mistakes': 2873, 'celluloid': 731, 'consists': 955, 'godzilla': 1929, 'paulie': 3215, 'splendid': 4119, 'eerie': 1427, 'matthew': 2772, 'southern': 4088, 'raised': 3508, 'cards': 683, 'weakest': 4825, 'recognition': 3568, 'involving': 2349, 'rose': 3739, 'university': 4667, 'greek': 1970, 'chorus': 803, 'scripts': 3836, 'hollow': 2135, 'dozen': 1338, 'doll': 1313, 'haunting': 2051, 'st': 4137, 'sequels': 3886, 'arnold': 296, 'wholly': 4874, 'map': 2733, 'tortured': 4530, 'levels': 2585, 'drop': 1369, 'potentially': 3356, 'fatal': 1664, 'sleep': 4024, 'logic': 2638, 'tracy': 4546, 'accused': 91, 'cia': 814, 'shadow': 3912, 'react': 3540, 'glimpse': 1919, 'regardless': 3590, 'errors': 1516, 'sheer': 3925, 'cameo': 657, 'robots': 3718, 'brutally': 604, 'pamela': 3179, 'disappear': 1270, 'meeting': 2794, 'betty': 474, 'douglas': 1334, 'relations': 3596, 'destroying': 1215, 'basis': 408, 'creation': 1040, 'trailers': 4555, 'cube': 1076, 'strangers': 4214, 'trapped': 4564, 'sullivan': 4288, 'foster': 1809, 'conspiracy': 956, 'creep': 1051, 'allowing': 191, 'noir': 3023, 'borrowed': 545, 'fits': 1741, 'carol': 693, 'barbara': 397, 'roots': 3738, 'chapter': 757, 'lloyd': 2630, 'ties': 4490, 'challenging': 744, 'conversations': 981, 'conceived': 929, 'sean': 3840, 'lawrence': 2539, 'areas': 287, 'shine': 3931, 'killers': 2471, 'soviet': 4089, 'caused': 724, 'goal': 1925, 'detective': 1220, 'blatant': 502, 'advertising': 132, 'industry': 2280, 'rendition': 3625, 'snl': 4044, 'pseudo': 3454, 'bourne': 554, 'photographed': 3258, 'ward': 4793, 'voices': 4763, 'bacall': 377, 'farm': 1656, 'splatter': 4118, 'listed': 2618, 'judy': 2426, 'mistress': 2874, 'idiots': 2220, 'zombies': 4998, 'le': 2544, 'urban': 4688, 'cars': 702, 'blade': 495, 'bell': 458, 'stole': 4194, 'gangsters': 1869, 'skip': 4016, 'bear': 420, 'guide': 1993, 'philosophy': 3254, 'critic': 1061, 'analysis': 224, 'birds': 485, 'lynch': 2691, 'elvis': 1451, 'catholic': 720, 'retired': 3664, 'persons': 3244, 'rural': 3758, '1960s': 15, 'divorce': 1301, 'hitchcock': 2123, 'window': 4894, 'brand': 565, 'authority': 360, 'subsequent': 4257, 'murphy': 2944, 'rachel': 3500, 'wes': 4851, 'craven': 1034, 'chasing': 772, 'twelve': 4611, 'grandmother': 1955, 'sinatra': 3989, 'simmons': 3981, 'bag': 384, 'fancy': 1649, 'improved': 2255, 'shower': 3957, 'adams': 112, 'poetry': 3314, 'goldberg': 1933, 'worthless': 4954, 'likewise': 2603, 'nomination': 3026, 'praise': 3364, 'lemmon': 2567, 'critical': 1062, 'rocky': 3723, 'maintain': 2710, 'wrestling': 4966, 'acts': 107, 'buck': 605, 'spider': 4109, 'superhero': 4299, 'covers': 1024, 'population': 3335, 'priest': 3392, 'loyal': 2679, 'fx': 1858, 'damon': 1101, 'dennis': 1179, 'clown': 862, 'delivery': 1173, 'parties': 3196, 'lab': 2501, 'lively': 2627, 'amazed': 208, 'showcase': 3954, 'checking': 778, 'placed': 3283, 'stereotype': 4178, 'punk': 3468, 'che': 773, 'engaged': 1480, 'glorious': 1921, 'letters': 2582, 'trek': 4578, 'kirk': 2482, 'landing': 2512, 'capital': 673, 'beast': 422, 'exploitation': 1592, 'crimes': 1056, 'joey': 2408, 'witches': 4910, 'factory': 1623, 'riding': 3695, 'media': 2789, 'combine': 884, 'landscapes': 2514, 'horses': 2171, 'kitchen': 2485, 'vincent': 4746, 'stinks': 4192, 'warmth': 4796, 'dutch': 1389, 'duke': 1383, 'authentic': 358, 'props': 3439, 'cross': 1066, 'dressing': 1359, 'unfolds': 4651, 'gary': 1873, 'kicking': 2462, 'cary': 706, 'veteran': 4724, 'matches': 2764, 'desired': 1206, 'marks': 2742, 'europe': 1529, 'properly': 3437, 'brenda': 575, 'purposes': 3475, '1990s': 25, 'streets': 4217, 'introduces': 2338, 'simon': 3982, 'wonders': 4931, 'tremendous': 4579, 'widmark': 4882, 'everyones': 1543, 'seagal': 3839, 'belief': 451, 'hill': 2108, 'cup': 1080, 'ear': 1397, 'inspector': 2299, 'solve': 4060, 'originality': 3130, 'banned': 395, 'donna': 1323, 'masses': 2755, 'stiff': 4187, 'doom': 1326, 'introduce': 2336, 'argue': 290, 'replaced': 3634, 'hopper': 2161, 'isolated': 2363, 'cinematographer': 819, 'drawing': 1350, '3000': 43, 'margaret': 2735, 'flawed': 1750, 'torn': 4528, 'complicated': 925, 'rebel': 3561, 'pit': 3278, 'karen': 2444, 'sixties': 4011, 'belongs': 460, 'plans': 3292, 'fed': 1682, 'supernatural': 4302, 'broad': 590, 'germans': 1897, 'rocket': 3721, 'explosion': 1596, 'overrated': 3156, 'abilities': 64, 'atmospheric': 334, 'menacing': 2807, 'gifted': 1907, 'exotic': 1574, 'stunts': 4246, 'pokemon': 3320, 'pretend': 3381, 'piano': 3264, 'flawless': 1751, 'worlds': 4947, 'vengeance': 4719, 'nations': 2971, 'narrator': 2967, 'facing': 1620, 'unaware': 4632, 'walken': 4777, 'fourth': 1813, 'valley': 4707, 'joseph': 2419, 'similarities': 3979, 'riveting': 3708, 'comparing': 913, 'narration': 2965, 'roberts': 3714, 'shake': 3914, 'domestic': 1318, 'airplane': 166, 'pointed': 3317, 'report': 3635, 'shoots': 3944, 'photographer': 3259, 'tame': 4363, 'catchy': 717, 'explored': 1595, 'eyre': 1614, 'crucial': 1068, 'rochester': 3719, 'dialogues': 1235, 'scheme': 3812, '18': 10, 'despair': 1207, 'hyde': 2206, 'tooth': 4524, 'denzel': 1181, 'sandra': 3782, 'spectacular': 4101, 'hamilton': 2012, 'innocence': 2293, 'sacrifice': 3766, 'spin': 4112, 'lasted': 2522, 'steps': 4177, 'neighbor': 2992, 'thoughtful': 4463, 'darkness': 1117, 'lou': 2663, 'nuts': 3064, 'intellectual': 2312, 'till': 4493, 'spiritual': 4116, 'wizard': 4919, 'oz': 3160, 'frankenstein': 1822, 'thief': 4448, 'tour': 4538, 'dedicated': 1153, 'charisma': 762, 'moody': 2899, 'performing': 3233, 'australian': 357, 'boom': 537, 'mistaken': 2872, 'oil': 3097, 'centers': 734, 'suited': 4286, 'greedy': 1969, 'eaten': 1412, 'holy': 2140, 'bin': 483, 'stunt': 4245, 'preview': 3386, 'glenn': 1918, 'dogs': 1311, 'doo': 1325, 'caliber': 649, 'kidding': 2465, 'compelled': 915, 'reference': 3582, 'elaborate': 1439, 'streisand': 4218, 'pearl': 3220, 'models': 2881, 'cheating': 776, 'khan': 2459, 'macy': 2695, 'fond': 1776, 'resident': 3647, 'kidnapped': 2466, 'jeffrey': 2391, 'aliens': 184, 'hills': 2109, 'cannibal': 669, 'sticks': 4186, 'bird': 484, 'reasonable': 3558, 'warm': 4794, 'boot': 538, 'fbi': 1675, 'represented': 3638, 'mansion': 2731, 'stilted': 4190, 'ethan': 1528, 'alexander': 180, 'sutherland': 4333, 'citizen': 824, 'principal': 3398, 'brooks': 596, 'nazi': 2977, 'pot': 3354, 'ramones': 3512, 'jenny': 2393, 'houses': 2180, 'staring': 4152, 'fu': 1844, 'row': 3744, 'franco': 1820, 'closest': 857, 'pie': 3271, 'aids': 161, 'hints': 2113, 'scottish': 3825, 'spirited': 4114, 'offering': 3089, 'amitabh': 216, 'companion': 909, 'competition': 918, 'uwe': 4703, 'rob': 3710, 'ireland': 2352, 'complaint': 920, 'con': 928, 'heat': 2067, 'wave': 4818, 'territory': 4411, 'tribute': 4581, 'security': 3854, 'literature': 2623, 'gender': 1878, 'tiger': 4491, 'lily': 2605, '20th': 38, 'vulnerable': 4768, 'genres': 1889, 'assistant': 326, 'tons': 4520, 'advanced': 128, 'possibilities': 3348, 'cities': 823, 'foul': 1810, 'creativity': 1042, 'alfred': 181, 'atlantis': 332, 'twilight': 4614, 'staff': 4138, 'response': 3654, 'mall': 2720, 'online': 3109, 'arrested': 298, 'contained': 963, 'travels': 4569, 'touched': 4534, 'spooky': 4128, 'marie': 2737, 'buildings': 616, 'equipment': 1511, 'wandering': 4785, 'changing': 752, 'mouse': 2919, 'virginia': 4750, 'frequent': 1831, 'primarily': 3393, 'matched': 2763, 'blake': 498, 'defense': 1159, 'turner': 4607, 'fix': 1744, 'lucas': 2680, 'greatly': 1967, 'spoke': 4125, 'responsibility': 3655, 'medium': 2792, 'pages': 3168, 'omen': 3104, 'travesty': 4570, 'occurred': 3077, 'bite': 489, 'inevitably': 2283, 'amanda': 205, 'raising': 3509, 'dropping': 1371, 'inappropriate': 2259, 'misery': 2865, 'revelation': 3674, 'improvement': 2256, 'annoyed': 248, 'countryside': 1015, 'orson': 3132, 'welles': 4844, 'enormous': 1490, 'construction': 960, 'firstly': 1737, 'album': 175, 'iii': 2227, 'solution': 4059, 'builds': 617, 'perry': 3237, 'terrorist': 4413, '2007': 37, 'troops': 4591, 'experiment': 1583, 'enterprise': 1495, 'species': 4098, 'prostitute': 3440, 'embarrassment': 1455, 'psychic': 3456, 'leo': 2571, 'titanic': 4503, 'miller': 2846, 'ape': 266, 'swedish': 4335, 'shining': 3933, 'unoriginal': 4673, 'gotta': 1946, 'gratuitous': 1961, 'recorded': 3574, 'icon': 2211, 'complexity': 924, 'alcoholic': 177, 'depicts': 1186, 'superficial': 4298, 'crocodile': 1065, 'hitting': 2126, 'gas': 1874, 'duty': 1390, 'smoke': 4039, 'arrives': 302, 'basketball': 409, 'nancy': 2964, 'threw': 4470, 'dolph': 1317, 'quit': 3494, 'feminist': 1695, 'twins': 4616, 'pops': 3332, 'awe': 370, 'tonight': 4519, 'circle': 821, 'excessive': 1560, 'masterful': 2758, 'achieved': 93, 'ideal': 2214, 'prom': 3429, 'fury': 1855, 'directorial': 1265, 'native': 2972, 'medical': 2790, 'gerard': 1895, 'kung': 2498, 'dealt': 1138, 'hart': 2041, 'bare': 398, 'widow': 4883, '1968': 16, 'felix': 1689, 'ignored': 2225, 'revolutionary': 3681, 'receive': 3563, 'spy': 4135, 'reel': 3581, 'rubber': 3747, 'backgrounds': 381, 'dalton': 1098, 'brad': 560, 'concerning': 933, 'madness': 2698, 'returned': 3666, 'receives': 3565, 'entry': 1504, '35': 45, 'blows': 517, 'pan': 3180, 'robinson': 3716, 'mars': 2746, 'politically': 3325, 'simpson': 3987, 'plastic': 3294, 'secondly': 3847, 'judging': 2425, 'connect': 944, 'edie': 1419, 'paint': 3173, 'museum': 2945, 'whale': 4857, 'ashley': 313, 'wished': 4905, 'daddy': 1096, 'disappeared': 1271, 'symbolism': 4341, 'marty': 2749, 'tomatoes': 4515, 'bo': 521, '1996': 26, 'demands': 1175, 'hung': 2197, 'interaction': 2322, 'berlin': 467, 'myers': 2952, 'cheated': 775, 'angels': 234, 'defeat': 1157, 'dracula': 1341, 'promises': 3432, 'pink': 3277, 'unreal': 4676, 'sits': 4006, 'failing': 1627, 'spoof': 4127, 'wreck': 4965, 'topic': 4526, 'reduced': 3579, 'sport': 4129, 'muslim': 2949, 'iran': 2350, 'forms': 1801, 'dolls': 1316, 'dawson': 1128, 'grinch': 1975, 'lit': 2621, 'maker': 2714, 'faults': 1669, 'temple': 4398, 'discovery': 1282, 'scooby': 3820, 'cg': 739, 'championship': 745, 'deaf': 1134, 'rat': 3525, 'waves': 4819, 'elegant': 1441, 'danes': 1108, 'priceless': 3390, 'jaws': 2385, 'performs': 3234, 'steel': 4173, 'phantom': 3251, 'dorothy': 1330, 'endings': 1472, 'formulaic': 1803, 'females': 1694, 'porno': 3337, 'texas': 4418, 'homer': 2144, 'vegas': 4717, 'nervous': 2999, 'bat': 410, 'richards': 3687, 'diana': 1237, 'stress': 4220, 'gundam': 1997, 'eastern': 1408, 'shirley': 3936, 'celebrity': 729, 'mummy': 2937, 'cave': 727, 'clip': 851, 'agreed': 156, 'stanwyck': 4149, 'fulci': 1845, 'creator': 1043, 'fonda': 1777, 'stargate': 4151, 'rats': 3531, 'angela': 232, 'astaire': 330, 'bottle': 550, 'cusack': 1088, 'bettie': 473, 'seed': 3856}\n"
     ]
    }
   ],
   "source": [
    "print(str(vocabulary)) # to put in lambda handler"
   ]
  },
  {
   "cell_type": "markdown",
   "metadata": {},
   "source": [
    "Using the SageMaker runtime and the name of our endpoint, we can invoke the endpoint and send it the `test_bow` data."
   ]
  },
  {
   "cell_type": "code",
   "execution_count": 51,
   "metadata": {},
   "outputs": [
    {
     "ename": "ParamValidationError",
     "evalue": "Parameter validation failed:\nInvalid type for parameter Body, value: [0, 0, 0, 0, 0, 0, 0, 0, 0, 0, 0, 0, 0, 0, 0, 0, 0, 0, 0, 0, 0, 0, 0, 0, 0, 0, 0, 0, 0, 0, 0, 0, 0, 0, 0, 0, 0, 0, 0, 0, 0, 0, 0, 0, 0, 0, 0, 0, 0, 0, 0, 0, 0, 0, 0, 0, 0, 0, 0, 0, 0, 0, 0, 0, 0, 0, 0, 0, 0, 0, 0, 0, 0, 0, 0, 0, 0, 0, 0, 0, 0, 0, 0, 0, 0, 0, 0, 0, 0, 0, 0, 0, 0, 0, 0, 0, 0, 0, 0, 0, 0, 0, 0, 0, 0, 0, 0, 0, 0, 0, 0, 0, 0, 0, 0, 0, 0, 0, 0, 0, 0, 0, 0, 0, 0, 0, 0, 0, 0, 0, 0, 0, 0, 0, 0, 0, 0, 0, 0, 0, 0, 0, 0, 0, 0, 0, 0, 0, 0, 0, 0, 0, 0, 0, 0, 0, 0, 0, 0, 0, 0, 0, 0, 0, 0, 0, 0, 0, 0, 0, 0, 0, 0, 0, 0, 0, 0, 0, 0, 0, 0, 0, 0, 0, 0, 0, 0, 0, 0, 0, 0, 0, 0, 0, 0, 0, 0, 0, 0, 0, 0, 0, 0, 0, 0, 0, 0, 0, 0, 0, 0, 0, 0, 0, 0, 0, 0, 0, 0, 0, 0, 0, 0, 0, 0, 0, 1, 0, 0, 0, 0, 0, 0, 0, 0, 0, 0, 0, 0, 0, 0, 0, 0, 0, 0, 0, 0, 0, 0, 0, 0, 0, 0, 0, 0, 0, 1, 0, 0, 0, 0, 0, 0, 0, 0, 0, 0, 0, 0, 0, 0, 0, 0, 0, 0, 0, 0, 0, 0, 0, 0, 0, 0, 0, 0, 0, 0, 0, 0, 0, 0, 0, 0, 0, 0, 0, 0, 0, 0, 0, 0, 0, 0, 0, 0, 0, 0, 0, 0, 0, 0, 0, 0, 0, 0, 0, 0, 0, 0, 0, 0, 0, 0, 0, 0, 0, 0, 0, 0, 0, 0, 0, 0, 0, 0, 0, 0, 0, 0, 0, 0, 0, 0, 0, 0, 0, 0, 0, 0, 0, 0, 0, 0, 0, 0, 0, 0, 0, 0, 0, 0, 0, 0, 0, 0, 0, 0, 0, 0, 0, 0, 0, 0, 0, 0, 0, 0, 0, 0, 0, 0, 0, 0, 0, 0, 0, 0, 0, 0, 0, 0, 0, 0, 0, 0, 0, 0, 0, 0, 0, 0, 0, 0, 0, 0, 0, 0, 0, 0, 0, 0, 0, 0, 0, 0, 0, 0, 0, 0, 0, 0, 0, 0, 0, 0, 0, 0, 0, 0, 0, 0, 0, 0, 0, 0, 0, 0, 0, 0, 0, 0, 0, 0, 0, 0, 0, 0, 0, 0, 0, 0, 0, 0, 0, 0, 0, 0, 0, 0, 0, 0, 0, 0, 0, 0, 0, 0, 0, 0, 0, 0, 0, 0, 0, 0, 0, 0, 0, 0, 0, 0, 0, 0, 0, 0, 0, 0, 0, 0, 0, 0, 0, 0, 0, 0, 0, 0, 0, 0, 0, 0, 0, 0, 0, 0, 0, 0, 0, 0, 0, 0, 0, 0, 0, 0, 0, 0, 0, 0, 0, 0, 0, 0, 0, 0, 0, 0, 0, 0, 0, 0, 0, 0, 0, 0, 0, 0, 0, 0, 0, 0, 0, 0, 0, 0, 0, 0, 0, 0, 0, 0, 0, 0, 0, 0, 0, 0, 0, 0, 0, 0, 0, 0, 0, 0, 0, 0, 0, 0, 0, 0, 0, 0, 0, 0, 0, 0, 0, 0, 0, 0, 0, 0, 0, 0, 0, 0, 0, 0, 0, 0, 0, 0, 0, 0, 0, 0, 0, 0, 0, 0, 0, 0, 0, 0, 0, 0, 0, 0, 0, 0, 0, 0, 0, 0, 0, 0, 0, 0, 0, 0, 0, 0, 0, 0, 0, 0, 0, 0, 0, 0, 0, 0, 0, 0, 0, 1, 0, 0, 0, 0, 0, 0, 0, 0, 0, 0, 0, 0, 0, 0, 0, 0, 0, 0, 0, 0, 0, 0, 0, 0, 0, 0, 0, 0, 0, 0, 0, 0, 0, 0, 0, 0, 0, 0, 0, 0, 0, 0, 0, 0, 0, 0, 0, 0, 0, 0, 0, 0, 0, 0, 0, 0, 0, 0, 0, 0, 0, 0, 0, 0, 0, 0, 0, 0, 0, 0, 0, 0, 0, 0, 0, 0, 0, 0, 0, 0, 0, 0, 0, 0, 0, 0, 0, 0, 0, 0, 0, 0, 0, 0, 0, 0, 0, 0, 0, 0, 0, 0, 0, 0, 0, 0, 0, 0, 0, 0, 0, 0, 0, 0, 0, 0, 0, 0, 0, 0, 0, 0, 0, 0, 0, 0, 0, 0, 0, 0, 0, 0, 0, 0, 0, 0, 0, 0, 0, 0, 0, 0, 0, 0, 0, 0, 0, 0, 0, 0, 0, 0, 0, 0, 0, 0, 0, 0, 0, 0, 0, 0, 0, 0, 0, 0, 0, 0, 0, 0, 0, 0, 0, 0, 0, 0, 0, 0, 0, 0, 0, 0, 0, 0, 0, 0, 0, 0, 0, 0, 0, 0, 0, 0, 0, 0, 0, 0, 0, 0, 0, 0, 0, 0, 0, 0, 0, 0, 0, 0, 0, 0, 0, 0, 0, 0, 0, 0, 0, 0, 0, 0, 0, 0, 0, 0, 0, 0, 0, 0, 0, 0, 0, 0, 0, 0, 0, 0, 0, 0, 0, 0, 0, 0, 0, 0, 0, 0, 0, 0, 0, 0, 0, 1, 0, 0, 0, 0, 0, 0, 0, 0, 0, 0, 0, 0, 0, 0, 0, 0, 0, 0, 0, 0, 0, 0, 0, 0, 0, 0, 0, 0, 0, 0, 0, 0, 0, 0, 0, 0, 0, 0, 0, 0, 0, 0, 0, 0, 0, 0, 0, 0, 0, 0, 0, 0, 0, 0, 0, 0, 0, 0, 0, 0, 0, 0, 0, 0, 0, 0, 0, 0, 0, 0, 0, 0, 0, 0, 0, 0, 0, 0, 0, 0, 0, 0, 0, 0, 0, 0, 1, 0, 0, 0, 0, 0, 0, 0, 0, 0, 0, 0, 0, 0, 0, 0, 0, 0, 0, 0, 0, 0, 0, 0, 0, 0, 0, 0, 0, 0, 0, 0, 0, 0, 0, 0, 0, 0, 0, 0, 0, 0, 0, 0, 0, 0, 0, 0, 0, 0, 0, 0, 0, 0, 0, 0, 0, 0, 0, 0, 0, 0, 0, 0, 0, 0, 0, 0, 0, 0, 0, 0, 0, 0, 0, 0, 0, 0, 0, 0, 0, 0, 0, 0, 0, 0, 0, 0, 0, 0, 0, 0, 0, 0, 0, 0, 0, 0, 0, 0, 0, 0, 0, 0, 0, 0, 0, 0, 0, 0, 0, 0, 0, 0, 0, 0, 0, 0, 0, 0, 0, 0, 0, 0, 0, 0, 0, 0, 0, 0, 0, 0, 0, 0, 0, 0, 0, 0, 0, 0, 0, 0, 0, 0, 0, 0, 0, 0, 0, 0, 0, 0, 0, 0, 0, 0, 0, 0, 0, 0, 0, 0, 0, 0, 0, 0, 0, 0, 0, 0, 0, 0, 0, 0, 0, 0, 0, 0, 0, 0, 0, 0, 0, 0, 0, 0, 0, 0, 0, 0, 0, 0, 0, 0, 0, 0, 0, 0, 0, 0, 0, 0, 0, 0, 0, 0, 0, 0, 0, 0, 0, 0, 0, 0, 0, 0, 0, 0, 0, 0, 0, 0, 0, 0, 0, 0, 0, 0, 0, 0, 0, 0, 0, 0, 0, 0, 0, 0, 0, 0, 0, 0, 0, 0, 0, 0, 0, 0, 0, 0, 0, 0, 0, 1, 0, 0, 0, 0, 0, 0, 0, 0, 0, 0, 0, 0, 0, 0, 0, 0, 0, 0, 0, 0, 0, 0, 0, 0, 0, 0, 0, 0, 0, 0, 0, 0, 0, 0, 0, 0, 0, 0, 0, 0, 0, 0, 0, 0, 0, 0, 0, 0, 0, 0, 0, 0, 0, 0, 0, 1, 0, 0, 0, 0, 0, 0, 0, 0, 0, 0, 0, 0, 0, 0, 0, 0, 0, 0, 0, 0, 0, 0, 0, 0, 0, 0, 0, 0, 0, 0, 0, 0, 0, 0, 0, 0, 0, 0, 0, 0, 0, 0, 0, 0, 0, 0, 0, 0, 0, 0, 0, 0, 0, 0, 0, 0, 0, 0, 0, 0, 0, 0, 0, 0, 0, 0, 0, 0, 0, 0, 0, 0, 0, 0, 0, 0, 0, 0, 0, 0, 0, 0, 0, 0, 0, 0, 0, 0, 0, 0, 0, 0, 0, 0, 0, 0, 0, 0, 0, 0, 0, 0, 0, 0, 0, 0, 0, 0, 0, 0, 0, 0, 0, 0, 0, 0, 0, 0, 0, 0, 0, 0, 0, 0, 0, 0, 0, 0, 0, 0, 0, 0, 0, 0, 0, 0, 0, 0, 0, 0, 0, 0, 0, 0, 0, 0, 0, 0, 0, 0, 0, 0, 0, 0, 0, 0, 0, 0, 0, 0, 0, 0, 0, 0, 0, 0, 0, 0, 0, 0, 0, 0, 0, 0, 0, 0, 0, 0, 0, 0, 0, 0, 0, 0, 0, 0, 0, 0, 0, 0, 0, 0, 0, 0, 0, 0, 0, 0, 0, 0, 0, 0, 0, 0, 0, 0, 0, 0, 0, 0, 0, 0, 0, 0, 0, 0, 0, 0, 0, 0, 0, 0, 0, 0, 0, 0, 0, 0, 0, 0, 0, 0, 0, 0, 0, 0, 0, 0, 0, 0, 0, 0, 0, 0, 0, 0, 0, 0, 0, 0, 0, 0, 0, 0, 0, 0, 0, 0, 0, 0, 0, 0, 0, 0, 0, 0, 0, 0, 0, 0, 0, 0, 0, 0, 0, 0, 0, 0, 0, 0, 0, 0, 0, 0, 0, 0, 0, 0, 0, 0, 0, 0, 0, 0, 0, 0, 0, 0, 0, 0, 0, 0, 0, 0, 0, 0, 0, 0, 0, 0, 0, 0, 0, 0, 0, 0, 0, 0, 0, 0, 0, 0, 0, 0, 0, 0, 0, 0, 0, 0, 0, 0, 0, 0, 0, 0, 0, 0, 0, 0, 0, 0, 0, 0, 0, 0, 0, 0, 0, 0, 0, 0, 0, 0, 0, 0, 0, 0, 0, 0, 0, 0, 0, 0, 0, 0, 0, 0, 0, 0, 0, 0, 0, 0, 0, 0, 0, 0, 0, 0, 0, 0, 0, 0, 0, 0, 0, 0, 0, 0, 0, 0, 0, 0, 0, 0, 0, 0, 0, 0, 0, 0, 0, 0, 0, 0, 0, 0, 0, 0, 0, 0, 0, 0, 0, 0, 0, 0, 0, 0, 0, 0, 0, 0, 0, 0, 0, 0, 0, 0, 0, 0, 0, 0, 0, 0, 0, 0, 0, 0, 0, 0, 0, 0, 0, 0, 0, 0, 0, 0, 0, 0, 0, 0, 0, 0, 0, 0, 0, 0, 0, 0, 0, 0, 0, 0, 0, 0, 0, 0, 0, 0, 0, 0, 0, 0, 0, 0, 0, 0, 0, 0, 0, 0, 0, 0, 0, 0, 0, 0, 0, 0, 0, 0, 0, 0, 0, 0, 0, 0, 0, 0, 0, 0, 0, 0, 0, 0, 0, 0, 0, 0, 0, 0, 0, 0, 0, 0, 0, 0, 0, 0, 0, 0, 0, 0, 0, 0, 0, 0, 0, 0, 0, 0, 0, 0, 0, 0, 0, 0, 0, 0, 0, 0, 0, 0, 0, 0, 0, 0, 0, 0, 0, 0, 0, 0, 0, 0, 0, 0, 0, 0, 0, 0, 0, 0, 0, 0, 0, 0, 0, 0, 0, 0, 0, 0, 0, 0, 0, 0, 0, 0, 0, 0, 0, 0, 0, 0, 0, 0, 0, 0, 0, 0, 0, 0, 0, 0, 0, 0, 0, 0, 0, 0, 0, 0, 0, 0, 0, 0, 0, 0, 0, 0, 0, 0, 0, 0, 0, 0, 0, 0, 0, 0, 0, 0, 0, 0, 0, 0, 0, 0, 0, 0, 0, 0, 0, 0, 0, 0, 0, 0, 0, 0, 0, 0, 0, 0, 0, 0, 0, 0, 0, 0, 0, 0, 0, 0, 0, 0, 0, 0, 0, 0, 0, 0, 0, 0, 0, 0, 0, 0, 0, 0, 0, 0, 0, 0, 0, 0, 0, 1, 0, 0, 0, 0, 0, 0, 0, 0, 0, 0, 0, 0, 0, 0, 0, 0, 0, 0, 0, 0, 0, 0, 0, 0, 0, 0, 0, 0, 0, 0, 0, 0, 0, 0, 0, 0, 0, 0, 0, 0, 0, 0, 0, 0, 0, 0, 0, 0, 0, 0, 0, 0, 0, 0, 0, 0, 0, 0, 0, 0, 0, 0, 0, 0, 0, 0, 0, 0, 0, 0, 0, 0, 0, 0, 1, 0, 0, 0, 0, 0, 0, 0, 0, 0, 0, 0, 0, 0, 0, 0, 0, 0, 0, 0, 0, 1, 0, 0, 1, 0, 0, 0, 0, 0, 0, 0, 0, 0, 0, 0, 0, 0, 0, 0, 0, 0, 0, 0, 0, 0, 0, 0, 0, 0, 0, 0, 0, 0, 0, 0, 0, 0, 0, 0, 0, 0, 0, 0, 0, 0, 0, 0, 0, 0, 0, 0, 0, 0, 0, 0, 0, 0, 0, 0, 0, 0, 0, 0, 0, 0, 0, 0, 0, 0, 0, 0, 0, 0, 0, 0, 0, 0, 0, 0, 0, 0, 0, 0, 0, 0, 0, 0, 0, 0, 0, 0, 0, 0, 0, 0, 0, 0, 0, 0, 0, 0, 0, 0, 0, 0, 0, 0, 0, 0, 0, 0, 0, 0, 0, 0, 0, 0, 0, 0, 0, 0, 0, 0, 0, 0, 0, 0, 0, 0, 0, 0, 0, 0, 0, 0, 0, 0, 0, 0, 0, 0, 0, 0, 0, 0, 0, 0, 0, 0, 0, 0, 0, 0, 0, 0, 0, 0, 0, 0, 0, 0, 0, 0, 0, 0, 0, 0, 0, 0, 0, 0, 0, 0, 0, 0, 0, 0, 0, 0, 0, 0, 0, 0, 0, 0, 0, 0, 0, 0, 0, 0, 0, 0, 0, 0, 0, 0, 0, 0, 0, 0, 0, 0, 0, 0, 0, 0, 0, 0, 0, 0, 0, 0, 0, 0, 0, 0, 0, 0, 0, 0, 0, 0, 0, 0, 0, 0, 0, 0, 0, 0, 0, 0, 0, 0, 0, 0, 0, 0, 0, 0, 0, 0, 0, 0, 0, 0, 0, 0, 0, 0, 0, 0, 0, 0, 0, 0, 0, 0, 0, 0, 0, 0, 0, 0, 0, 0, 0, 0, 0, 0, 0, 0, 0, 0, 0, 0, 0, 0, 0, 0, 0, 0, 0, 0, 0, 0, 0, 0, 0, 0, 0, 0, 0, 0, 0, 0, 0, 0, 0, 0, 0, 0, 0, 0, 0, 0, 0, 0, 0, 0, 0, 0, 0, 0, 0, 0, 0, 0, 0, 0, 0, 0, 0, 0, 0, 0, 0, 0, 0, 0, 0, 0, 0, 0, 0, 0, 0, 0, 0, 0, 0, 0, 0, 0, 0, 0, 0, 0, 0, 0, 0, 0, 0, 0, 0, 0, 0, 0, 0, 0, 0, 0, 0, 0, 0, 0, 0, 0, 0, 0, 0, 0, 0, 0, 0, 0, 0, 0, 0, 0, 0, 0, 0, 0, 0, 0, 0, 0, 0, 0, 0, 0, 0, 0, 0, 0, 0, 0, 0, 0, 0, 0, 0, 0, 0, 0, 0, 0, 0, 0, 0, 0, 0, 0, 0, 0, 0, 0, 0, 0, 0, 0, 0, 0, 0, 0, 0, 0, 0, 0, 0, 0, 0, 0, 0, 0, 0, 0, 0, 0, 0, 0, 0, 0, 0, 0, 0, 0, 0, 0, 0, 0, 0, 0, 0, 0, 0, 0, 0, 0, 0, 0, 0, 0, 0, 0, 0, 0, 0, 1, 0, 0, 0, 0, 0, 0, 0, 0, 0, 0, 0, 0, 0, 0, 0, 0, 0, 0, 0, 0, 0, 0, 0, 0, 0, 0, 0, 0, 0, 0, 0, 0, 0, 0, 0, 0, 0, 0, 0, 0, 0, 0, 0, 0, 0, 0, 0, 0, 0, 0, 0, 0, 0, 0, 0, 0, 0, 0, 0, 0, 0, 0, 0, 0, 0, 0, 0, 0, 0, 0, 0, 0, 0, 0, 0, 0, 0, 0, 0, 0, 0, 0, 0, 0, 0, 0, 0, 0, 0, 0, 0, 0, 0, 0, 0, 0, 0, 0, 0, 0, 0, 0, 0, 0, 0, 0, 0, 0, 0, 0, 0, 0, 0, 0, 0, 0, 0, 0, 0, 0, 0, 0, 0, 0, 0, 0, 0, 0, 0, 0, 0, 0, 0, 0, 0, 0, 0, 0, 0, 0, 0, 0, 0, 0, 0, 0, 0, 0, 0, 0, 0, 0, 0, 0, 0, 0, 0, 0, 0, 0, 0, 0, 0, 0, 0, 0, 0, 0, 0, 0, 0, 0, 0, 0, 0, 0, 0, 0, 0, 0, 0, 0, 0, 0, 0, 0, 0, 0, 0, 0, 0, 0, 0, 0, 0, 0, 0, 0, 0, 0, 0, 0, 0, 0, 0, 0, 0, 0, 0, 0, 0, 0, 0, 0, 0, 0, 0, 0, 0, 0, 0, 0, 0, 0, 0, 0, 0, 0, 0, 0, 0, 0, 0, 0, 0, 0, 0, 0, 0, 0, 0, 0, 0, 0, 0, 0, 0, 0, 0, 0, 0, 0, 0, 0, 0, 0, 0, 0, 0, 0, 0, 0, 0, 0, 0, 0, 0, 0, 0, 0, 0, 0, 0, 0, 0, 0, 0, 0, 0, 0, 0, 0, 0, 0, 0, 0, 0, 0, 0, 0, 0, 0, 0, 0, 0, 0, 0, 0, 0, 0, 0, 0, 0, 0, 0, 0, 0, 0, 0, 0, 0, 0, 0, 0, 0, 0, 0, 0, 0, 0, 0, 0, 0, 0, 0, 0, 0, 0, 0, 0, 0, 0, 0, 0, 0, 0, 0, 0, 0, 0, 0, 0, 0, 0, 0, 0, 0, 0, 0, 0, 0, 0, 0, 0, 0, 0, 0, 0, 0, 0, 0, 0, 0, 0, 0, 0, 0, 0, 0, 0, 0, 0, 0, 0, 0, 0, 0, 0, 0, 0, 0, 0, 0, 0, 0, 0, 0, 0, 0, 0, 0, 0, 0, 0, 0, 0, 0, 0, 0, 0, 0, 0, 0, 0, 0, 0, 0, 0, 0, 0, 0, 0, 0, 0, 0, 0, 0, 0, 0, 0, 0, 0, 0, 0, 0, 0, 0, 0, 0, 0, 0, 0, 0, 0, 0, 0, 0, 0, 0, 0, 0, 0, 0, 0, 0, 0, 0, 0, 0, 0, 0, 0, 0, 0, 0, 0, 0, 0, 0, 0, 0, 0, 0, 0, 0, 0, 0, 0, 0, 0, 0, 0, 0, 0, 0, 0, 0, 0, 0, 0, 0, 0, 0, 0, 0, 0, 0, 0, 0, 0, 0, 0, 0, 0, 0, 0, 0, 0, 0, 0, 0, 0, 0, 0, 0, 0, 0, 0, 0, 0, 0, 0, 1, 0, 0, 0, 0, 0, 0, 0, 0, 0, 0, 0, 0, 0, 0, 0, 0, 0, 0, 0, 0, 0, 0, 0, 0, 0, 0, 0, 0, 0, 0, 0, 0, 0, 0, 0, 2, 0, 0, 0, 0, 0, 0, 0, 0, 0, 0, 0, 0, 0, 0, 0, 0, 0, 0, 0, 0, 0, 0, 0, 0, 0, 0, 0, 0, 0, 0, 0, 0, 0, 0, 0, 0, 0, 0, 0, 0, 1, 0, 0, 0, 0, 0, 0, 0, 0, 0, 0, 0, 0, 0, 0, 0, 0, 0, 0, 0, 0, 0, 0, 0, 0, 0, 0, 0, 0, 0, 0, 0, 0, 0, 0, 0, 0, 0, 0, 0, 0, 0, 0, 0, 0, 0, 0, 0, 0, 0, 0, 0, 0, 0, 0, 0, 0, 0, 0, 0, 0, 0, 0, 0, 0, 0, 0, 0, 0, 0, 0, 0, 0, 0, 0, 0, 0, 0, 0, 0, 0, 0, 0, 0, 0, 0, 0, 0, 0, 0, 0, 0, 0, 0, 0, 0, 0, 0, 0, 0, 0, 0, 0, 0, 0, 0, 0, 0, 0, 0, 0, 0, 0, 0, 0, 0, 0, 0, 0, 0, 0, 0, 0, 0, 0, 0, 0, 0, 0, 0, 0, 0, 0, 0, 0, 0, 0, 0, 0, 0, 0, 0, 0, 0, 0, 0, 0, 0, 0, 0, 0, 0, 0, 0, 0, 0, 0, 0, 0, 0, 0, 0, 0, 0, 0, 0, 0, 0, 0, 0, 0, 0, 0, 0, 0, 0, 0, 0, 0, 0, 0, 0, 0, 0, 0, 0, 0, 0, 0, 0, 0, 0, 0, 0, 0, 0, 0, 0, 0, 0, 0, 0, 0, 0, 0, 0, 0, 0, 0, 0, 0, 0, 0, 0, 0, 0, 0, 0, 0, 0, 0, 0, 0, 0, 0, 0, 0, 0, 0, 0, 0, 0, 0, 0, 0, 0, 0, 0, 0, 0, 0, 0, 0, 0, 0, 0, 0, 0, 0, 0, 0, 0, 0, 0, 0, 0, 0, 0, 0, 0, 0, 0, 0, 0, 0, 0, 0, 0, 0, 0, 0, 0, 0, 0, 0, 0, 0, 0, 0, 0, 0, 0, 0, 0, 0, 0, 0, 0, 0, 0, 0, 0, 0, 0, 0, 0, 0, 0, 0, 0, 0, 0, 0, 0, 0, 0, 0, 0, 0, 0, 0, 0, 0, 0, 0, 0, 0, 0, 0, 0, 0, 0, 0, 0, 0, 0, 0, 0, 0, 0, 0, 0, 0, 0, 0, 0, 0, 0, 0, 0, 0, 0, 0, 0, 0, 0, 0, 0, 0, 0, 0, 0, 0, 0, 0, 0, 0, 0, 0, 0, 0, 0, 0, 0, 0, 0, 0, 0, 0, 0, 0, 0, 0, 0, 0, 0, 0, 0, 0, 0, 0, 0, 0, 0, 0, 0, 0, 0, 0, 0, 0, 0, 0, 0, 0, 0, 0, 0, 0, 0, 0, 0, 0, 0, 0, 0, 0, 0, 0, 0, 0, 0, 0, 0, 0, 0, 0, 0, 0, 0, 0, 0, 0, 0, 0, 0, 0, 0, 0, 0, 0, 0, 0, 0, 0, 0, 0, 0, 0, 0, 0, 0, 0, 0, 0, 0, 0, 0, 0, 0, 0, 0, 0, 0, 0, 0, 0, 0, 0, 0, 0, 0, 0, 0, 0, 0, 0, 0, 0, 0, 0, 0, 0, 0, 0, 0, 0, 0, 0, 0, 0, 0, 0, 0, 0, 0, 0, 0, 0, 0, 0, 0, 0, 0, 0, 0, 0, 0, 1, 0, 0, 0, 0, 0, 0, 0, 0, 0, 0, 0, 0, 0, 0, 0, 0, 0, 0, 0, 0, 0, 0, 0, 0, 0, 0, 0, 0, 0, 0, 0, 0, 0, 0, 0, 0, 0, 0, 0, 0, 0, 0, 0, 0, 0, 0, 0, 0, 0, 0, 0, 0, 0, 0, 0, 0, 0, 0, 0, 0, 0, 0, 0, 0, 0, 0, 0, 0, 0, 0, 0, 0, 0, 0, 0, 0, 0, 0, 0, 0, 0, 0, 0, 0, 0, 0, 0, 0, 0, 0, 0, 0, 0, 0, 0, 0, 0, 0, 0, 0, 0, 0, 0, 0, 0, 0, 0, 0, 0, 0, 2, 0, 0, 0, 0, 0, 0, 0, 0, 0, 0, 0, 0, 0, 0, 0, 0, 0, 0, 0, 0, 0, 0, 0, 0, 0, 0, 0, 0, 0, 0, 0, 0, 0, 0, 0, 0, 0, 0, 0, 0, 0, 0, 0, 0, 0, 0, 0, 0, 0, 0, 0, 0, 0, 0, 0, 0, 0, 0, 0, 0, 0, 0, 0, 0, 0, 0, 0, 0, 0, 0, 0, 0, 0, 0, 0, 0, 0, 0, 0, 0, 0, 0, 0, 0, 0, 0, 0, 0, 0, 0, 0, 0, 0, 0, 0, 0, 0, 0, 0, 0, 0, 0, 0, 0, 0, 0, 0, 0, 0, 0, 0, 0, 0, 0, 0, 0, 0, 0, 0, 0, 0, 0, 0, 0, 0, 0, 0, 0, 0, 0, 0, 0, 0, 0, 0, 0, 0, 0, 0, 0, 0, 0, 0, 0, 0, 0, 0, 0, 0, 0, 0, 0, 0, 0, 0, 0, 0, 0, 0, 0, 0, 0, 0, 0, 0, 0, 0, 0, 0, 0, 0, 0, 0, 0, 0, 0, 0, 0, 0, 0, 0, 0, 0, 0, 0, 0, 0, 0, 0, 0, 0, 0, 0, 0, 0, 0, 0, 0, 0, 0, 0, 0, 0, 0, 0, 0, 0, 0, 0, 0, 0, 0, 0, 0, 0, 0, 0, 0, 0, 0, 0, 0, 0, 0, 0, 0, 0, 0, 0, 0, 0, 0, 0, 0, 0, 0, 0, 0, 0, 0, 0, 0, 0, 0, 0, 0, 0, 0, 0, 0, 0, 0, 0, 0, 0, 0, 0, 0, 0, 0, 0, 0, 0, 0, 0, 0, 0, 0, 0, 0, 0, 0, 0, 0, 0, 0, 0, 0, 0, 0, 0, 0, 0, 0, 0, 0, 0, 0, 0, 0, 0, 0, 0, 0, 0, 0, 0, 0, 0, 0, 0, 0, 0, 0, 0, 0, 0, 0, 0, 0, 0, 0, 0, 0, 0, 0, 0, 0, 0, 0, 0, 0, 0, 0, 0, 0, 0, 0, 0, 0, 0, 0, 0, 0, 0, 0, 0, 0, 0, 0, 0, 0, 0, 0, 0, 0, 0, 0, 0, 0, 0, 0, 0, 0, 0, 0, 0, 0, 0, 0, 0, 0, 0, 0, 0, 0, 0, 0, 0, 0, 0, 0, 0, 0, 0, 0, 0, 0, 0, 0, 0, 0, 0, 0, 0, 0, 0, 0, 0, 0, 0, 0, 0, 0, 0, 0, 0, 0, 0, 0, 0, 0, 0, 0, 0, 0, 0, 0, 0, 0, 0, 0, 0, 0, 0, 0, 0, 0, 0, 0, 0, 0, 0, 0, 0, 0, 0, 0, 0, 0, 0, 0, 0, 0, 0, 0, 0, 0, 0, 0, 0, 0, 0, 0, 0, 0, 0, 0, 0, 0, 0, 0, 0, 0, 0, 0, 0, 0, 0, 0, 0, 0, 0, 0, 0, 0, 0, 0, 0, 0, 0, 0, 0, 0, 0, 0, 0, 0, 0, 0, 0, 0, 0, 0, 0, 0, 0, 0, 0, 0, 0, 0, 0, 0, 0, 0, 0, 0, 0, 0, 0, 0, 0, 0, 0, 0, 0, 0, 0, 0, 0, 0, 0, 0, 0, 0, 0, 0, 0, 0, 0, 0, 0, 0, 0, 0, 0, 0, 0, 0, 0, 0, 0, 0, 0, 0, 0, 0, 0, 0, 0, 0, 0, 0, 0, 0, 0, 0, 0, 0, 0, 0, 0, 0, 0, 0, 0, 0, 0, 0, 0, 0, 0, 0, 0, 0, 0, 0, 0, 0, 0, 0, 0, 0, 0, 0, 0, 0, 0, 0, 0, 0, 0, 0, 0, 0, 0, 0, 0, 0, 0, 0, 0, 0, 0, 0, 0, 0, 0, 0, 0, 0, 0, 0, 0, 0, 0, 0, 0, 0, 0, 0, 0, 0, 0, 0, 0, 0, 0, 0, 0, 0, 0, 0, 0, 0, 0, 0, 0, 0, 0, 0, 0, 0, 0, 0, 0, 0, 0, 0, 0, 0, 0, 0, 0, 0, 0, 0, 0, 0, 0, 0, 0, 0, 0, 0, 0, 0, 0, 0, 0, 0, 0, 0, 0, 0, 0, 0, 0, 0, 0, 0, 0, 0, 0, 0, 0, 0, 0, 0, 0, 0, 0, 0, 0, 0, 0, 0, 0, 0, 1, 0, 0, 0, 0, 0, 0, 0, 0, 0, 0, 0, 0, 0, 0, 0, 0, 0, 0, 0, 0, 0, 0, 0, 0, 0, 0, 0, 0, 0, 0, 0, 0, 0, 0, 0, 0, 0, 0, 0, 0, 0, 0, 0, 0, 0, 0, 0, 0, 0, 0, 0, 0, 0, 0, 0, 0, 0, 0, 0, 0, 0, 0, 0, 0, 0, 0, 0, 0, 0, 0, 0, 0, 0, 0, 0, 0, 0, 0, 0, 0, 0, 0, 0, 0, 0, 0, 0, 0, 0, 0, 0, 0, 0, 0, 0, 0, 0, 0, 0, 0, 0, 0, 0, 0, 0, 0, 0, 1, 0, 0, 0, 0, 0, 0, 0, 0, 0, 0, 0, 0, 0, 0, 0, 0, 0, 0, 0, 0, 0, 0, 0, 0, 0, 0, 0, 0, 0, 0, 0, 0, 0, 0, 0, 0, 0, 0, 0, 0, 0, 0, 0, 0, 0, 0, 0, 0, 0, 0, 0, 0, 0, 0, 0, 0, 0, 0, 0, 0, 0, 0, 0, 0, 0, 0, 0, 0, 0, 0, 0, 0, 0, 0, 0, 0, 0, 0, 0, 0, 0, 0, 0, 0, 0, 0, 0, 0, 0, 0, 0, 0, 0, 0, 0, 0, 0, 0, 0, 0, 0, 0, 0, 0, 0, 0, 0, 0, 0, 0, 0, 0, 0, 0, 0, 0, 0, 0, 0, 0, 0, 0, 0, 0, 0, 0, 0, 0, 0, 0, 0, 0, 0, 0, 0, 0, 0, 0, 0, 0, 0, 0, 0, 0, 0, 0, 0, 0, 0, 0, 0, 0, 0, 0, 0, 0, 0, 0, 0, 0, 0, 0, 0, 0, 0, 0, 0, 0, 0, 0, 0, 0, 0, 0, 0, 0, 0, 0, 0, 0, 0, 0, 0, 0, 0, 0, 0, 0, 0, 0, 0, 0, 0, 0, 0, 0, 0, 0, 0, 0, 0, 0, 0, 0, 0, 0, 0, 0, 0, 0, 0, 0, 0, 0, 0, 0, 0, 0, 0, 0, 0, 0, 0, 0, 0, 0, 0, 0, 0, 0, 0, 0, 0, 0, 0, 0, 0, 0, 0, 0, 0, 0, 0, 0, 0, 0, 0, 0, 0, 0, 0, 0, 0, 0, 0, 0, 0, 0, 0, 0, 0, 0, 0, 0, 0, 0, 0, 0, 0, 0, 0, 0, 0, 0, 0, 0, 0, 0, 0, 0, 0, 0, 0, 0, 0, 0, 0, 0, 0, 0, 0, 0, 0, 0, 0, 0, 0, 0, 0, 0, 0, 0, 0, 0, 0, 0, 0, 0, 0, 0, 0, 0, 0, 0, 0, 0, 0, 0, 0, 0, 0, 0, 0, 0, 0, 0, 0, 0, 0, 0, 0, 0, 0, 0, 0, 0, 0, 0, 0, 0, 0, 0, 0, 0, 0, 0, 0, 0, 0, 0, 0, 0, 0, 0, 0, 0, 0, 0, 0, 0, 0, 0, 0, 0, 0, 0, 0, 0, 0, 0, 0, 0, 0, 0, 0, 0, 0, 0, 0, 0, 0, 0, 0, 0, 0, 0, 0, 0, 0, 0, 0, 0, 0, 0, 0, 0, 0, 0, 0, 0, 0, 0, 0, 0, 0, 0, 0, 0, 0, 0, 0, 0, 0, 0, 0, 0, 0, 0, 0, 0, 0, 0, 0, 0, 0, 0, 0, 0, 0, 0, 0, 0, 0, 0, 0, 0, 0, 0, 0, 0, 0, 0, 0, 0, 0, 0, 0, 0, 0, 0, 0, 0, 0, 0, 0, 0, 0, 0, 0, 0, 0, 0, 0, 2, 0, 1, 0], type: <class 'list'>, valid types: <class 'bytes'>, <class 'bytearray'>, file-like object",
     "output_type": "error",
     "traceback": [
      "\u001b[0;31m---------------------------------------------------------------------------\u001b[0m",
      "\u001b[0;31mParamValidationError\u001b[0m                      Traceback (most recent call last)",
      "\u001b[0;32m<ipython-input-51-c9ab54ae3a48>\u001b[0m in \u001b[0;36m<module>\u001b[0;34m\u001b[0m\n\u001b[1;32m      1\u001b[0m response = runtime.invoke_endpoint(EndpointName = xgb_predictor.endpoint, # The name of the endpoint we created\n\u001b[1;32m      2\u001b[0m                                        \u001b[0mContentType\u001b[0m \u001b[0;34m=\u001b[0m \u001b[0;34m'text/csv'\u001b[0m\u001b[0;34m,\u001b[0m                     \u001b[0;31m# The data format that is expected\u001b[0m\u001b[0;34m\u001b[0m\u001b[0;34m\u001b[0m\u001b[0m\n\u001b[0;32m----> 3\u001b[0;31m                                        Body = test_bow)\n\u001b[0m",
      "\u001b[0;32m~/anaconda3/envs/python3/lib/python3.6/site-packages/botocore/client.py\u001b[0m in \u001b[0;36m_api_call\u001b[0;34m(self, *args, **kwargs)\u001b[0m\n\u001b[1;32m    314\u001b[0m                     \"%s() only accepts keyword arguments.\" % py_operation_name)\n\u001b[1;32m    315\u001b[0m             \u001b[0;31m# The \"self\" in this scope is referring to the BaseClient.\u001b[0m\u001b[0;34m\u001b[0m\u001b[0;34m\u001b[0m\u001b[0;34m\u001b[0m\u001b[0m\n\u001b[0;32m--> 316\u001b[0;31m             \u001b[0;32mreturn\u001b[0m \u001b[0mself\u001b[0m\u001b[0;34m.\u001b[0m\u001b[0m_make_api_call\u001b[0m\u001b[0;34m(\u001b[0m\u001b[0moperation_name\u001b[0m\u001b[0;34m,\u001b[0m \u001b[0mkwargs\u001b[0m\u001b[0;34m)\u001b[0m\u001b[0;34m\u001b[0m\u001b[0;34m\u001b[0m\u001b[0m\n\u001b[0m\u001b[1;32m    317\u001b[0m \u001b[0;34m\u001b[0m\u001b[0m\n\u001b[1;32m    318\u001b[0m         \u001b[0m_api_call\u001b[0m\u001b[0;34m.\u001b[0m\u001b[0m__name__\u001b[0m \u001b[0;34m=\u001b[0m \u001b[0mstr\u001b[0m\u001b[0;34m(\u001b[0m\u001b[0mpy_operation_name\u001b[0m\u001b[0;34m)\u001b[0m\u001b[0;34m\u001b[0m\u001b[0;34m\u001b[0m\u001b[0m\n",
      "\u001b[0;32m~/anaconda3/envs/python3/lib/python3.6/site-packages/botocore/client.py\u001b[0m in \u001b[0;36m_make_api_call\u001b[0;34m(self, operation_name, api_params)\u001b[0m\n\u001b[1;32m    606\u001b[0m         }\n\u001b[1;32m    607\u001b[0m         request_dict = self._convert_to_request_dict(\n\u001b[0;32m--> 608\u001b[0;31m             api_params, operation_model, context=request_context)\n\u001b[0m\u001b[1;32m    609\u001b[0m \u001b[0;34m\u001b[0m\u001b[0m\n\u001b[1;32m    610\u001b[0m         \u001b[0mservice_id\u001b[0m \u001b[0;34m=\u001b[0m \u001b[0mself\u001b[0m\u001b[0;34m.\u001b[0m\u001b[0m_service_model\u001b[0m\u001b[0;34m.\u001b[0m\u001b[0mservice_id\u001b[0m\u001b[0;34m.\u001b[0m\u001b[0mhyphenize\u001b[0m\u001b[0;34m(\u001b[0m\u001b[0;34m)\u001b[0m\u001b[0;34m\u001b[0m\u001b[0;34m\u001b[0m\u001b[0m\n",
      "\u001b[0;32m~/anaconda3/envs/python3/lib/python3.6/site-packages/botocore/client.py\u001b[0m in \u001b[0;36m_convert_to_request_dict\u001b[0;34m(self, api_params, operation_model, context)\u001b[0m\n\u001b[1;32m    654\u001b[0m             api_params, operation_model, context)\n\u001b[1;32m    655\u001b[0m         request_dict = self._serializer.serialize_to_request(\n\u001b[0;32m--> 656\u001b[0;31m             api_params, operation_model)\n\u001b[0m\u001b[1;32m    657\u001b[0m         \u001b[0;32mif\u001b[0m \u001b[0;32mnot\u001b[0m \u001b[0mself\u001b[0m\u001b[0;34m.\u001b[0m\u001b[0m_client_config\u001b[0m\u001b[0;34m.\u001b[0m\u001b[0minject_host_prefix\u001b[0m\u001b[0;34m:\u001b[0m\u001b[0;34m\u001b[0m\u001b[0;34m\u001b[0m\u001b[0m\n\u001b[1;32m    658\u001b[0m             \u001b[0mrequest_dict\u001b[0m\u001b[0;34m.\u001b[0m\u001b[0mpop\u001b[0m\u001b[0;34m(\u001b[0m\u001b[0;34m'host_prefix'\u001b[0m\u001b[0;34m,\u001b[0m \u001b[0;32mNone\u001b[0m\u001b[0;34m)\u001b[0m\u001b[0;34m\u001b[0m\u001b[0;34m\u001b[0m\u001b[0m\n",
      "\u001b[0;32m~/anaconda3/envs/python3/lib/python3.6/site-packages/botocore/validate.py\u001b[0m in \u001b[0;36mserialize_to_request\u001b[0;34m(self, parameters, operation_model)\u001b[0m\n\u001b[1;32m    295\u001b[0m                                                     operation_model.input_shape)\n\u001b[1;32m    296\u001b[0m             \u001b[0;32mif\u001b[0m \u001b[0mreport\u001b[0m\u001b[0;34m.\u001b[0m\u001b[0mhas_errors\u001b[0m\u001b[0;34m(\u001b[0m\u001b[0;34m)\u001b[0m\u001b[0;34m:\u001b[0m\u001b[0;34m\u001b[0m\u001b[0;34m\u001b[0m\u001b[0m\n\u001b[0;32m--> 297\u001b[0;31m                 \u001b[0;32mraise\u001b[0m \u001b[0mParamValidationError\u001b[0m\u001b[0;34m(\u001b[0m\u001b[0mreport\u001b[0m\u001b[0;34m=\u001b[0m\u001b[0mreport\u001b[0m\u001b[0;34m.\u001b[0m\u001b[0mgenerate_report\u001b[0m\u001b[0;34m(\u001b[0m\u001b[0;34m)\u001b[0m\u001b[0;34m)\u001b[0m\u001b[0;34m\u001b[0m\u001b[0;34m\u001b[0m\u001b[0m\n\u001b[0m\u001b[1;32m    298\u001b[0m         return self._serializer.serialize_to_request(parameters,\n\u001b[1;32m    299\u001b[0m                                                      operation_model)\n",
      "\u001b[0;31mParamValidationError\u001b[0m: Parameter validation failed:\nInvalid type for parameter Body, value: [0, 0, 0, 0, 0, 0, 0, 0, 0, 0, 0, 0, 0, 0, 0, 0, 0, 0, 0, 0, 0, 0, 0, 0, 0, 0, 0, 0, 0, 0, 0, 0, 0, 0, 0, 0, 0, 0, 0, 0, 0, 0, 0, 0, 0, 0, 0, 0, 0, 0, 0, 0, 0, 0, 0, 0, 0, 0, 0, 0, 0, 0, 0, 0, 0, 0, 0, 0, 0, 0, 0, 0, 0, 0, 0, 0, 0, 0, 0, 0, 0, 0, 0, 0, 0, 0, 0, 0, 0, 0, 0, 0, 0, 0, 0, 0, 0, 0, 0, 0, 0, 0, 0, 0, 0, 0, 0, 0, 0, 0, 0, 0, 0, 0, 0, 0, 0, 0, 0, 0, 0, 0, 0, 0, 0, 0, 0, 0, 0, 0, 0, 0, 0, 0, 0, 0, 0, 0, 0, 0, 0, 0, 0, 0, 0, 0, 0, 0, 0, 0, 0, 0, 0, 0, 0, 0, 0, 0, 0, 0, 0, 0, 0, 0, 0, 0, 0, 0, 0, 0, 0, 0, 0, 0, 0, 0, 0, 0, 0, 0, 0, 0, 0, 0, 0, 0, 0, 0, 0, 0, 0, 0, 0, 0, 0, 0, 0, 0, 0, 0, 0, 0, 0, 0, 0, 0, 0, 0, 0, 0, 0, 0, 0, 0, 0, 0, 0, 0, 0, 0, 0, 0, 0, 0, 0, 0, 1, 0, 0, 0, 0, 0, 0, 0, 0, 0, 0, 0, 0, 0, 0, 0, 0, 0, 0, 0, 0, 0, 0, 0, 0, 0, 0, 0, 0, 0, 1, 0, 0, 0, 0, 0, 0, 0, 0, 0, 0, 0, 0, 0, 0, 0, 0, 0, 0, 0, 0, 0, 0, 0, 0, 0, 0, 0, 0, 0, 0, 0, 0, 0, 0, 0, 0, 0, 0, 0, 0, 0, 0, 0, 0, 0, 0, 0, 0, 0, 0, 0, 0, 0, 0, 0, 0, 0, 0, 0, 0, 0, 0, 0, 0, 0, 0, 0, 0, 0, 0, 0, 0, 0, 0, 0, 0, 0, 0, 0, 0, 0, 0, 0, 0, 0, 0, 0, 0, 0, 0, 0, 0, 0, 0, 0, 0, 0, 0, 0, 0, 0, 0, 0, 0, 0, 0, 0, 0, 0, 0, 0, 0, 0, 0, 0, 0, 0, 0, 0, 0, 0, 0, 0, 0, 0, 0, 0, 0, 0, 0, 0, 0, 0, 0, 0, 0, 0, 0, 0, 0, 0, 0, 0, 0, 0, 0, 0, 0, 0, 0, 0, 0, 0, 0, 0, 0, 0, 0, 0, 0, 0, 0, 0, 0, 0, 0, 0, 0, 0, 0, 0, 0, 0, 0, 0, 0, 0, 0, 0, 0, 0, 0, 0, 0, 0, 0, 0, 0, 0, 0, 0, 0, 0, 0, 0, 0, 0, 0, 0, 0, 0, 0, 0, 0, 0, 0, 0, 0, 0, 0, 0, 0, 0, 0, 0, 0, 0, 0, 0, 0, 0, 0, 0, 0, 0, 0, 0, 0, 0, 0, 0, 0, 0, 0, 0, 0, 0, 0, 0, 0, 0, 0, 0, 0, 0, 0, 0, 0, 0, 0, 0, 0, 0, 0, 0, 0, 0, 0, 0, 0, 0, 0, 0, 0, 0, 0, 0, 0, 0, 0, 0, 0, 0, 0, 0, 0, 0, 0, 0, 0, 0, 0, 0, 0, 0, 0, 0, 0, 0, 0, 0, 0, 0, 0, 0, 0, 0, 0, 0, 0, 0, 0, 0, 0, 0, 0, 0, 0, 0, 0, 0, 0, 0, 0, 0, 0, 0, 0, 0, 0, 0, 0, 0, 0, 0, 0, 0, 0, 0, 0, 0, 0, 0, 0, 0, 0, 0, 0, 0, 0, 0, 0, 0, 0, 0, 0, 0, 0, 0, 0, 0, 0, 0, 0, 0, 0, 0, 0, 0, 0, 0, 0, 0, 0, 0, 0, 0, 0, 0, 0, 0, 0, 0, 0, 0, 0, 0, 0, 0, 1, 0, 0, 0, 0, 0, 0, 0, 0, 0, 0, 0, 0, 0, 0, 0, 0, 0, 0, 0, 0, 0, 0, 0, 0, 0, 0, 0, 0, 0, 0, 0, 0, 0, 0, 0, 0, 0, 0, 0, 0, 0, 0, 0, 0, 0, 0, 0, 0, 0, 0, 0, 0, 0, 0, 0, 0, 0, 0, 0, 0, 0, 0, 0, 0, 0, 0, 0, 0, 0, 0, 0, 0, 0, 0, 0, 0, 0, 0, 0, 0, 0, 0, 0, 0, 0, 0, 0, 0, 0, 0, 0, 0, 0, 0, 0, 0, 0, 0, 0, 0, 0, 0, 0, 0, 0, 0, 0, 0, 0, 0, 0, 0, 0, 0, 0, 0, 0, 0, 0, 0, 0, 0, 0, 0, 0, 0, 0, 0, 0, 0, 0, 0, 0, 0, 0, 0, 0, 0, 0, 0, 0, 0, 0, 0, 0, 0, 0, 0, 0, 0, 0, 0, 0, 0, 0, 0, 0, 0, 0, 0, 0, 0, 0, 0, 0, 0, 0, 0, 0, 0, 0, 0, 0, 0, 0, 0, 0, 0, 0, 0, 0, 0, 0, 0, 0, 0, 0, 0, 0, 0, 0, 0, 0, 0, 0, 0, 0, 0, 0, 0, 0, 0, 0, 0, 0, 0, 0, 0, 0, 0, 0, 0, 0, 0, 0, 0, 0, 0, 0, 0, 0, 0, 0, 0, 0, 0, 0, 0, 0, 0, 0, 0, 0, 0, 0, 0, 0, 0, 0, 0, 0, 0, 0, 0, 0, 0, 0, 0, 0, 0, 0, 0, 0, 1, 0, 0, 0, 0, 0, 0, 0, 0, 0, 0, 0, 0, 0, 0, 0, 0, 0, 0, 0, 0, 0, 0, 0, 0, 0, 0, 0, 0, 0, 0, 0, 0, 0, 0, 0, 0, 0, 0, 0, 0, 0, 0, 0, 0, 0, 0, 0, 0, 0, 0, 0, 0, 0, 0, 0, 0, 0, 0, 0, 0, 0, 0, 0, 0, 0, 0, 0, 0, 0, 0, 0, 0, 0, 0, 0, 0, 0, 0, 0, 0, 0, 0, 0, 0, 0, 0, 1, 0, 0, 0, 0, 0, 0, 0, 0, 0, 0, 0, 0, 0, 0, 0, 0, 0, 0, 0, 0, 0, 0, 0, 0, 0, 0, 0, 0, 0, 0, 0, 0, 0, 0, 0, 0, 0, 0, 0, 0, 0, 0, 0, 0, 0, 0, 0, 0, 0, 0, 0, 0, 0, 0, 0, 0, 0, 0, 0, 0, 0, 0, 0, 0, 0, 0, 0, 0, 0, 0, 0, 0, 0, 0, 0, 0, 0, 0, 0, 0, 0, 0, 0, 0, 0, 0, 0, 0, 0, 0, 0, 0, 0, 0, 0, 0, 0, 0, 0, 0, 0, 0, 0, 0, 0, 0, 0, 0, 0, 0, 0, 0, 0, 0, 0, 0, 0, 0, 0, 0, 0, 0, 0, 0, 0, 0, 0, 0, 0, 0, 0, 0, 0, 0, 0, 0, 0, 0, 0, 0, 0, 0, 0, 0, 0, 0, 0, 0, 0, 0, 0, 0, 0, 0, 0, 0, 0, 0, 0, 0, 0, 0, 0, 0, 0, 0, 0, 0, 0, 0, 0, 0, 0, 0, 0, 0, 0, 0, 0, 0, 0, 0, 0, 0, 0, 0, 0, 0, 0, 0, 0, 0, 0, 0, 0, 0, 0, 0, 0, 0, 0, 0, 0, 0, 0, 0, 0, 0, 0, 0, 0, 0, 0, 0, 0, 0, 0, 0, 0, 0, 0, 0, 0, 0, 0, 0, 0, 0, 0, 0, 0, 0, 0, 0, 0, 0, 0, 0, 0, 0, 0, 0, 0, 0, 0, 0, 0, 0, 0, 0, 0, 0, 1, 0, 0, 0, 0, 0, 0, 0, 0, 0, 0, 0, 0, 0, 0, 0, 0, 0, 0, 0, 0, 0, 0, 0, 0, 0, 0, 0, 0, 0, 0, 0, 0, 0, 0, 0, 0, 0, 0, 0, 0, 0, 0, 0, 0, 0, 0, 0, 0, 0, 0, 0, 0, 0, 0, 0, 1, 0, 0, 0, 0, 0, 0, 0, 0, 0, 0, 0, 0, 0, 0, 0, 0, 0, 0, 0, 0, 0, 0, 0, 0, 0, 0, 0, 0, 0, 0, 0, 0, 0, 0, 0, 0, 0, 0, 0, 0, 0, 0, 0, 0, 0, 0, 0, 0, 0, 0, 0, 0, 0, 0, 0, 0, 0, 0, 0, 0, 0, 0, 0, 0, 0, 0, 0, 0, 0, 0, 0, 0, 0, 0, 0, 0, 0, 0, 0, 0, 0, 0, 0, 0, 0, 0, 0, 0, 0, 0, 0, 0, 0, 0, 0, 0, 0, 0, 0, 0, 0, 0, 0, 0, 0, 0, 0, 0, 0, 0, 0, 0, 0, 0, 0, 0, 0, 0, 0, 0, 0, 0, 0, 0, 0, 0, 0, 0, 0, 0, 0, 0, 0, 0, 0, 0, 0, 0, 0, 0, 0, 0, 0, 0, 0, 0, 0, 0, 0, 0, 0, 0, 0, 0, 0, 0, 0, 0, 0, 0, 0, 0, 0, 0, 0, 0, 0, 0, 0, 0, 0, 0, 0, 0, 0, 0, 0, 0, 0, 0, 0, 0, 0, 0, 0, 0, 0, 0, 0, 0, 0, 0, 0, 0, 0, 0, 0, 0, 0, 0, 0, 0, 0, 0, 0, 0, 0, 0, 0, 0, 0, 0, 0, 0, 0, 0, 0, 0, 0, 0, 0, 0, 0, 0, 0, 0, 0, 0, 0, 0, 0, 0, 0, 0, 0, 0, 0, 0, 0, 0, 0, 0, 0, 0, 0, 0, 0, 0, 0, 0, 0, 0, 0, 0, 0, 0, 0, 0, 0, 0, 0, 0, 0, 0, 0, 0, 0, 0, 0, 0, 0, 0, 0, 0, 0, 0, 0, 0, 0, 0, 0, 0, 0, 0, 0, 0, 0, 0, 0, 0, 0, 0, 0, 0, 0, 0, 0, 0, 0, 0, 0, 0, 0, 0, 0, 0, 0, 0, 0, 0, 0, 0, 0, 0, 0, 0, 0, 0, 0, 0, 0, 0, 0, 0, 0, 0, 0, 0, 0, 0, 0, 0, 0, 0, 0, 0, 0, 0, 0, 0, 0, 0, 0, 0, 0, 0, 0, 0, 0, 0, 0, 0, 0, 0, 0, 0, 0, 0, 0, 0, 0, 0, 0, 0, 0, 0, 0, 0, 0, 0, 0, 0, 0, 0, 0, 0, 0, 0, 0, 0, 0, 0, 0, 0, 0, 0, 0, 0, 0, 0, 0, 0, 0, 0, 0, 0, 0, 0, 0, 0, 0, 0, 0, 0, 0, 0, 0, 0, 0, 0, 0, 0, 0, 0, 0, 0, 0, 0, 0, 0, 0, 0, 0, 0, 0, 0, 0, 0, 0, 0, 0, 0, 0, 0, 0, 0, 0, 0, 0, 0, 0, 0, 0, 0, 0, 0, 0, 0, 0, 0, 0, 0, 0, 0, 0, 0, 0, 0, 0, 0, 0, 0, 0, 0, 0, 0, 0, 0, 0, 0, 0, 0, 0, 0, 0, 0, 0, 0, 0, 0, 0, 0, 0, 0, 0, 0, 0, 0, 0, 0, 0, 0, 0, 0, 0, 0, 0, 0, 0, 0, 0, 0, 0, 0, 0, 0, 0, 0, 0, 0, 0, 0, 0, 0, 0, 0, 0, 0, 0, 0, 0, 0, 0, 0, 0, 0, 0, 0, 0, 0, 0, 0, 0, 0, 0, 0, 0, 0, 0, 0, 0, 0, 0, 0, 0, 0, 0, 0, 0, 0, 0, 0, 0, 0, 0, 0, 0, 0, 0, 0, 0, 0, 0, 0, 0, 0, 0, 0, 0, 0, 0, 0, 0, 0, 0, 0, 0, 0, 0, 0, 0, 0, 0, 0, 0, 0, 0, 0, 0, 0, 0, 0, 0, 0, 0, 0, 0, 0, 0, 0, 0, 0, 0, 0, 0, 0, 0, 0, 0, 0, 0, 0, 0, 0, 0, 0, 0, 0, 0, 0, 0, 0, 0, 0, 0, 0, 0, 0, 0, 0, 0, 0, 0, 0, 0, 0, 0, 0, 0, 0, 0, 0, 0, 0, 0, 0, 0, 0, 0, 0, 0, 0, 0, 0, 0, 0, 0, 0, 0, 0, 0, 0, 0, 0, 0, 0, 0, 0, 0, 0, 0, 0, 0, 0, 0, 0, 0, 0, 0, 0, 0, 1, 0, 0, 0, 0, 0, 0, 0, 0, 0, 0, 0, 0, 0, 0, 0, 0, 0, 0, 0, 0, 0, 0, 0, 0, 0, 0, 0, 0, 0, 0, 0, 0, 0, 0, 0, 0, 0, 0, 0, 0, 0, 0, 0, 0, 0, 0, 0, 0, 0, 0, 0, 0, 0, 0, 0, 0, 0, 0, 0, 0, 0, 0, 0, 0, 0, 0, 0, 0, 0, 0, 0, 0, 0, 0, 1, 0, 0, 0, 0, 0, 0, 0, 0, 0, 0, 0, 0, 0, 0, 0, 0, 0, 0, 0, 0, 1, 0, 0, 1, 0, 0, 0, 0, 0, 0, 0, 0, 0, 0, 0, 0, 0, 0, 0, 0, 0, 0, 0, 0, 0, 0, 0, 0, 0, 0, 0, 0, 0, 0, 0, 0, 0, 0, 0, 0, 0, 0, 0, 0, 0, 0, 0, 0, 0, 0, 0, 0, 0, 0, 0, 0, 0, 0, 0, 0, 0, 0, 0, 0, 0, 0, 0, 0, 0, 0, 0, 0, 0, 0, 0, 0, 0, 0, 0, 0, 0, 0, 0, 0, 0, 0, 0, 0, 0, 0, 0, 0, 0, 0, 0, 0, 0, 0, 0, 0, 0, 0, 0, 0, 0, 0, 0, 0, 0, 0, 0, 0, 0, 0, 0, 0, 0, 0, 0, 0, 0, 0, 0, 0, 0, 0, 0, 0, 0, 0, 0, 0, 0, 0, 0, 0, 0, 0, 0, 0, 0, 0, 0, 0, 0, 0, 0, 0, 0, 0, 0, 0, 0, 0, 0, 0, 0, 0, 0, 0, 0, 0, 0, 0, 0, 0, 0, 0, 0, 0, 0, 0, 0, 0, 0, 0, 0, 0, 0, 0, 0, 0, 0, 0, 0, 0, 0, 0, 0, 0, 0, 0, 0, 0, 0, 0, 0, 0, 0, 0, 0, 0, 0, 0, 0, 0, 0, 0, 0, 0, 0, 0, 0, 0, 0, 0, 0, 0, 0, 0, 0, 0, 0, 0, 0, 0, 0, 0, 0, 0, 0, 0, 0, 0, 0, 0, 0, 0, 0, 0, 0, 0, 0, 0, 0, 0, 0, 0, 0, 0, 0, 0, 0, 0, 0, 0, 0, 0, 0, 0, 0, 0, 0, 0, 0, 0, 0, 0, 0, 0, 0, 0, 0, 0, 0, 0, 0, 0, 0, 0, 0, 0, 0, 0, 0, 0, 0, 0, 0, 0, 0, 0, 0, 0, 0, 0, 0, 0, 0, 0, 0, 0, 0, 0, 0, 0, 0, 0, 0, 0, 0, 0, 0, 0, 0, 0, 0, 0, 0, 0, 0, 0, 0, 0, 0, 0, 0, 0, 0, 0, 0, 0, 0, 0, 0, 0, 0, 0, 0, 0, 0, 0, 0, 0, 0, 0, 0, 0, 0, 0, 0, 0, 0, 0, 0, 0, 0, 0, 0, 0, 0, 0, 0, 0, 0, 0, 0, 0, 0, 0, 0, 0, 0, 0, 0, 0, 0, 0, 0, 0, 0, 0, 0, 0, 0, 0, 0, 0, 0, 0, 0, 0, 0, 0, 0, 0, 0, 0, 0, 0, 0, 0, 0, 0, 0, 0, 0, 0, 0, 0, 0, 0, 0, 0, 0, 0, 0, 0, 0, 0, 0, 0, 0, 0, 0, 0, 0, 0, 0, 0, 0, 0, 0, 0, 0, 0, 0, 0, 0, 0, 0, 0, 0, 0, 0, 0, 0, 0, 0, 0, 0, 0, 0, 0, 0, 0, 0, 0, 0, 0, 0, 0, 0, 0, 0, 0, 0, 0, 0, 0, 1, 0, 0, 0, 0, 0, 0, 0, 0, 0, 0, 0, 0, 0, 0, 0, 0, 0, 0, 0, 0, 0, 0, 0, 0, 0, 0, 0, 0, 0, 0, 0, 0, 0, 0, 0, 0, 0, 0, 0, 0, 0, 0, 0, 0, 0, 0, 0, 0, 0, 0, 0, 0, 0, 0, 0, 0, 0, 0, 0, 0, 0, 0, 0, 0, 0, 0, 0, 0, 0, 0, 0, 0, 0, 0, 0, 0, 0, 0, 0, 0, 0, 0, 0, 0, 0, 0, 0, 0, 0, 0, 0, 0, 0, 0, 0, 0, 0, 0, 0, 0, 0, 0, 0, 0, 0, 0, 0, 0, 0, 0, 0, 0, 0, 0, 0, 0, 0, 0, 0, 0, 0, 0, 0, 0, 0, 0, 0, 0, 0, 0, 0, 0, 0, 0, 0, 0, 0, 0, 0, 0, 0, 0, 0, 0, 0, 0, 0, 0, 0, 0, 0, 0, 0, 0, 0, 0, 0, 0, 0, 0, 0, 0, 0, 0, 0, 0, 0, 0, 0, 0, 0, 0, 0, 0, 0, 0, 0, 0, 0, 0, 0, 0, 0, 0, 0, 0, 0, 0, 0, 0, 0, 0, 0, 0, 0, 0, 0, 0, 0, 0, 0, 0, 0, 0, 0, 0, 0, 0, 0, 0, 0, 0, 0, 0, 0, 0, 0, 0, 0, 0, 0, 0, 0, 0, 0, 0, 0, 0, 0, 0, 0, 0, 0, 0, 0, 0, 0, 0, 0, 0, 0, 0, 0, 0, 0, 0, 0, 0, 0, 0, 0, 0, 0, 0, 0, 0, 0, 0, 0, 0, 0, 0, 0, 0, 0, 0, 0, 0, 0, 0, 0, 0, 0, 0, 0, 0, 0, 0, 0, 0, 0, 0, 0, 0, 0, 0, 0, 0, 0, 0, 0, 0, 0, 0, 0, 0, 0, 0, 0, 0, 0, 0, 0, 0, 0, 0, 0, 0, 0, 0, 0, 0, 0, 0, 0, 0, 0, 0, 0, 0, 0, 0, 0, 0, 0, 0, 0, 0, 0, 0, 0, 0, 0, 0, 0, 0, 0, 0, 0, 0, 0, 0, 0, 0, 0, 0, 0, 0, 0, 0, 0, 0, 0, 0, 0, 0, 0, 0, 0, 0, 0, 0, 0, 0, 0, 0, 0, 0, 0, 0, 0, 0, 0, 0, 0, 0, 0, 0, 0, 0, 0, 0, 0, 0, 0, 0, 0, 0, 0, 0, 0, 0, 0, 0, 0, 0, 0, 0, 0, 0, 0, 0, 0, 0, 0, 0, 0, 0, 0, 0, 0, 0, 0, 0, 0, 0, 0, 0, 0, 0, 0, 0, 0, 0, 0, 0, 0, 0, 0, 0, 0, 0, 0, 0, 0, 0, 0, 0, 0, 0, 0, 0, 0, 0, 0, 0, 0, 0, 0, 0, 0, 0, 0, 0, 0, 0, 0, 0, 0, 0, 0, 0, 0, 0, 0, 0, 0, 0, 0, 0, 0, 0, 0, 0, 0, 0, 0, 0, 0, 0, 0, 0, 0, 0, 0, 0, 0, 0, 0, 0, 0, 0, 0, 0, 0, 0, 0, 0, 0, 0, 0, 0, 0, 0, 0, 0, 0, 0, 0, 0, 0, 0, 1, 0, 0, 0, 0, 0, 0, 0, 0, 0, 0, 0, 0, 0, 0, 0, 0, 0, 0, 0, 0, 0, 0, 0, 0, 0, 0, 0, 0, 0, 0, 0, 0, 0, 0, 0, 2, 0, 0, 0, 0, 0, 0, 0, 0, 0, 0, 0, 0, 0, 0, 0, 0, 0, 0, 0, 0, 0, 0, 0, 0, 0, 0, 0, 0, 0, 0, 0, 0, 0, 0, 0, 0, 0, 0, 0, 0, 1, 0, 0, 0, 0, 0, 0, 0, 0, 0, 0, 0, 0, 0, 0, 0, 0, 0, 0, 0, 0, 0, 0, 0, 0, 0, 0, 0, 0, 0, 0, 0, 0, 0, 0, 0, 0, 0, 0, 0, 0, 0, 0, 0, 0, 0, 0, 0, 0, 0, 0, 0, 0, 0, 0, 0, 0, 0, 0, 0, 0, 0, 0, 0, 0, 0, 0, 0, 0, 0, 0, 0, 0, 0, 0, 0, 0, 0, 0, 0, 0, 0, 0, 0, 0, 0, 0, 0, 0, 0, 0, 0, 0, 0, 0, 0, 0, 0, 0, 0, 0, 0, 0, 0, 0, 0, 0, 0, 0, 0, 0, 0, 0, 0, 0, 0, 0, 0, 0, 0, 0, 0, 0, 0, 0, 0, 0, 0, 0, 0, 0, 0, 0, 0, 0, 0, 0, 0, 0, 0, 0, 0, 0, 0, 0, 0, 0, 0, 0, 0, 0, 0, 0, 0, 0, 0, 0, 0, 0, 0, 0, 0, 0, 0, 0, 0, 0, 0, 0, 0, 0, 0, 0, 0, 0, 0, 0, 0, 0, 0, 0, 0, 0, 0, 0, 0, 0, 0, 0, 0, 0, 0, 0, 0, 0, 0, 0, 0, 0, 0, 0, 0, 0, 0, 0, 0, 0, 0, 0, 0, 0, 0, 0, 0, 0, 0, 0, 0, 0, 0, 0, 0, 0, 0, 0, 0, 0, 0, 0, 0, 0, 0, 0, 0, 0, 0, 0, 0, 0, 0, 0, 0, 0, 0, 0, 0, 0, 0, 0, 0, 0, 0, 0, 0, 0, 0, 0, 0, 0, 0, 0, 0, 0, 0, 0, 0, 0, 0, 0, 0, 0, 0, 0, 0, 0, 0, 0, 0, 0, 0, 0, 0, 0, 0, 0, 0, 0, 0, 0, 0, 0, 0, 0, 0, 0, 0, 0, 0, 0, 0, 0, 0, 0, 0, 0, 0, 0, 0, 0, 0, 0, 0, 0, 0, 0, 0, 0, 0, 0, 0, 0, 0, 0, 0, 0, 0, 0, 0, 0, 0, 0, 0, 0, 0, 0, 0, 0, 0, 0, 0, 0, 0, 0, 0, 0, 0, 0, 0, 0, 0, 0, 0, 0, 0, 0, 0, 0, 0, 0, 0, 0, 0, 0, 0, 0, 0, 0, 0, 0, 0, 0, 0, 0, 0, 0, 0, 0, 0, 0, 0, 0, 0, 0, 0, 0, 0, 0, 0, 0, 0, 0, 0, 0, 0, 0, 0, 0, 0, 0, 0, 0, 0, 0, 0, 0, 0, 0, 0, 0, 0, 0, 0, 0, 0, 0, 0, 0, 0, 0, 0, 0, 0, 0, 0, 0, 0, 0, 0, 0, 0, 0, 0, 0, 0, 0, 0, 0, 0, 0, 0, 0, 0, 0, 0, 0, 0, 0, 0, 0, 0, 0, 0, 0, 0, 0, 0, 0, 0, 0, 0, 0, 0, 0, 0, 0, 0, 0, 0, 0, 0, 0, 0, 0, 0, 0, 0, 0, 0, 0, 0, 0, 0, 0, 0, 0, 0, 0, 0, 0, 0, 0, 0, 0, 0, 0, 0, 0, 0, 1, 0, 0, 0, 0, 0, 0, 0, 0, 0, 0, 0, 0, 0, 0, 0, 0, 0, 0, 0, 0, 0, 0, 0, 0, 0, 0, 0, 0, 0, 0, 0, 0, 0, 0, 0, 0, 0, 0, 0, 0, 0, 0, 0, 0, 0, 0, 0, 0, 0, 0, 0, 0, 0, 0, 0, 0, 0, 0, 0, 0, 0, 0, 0, 0, 0, 0, 0, 0, 0, 0, 0, 0, 0, 0, 0, 0, 0, 0, 0, 0, 0, 0, 0, 0, 0, 0, 0, 0, 0, 0, 0, 0, 0, 0, 0, 0, 0, 0, 0, 0, 0, 0, 0, 0, 0, 0, 0, 0, 0, 0, 2, 0, 0, 0, 0, 0, 0, 0, 0, 0, 0, 0, 0, 0, 0, 0, 0, 0, 0, 0, 0, 0, 0, 0, 0, 0, 0, 0, 0, 0, 0, 0, 0, 0, 0, 0, 0, 0, 0, 0, 0, 0, 0, 0, 0, 0, 0, 0, 0, 0, 0, 0, 0, 0, 0, 0, 0, 0, 0, 0, 0, 0, 0, 0, 0, 0, 0, 0, 0, 0, 0, 0, 0, 0, 0, 0, 0, 0, 0, 0, 0, 0, 0, 0, 0, 0, 0, 0, 0, 0, 0, 0, 0, 0, 0, 0, 0, 0, 0, 0, 0, 0, 0, 0, 0, 0, 0, 0, 0, 0, 0, 0, 0, 0, 0, 0, 0, 0, 0, 0, 0, 0, 0, 0, 0, 0, 0, 0, 0, 0, 0, 0, 0, 0, 0, 0, 0, 0, 0, 0, 0, 0, 0, 0, 0, 0, 0, 0, 0, 0, 0, 0, 0, 0, 0, 0, 0, 0, 0, 0, 0, 0, 0, 0, 0, 0, 0, 0, 0, 0, 0, 0, 0, 0, 0, 0, 0, 0, 0, 0, 0, 0, 0, 0, 0, 0, 0, 0, 0, 0, 0, 0, 0, 0, 0, 0, 0, 0, 0, 0, 0, 0, 0, 0, 0, 0, 0, 0, 0, 0, 0, 0, 0, 0, 0, 0, 0, 0, 0, 0, 0, 0, 0, 0, 0, 0, 0, 0, 0, 0, 0, 0, 0, 0, 0, 0, 0, 0, 0, 0, 0, 0, 0, 0, 0, 0, 0, 0, 0, 0, 0, 0, 0, 0, 0, 0, 0, 0, 0, 0, 0, 0, 0, 0, 0, 0, 0, 0, 0, 0, 0, 0, 0, 0, 0, 0, 0, 0, 0, 0, 0, 0, 0, 0, 0, 0, 0, 0, 0, 0, 0, 0, 0, 0, 0, 0, 0, 0, 0, 0, 0, 0, 0, 0, 0, 0, 0, 0, 0, 0, 0, 0, 0, 0, 0, 0, 0, 0, 0, 0, 0, 0, 0, 0, 0, 0, 0, 0, 0, 0, 0, 0, 0, 0, 0, 0, 0, 0, 0, 0, 0, 0, 0, 0, 0, 0, 0, 0, 0, 0, 0, 0, 0, 0, 0, 0, 0, 0, 0, 0, 0, 0, 0, 0, 0, 0, 0, 0, 0, 0, 0, 0, 0, 0, 0, 0, 0, 0, 0, 0, 0, 0, 0, 0, 0, 0, 0, 0, 0, 0, 0, 0, 0, 0, 0, 0, 0, 0, 0, 0, 0, 0, 0, 0, 0, 0, 0, 0, 0, 0, 0, 0, 0, 0, 0, 0, 0, 0, 0, 0, 0, 0, 0, 0, 0, 0, 0, 0, 0, 0, 0, 0, 0, 0, 0, 0, 0, 0, 0, 0, 0, 0, 0, 0, 0, 0, 0, 0, 0, 0, 0, 0, 0, 0, 0, 0, 0, 0, 0, 0, 0, 0, 0, 0, 0, 0, 0, 0, 0, 0, 0, 0, 0, 0, 0, 0, 0, 0, 0, 0, 0, 0, 0, 0, 0, 0, 0, 0, 0, 0, 0, 0, 0, 0, 0, 0, 0, 0, 0, 0, 0, 0, 0, 0, 0, 0, 0, 0, 0, 0, 0, 0, 0, 0, 0, 0, 0, 0, 0, 0, 0, 0, 0, 0, 0, 0, 0, 0, 0, 0, 0, 0, 0, 0, 0, 0, 0, 0, 0, 0, 0, 0, 0, 0, 0, 0, 0, 0, 0, 0, 0, 0, 0, 0, 0, 0, 0, 0, 0, 0, 0, 0, 0, 0, 0, 0, 0, 0, 0, 0, 0, 0, 0, 0, 0, 0, 0, 0, 0, 0, 0, 0, 0, 0, 0, 0, 0, 0, 0, 0, 0, 0, 0, 0, 0, 0, 0, 0, 0, 0, 0, 0, 0, 0, 0, 0, 0, 0, 0, 0, 0, 0, 0, 0, 0, 0, 0, 0, 0, 0, 0, 0, 0, 0, 0, 0, 0, 0, 0, 0, 0, 0, 0, 0, 0, 0, 0, 0, 0, 0, 0, 0, 0, 0, 0, 0, 0, 0, 0, 0, 0, 0, 0, 0, 0, 0, 0, 0, 0, 0, 0, 0, 0, 0, 0, 0, 0, 0, 0, 0, 0, 0, 0, 0, 0, 0, 0, 0, 0, 0, 0, 0, 0, 0, 0, 0, 0, 0, 0, 0, 0, 1, 0, 0, 0, 0, 0, 0, 0, 0, 0, 0, 0, 0, 0, 0, 0, 0, 0, 0, 0, 0, 0, 0, 0, 0, 0, 0, 0, 0, 0, 0, 0, 0, 0, 0, 0, 0, 0, 0, 0, 0, 0, 0, 0, 0, 0, 0, 0, 0, 0, 0, 0, 0, 0, 0, 0, 0, 0, 0, 0, 0, 0, 0, 0, 0, 0, 0, 0, 0, 0, 0, 0, 0, 0, 0, 0, 0, 0, 0, 0, 0, 0, 0, 0, 0, 0, 0, 0, 0, 0, 0, 0, 0, 0, 0, 0, 0, 0, 0, 0, 0, 0, 0, 0, 0, 0, 0, 0, 1, 0, 0, 0, 0, 0, 0, 0, 0, 0, 0, 0, 0, 0, 0, 0, 0, 0, 0, 0, 0, 0, 0, 0, 0, 0, 0, 0, 0, 0, 0, 0, 0, 0, 0, 0, 0, 0, 0, 0, 0, 0, 0, 0, 0, 0, 0, 0, 0, 0, 0, 0, 0, 0, 0, 0, 0, 0, 0, 0, 0, 0, 0, 0, 0, 0, 0, 0, 0, 0, 0, 0, 0, 0, 0, 0, 0, 0, 0, 0, 0, 0, 0, 0, 0, 0, 0, 0, 0, 0, 0, 0, 0, 0, 0, 0, 0, 0, 0, 0, 0, 0, 0, 0, 0, 0, 0, 0, 0, 0, 0, 0, 0, 0, 0, 0, 0, 0, 0, 0, 0, 0, 0, 0, 0, 0, 0, 0, 0, 0, 0, 0, 0, 0, 0, 0, 0, 0, 0, 0, 0, 0, 0, 0, 0, 0, 0, 0, 0, 0, 0, 0, 0, 0, 0, 0, 0, 0, 0, 0, 0, 0, 0, 0, 0, 0, 0, 0, 0, 0, 0, 0, 0, 0, 0, 0, 0, 0, 0, 0, 0, 0, 0, 0, 0, 0, 0, 0, 0, 0, 0, 0, 0, 0, 0, 0, 0, 0, 0, 0, 0, 0, 0, 0, 0, 0, 0, 0, 0, 0, 0, 0, 0, 0, 0, 0, 0, 0, 0, 0, 0, 0, 0, 0, 0, 0, 0, 0, 0, 0, 0, 0, 0, 0, 0, 0, 0, 0, 0, 0, 0, 0, 0, 0, 0, 0, 0, 0, 0, 0, 0, 0, 0, 0, 0, 0, 0, 0, 0, 0, 0, 0, 0, 0, 0, 0, 0, 0, 0, 0, 0, 0, 0, 0, 0, 0, 0, 0, 0, 0, 0, 0, 0, 0, 0, 0, 0, 0, 0, 0, 0, 0, 0, 0, 0, 0, 0, 0, 0, 0, 0, 0, 0, 0, 0, 0, 0, 0, 0, 0, 0, 0, 0, 0, 0, 0, 0, 0, 0, 0, 0, 0, 0, 0, 0, 0, 0, 0, 0, 0, 0, 0, 0, 0, 0, 0, 0, 0, 0, 0, 0, 0, 0, 0, 0, 0, 0, 0, 0, 0, 0, 0, 0, 0, 0, 0, 0, 0, 0, 0, 0, 0, 0, 0, 0, 0, 0, 0, 0, 0, 0, 0, 0, 0, 0, 0, 0, 0, 0, 0, 0, 0, 0, 0, 0, 0, 0, 0, 0, 0, 0, 0, 0, 0, 0, 0, 0, 0, 0, 0, 0, 0, 0, 0, 0, 0, 0, 0, 0, 0, 0, 0, 0, 0, 0, 0, 0, 0, 0, 0, 0, 0, 0, 0, 0, 0, 0, 0, 0, 0, 0, 0, 0, 0, 0, 0, 0, 0, 0, 0, 0, 0, 0, 0, 0, 0, 0, 0, 0, 0, 0, 0, 0, 0, 0, 0, 0, 0, 0, 0, 0, 0, 0, 0, 2, 0, 1, 0], type: <class 'list'>, valid types: <class 'bytes'>, <class 'bytearray'>, file-like object"
     ]
    }
   ],
   "source": [
    "response = runtime.invoke_endpoint(EndpointName = xgb_predictor.endpoint, # The name of the endpoint we created\n",
    "                                       ContentType = 'text/csv',                     # The data format that is expected\n",
    "                                       Body = test_bow)"
   ]
  },
  {
   "cell_type": "markdown",
   "metadata": {},
   "source": [
    "So why did we get an error?\n",
    "\n",
    "Because we tried to send the endpoint a list of integers but it expected us to send data of type `text/csv`. So, we need to convert it."
   ]
  },
  {
   "cell_type": "code",
   "execution_count": 52,
   "metadata": {},
   "outputs": [],
   "source": [
    "response = runtime.invoke_endpoint(EndpointName = xgb_predictor.endpoint, # The name of the endpoint we created\n",
    "                                       ContentType = 'text/csv',                     # The data format that is expected\n",
    "                                       Body = ','.join([str(val) for val in test_bow]).encode('utf-8'))"
   ]
  },
  {
   "cell_type": "code",
   "execution_count": 53,
   "metadata": {},
   "outputs": [
    {
     "name": "stdout",
     "output_type": "stream",
     "text": [
      "{'ResponseMetadata': {'RequestId': '3e633d24-3752-4843-b8b6-e8ac97cc5189', 'HTTPStatusCode': 200, 'HTTPHeaders': {'x-amzn-requestid': '3e633d24-3752-4843-b8b6-e8ac97cc5189', 'x-amzn-invoked-production-variant': 'AllTraffic', 'date': 'Tue, 4 Aug 2020 08:27:38 GMT', 'content-type': 'text/csv; charset=utf-8', 'content-length': '14'}, 'RetryAttempts': 0}, 'ContentType': 'text/csv; charset=utf-8', 'InvokedProductionVariant': 'AllTraffic', 'Body': <botocore.response.StreamingBody object at 0x7f638a110d68>}\n"
     ]
    }
   ],
   "source": [
    "print(response)"
   ]
  },
  {
   "cell_type": "markdown",
   "metadata": {},
   "source": [
    "As we can see, the response from our model is a somewhat complicated looking dict that contains a bunch of information. The bit that we are most interested in is `'Body'` object which is a streaming object that we need to `read` in order to make use of."
   ]
  },
  {
   "cell_type": "code",
   "execution_count": 54,
   "metadata": {},
   "outputs": [
    {
     "name": "stdout",
     "output_type": "stream",
     "text": [
      "0.458076775074\n"
     ]
    }
   ],
   "source": [
    "response = response['Body'].read().decode('utf-8')\n",
    "print(response)"
   ]
  },
  {
   "cell_type": "markdown",
   "metadata": {},
   "source": [
    "Now that we know how to process the incoming user data we can start setting up the infrastructure to make our simple web app work. To do this we will make use of two different services. Amazon's Lambda and API Gateway services.\n",
    "\n",
    "Lambda is a service which allows someone to write some relatively simple code and have it executed whenever a chosen trigger occurs. For example, you may want to update a database whenever new data is uploaded to a folder stored on S3.\n",
    "\n",
    "API Gateway is a service that allows you to create HTTP endpoints (url addresses) which are connected to other AWS services. One of the benefits to this is that you get to decide what credentials, if any, are required to access these endpoints.\n",
    "\n",
    "In our case we are going to set up an HTTP endpoint through API Gateway which is open to the public. Then, whenever anyone sends data to our public endpoint we will trigger a Lambda function which will send the input (in our case a review) to our model's endpoint and then return the result."
   ]
  },
  {
   "cell_type": "markdown",
   "metadata": {},
   "source": [
    "### Setting up a Lambda function\n",
    "\n",
    "The first thing we are going to do is set up a Lambda function. This Lambda function will be executed whenever our public API has data sent to it. When it is executed it will receive the data, perform any sort of processing that is required, send the data (the review) to the SageMaker endpoint we've created and then return the result.\n",
    "\n",
    "#### Part A: Create an IAM Role for the Lambda function\n",
    "\n",
    "Since we want the Lambda function to call a SageMaker endpoint, we need to make sure that it has permission to do so. To do this, we will construct a role that we can later give the Lambda function.\n",
    "\n",
    "Using the AWS Console, navigate to the **IAM** page and click on **Roles**. Then, click on **Create role**. Make sure that the **AWS service** is the type of trusted entity selected and choose **Lambda** as the service that will use this role, then click **Next: Permissions**.\n",
    "\n",
    "In the search box type `sagemaker` and select the check box next to the **AmazonSageMakerFullAccess** policy. Then, click on **Next: Review**.\n",
    "\n",
    "Lastly, give this role a name. Make sure you use a name that you will remember later on, for example `LambdaSageMakerRole`. Then, click on **Create role**."
   ]
  },
  {
   "cell_type": "markdown",
   "metadata": {},
   "source": [
    "#### Part B: Create a Lambda function\n",
    "\n",
    "Now it is time to actually create the Lambda function. Remember from earlier that in order to process the user provided input and send it to our endpoint we need to gather two pieces of information:\n",
    "\n",
    " - The name of the endpoint, and\n",
    " - the vocabulary object.\n",
    "\n",
    "We will copy these pieces of information to our Lambda function after we create it.\n",
    "\n",
    "To start, using the AWS Console, navigate to the AWS Lambda page and click on **Create a function**. When you get to the next page, make sure that **Author from scratch** is selected. Now, name your Lambda function, using a name that you will remember later on, for example `sentiment_analysis_xgboost_func`. Make sure that the **Python 3.6** runtime is selected and then choose the role that you created in the previous part. Then, click on **Create Function**.\n",
    "\n",
    "On the next page you will see some information about the Lambda function you've just created. If you scroll down you should see an editor in which you can write the code that will be executed when your Lambda function is triggered. Collecting the code we wrote above to process a single review and adding it to the provided example `lambda_handler` we arrive at the following.\n",
    "\n",
    "```python\n",
    "# We need to use the low-level library to interact with SageMaker since the SageMaker API\n",
    "# is not available natively through Lambda.\n",
    "import boto3\n",
    "\n",
    "# And we need the regular expression library to do some of the data processing\n",
    "import re\n",
    "\n",
    "REPLACE_NO_SPACE = re.compile(\"(\\.)|(\\;)|(\\:)|(\\!)|(\\')|(\\?)|(\\,)|(\\\")|(\\()|(\\))|(\\[)|(\\])\")\n",
    "REPLACE_WITH_SPACE = re.compile(\"(<br\\s*/><br\\s*/>)|(\\-)|(\\/)\")\n",
    "\n",
    "def review_to_words(review):\n",
    "    words = REPLACE_NO_SPACE.sub(\"\", review.lower())\n",
    "    words = REPLACE_WITH_SPACE.sub(\" \", words)\n",
    "    return words\n",
    "    \n",
    "def bow_encoding(words, vocabulary):\n",
    "    bow = [0] * len(vocabulary) # Start by setting the count for each word in the vocabulary to zero.\n",
    "    for word in words.split():  # For each word in the string\n",
    "        if word in vocabulary:  # If the word is one that occurs in the vocabulary, increase its count.\n",
    "            bow[vocabulary[word]] += 1\n",
    "    return bow\n",
    "\n",
    "\n",
    "def lambda_handler(event, context):\n",
    "    \n",
    "    vocab = \"*** ACTUAL VOCABULARY GOES HERE ***\"\n",
    "    \n",
    "    words = review_to_words(event['body'])\n",
    "    bow = bow_encoding(words, vocab)\n",
    "\n",
    "    # The SageMaker runtime is what allows us to invoke the endpoint that we've created.\n",
    "    runtime = boto3.Session().client('sagemaker-runtime')\n",
    "\n",
    "    # Now we use the SageMaker runtime to invoke our endpoint, sending the review we were given\n",
    "    response = runtime.invoke_endpoint(EndpointName = '***ENDPOINT NAME HERE***',# The name of the endpoint we created\n",
    "                                       ContentType = 'text/csv',                 # The data format that is expected\n",
    "                                       Body = ','.join([str(val) for val in bow]).encode('utf-8')) # The actual review\n",
    "\n",
    "    # The response is an HTTP response whose body contains the result of our inference\n",
    "    result = response['Body'].read().decode('utf-8')\n",
    "    \n",
    "    # Round the result so that our web app only gets '1' or '0' as a response.\n",
    "    result = round(float(result))\n",
    "\n",
    "    return {\n",
    "        'statusCode' : 200,\n",
    "        'headers' : { 'Content-Type' : 'text/plain', 'Access-Control-Allow-Origin' : '*' },\n",
    "        'body' : str(result)\n",
    "    }\n",
    "```"
   ]
  },
  {
   "cell_type": "markdown",
   "metadata": {},
   "source": [
    "Once you have copy and pasted the code above into the Lambda code editor, replace the `**ENDPOINT NAME HERE**` portion with the name of the endpoint that we deployed earlier. You can determine the name of the endpoint using the code cell below."
   ]
  },
  {
   "cell_type": "code",
   "execution_count": 55,
   "metadata": {},
   "outputs": [
    {
     "data": {
      "text/plain": [
       "'xgboost-2020-08-04-07-23-48-943'"
      ]
     },
     "execution_count": 55,
     "metadata": {},
     "output_type": "execute_result"
    }
   ],
   "source": [
    "xgb_predictor.endpoint"
   ]
  },
  {
   "cell_type": "markdown",
   "metadata": {},
   "source": [
    "In addition, you will need to copy the vocabulary dict to the appropriate place in the code at the beginning of the `lambda_handler` method. The cell below prints out the vocabulary dict in a way that is easy to copy and paste."
   ]
  },
  {
   "cell_type": "code",
   "execution_count": 56,
   "metadata": {},
   "outputs": [
    {
     "name": "stdout",
     "output_type": "stream",
     "text": [
      "{'boy': 557, 'that': 4424, 'was': 4805, 'definitely': 1162, 'one': 3107, 'of': 3083, 'the': 4426, 'worst': 4952, 'flicks': 1755, 'ive': 2372, 'seen': 3865, 'all': 187, 'summer': 4291, 'granted': 1957, 'it': 2366, 'on': 3105, 'sci': 3815, 'fi': 1701, 'and': 226, 'dont': 1324, 'watch': 4811, 'much': 2934, 'but': 636, 'man': 2721, 'talk': 4358, 'about': 67, 'thin': 4449, 'plot': 3309, 'two': 4620, 'dimensional': 1253, 'characters': 760, 'to': 4507, 'max': 2774, 'were': 4848, 'stereotypical': 4180, 'overdone': 3152, 'setting': 3900, 'unbelievable': 4634, 'vampires': 4712, 'less': 2575, 'more': 2904, 'funny': 1852, 'looking': 2648, 'gore': 1941, 'unnecessary': 4672, 'special': 4097, 'effects': 1431, 'down': 1335, 'right': 3696, 'horrible': 2163, 'ending': 1471, 'well': 4843, 'only': 3110, 'thing': 4450, 'unpredictable': 4675, 'when': 4862, 'suddenly': 4273, 'becomes': 434, 'lesbian': 2573, 'starts': 4159, 'do': 1302, 'with': 4911, 'female': 1693, 'vampire': 4711, 'which': 4867, 'by': 642, 'way': 4820, 'isnt': 2362, 'really': 3556, 'hot': 2174, 'considering': 952, 'occurs': 3078, 'for': 1784, 'three': 4469, 'seconds': 3848, 'in': 2257, 'youre': 4992, 'closer': 856, 'what': 4858, 'hell': 2077, 'then': 4436, 'thats': 4425, 'if': 2222, 'this': 4457, 'ever': 1538, 'appears': 278, 'god': 1926, 'bizarre': 492, 'forget': 1793, 'story': 4207, 'full': 1846, 'ahead': 159, 'low': 2676, 'budget': 610, 'williams': 4888, 'family': 1645, 'living': 2629, 'california': 650, 'desert': 1198, 'they': 4442, 'become': 433, 'witness': 4914, 'series': 3890, 'events': 1536, 'their': 4431, 'level': 2584, 'apparently': 270, 'theyve': 4446, 'been': 438, 'caught': 722, 'time': 4495, 'space': 4090, 'where': 4864, 'past': 3207, 'present': 3374, 'future': 1856, 'is': 2360, 'excuse': 1564, 'highly': 2105, 'amusing': 221, 'constant': 957, 'light': 2595, 'sound': 4081, 'show': 3953, 'dinosaur': 1255, 'like': 2599, 'creatures': 1046, 'have': 2052, 'at': 331, 'each': 1395, 'other': 3135, 'friendly': 1836, 'tiny': 4500, 'little': 2624, 'et': 1526, 'who': 4871, 'so': 4046, 'picture': 3269, 'does': 1308, 'off': 3084, 'imagination': 2236, 'nothing': 3047, 'else': 1448, 'very': 4723, 'nice': 3008, 'music': 2946, 'richard': 3686, 'band': 391, 'engaging': 1481, 'work': 4940, 'from': 1840, 'likes': 2602, 'david': 1124, 'allen': 188, 'william': 4887, 'cook': 988, 'peter': 3247, 'importantly': 2248, 'likable': 2598, 'are': 285, 'key': 2458, 'sense': 3877, 'child': 789, 'may': 2775, 'be': 418, 'its': 2370, 'kids': 2467, 'or': 3124, 'inside': 2297, 'many': 2732, 'us': 4690, 'able': 66, 'over': 3148, 'any': 256, 'flaws': 1752, 'narrative': 2966, 'presentation': 3375, 'found': 1811, 'hard': 2033, 'resist': 3648, 'short': 3946, 'sweet': 4336, '80': 58, 'minutes': 2859, 'decent': 1147, 'credit': 1049, 'director': 1264, 'john': 2409, 'bud': 607, 'kingdom': 2480, 'fame': 1642, 'executive': 1567, 'producer': 3415, 'charles': 764, '10': 0, 'youve': 4995, 'got': 1944, 'admire': 121, 'todd': 4510, 'his': 2118, 'drive': 1363, 'enthusiasm': 1501, 'comes': 891, 'movie': 2926, 'making': 2718, 'between': 475, '2000': 30, 'he': 2056, 'made': 2697, 'films': 1721, 'unfortunately': 4654, 'zombie': 4997, 'trilogy': 4586, 'anything': 260, 'go': 1924, 'theyre': 4445, 'probably': 3407, 'crap': 1031, 'quick': 3490, 'look': 2646, 'imdb': 2240, 'ratings': 3530, 'seems': 3864, 'my': 2951, 'part': 3193, 'sees': 3866, 'group': 1980, 'obnoxious': 3067, 'students': 4239, 'finding': 1727, 'than': 4420, 'usual': 4699, 'after': 143, 'attacked': 338, 'dead': 1132, 'escaped': 1518, 'top': 4525, 'secret': 3849, 'army': 295, 'base': 402, 'directly': 1263, 'beneath': 464, 'school': 3813, 'working': 4944, 'dreadful': 1353, 'script': 3834, 'brian': 576, 'relies': 3606, 'heavily': 2069, 'liberal': 2588, 'use': 4692, 'bomb': 531, 'delivers': 1172, 'yet': 4984, 'another': 250, 'amateurish': 207, 'effort': 1432, 'featuring': 1681, 'some': 4061, 'mind': 2849, 'awful': 372, 'performances': 3229, 'talent': 4354, 'free': 1827, 'cast': 710, 'visual': 4757, 'cgi': 740, 'looks': 2649, 'front': 1841, 'giant': 1905, 'cardboard': 682, 'trademark': 4548, 'pulled': 3462, 'victims': 4730, 'clothing': 861, 'finally': 1724, 'an': 223, 'watching': 4815, 'irritating': 2359, 'running': 3756, 'lives': 2628, 'unconvincing': 4638, 'people': 3221, 'animal': 239, 'travel': 4567, 'twist': 4617, 'forces': 1788, 'viewers': 4739, 're': 3535, 'several': 3905, 'beginning': 443, 'film': 1716, 'honestly': 2147, 'once': 3106, 'enough': 1491, 'mr': 2929, 'we': 4823, 'done': 1322, 'deserve': 1199, 'having': 2054, 'again': 146, 'day': 1129, 'italy': 2368, 'canada': 666, 'every': 1539, 'while': 4868, 'you': 4986, 'come': 886, 'across': 96, 'touches': 4535, 'offers': 3090, 'simple': 3983, 'premise': 3370, 'almost': 193, 'executed': 1565, 'incredibly': 2270, 'moving': 2928, 'same': 3778, 'surprising': 4315, 'relatively': 3600, 'even': 1533, 'hated': 2047, 'critics': 1064, 'out': 3141, 'calls': 654, 'rubbish': 3748, 'leonard': 2572, 'somewhat': 4068, 'pleasant': 3302, 'disagree': 1269, 'not': 3040, 'because': 432, 'deeply': 1156, 'within': 4912, 'shows': 3960, 'daily': 1097, 'life': 2592, 'most': 2909, 'cinematography': 820, 'bit': 488, 'bland': 500, 'storyline': 4208, 'might': 2835, 'explain': 1586, 'relative': 3599, 'late': 2523, '70s': 56, 'audiences': 353, 'werent': 4849, 'exactly': 1551, 'spoiled': 4122, 'great': 1964, 'italian': 2367, 'stranger': 4213, 'didnt': 1242, 'catch': 714, 'begins': 444, 'ten': 4399, 'minute': 2858, 'footage': 1782, 'visit': 4755, 'set': 3898, 'against': 147, 'background': 380, 'first': 1736, 'meet': 2793, 'lonely': 2643, 'love': 2669, 'ridden': 3691, 'six': 4010, 'children': 792, 'roman': 3731, 'apartment': 265, 'building': 615, 'her': 2085, 'escapes': 1519, 'she': 3923, 'meets': 2795, 'soon': 4074, 'attracted': 349, 'him': 2110, 'during': 1387, 'whole': 4873, 'hear': 2061, 'radio': 3504, 'through': 4477, 'uses': 4697, 'camera': 659, 'make': 2713, 'proceedings': 3410, 'opening': 3114, 'scene': 3809, 'block': 508, 'seemingly': 3863, 'searching': 3842, 'our': 3139, 'main': 2707, 'whom': 4875, 'havent': 2053, 'met': 2822, 'unforgettable': 4652, 'leading': 2547, 'roles': 3727, 'since': 3990, 'completely': 922, 'type': 4621, 'canadian': 667, 'born': 544, 'plays': 3301, 'husband': 2204, 'screen': 3829, 'last': 2521, 'figure': 1711, 'voice': 4761, 'must': 2950, 'dubbed': 1379, 'hes': 2093, 'descent': 1193, 'never': 3001, 'lived': 2626, 'there': 4438, 'knowledge': 2491, 'cannot': 670, 'imagine': 2238, 'speaks': 4096, 'has': 2043, 'notice': 3048, 'contrary': 974, 'believable': 453, 'as': 311, 'rest': 3657, 'extremely': 1610, 'effective': 1429, 'outstanding': 3147, 'just': 2437, 'perfect': 3224, 'doesnt': 1309, 'overly': 3155, 'pretentious': 3383, 'works': 4945, 'miss': 2866, 'loved': 2670, 'could': 1007, 'break': 569, 'into': 2332, 'tears': 4380, 'struck': 4232, 'performance': 3228, 'ray': 3533, 'especially': 1520, 'tom': 4514, 'portraying': 3343, 'twin': 4615, 'brother': 598, 'mentally': 2809, 'slow': 4031, 'due': 1382, 'tragic': 4552, 'terrible': 4407, 'childhood': 790, 'event': 1535, 'character': 758, 'though': 4461, 'knows': 2493, 'no': 3020, 'self': 3869, 'pity': 3281, 'hope': 2155, 'gave': 1875, 'needed': 2988, 'scary': 3807, 'elements': 1443, 'actors': 104, 'want': 4788, 'tell': 4395, 'anyone': 259, 'acting': 99, 'will': 4886, 'ruin': 3750, 'recommend': 3571, 'straight': 4210, 'your': 4991, 'now': 3054, 'rent': 3626, 'popcorn': 3331, 'masterpiece': 2759, 'best': 469, 'movies': 2927, 'jean': 2389, 'disturbing': 1300, 'gruesome': 1986, 'stories': 4205, 'deep': 1154, 'interest': 2323, 'directing': 1260, 'totally': 4532, 'inventive': 2341, 'spite': 4117, 'lack': 2502, 'money': 2888, 'see': 3855, 'bridge': 578, 'recommended': 3572, 'aspect': 321, 'format': 1799, 'fair': 1630, 'account': 89, 'times': 4497, 'mike': 2838, 'given': 1913, 'rape': 3521, 'charge': 761, 'careful': 688, 'portray': 3340, 'hero': 2088, 'villain': 4744, 'portrait': 3339, 'rise': 3702, 'success': 4265, 'destiny': 1212, 'good': 1937, 'bad': 382, 'limits': 2607, 'relevant': 3604, 'details': 1219, 'briefly': 580, 'significant': 3972, 'boxing': 556, 'fans': 1650, 'entertained': 1498, 'approach': 282, 'material': 2766, 'portrays': 3344, 'ultimately': 4628, 'led': 2558, 'circumstances': 822, 'own': 3158, 'fact': 1621, 'ex': 1549, 'wife': 4884, 'robin': 3715, 'gold': 1932, 'took': 4523, 'advantage': 129, 'production': 3419, 'values': 4710, 'solid': 4057, 'superb': 4296, 'michael': 2829, 'white': 4870, 'imitation': 2241, 'title': 4504, 'george': 1893, 'scott': 3824, 'teeth': 4393, 'paul': 3214, 'surely': 4309, 'play': 3296, 'don': 1320, 'king': 2479, 'saw': 3798, '40': 48, 'years': 4979, 'ago': 154, 'television': 4394, 'thought': 4462, 'depressing': 1188, 'wells': 4845, 'private': 3404, '30': 42, 'year': 4978, 'plus': 3311, 'war': 4792, 'reason': 3557, 'shown': 3959, 'british': 589, 'doing': 1312, 'concept': 930, 'co': 867, 'machines': 2694, 'real': 3547, 'stars': 4155, 'ralph': 3510, 'richardson': 3688, 'boss': 546, 'combination': 883, 'absolutely': 72, 'fabulous': 1615, 'comedy': 890, 'interesting': 2325, 'note': 3044, 'negative': 2991, 'personality': 3242, 'similar': 3978, 'liked': 2600, 'basically': 407, 'did': 1241, 'had': 2003, 'kept': 2456, 'studio': 4240, 'would': 4957, 'harder': 2035, 'develop': 1222, 'guy': 2000, 'playing': 3300, 'job': 2405, 'showing': 3958, 'someone': 4064, 'haunted': 2050, 'memories': 2803, 'also': 199, 'dialog': 1232, 'pretty': 3384, 'parts': 3199, 'can': 665, 'coming': 896, 'mile': 2842, 'away': 369, 'expect': 1575, 'turn': 4605, 'minimal': 2855, 'ghost': 1902, 'side': 3965, 'everything': 1544, 'being': 448, 'revealed': 3671, 'felt': 1692, 'amount': 219, 'started': 4157, 'drag': 1342, 'robert': 3713, 'taylor': 4372, 'mad': 2696, 'hunter': 2199, 'charlie': 765, 'thinking': 4453, 'end': 1468, 'up': 4683, 'redeeming': 3577, 'himself': 2111, 'wayne': 4821, 'james': 2378, 'stewart': 4184, 'naked': 2959, 'goes': 1930, 'along': 195, 'keeps': 2451, 'until': 4680, 'realize': 3552, 'wants': 4791, 'stop': 4201, 'hunting': 2201, 'realizes': 3554, 'gone': 1935, 'act': 97, 'killing': 2472, 'natural': 2973, 'killer': 2470, 'makes': 2716, 'animals': 240, 'human': 2188, 'beings': 449, 'indian': 2274, 'girl': 1909, 'lies': 2591, 'total': 4531, 'hates': 2048, 'wanted': 4789, 'always': 203, 'seemed': 3862, 'too': 4522, 'me': 2778, 'feel': 1684, 'soundtrack': 4085, 'favorite': 1671, 'hand': 2015, 'moves': 2925, 'occasionally': 3075, 'pace': 3161, 'manipulative': 2727, 'inducing': 2279, 'tale': 4353, 'mother': 2911, 'bette': 471, 'hip': 2114, 'erotic': 1515, 'sexy': 3911, 'whatever': 4859, 'seriously': 3892, 'cop': 991, 'saves': 3796, 'waitress': 4773, 'big': 478, 'monster': 2892, 'lead': 2545, 'actor': 103, 'ryan': 3765, 'theres': 4440, 'massacre': 2754, 'police': 3322, 'red': 3576, 'eyes': 1613, 'contains': 964, 'dialogue': 1234, 'lines': 2612, 'said': 3774, 'yourself': 4993, 'wont': 4932, 'dire': 1257, 'screenwriter': 3833, 'thank': 4421, 'hasnt': 2044, 'sold': 4052, 'thrown': 4481, 'together': 4511, 'opens': 3115, 'strip': 4228, 'bar': 396, 'sign': 3970, 'mean': 2779, 'apparent': 269, 'cops': 993, 'them': 4432, 'black': 493, 'shock': 3938, 'horror': 2168, 'gets': 1900, 'killed': 2469, 'five': 1743, 'downhill': 1336, 'next': 3007, 'hour': 2176, 'picks': 3268, 'action': 100, 'sequences': 3888, 'before': 440, 'abysmal': 76, 'competent': 917, 'whos': 4876, 'willing': 4889, 'settle': 3902, 'appear': 273, 'learning': 2552, 'how': 2181, 'supporting': 4304, 'signs': 3973, 'form': 1798, 'played': 3297, 'kane': 2442, 'famous': 1647, 'numerous': 3062, 'jason': 2383, 'friday': 1834, '13th': 5, 'used': 4693, 'speaking': 4095, 'amongst': 218, 'groups': 1981, 'teenage': 4389, 'boys': 559, 'couple': 1016, 'grand': 1953, 'tradition': 4549, 'former': 1800, 'power': 3359, 'rangers': 3517, 'actresses': 106, 'clear': 839, 'editor': 1423, 'spent': 4108, 'anyway': 261, 'feature': 1678, 'physical': 3262, 'werewolf': 4850, 'rather': 3528, 'design': 1202, 'wolf': 4920, 'plain': 3286, 'cant': 671, 'reach': 3536, 'realism': 3549, 'why': 4878, 'bother': 548, 'throw': 4479, 'extra': 1606, 'aside': 315, 'moments': 2887, 'unintentionally': 4659, 'laugh': 2529, 'better': 472, 'spend': 4105, 'please': 3304, 'remain': 3609, 'homeless': 2143, 'stupid': 4247, 'producers': 3416, 'pay': 3216, 'instead': 2307, 'worse': 4951, 'chicks': 787, 'lame': 2510, 'baby': 376, 'written': 4972, 'idea': 2213, 'still': 4188, 'wouldnt': 4958, 'original': 3129, 'rip': 3700, 'cartoon': 704, 'episode': 1507, 'involved': 2346, 'should': 3951, 'ashamed': 312, 'themselves': 4435, 'racist': 3503, 'offensive': 3086, 'sympathy': 4343, 'makers': 2715, 'fun': 1848, 'pretending': 3382, 'abandoned': 62, 'get': 1899, 'diamond': 1236, 'certain': 737, 'something': 4066, 'worth': 4953, 'huge': 2185, 'waste': 4808, '11': 2, 'presents': 3377, 'outside': 3146, 'new': 3003, 'york': 4985, 'september': 3884, '2001': 31, 'gory': 1943, 'powerful': 3360, 'treat': 4572, 'moved': 2922, 'disappointing': 1274, 'established': 1524, 'protagonist': 3441, 'young': 4989, 'individual': 2277, 'actually': 109, 'move': 2921, 'surprise': 4312, 'focus': 1766, 'relatives': 3601, 'seem': 3861, 'predictable': 3367, 'quite': 3495, 'question': 3487, 'going': 1931, 'breaking': 570, 'ground': 1979, 'compelling': 916, 'told': 4513, 'entertain': 1497, 'hours': 2177, 'technically': 4382, 'disgusting': 1286, 'shot': 3949, 'excellent': 1555, 'entertainment': 1500, 'ingredients': 2289, 'keep': 2449, 'ones': 3108, 'attention': 345, 'intrigue': 2333, 'lady': 2507, 'named': 2961, 'stevens': 4183, 'flynn': 1765, 'mission': 2870, 'fine': 1729, 'romantic': 3733, 'pair': 3176, 'anthony': 253, 'web': 4833, 'noticed': 3049, 'familiar': 1643, 'face': 1616, 'mildred': 2841, 'role': 3726, 'mrs': 2930, 'princess': 3397, 'alice': 182, 'beautifully': 429, 'filmed': 1717, 'scenery': 3810, 'ships': 3935, 'bay': 416, 'lots': 2662, 'sword': 4340, 'fighting': 1709, 'ship': 3934, 'battles': 415, 'daring': 1114, 'hood': 2151, 'board': 522, 'herself': 2092, 'heard': 2062, 'interview': 2329, 'command': 897, 'those': 4460, 'days': 1130, 'need': 2987, 'put': 3480, 'test': 4416, 'here': 2086, 'enjoyable': 1485, 'guys': 2001, 'thinks': 4454, 'already': 197, 'heads': 2059, 'jack': 2373, 'grade': 1951, 'bunch': 623, 'teens': 4392, 'sex': 3907, 'scenes': 3811, 'watched': 4813, 'nearby': 2980, 'tree': 4576, 'stuff': 4243, 'cabin': 643, 'fever': 1699, 'least': 2554, 'fall': 1637, 'asleep': 320, 'tv': 4610, 'crying': 1074, 'woody': 4936, 'around': 297, 'wrap': 4963, 'punch': 3466, 'line': 2610, 'nobody': 3022, 'however': 2183, 'closing': 859, 'intriguing': 2335, 'ideas': 2215, 'four': 1812, 'friends': 1837, 'sit': 4003, 'restaurant': 3658, 'whether': 4866, 'essence': 1521, 'drama': 1346, 'help': 2079, 'argument': 291, 'asks': 319, 'men': 2805, 'comic': 893, 'dramatic': 1348, 'tragedy': 4551, 'continue': 969, 'understanding': 4645, 'exact': 1550, 'genre': 1888, 'changes': 751, 'share': 3920, 'element': 1442, 'few': 1700, 'entirely': 1503, 'different': 1248, 'major': 2711, 'differences': 1247, 'scripted': 3835, 'parody': 3192, 'point': 3316, 'failed': 1626, 'these': 4441, 'prevent': 3385, 'audience': 352, 'feeling': 1685, 'emotional': 1459, 'obviously': 3072, 'meant': 2784, 'stand': 4143, 'without': 4913, 'adding': 117, 'tries': 4585, 'pulls': 3464, 'leave': 2555, 'theater': 4427, 'spirit': 4113, 'walked': 4776, 'wish': 4904, 'back': 378, 'romance': 3732, 'situations': 4009, 'ridiculous': 3693, 'example': 1553, 'serious': 3891, 'problems': 3409, 'german': 1896, 'english': 1483, 'father': 1666, 'prisoner': 3402, 'camp': 662, 'unique': 4662, 'position': 3345, 'deal': 1135, 'various': 4715, 'nazis': 2978, 'single': 3996, 'give': 1912, 'viewer': 4738, 'general': 1880, 'situation': 4008, 'state': 4160, 'information': 2288, 'relationships': 3598, 'others': 3136, 'party': 3200, 'hitler': 2124, 'followed': 1773, 'letter': 2581, 'often': 3095, 'certainly': 738, 'later': 2525, 'murderous': 2942, 'career': 686, 'research': 3644, 'subject': 4253, 'understand': 4643, 'allowed': 190, 'old': 3100, 'virgin': 4749, 'image': 2233, 'feels': 1687, 'urge': 4689, 'simply': 3986, 'experiences': 1582, 'women': 4923, 'unexpected': 4650, 'happens': 2029, 'falls': 1640, 'whats': 4860, 'called': 652, 'andy': 230, 'steve': 4181, 'indeed': 2271, 'store': 4204, 'figures': 1713, 'displayed': 1292, 'throughout': 4478, 'lovely': 2671, 'home': 2142, 'system': 4345, 'watches': 4814, 'survivor': 4324, 'kind': 2476, 'elderly': 1440, 'neighbors': 2994, 'definition': 1163, 'needs': 2990, 'heres': 2087, 'impossible': 2249, 'task': 4368, 'dealing': 1136, 'matter': 2769, 'cute': 1090, 'mature': 2773, 'fashion': 1659, 'easily': 1406, 'turned': 4606, 'lot': 2661, 'hands': 2020, 'team': 4378, 'filmmakers': 1720, 'endless': 1473, 'gags': 1862, 'jokes': 2415, 'thankfully': 4422, 'sure': 4308, 'aimed': 162, 'gay': 1876, 'community': 908, 'taken': 4350, 'towards': 4540, 'video': 4733, 'game': 1864, 'ultimate': 4627, 'driven': 1365, '20': 29, 'toys': 4543, 'touching': 4536, 'relate': 3593, 'teenager': 4390, 'everyone': 1542, 'looked': 2647, 'arrogant': 303, 'know': 2489, 'teen': 4388, 'afternoon': 144, 'screening': 3830, 'course': 1019, 'everyday': 1541, 'morning': 2906, 'ask': 316, 'buddies': 608, 'try': 4600, 'methods': 2825, 'opposite': 3123, 'discovered': 1280, 'fellow': 1691, 'jay': 2386, 'assume': 328, 'woman': 4921, 'couldnt': 1008, 'further': 1853, 'truth': 4599, 'loves': 2674, 'hilariously': 2107, 'flashback': 1746, 'sequence': 3887, 'laid': 2508, 'such': 4268, 'disaster': 1276, 'proved': 3446, 'date': 1118, 'leslie': 2574, 'mann': 2728, 'puts': 3481, 'drunk': 1375, 'driving': 1368, 'experience': 1580, 'think': 4452, 'creepy': 1052, 'encounter': 1466, 'elizabeth': 1445, 'eventually': 1537, 'things': 4451, 'catherine': 719, 'street': 4216, 'collection': 874, 'large': 2517, 'financial': 1725, 'weve': 4856, 'waiting': 4772, 'deals': 1137, 'issue': 2364, 'wrong': 4973, 'lets': 2580, 'forever': 1792, 'important': 2247, 'taught': 4370, 'body': 527, 'honest': 2146, 'according': 88, 'website': 4834, 'news': 3005, 'blood': 512, 'shirt': 3937, 'directed': 1259, 'starred': 4153, 'shut': 3961, 'intelligent': 2314, 'treated': 4573, 'dignity': 1252, 'respect': 3652, 'pass': 3201, 'advice': 133, 'cover': 1022, 'relationship': 3597, 'related': 3594, 'ill': 2228, 'strength': 4219, 'true': 4596, '1983': 22, '1984': 23, 'steven': 4182, 'half': 2007, 'courage': 1018, 'wisdom': 4902, 'forgotten': 1797, 'south': 4087, 'africa': 141, 'largely': 2518, 'friendship': 1838, 'dance': 1103, 'sing': 3992, 'hair': 2005, 'stood': 4199, 'ends': 1474, 'learn': 2550, 'peoples': 3222, 'magnificent': 2705, 'getting': 1901, 'necessarily': 2983, 'shooting': 3943, 'above': 68, 'both': 547, 'pain': 3170, 'endure': 1475, 'case': 707, 'contrast': 975, 'rage': 3505, 'obsession': 3070, 'creates': 1038, 'atmosphere': 333, 'halfway': 2008, 'wonder': 4926, 'possibly': 3351, 'pull': 3461, 'happy': 2032, 'hat': 2045, 'intelligence': 2313, 'sappy': 3784, 'beyond': 476, 'head': 2057, 'fiction': 1702, 'admit': 122, 'cried': 1054, 'lost': 2660, 'hit': 2122, 'close': 853, 'opened': 3113, 'tend': 4400, 'starring': 4154, 'specific': 4099, 'charm': 767, 'nowhere': 3056, 'entertaining': 1499, 'rule': 3753, 'exception': 1557, 'del': 1165, 'aka': 168, 'devils': 1229, 'possessed': 3347, 'proves': 3447, 'flick': 1754, 'sadly': 3769, 'drags': 1345, 'far': 1653, 'dull': 1384, 'evil': 1548, 'de': 1131, 'magic': 2703, 'bloody': 513, 'stay': 4166, 'learns': 2553, 'behavior': 446, 'decides': 1150, 'arms': 294, 'known': 2492, 'la': 2500, 'vs': 4767, 'say': 3799, 'mostly': 2910, 'built': 618, 'historical': 2119, 'adventure': 130, 'boring': 543, 'middle': 2833, 'resembles': 3646, '50s': 52, 'added': 116, 'name': 2960, 'giving': 1915, 'weird': 4841, 'innocent': 2294, 'etc': 1527, 'members': 2801, 'unlike': 4670, 'features': 1680, 'nudity': 3059, 'clumsy': 866, 'overall': 3150, 'dozens': 1339, 'spanish': 4092, '1973': 19, 'los': 2653, 'hanging': 2023, 'panic': 3181, 'beats': 426, '2004': 34, 'die': 1243, 'fear': 1676, 'supposed': 4306, 'leaves': 2556, 'created': 1037, 'alex': 179, 'sleazy': 4023, '80s': 59, 'connected': 945, 'tied': 4489, 'revenge': 3675, 'horrific': 2166, 'violence': 4747, 'singer': 3993, 'metal': 2823, 'wanting': 4790, 'particular': 3194, 'context': 968, 'sexual': 3908, 'murderer': 2941, 'angel': 231, 'son': 4070, 'insane': 2296, 'provides': 3450, 'editing': 1421, 'piece': 3272, 'opportunity': 3121, 'let': 2579, 'sick': 3963, 'run': 3755, 'take': 4349, 'delight': 1167, 'reached': 3537, 'ups': 4686, 'imagery': 2234, 'engage': 1479, 'personal': 3240, 'closely': 855, 'follow': 1772, 'odd': 3080, 'aint': 163, 'reminds': 3620, 'number': 3060, 'images': 2235, 'left': 2561, 'mark': 2739, 'viewed': 4737, 'particularly': 3195, 'death': 1141, 'pursuit': 3476, 'internet': 2327, 'room': 3735, 'user': 4696, 'control': 977, 'allows': 192, 'exercise': 1568, 'overlooked': 3154, 'visuals': 4759, 'using': 4698, 'city': 825, 'london': 2641, 'backdrop': 379, 'opposed': 3122, 'adds': 119, 'support': 4303, 'ok': 3098, 'classic': 835, 'guts': 1999, 'demons': 1178, 'slightly': 4029, 'remake': 3612, 'epic': 1506, 'thriller': 4472, 'visually': 4758, 'incredible': 2269, 'awesome': 371, 'burton': 630, 'calm': 655, 'world': 4946, 'wasnt': 4807, 'cool': 989, 'parallel': 3185, 'universe': 4666, 'sucks': 4271, 'hate': 2046, 'severe': 3906, 'damage': 1099, 'brain': 562, 'cure': 1081, 'taking': 4352, 'happiness': 2031, 'melting': 2799, 'trick': 4582, 'start': 4156, 'finish': 1732, 'keeping': 2450, 'disneys': 1290, 'practice': 3363, 'stealing': 4171, 'buying': 641, 'live': 2625, 'version': 4720, 'grew': 1972, 'laughs': 2534, 'entire': 1502, 'computer': 927, 'book': 535, 'gag': 1861, 'orders': 3127, 'chief': 788, 'smooth': 4041, 'talking': 4360, 'gadget': 1860, 'vehicle': 4718, 'van': 4713, 'car': 680, 'typical': 4623, 'unrealistic': 4677, 'hollywood': 2137, 'fill': 1714, 'disney': 1289, 'night': 3013, 'long': 2644, 'instant': 2305, 'perhaps': 3235, 'subtle': 4260, 'todays': 4509, 'theyll': 4444, 'grow': 1982, 'appreciation': 281, 'hotel': 2175, 'actual': 108, 'program': 3424, 'inspired': 2301, 'dick': 1239, 'powell': 3358, 'host': 2173, 'network': 3000, 'star': 4150, 'latest': 2526, 'american': 213, 'artists': 309, 'won': 4925, 'ended': 1470, 'went': 4847, 'covered': 1023, 'tony': 4521, 'thomas': 4458, 'came': 656, 'warner': 4799, 'brothers': 599, 'signed': 3971, 'contract': 973, 'lane': 2515, 'double': 1331, 'sister': 4001, 'ham': 2011, 'alan': 171, 'upon': 4684, 'civil': 826, 'develops': 1226, 'problem': 3408, 'asked': 317, 'broadcast': 591, 'singing': 3995, 'rain': 3506, 'manager': 2724, 'ted': 4386, 'johnny': 2410, 'provide': 3448, 'score': 3822, 'song': 4071, 'davis': 1126, 'hollywoods': 2138, 'im': 2232, 'fish': 1738, 'water': 4816, 'listening': 2620, 'lyrics': 2692, 'ginger': 1908, 'rogers': 3725, 'brooklyn': 595, 'sally': 3776, 'fan': 1648, 'popular': 3333, 'culture': 1079, 'choreography': 802, 'earlier': 1399, 'numbers': 3061, 'staged': 4140, 'moment': 2886, 'forced': 1787, 'jobs': 2406, 'lesson': 2577, 'place': 3282, 'owner': 3159, 'edgar': 1417, 'kennedy': 2454, 'gene': 1879, 'ensemble': 1492, 'surviving': 4323, 'member': 2800, 'small': 4033, 'died': 1244, 'became': 431, 'president': 3378, 'united': 4664, 'states': 4163, 'pat': 3208, 'eager': 1396, 'player': 3298, 'delightful': 1168, 'motion': 2913, 'dated': 1119, 'japan': 2381, 'lover': 2672, 'suicide': 4283, 'jumps': 2432, 'edward': 1426, 'albert': 174, 'laura': 2536, 'susan': 4326, 'annoying': 249, 'kid': 2464, 'house': 2178, 'murders': 2943, 'ghosts': 1903, 'makeup': 2717, 'sounds': 4084, 'hopeless': 2158, 'attack': 337, 'fake': 1635, 'swear': 4334, 'pulling': 3463, 'pointless': 3318, 'georges': 1894, 'necessary': 2984, 'silly': 3976, 'fight': 1707, 'believed': 455, 'friend': 1835, 'terrific': 4409, 'lousy': 2667, 'gives': 1914, 'save': 3794, 'documentary': 1307, 'festival': 1697, 'seat': 3845, 'cinema': 816, 'mix': 2876, 'fictional': 1703, 'amazing': 209, 'rate': 3526, 'spoilers': 4124, 'tells': 4397, 'blues': 519, 'bands': 392, 'maybe': 2776, 'dislike': 1288, 'modern': 2882, 'rock': 3720, 'songs': 4072, 'appreciate': 279, 'un': 4630, 'musical': 2947, 'taste': 4369, 'social': 4049, 'club': 863, 'standing': 4146, 'normal': 3033, 'beach': 419, 'open': 3112, 'air': 164, 'quality': 3484, 'difficult': 1249, 'enjoy': 1484, 'thousands': 4466, 'sitting': 4007, 'theatrical': 4430, 'distribution': 1298, 'dvd': 1391, 'doc': 1303, 'sad': 3767, 'bottom': 551, 'id': 2212, 'americans': 214, 'stretch': 4221, 'helps': 2082, 'explore': 1594, 'random': 3514, 'chaos': 755, 'distracting': 1297, 'subtitles': 4259, 'dollars': 1315, 'seeing': 3857, 'paris': 3189, 'effect': 1428, 'reminded': 3619, 'am': 204, 'forward': 1808, 'writer': 4968, 'notorious': 3051, 'trashy': 4566, 'pop': 3330, 'hits': 2125, 'heart': 2064, 'soul': 4079, 'decided': 1149, 'hire': 2116, 'result': 3660, 'selfish': 3870, 'twisted': 4618, 'fit': 1740, 'word': 4937, 'beaten': 424, 'hospital': 2172, 'style': 4249, 'appearance': 274, 'comments': 901, 'hype': 2207, 'mentioned': 2811, 'somebody': 4062, 'der': 1191, 'rarely': 3524, 'desperately': 1209, 'fails': 1628, 'none': 3028, 'although': 201, 'obvious': 3071, 'childish': 791, 'lengthy': 2570, 'destroy': 1213, 'motivation': 2914, 'content': 966, 'sloppy': 4030, 'based': 404, 'memory': 2804, 'freedom': 1828, 'satire': 3788, 'uninteresting': 4660, 'considered': 951, 'release': 3602, 'rotten': 3740, 'high': 2100, 'recently': 3567, 'current': 1084, 'season': 3843, 'mediocre': 2791, 'biggest': 480, 'yellow': 4981, 'press': 3379, 'newspaper': 3006, 'desperate': 1208, 'station': 4164, 'channel': 753, 'arrived': 301, 'cartoons': 705, 'therefore': 4439, 'arrival': 299, 'sets': 3899, 'feelings': 1686, 'village': 4743, 'church': 813, 'gradually': 1952, 'change': 749, 'smile': 4036, 'lips': 2615, 'bringing': 586, 'kay': 2447, 'charming': 768, 'vivid': 4760, 'per': 3223, 'masters': 2761, 'today': 4508, 'second': 3846, 'wow': 4962, 'continues': 971, 'dark': 1115, 'soap': 4047, 'opera': 3116, 'picking': 3267, 'previous': 3387, 'intensity': 2317, 'suspense': 4330, 'franchise': 1817, 'week': 4837, 'whereas': 4865, 'clearly': 840, 'von': 4765, 'eccentric': 1414, 'qualities': 3483, 'regular': 3592, 'minor': 2857, 'players': 3299, 'episodes': 1508, 'returns': 3668, 'pacing': 3163, 'sharp': 3922, 'myself': 2953, 'involve': 2345, 'constantly': 958, 'points': 3319, 'strongly': 4231, 'loud': 2664, 'unusual': 4681, 'silent': 3975, 'person': 3238, 'brings': 587, 'loaded': 2632, 'questions': 3489, 'sequel': 3885, 'scope': 3821, 'bigger': 479, 'spirits': 4115, 'subplots': 4256, 'strong': 4229, 'graphic': 1958, 'kicked': 2461, 'notch': 3043, 'developed': 1223, 'likely': 2601, 'language': 2516, 'remains': 3611, 'held': 2074, 'occasional': 3074, 'direct': 1258, 'cuts': 1091, 'under': 4639, 'truly': 4597, 'enjoyed': 1486, 'regret': 3591, 'humor': 2192, 'takes': 4351, 'relief': 3605, 'unpleasant': 4674, 'yes': 4982, 'sadistic': 3768, 'hiding': 2099, 'changed': 750, 'beloved': 461, 'bathroom': 412, 'angle': 236, 'read': 3543, 'whilst': 4869, 'writing': 4971, 'downright': 1337, 'mini': 2854, 'guess': 1989, 'popularity': 3334, 'aired': 165, 'fortunately': 1805, 'explained': 1587, 'mysterious': 2955, 'addition': 118, 'humble': 2191, 'opinion': 3118, 'belong': 459, 'finished': 1733, 'bought': 552, 'glad': 1916, 'brief': 579, 'summary': 4290, 'aspects': 322, 'lesser': 2576, 'kurt': 2499, 'era': 1513, 'missing': 2869, 'screens': 3832, 'stands': 4147, 'tall': 4362, 'cd': 728, 'merits': 2817, 'considerable': 950, 'fantasy': 1652, 'fred': 1825, 'grasp': 1960, 'segment': 3867, 'carry': 700, 'ladies': 2506, 'joan': 2404, 'june': 2433, 'ii': 2226, 'history': 2121, 'albeit': 173, 'available': 361, 'find': 1726, 'sort': 4077, 'guilty': 1995, 'pleasure': 3306, 'joe': 2407, 'walter': 4784, 'matthau': 2771, 'ability': 65, 'hearted': 2065, 'suppose': 4305, 'ways': 4822, 'shocked': 3939, 'laughed': 2532, 'actress': 105, 'spoil': 4121, 'wild': 4885, 'harris': 2038, 'roger': 3724, 'moore': 2901, 'caine': 647, 'doctor': 1304, 'married': 2744, 'beautiful': 428, 'johnson': 2411, 'trained': 4557, 'america': 212, 'slave': 4022, 'perfectly': 3226, 'trying': 4601, 'brilliant': 583, 'determined': 1221, 'prepared': 3371, 'gun': 1996, 'helped': 2080, 'trade': 4547, 'rex': 3683, 'helicopter': 2076, 'pilot': 3276, 'intense': 2316, 'involves': 2348, 'wonderful': 4928, 'miserably': 2864, 'morality': 2903, 'progress': 3425, 'faster': 1662, 'pushed': 3478, 'costume': 1005, 'recognize': 3569, 'aged': 149, 'thru': 4483, 'books': 536, 'proper': 3436, 'putting': 3482, 'outrageous': 3145, 'bitter': 491, 'busy': 635, 'sub': 4252, 'par': 3184, 'succeed': 4262, 'mildly': 2840, 'humorous': 2193, 'spots': 4132, 'means': 2783, 'lower': 2677, '90': 60, 'places': 3284, 'colors': 879, '24': 39, 'shoot': 3942, 'mill': 2845, 'struggling': 4236, 'add': 115, 'realistic': 3550, 'sent': 3880, 'avoided': 364, '60s': 54, 'adult': 125, 'appeared': 276, 'reunion': 3669, 'shortly': 3947, 'luke': 2687, 'babe': 375, 'equally': 1510, 'complete': 921, 'absence': 70, 'mention': 2810, 'reed': 3580, 'passed': 3202, '1999': 27, 'curious': 1083, 'suspect': 4327, 'alive': 186, 'either': 1438, 'discussion': 1284, 'desire': 1205, 'conversation': 980, 'otherwise': 3137, 'wonderfully': 4929, 'remember': 3616, 'walk': 4775, 'parents': 3188, 'laughing': 2533, 'million': 2847, 'capable': 672, 'speak': 4094, 'unfortunate': 4653, 'realise': 3548, 'training': 4558, 'punishment': 3467, 'novel': 3052, 'psycho': 3457, 'beating': 425, 'prison': 3401, 'cell': 730, 'useless': 4695, 'wondered': 4927, 'investigation': 2343, 'blew': 505, 'lawyer': 2541, 'illegal': 2229, 'order': 3126, 'torture': 4529, 'assault': 324, 'officer': 3092, 'walks': 4780, 'unwatchable': 4682, 'bed': 436, 'slowly': 4032, 'dreary': 1356, 'decide': 1148, 'castle': 712, 'month': 2896, 'april': 284, 'passes': 3203, 'ride': 3692, 'storm': 4206, 'hilarious': 2106, 'walker': 4778, 'satisfying': 3791, 'business': 633, 'sentimental': 3882, 'consistent': 953, 'tone': 4517, 'gangster': 1868, 'screenplay': 3831, 'oliver': 3102, 'stone': 4197, 'al': 170, 'pacino': 3164, 'memorable': 2802, '1980': 20, 'cuba': 1075, 'allow': 189, 'join': 2412, 'families': 1644, 'among': 217, 'florida': 1761, 'criminal': 1057, 'criminals': 1058, 'redemption': 3578, 'merely': 2815, 'rid': 3690, 'land': 2511, 'chicago': 785, 'ambitious': 211, 'montana': 2895, 'grown': 1984, 'boat': 523, 'wealth': 4826, 'dream': 1354, 'favor': 1670, 'frank': 1821, 'currently': 1085, 'government': 1948, 'transition': 4561, 'stage': 4139, 'wealthy': 4827, 'businessman': 634, 'return': 3665, 'released': 3603, 'holding': 2130, 'gain': 1863, 'equivalent': 1512, 'wing': 4896, 'satisfied': 3789, 'cold': 872, 'iron': 2354, 'cost': 1003, 'price': 3389, 'step': 4175, 'vision': 4754, 'larger': 2519, 'accent': 78, 'thoroughly': 4459, 'attitude': 346, 'convincing': 985, 'niro': 3019, 'sympathetic': 4342, 'nor': 3032, 'presence': 3373, 'emotionally': 1460, 'dynamic': 1394, 'michelle': 2830, 'path': 3209, 'elvira': 1450, 'understated': 4646, 'distant': 1295, 'fairly': 1631, 'includes': 2263, 'mary': 2751, 'abraham': 69, 'recent': 3566, 'blow': 514, 'climactic': 848, 'reminiscent': 3621, 'originally': 3131, 'saga': 3773, 'edge': 1418, 'learned': 2551, 'lessons': 2578, 'valuable': 4708, 'french': 1830, 'prisoners': 3403, 'wall': 4781, 'serial': 3889, 'somehow': 4063, 'leaving': 2557, 'discover': 1279, 'arts': 310, 'horrifying': 2167, 'deliver': 1169, 'despite': 1211, 'smoking': 4040, 'call': 651, 'insult': 2309, 'hideous': 2098, 'madonna': 2699, 'shes': 3930, 'warned': 4798, 'literally': 2622, 'hurts': 2203, 'poorly': 3329, 'delivered': 1170, 'description': 1197, 'photography': 3260, 'inept': 2281, 'lighting': 2596, 'horrid': 2165, 'basic': 406, 'seek': 3858, 'contrived': 976, 'snow': 4045, 'except': 1556, 'near': 2979, 'superbly': 4297, 'acted': 98, 'breathtaking': 574, 'practically': 3362, 'sea': 3838, 'tension': 4404, 'worked': 4941, 'manhattan': 2726, 'park': 3190, 'hall': 2009, 'mayor': 2777, 'doors': 1329, 'speech': 4102, 'african': 142, 'kevin': 2457, 'devoted': 1231, 'attempted': 341, 'danny': 1112, 'mob': 2879, 'choices': 798, 'fantastic': 1651, 'nyc': 3065, 'stops': 4203, 'delivering': 1171, 'surprises': 4314, '2005': 35, 'wacky': 4769, 'perfection': 3225, 'brosnan': 597, 'noble': 3021, 'corporate': 998, 'rich': 3685, 'mid': 2832, 'crisis': 1060, 'planned': 3290, 'mexican': 2826, 'runs': 3757, 'luck': 2681, 'losing': 2658, 'cheese': 780, 'hardly': 2036, 'common': 906, 'chain': 741, 'laurel': 2537, 'hardy': 2037, 'fool': 1779, 'trouble': 4592, 'mistake': 2871, 'decade': 1144, 'immediately': 2242, 'youd': 4987, 'forgive': 1795, 'cinemas': 817, 'endearing': 1469, 'oscar': 3133, 'consider': 949, 'thoughts': 4464, 'bond': 532, 'manages': 2725, 'lose': 2654, 'toward': 4539, 'turns': 4609, 'thumbs': 4485, 'birthday': 487, 'bedroom': 437, 'reaches': 3538, 'depth': 1190, 'emotion': 1458, 'stylish': 4251, 'gem': 1877, 'possible': 3350, 'favourite': 1673, 'parker': 3191, 'library': 2589, 'student': 4238, 'buy': 640, 'poster': 3353, 'hang': 2022, 'disappointed': 1273, 'fired': 1735, 'thus': 4486, 'sensitive': 3879, 'racism': 3502, 'country': 1014, 'mainly': 2708, 'bits': 490, 'town': 4541, 'center': 732, 'progresses': 3426, 'poignant': 3315, 'lifestyle': 2593, 'credibility': 1047, 'hold': 2129, 'bergman': 466, 'suit': 4284, 'international': 2326, 'intentions': 2321, 'green': 1971, 'phony': 3256, 'angeles': 233, 'casting': 711, 'agents': 151, 'ie': 2221, 'blonde': 511, 'dumb': 1385, 'finds': 1728, 'teaching': 4377, 'nation': 2969, 'turning': 4608, 'initially': 2291, 'sudden': 4272, 'loose': 2650, 'obsessed': 3069, 'taxi': 4371, 'driver': 1366, 'battle': 414, 'villains': 4745, 'attempt': 340, 'reveals': 3673, 'itself': 2371, 'psychotic': 3459, 'paranoia': 3186, 'leader': 2546, 'interested': 2324, 'girlfriend': 1910, 'lacks': 2505, 'development': 1225, 'walking': 4779, 'draw': 1349, 'concerns': 934, 'accepted': 82, 'twenty': 4612, 'thirty': 4456, 'wasted': 4809, 'fears': 1677, 'behind': 447, 'code': 869, 'tarzan': 4367, 'mate': 2765, 'remarkable': 3613, 'exposed': 1598, 'flesh': 1753, 'nude': 3058, 'swim': 4337, 'pushing': 3479, 'nature': 2975, 'exciting': 1563, 'jungle': 2434, '30s': 44, '40s': 49, 'attacks': 339, 'apes': 267, 'manage': 2722, 'create': 1036, 'throwing': 4480, 'win': 4892, 'awards': 367, 'adequate': 120, 'stolen': 4195, 'monkey': 2890, 'examples': 1554, 'pre': 3365, 'sat': 3786, 'turkey': 4604, 'hadnt': 2004, 'sounded': 4082, 'potential': 3355, 'wind': 4893, 'trees': 4577, 'bright': 581, 'visible': 4753, 'arent': 288, 'sunshine': 4294, 'conventional': 979, 'lovers': 2673, 'marriage': 2743, 'relation': 3595, 'period': 3236, 'newly': 3004, 'wed': 4835, 'spell': 4104, 'quiet': 3492, 'dialogs': 1233, 'appropriate': 283, 'direction': 1261, 'bollywood': 530, 'offer': 3087, 'clean': 838, 'countless': 1012, 'batman': 413, 'partner': 3198, 'wounded': 4961, 'law': 2538, 'says': 3801, 'telling': 4396, 'letting': 2583, 'kissing': 2484, 'fooled': 1780, 'kiss': 2483, 'convincingly': 986, 'okay': 3099, 'paltrow': 3178, 'detail': 1217, 'jeremy': 2394, 'smiling': 4037, 'enjoyment': 1488, 'load': 2631, 'anderson': 227, 'road': 3709, 'sentence': 3881, 'cheap': 774, 'tried': 4584, 'chance': 747, 'cinematic': 818, 'techniques': 4384, 'landscape': 2513, 'capturing': 679, 'wearing': 4831, 'wrapped': 4964, 'shoes': 3941, 'ease': 1404, 'comfortable': 892, 'chooses': 800, 'sexually': 3910, 'seeks': 3860, 'holds': 2131, 'shame': 3918, 'facts': 1624, 'primary': 3394, 'chances': 748, 'fate': 1665, 'follows': 1775, 'yeah': 4977, 'cliché': 844, 'funeral': 1849, 'pick': 3265, 'theatre': 4429, 'singers': 3994, 'clichés': 846, 'jail': 2376, 'religion': 3607, 'carries': 699, 'overlook': 3153, 'sometimes': 4067, 'simplistic': 3985, 'notes': 3046, 'button': 639, 'ian': 2209, 'ball': 388, 'standard': 4144, 'fare': 1655, 'loving': 2675, 'curiosity': 1082, 'talents': 4356, 'guard': 1988, 'hank': 2024, 'dirty': 1268, 'tense': 4403, 'alone': 194, 'jennifer': 2392, 'neil': 2995, 'commentary': 899, 'blowing': 515, 'public': 3460, 'thanks': 4423, 'seven': 3903, 'aging': 153, 'incoherent': 2265, 'tedious': 4387, 'rated': 3527, 'judge': 2424, 'following': 1774, 'virus': 4752, 'designed': 1203, 'frustrated': 1842, 'sends': 3876, 'enters': 1496, 'eye': 1611, 'access': 83, 'patient': 3211, 'neck': 2985, 'skin': 4015, 'crack': 1027, 'blind': 506, 'expert': 1585, 'device': 1227, 'causes': 725, 'burning': 627, 'remote': 3622, 'stopped': 4202, 'broken': 594, 'feet': 1688, 'oh': 3096, 'dear': 1140, 'fitting': 1742, 'attractive': 351, 'male': 2719, 'heroine': 2091, 'parent': 3187, 'troubles': 4594, 'classical': 836, 'send': 3875, 'message': 2819, 'minded': 2850, 'recall': 3562, 'quote': 3496, 'holly': 2136, 'insulting': 2310, 'third': 4455, 'portrayed': 3342, 'reasonably': 3559, 'amy': 222, '1930s': 11, 'keaton': 2448, 'catches': 715, 'steal': 4170, 'pet': 3246, 'health': 2060, 'crime': 1055, 'early': 1400, 'age': 148, 'via': 4726, 'meanwhile': 2785, 'rival': 3706, 'lord': 2652, 'ranks': 3519, 'younger': 4990, 'attorney': 348, 'expected': 1577, 'loses': 2657, 'cagney': 646, 'impression': 2252, 'jr': 2423, 'clark': 832, 'aware': 368, 'billy': 482, 'bill': 481, 'justify': 2439, 'christmas': 810, 'extended': 1604, 'vacation': 4704, 'greatest': 1966, 'separate': 3883, 'bring': 585, 'care': 684, 'brought': 600, 'poor': 3328, 'grave': 1962, 'equal': 1509, 'americas': 215, 'upper': 4685, 'class': 833, 'happen': 2026, 'positive': 3346, 'dreams': 1355, 'plenty': 3307, 'hopes': 2159, 'individuals': 2278, 'pack': 3165, 'beliefs': 452, 'expressed': 1601, 'faith': 1633, 'rank': 3518, 'honesty': 2148, 'deserves': 1201, 'zero': 4996, 'integrity': 2311, 'struggles': 4235, 'smart': 4035, 'tim': 4494, 'robbins': 3712, 'magical': 2704, 'besides': 468, '13': 4, 'months': 2897, 'angry': 238, 'wooden': 4934, 'non': 3027, 'existent': 1572, 'merit': 2816, 'unless': 4669, 'couldve': 1009, 'concerned': 932, 'prequel': 3372, 'cat': 713, 'videos': 4734, 'dude': 1381, 'mouth': 2920, 'dancing': 1107, 'mario': 2738, 'surprised': 4313, 'gonna': 1936, 'skills': 4014, 'appreciated': 280, 'energy': 1478, 'efforts': 1433, 'clue': 864, '2nd': 41, 'cash': 709, 'failure': 1629, 'fell': 1690, 'earned': 1401, 'wouldve': 4959, 'hbo': 2055, 'suggests': 4282, 'suggest': 4280, 'adaptation': 113, 'holmes': 2139, 'matt': 2768, 'dawn': 1127, 'scarecrow': 3804, 'uncomfortable': 4637, 'gray': 1963, 'artificial': 306, 'wore': 4939, 'traditional': 4550, 'dress': 1357, 'painful': 3171, 'outfit': 3144, 'listen': 2619, 'overacting': 3149, 'russell': 3761, 'dog': 1310, 'awfully': 373, 'witnesses': 4916, 'talks': 4361, 'childrens': 793, 'interpretation': 2328, 'including': 2264, 'heston': 2094, 'jones': 2418, 'murder': 2939, 'wrote': 4974, 'suspects': 4328, 'explaining': 1588, 'compare': 911, 'jim': 2402, 'miles': 2843, 'below': 462, 'columbo': 881, 'fault': 1668, 'bbc': 417, 'accents': 79, 'spot': 4131, 'ken': 2453, 'compared': 912, 'credible': 1048, 'clues': 865, 'faces': 1618, 'suspicious': 4332, 'superman': 4301, 'cut': 1089, 'photos': 3261, 'existed': 1570, 'page': 3167, 'unable': 4631, 'restored': 3659, 'winning': 4898, 'nightmare': 3014, 'imagined': 2239, 'thrill': 4471, 'project': 3427, 'text': 4419, 'graphics': 1959, 'trial': 4580, 'hey': 2095, 'neat': 2982, 'alright': 198, 'convince': 983, 'supposedly': 4307, 'whose': 4877, 'tag': 4348, 'youll': 4988, 'believe': 454, 'fly': 1763, 'productions': 3420, 'holes': 2133, 'intent': 2318, 'coherent': 871, 'viewing': 4740, 'faithful': 1634, 'moon': 2900, 'ironically': 2356, 'edited': 1420, 'bus': 631, 'brando': 566, 'highlights': 2104, 'jumping': 2431, 'served': 3894, 'section': 3853, 'nonsensical': 3031, 'inferior': 2285, 'alternate': 200, 'decisions': 1152, 'planet': 3289, 'jackie': 2374, 'cooper': 990, 'lights': 2597, 'confused': 941, 'filled': 1715, 'questionable': 3488, 'mess': 2818, 'pride': 3391, 'military': 2844, 'noted': 3045, 'elsewhere': 1449, 'bears': 421, 'honor': 2150, 'dropped': 1370, 'final': 1722, 'product': 3418, 'affair': 135, 'easier': 1405, 'essentially': 1523, 'bonus': 534, 'disc': 1278, 'legendary': 2565, 'initial': 2290, 'dust': 1388, 'realized': 3553, 'bold': 528, 'managed': 2723, 'remembered': 3617, 'weak': 4824, 'miserable': 2863, 'wondering': 4930, '1st': 28, 'flop': 1760, 'committed': 905, 'knife': 2487, 'throat': 4476, 'agent': 150, 'stupidity': 4248, 'joke': 2414, 'continuity': 972, 'instance': 2304, 'lying': 2690, 'bride': 577, 'area': 286, 'asking': 318, 'write': 4967, 'comment': 898, 'vicious': 4728, 'western': 4853, 'central': 735, 'theme': 4433, 'west': 4852, 'march': 2734, 'andrew': 228, 'incomprehensible': 2267, 'heroes': 2089, 'chris': 806, 'fire': 1734, 'treatment': 4574, 'womans': 4922, 'reaction': 3541, 'afterwards': 145, 'ring': 3698, 'nasty': 2968, 'typically': 4624, 'sheriff': 3929, 'survived': 4322, 'stinker': 4191, 'joined': 2413, 'midnight': 2834, 'cult': 1077, 'debut': 1143, 'begin': 442, 'theaters': 4428, 'ready': 3546, 'unbelievably': 4635, 'youth': 4994, 'neo': 2998, 'hooked': 2153, 'drugs': 1374, 'notion': 3050, 'structure': 4233, 'amateur': 206, 'bored': 541, 'gang': 1867, 'falling': 1639, 'burn': 625, 'garbage': 1870, 'moral': 2902, 'influenced': 2287, 'larry': 2520, 'filmmaker': 1719, 'stick': 4185, 'force': 1786, 'brains': 563, 'yelling': 4980, 'technique': 4383, 'recording': 3575, 'appalling': 268, 'freak': 1824, 'bound': 553, 'protagonists': 3442, 'fetched': 1698, 'minimum': 2856, 'gritty': 1977, 'damn': 1100, 'leads': 2548, 'exists': 1573, 'directors': 1266, 'profound': 3423, 'hatred': 2049, 'benefit': 465, 'promising': 3433, 'brazil': 568, 'eyed': 1612, 'porn': 3336, 'interviews': 2330, 'proof': 3434, 'highlight': 2103, 'exist': 1569, 'everywhere': 1545, 'prove': 3445, 'saying': 3800, 'boredom': 542, 'reasons': 3560, 'manner': 2729, 'buried': 624, 'adults': 126, 'showed': 3956, 'river': 3707, 'destroyed': 1214, 'shots': 3950, 'dad': 1095, 'evening': 1534, 'molly': 2884, 'swimming': 4338, 'bank': 394, 'nurse': 3063, 'dies': 1245, 'independent': 2272, 'lion': 2614, 'toy': 4542, 'successful': 4266, 'dentist': 1180, 'smith': 4038, 'daughter': 1121, 'empty': 1465, 'ordinary': 3128, 'college': 875, 'adam': 111, 'sandler': 3781, 'depressed': 1187, 'cares': 690, 'plane': 3288, 'crash': 1033, 'nearly': 2981, 'mentions': 2813, 'violent': 4748, 'deceased': 1146, 'anger': 235, 'sadness': 3770, 'impressive': 2253, 'psychiatrist': 3455, 'crush': 1072, 'box': 555, 'office': 3091, 'disappointment': 1275, 'reviews': 3679, 'locations': 2636, 'transfer': 4559, 'digital': 1251, 'photo': 3257, 'montage': 2894, 'expecting': 1578, 'audio': 354, 'track': 4544, 'underrated': 4642, 'pictures': 3270, 'wedding': 4836, 'selling': 3873, 'saturday': 3792, 'nights': 3016, 'weeks': 4839, 'cable': 644, 'weekend': 4838, 'witnessed': 4915, 'terribly': 4408, 'attraction': 350, 'sinister': 3998, 'eric': 1514, 'brown': 601, 'scared': 3805, 'reactions': 3542, 'junk': 2436, 'subplot': 4255, 'planning': 3291, 'older': 3101, 'clothes': 860, 'spoiler': 4123, 'warning': 4800, 'credits': 1050, 'teachers': 4376, 'dinner': 1254, 'cruise': 1071, 'triumph': 4590, 'risk': 3704, 'appeal': 271, 'comedies': 889, 'teenagers': 4391, 'helping': 2081, 'actions': 101, 'beatty': 427, 'slight': 4027, 'cage': 645, 'island': 2361, 'stock': 4193, 'renting': 3629, 'picked': 3266, 'strange': 4211, 'food': 1778, 'gross': 1978, 'trash': 4565, 'freddy': 1826, 'safety': 3772, 'slasher': 4020, 'unseen': 4678, 'choice': 797, 'explanation': 1590, 'naturally': 2974, 'attempts': 343, 'identity': 2217, 'winds': 4895, 'process': 3412, 'oddly': 3081, 'classes': 834, 'murdered': 2940, 'factor': 1622, 'prior': 3400, 'knew': 2486, 'logical': 2639, 'chases': 771, 'hundreds': 2196, 'womens': 4924, 'measure': 2786, 'happened': 2027, 'morgan': 2905, 'freeman': 1829, 'contain': 962, 'complex': 923, 'plots': 3310, 'easy': 1410, 'petty': 3249, 'sides': 3967, 'laughter': 2535, 'rare': 3523, 'buddy': 609, 'mine': 2853, 'usually': 4700, 'cousin': 1021, 'funnier': 1850, 'drink': 1361, 'twice': 4613, 'balls': 390, 'stayed': 4167, 'frankly': 1823, 'causing': 726, 'cared': 685, 'believing': 457, 'hello': 2078, 'trip': 4588, 'asian': 314, 'demented': 1176, 'themes': 4434, 'elephant': 1444, 'composed': 926, '12': 3, 'monkeys': 2891, 'underlying': 4641, 'reflection': 3585, 'terry': 4415, 'plague': 3285, 'earth': 1403, 'survivors': 4325, 'underground': 4640, 'affected': 137, 'willis': 4890, '90s': 61, 'investigate': 2342, 'whoever': 4872, 'scientists': 3819, 'inevitable': 2282, 'cole': 873, 'striking': 4226, 'latter': 2528, 'ironic': 2355, 'highest': 2102, 'airport': 167, 'armed': 293, 'visits': 4756, 'reality': 3551, 'escape': 1517, 'avoid': 363, 'scientist': 3818, 'peters': 3248, 'responsible': 3656, 'disease': 1285, 'understood': 4647, 'regarding': 3589, 'masterpieces': 2760, 'crew': 1053, 'versus': 4722, 'hundred': 2195, 'monsters': 2893, 'worthwhile': 4955, 'routine': 3743, 'france': 1816, 'consistently': 954, 'results': 3662, 'desperation': 1210, 'displays': 1293, 'status': 4165, 'sight': 3969, 'journalist': 2420, 'ya': 4976, 'absurd': 73, 'wishes': 4906, 'requires': 3642, 'farce': 1654, 'sitcom': 4004, 'timing': 4498, '2003': 33, 'martin': 2748, 'mafia': 2700, 'wake': 4774, 'genuine': 1891, 'polanski': 3321, 'award': 366, 'jonathan': 2417, 'round': 3742, 'sky': 4017, 'barry': 401, 'norman': 3035, 'jamie': 2379, 'bob': 524, 'happily': 2030, 'opinions': 3119, 'losers': 2656, 'location': 2635, 'sports': 4130, 'oscars': 3134, 'handed': 2016, 'animated': 241, 'deserved': 1200, 'academy': 77, 'becoming': 435, 'agree': 155, 'category': 718, 'politics': 3326, 'clint': 850, 'eastwood': 1409, 'hed': 2072, 'bull': 619, 'dollar': 1314, 'split': 4120, 'controversial': 978, 'ignore': 2224, 'genuinely': 1892, 'sake': 3775, 'vote': 4766, 'hearts': 2066, 'draws': 1352, 'samurai': 3779, 'century': 736, 'tales': 4357, 'mundane': 2938, 'timeless': 4496, 'buff': 611, 'unhappy': 4656, 'loser': 2655, 'luckily': 2682, '15': 7, 'awkward': 374, 'whatsoever': 4861, 'miracle': 2860, 'remaining': 3610, 'copies': 992, 'sam': 3777, 'worthy': 4956, 'ben': 463, 'arthur': 305, '100': 1, 'wound': 4960, 'intended': 2315, 'christian': 808, 'rights': 3697, 'utterly': 4702, 'fail': 1625, 'purpose': 3474, 'ugly': 4625, 'creating': 1039, 'couples': 1017, 'struggle': 4234, 'society': 4050, 'tired': 4501, 'stereotypes': 4179, 'crude': 1069, 'marry': 2745, 'laws': 2540, 'victor': 4731, 'christians': 809, 'kill': 2468, 'daniel': 1111, 'lewis': 2586, 'saved': 3795, 'inane': 2258, 'complain': 919, 'confusing': 942, 'sounding': 4083, 'ed': 1415, 'cake': 648, 'suffice': 4279, 'bullet': 620, '17': 9, 'pathetic': 3210, 'rented': 3628, 'hoped': 2156, 'false': 1641, 'view': 4736, 'football': 1783, 'raise': 3507, 'stuck': 4237, 'christ': 807, 'chaplin': 756, 'persona': 3239, 'lacked': 2503, 'exceptionally': 1559, 'vague': 4705, 'race': 3499, 'sneak': 4043, 'chased': 770, 'steals': 4172, 'forgettable': 1794, 'similarly': 3980, 'harsh': 2040, 'ensues': 1493, 'perform': 3227, 'depicting': 1184, 'admittedly': 123, 'useful': 4694, 'depicted': 1183, 'somewhere': 4069, 'conclusion': 936, 'accept': 80, 'suffers': 4278, 'suffer': 4275, 'official': 3094, 'abuse': 74, 'spends': 4107, 'everybody': 1540, 'amounts': 220, 'hence': 2083, 'sorry': 4076, 'closed': 854, 'slap': 4018, 'francis': 1818, 'horse': 2170, 'mysteries': 2954, 'sidekick': 3966, 'hearing': 2063, 'sid': 3964, 'blend': 504, 'types': 4622, 'beat': 423, 'adapted': 114, 'matters': 2770, 'chemistry': 782, 'essential': 1522, 'writers': 4969, 'confidence': 938, 'quickly': 3491, 'rules': 3754, 'jeff': 2390, 'brilliance': 582, 'crazy': 1035, 'eight': 1436, 'comical': 894, 'gabriel': 1859, 'lake': 2509, 'burt': 629, 'reynolds': 3684, 'decision': 1151, 'survival': 4320, 'evident': 1547, 'breath': 573, 'voight': 4764, 'cox': 1026, 'widely': 4881, 'australia': 356, 'dramas': 1347, 'produced': 3414, 'anywhere': 263, 'raw': 3532, 'shy': 3962, 'darker': 1116, 'ran': 3513, 'seasons': 3844, 'sell': 3871, 'loss': 2659, 'limited': 2606, 'length': 2569, 'candy': 668, 'european': 1530, 'lie': 2590, 'protect': 3443, 'ticket': 4487, 'stellar': 4174, 'mystery': 2956, 'anyways': 262, 'grab': 1949, 'tea': 4373, 'acceptable': 81, 'disappoint': 1272, 'heights': 2073, 'charismatic': 763, 'directs': 1267, 'knowing': 2490, 'climax': 849, 'humour': 2194, 'twists': 4619, 'thrills': 4475, 'loads': 2633, 'screams': 3828, 'speed': 4103, 'tongue': 4518, 'cheek': 779, 'accidentally': 85, 'surfing': 4311, 'korean': 2495, 'hong': 2149, 'kong': 2494, 'fresh': 1833, 'tricks': 4583, 'witty': 4917, 'enemies': 1476, 'caring': 691, 'realizing': 3555, 'pure': 3471, 'distinct': 1296, 'dances': 1106, 'accompanied': 86, 'showdown': 3955, 'embarrassed': 1453, 'san': 3780, 'list': 2617, 'carrey': 696, 'target': 4366, 'mood': 2898, 'crappy': 1032, 'mighty': 2836, 'fest': 1696, 'cliche': 843, 'seventies': 3904, 'eighties': 1437, 'formula': 1802, 'laughable': 2530, 'bruce': 602, 'campbell': 663, 'atrocious': 335, 'goodness': 1938, 'jackson': 2375, 'sue': 4274, 'build': 614, 'terror': 4412, 'superior': 4300, 'eg': 1434, 'scares': 3806, 'jesse': 2397, 'reputation': 3640, 'settings': 3901, 'expectations': 1576, 'flashbacks': 1747, 'environment': 1505, 'extreme': 1609, 'drug': 1373, 'generally': 1881, 'fast': 1661, 'normally': 3034, 'perspective': 3245, 'notably': 3042, 'projects': 3428, 'mentioning': 2812, 'rating': 3529, 'scores': 3823, 'chest': 784, 'names': 2963, 'bet': 470, 'suspend': 4329, 'disbelief': 1277, 'justin': 2440, 'blame': 499, 'badly': 383, 'developing': 1224, 'terms': 4406, 'apart': 264, 'impact': 2244, 'nonetheless': 3029, 'passing': 3204, 'effectively': 1430, 'tape': 4365, 'art': 304, 'copy': 994, 'legend': 2564, '1980s': 21, 'gift': 1906, 'aunt': 355, 'hanks': 2025, 'games': 1865, 'lovable': 2668, 'enter': 1494, 'anti': 254, 'religious': 3608, 'folk': 1770, 'satan': 3787, 'mental': 2808, 'dragon': 1344, 'creature': 1045, 'intentionally': 2320, 'illness': 2230, 'hudson': 2184, 'saving': 3797, 'hoping': 2160, 'convey': 982, 'sunday': 4293, 'absolute': 71, 'tear': 4379, 'stephen': 4176, 'kings': 2481, 'terrifying': 4410, 'educational': 1425, 'strictly': 4223, 'mindless': 2851, 'racial': 3501, 'sarah': 3785, 'achieve': 92, 'dinosaurs': 1256, 'wait': 4770, 'stretched': 4222, 'nostalgic': 3039, 'flat': 1748, 'satisfy': 3790, 'semi': 3874, 'chess': 783, 'motives': 2916, 'thrillers': 4473, 'produce': 3413, 'value': 4709, 'utter': 4701, 'wasting': 4810, 'thrilling': 4474, 'akshay': 169, 'needless': 2989, 'slapstick': 4019, 'noise': 3024, 'clips': 852, 'mere': 2814, 'kapoor': 2443, 'multi': 2935, 'impress': 2250, 'girls': 1911, '45': 50, '60': 53, 'increasingly': 2268, 'stale': 4141, 'appealing': 272, 'survive': 4321, 'doubts': 1333, 'revolution': 3680, 'arrive': 300, 'annie': 247, 'link': 2613, 'model': 2880, 'washington': 4806, 'captain': 674, 'indians': 2275, 'plan': 3287, 'kick': 2460, 'donald': 1321, 'butt': 638, 'hugh': 2186, 'thick': 4447, 'painting': 3175, 'soldier': 4053, 'hide': 2097, 'cause': 723, 'lowest': 2678, 'league': 2549, 'post': 3352, 'remarkably': 3614, 'bleak': 503, 'mgm': 2828, 'convinced': 984, 'trail': 4553, 'stronger': 4230, 'meat': 2787, 'dan': 1102, 'mitchell': 2875, 'shelley': 3928, 'winters': 4901, 'curtis': 1087, 'maggie': 2702, 'pieces': 3273, 'beauty': 430, 'mothers': 2912, 'disturbed': 1299, 'believes': 456, 'daughters': 1122, 'fortune': 1806, 'square': 4136, 'hole': 2132, 'destruction': 1216, 'precious': 3366, 'purely': 3472, 'horrendous': 2162, 'bargain': 400, 'basement': 405, 'remarks': 3615, 'chan': 746, 'suffered': 4276, 'dying': 1393, 'eat': 1411, 'soft': 4051, 'core': 995, 'clever': 841, 'feed': 1683, 'cultural': 1078, 'references': 3583, 'obscure': 3068, 'universal': 4665, 'experiments': 1584, 'secrets': 3852, 'frequently': 1832, 'theyd': 4443, 'field': 1704, 'cheesy': 781, 'rooms': 3736, 'misses': 2868, 'uncle': 4636, 'hal': 2006, 'combined': 885, 'string': 4227, 'carl': 692, 'lifetime': 2594, 'navy': 2976, 'master': 2757, 'doubt': 1332, 'local': 2634, 'chose': 804, 'homosexual': 2145, 'average': 362, 'blank': 501, 'connection': 946, 'choose': 799, 'happening': 2028, 'blond': 510, 'blah': 496, 'excitement': 1562, 'boyfriend': 558, 'guarantee': 1987, 'remotely': 3623, 'conflict': 939, 'activities': 102, 'topless': 4527, 'enjoying': 1487, 'wanna': 4786, 'refuses': 3587, 'issues': 2365, 'incompetent': 2266, 'handled': 2019, 'doctors': 1305, 'count': 1010, 'trust': 4598, 'yesterday': 4983, 'fallen': 1638, 'trap': 4563, 'matrix': 2767, 'versions': 4721, 'davies': 1125, 'hoffman': 2128, 'match': 2762, 'drawn': 1351, 'overcome': 3151, 'poverty': 3357, 'brilliantly': 584, 'capture': 676, 'movement': 2923, 'importance': 2246, 'cowboy': 1025, 'brave': 567, 'influence': 2286, 'sucked': 4270, 'meaning': 2780, 'figured': 1712, 'succeeded': 4263, 'intimate': 2331, 'horrors': 2169, 'vice': 4727, 'multiple': 2936, 'justice': 2438, 'laughably': 2531, 'exaggerated': 1552, 'union': 4661, 'workers': 4943, 'strike': 4224, 'truck': 4595, 'explosions': 1597, 'skill': 4013, 'color': 877, 'concert': 935, 'someones': 4065, 'ego': 1435, 'crowd': 1067, 'performed': 3230, 'baker': 385, 'cinderella': 815, 'fairy': 1632, 'captivating': 675, 'coach': 868, 'gorgeous': 1942, 'jerry': 2396, 'scenario': 3808, 'melodrama': 2797, 'wicked': 4879, 'menace': 2806, 'nicely': 3009, 'segments': 3868, 'reveal': 3670, 'personalities': 3241, 'kelly': 2452, 'dancers': 1105, 'quirky': 3493, 'ballet': 389, 'choreographed': 801, 'opportunities': 3120, 'kills': 2474, 'retarded': 3663, 'fat': 1663, 'paying': 3217, 'screaming': 3827, 'chair': 742, 'barely': 399, 'stomach': 4196, 'plant': 3293, 'leg': 2562, 'japanese': 2382, 'fields': 1705, 'fifteen': 1706, 'promised': 3431, 'portrayal': 3341, 'alien': 183, 'captures': 678, 'goofy': 1939, 'record': 3573, 'bumbling': 622, 'idiot': 2218, 'seeking': 3859, 'explicit': 1591, 'express': 1600, 'nine': 3017, '1970s': 17, 'wars': 4804, 'queen': 3485, 'appearances': 275, 'anime': 243, 'included': 2262, 'possibility': 3349, 'mechanical': 2788, 'bodies': 526, 'cruel': 1070, 'train': 4556, 'expensive': 1579, 'resemblance': 3645, 'condition': 937, 'journey': 2421, 'bothered': 549, 'rushed': 3760, 'include': 2261, 'animation': 242, 'detailed': 1218, 'dub': 1378, 'excited': 1561, 'shadows': 3913, 'claire': 831, 'suitable': 4285, 'deeper': 1155, 'messages': 2820, 'headed': 2058, 'naive': 2958, 'humans': 2190, 'stays': 4169, 'answer': 251, 'growing': 1983, 'decades': 1145, 'unknown': 4668, 'term': 4405, 'describe': 1194, 'corny': 997, 'shell': 3927, 'difference': 1246, 'impressed': 2251, 'lees': 2560, 'machine': 2693, 'packed': 3166, 'warn': 4797, 'tight': 4492, 'fascinating': 1658, 'ninja': 3018, 'jewish': 2401, 'husbands': 2205, 'locked': 2637, 'lena': 2568, 'service': 3896, 'bush': 632, 'ruth': 3763, 'colonel': 876, 'search': 3841, 'grandfather': 1954, 'sellers': 3872, 'hippie': 2115, 'disjointed': 1287, 'definite': 1161, 'dr': 1340, 'senseless': 3878, 'kubrick': 2496, 'site': 4005, 'nicholson': 3011, 'wendy': 4846, 'wide': 4880, 'francisco': 1819, 'anna': 245, 'forbidden': 1785, 'author': 359, 'killings': 2473, 'exceptional': 1558, 'exposure': 1599, 'portion': 3338, 'heavy': 2070, 'weight': 4840, 'prize': 3405, 'resolution': 3649, 'check': 777, 'synopsis': 4344, 'purchased': 3470, 'drives': 1367, 'aforementioned': 139, 'slaughter': 4021, 'implausible': 2245, 'namely': 2962, 'linda': 2609, 'pitt': 3280, 'unsettling': 4679, 'sorts': 4078, 'enjoys': 1489, 'garden': 1872, 'spoken': 4126, 'trio': 4587, 'minds': 2852, 'frightening': 1839, 'blue': 518, 'remind': 3618, 'nevertheless': 3002, 'sincere': 3991, 'suspenseful': 4331, 'fully': 1847, 'shallow': 3917, 'invasion': 2340, 'ridiculously': 3694, 'irrelevant': 2358, 'buffs': 612, 'demon': 1177, 'mask': 2752, 'ought': 3138, 'cameos': 658, 'worried': 4949, 'installment': 2303, 'carpenter': 694, 'plausible': 3295, 'sons': 4073, 'advance': 127, 'throws': 4482, 'lacking': 2504, 'classics': 837, 'halloween': 2010, 'favorites': 1672, 'witch': 4909, 'pleased': 3305, 'lee': 2559, 'bang': 393, 'blown': 516, 'andrews': 229, 'psychological': 3458, 'brutal': 603, 'featured': 1679, 'onto': 3111, 'breaks': 571, 'paper': 3183, 'birth': 486, 'alert': 178, 'execution': 1566, 'claimed': 829, 'massive': 2756, 'lone': 2642, 'propaganda': 3435, 'nonsense': 3030, 'louis': 2665, 'successfully': 4267, 'stanley': 4148, 'spending': 4106, 'kate': 2446, 'explains': 1589, 'curse': 1086, 'jon': 2416, 'sir': 4000, 'jake': 2377, 'ages': 152, 'shouldnt': 3952, 'theory': 4437, 'flight': 1757, 'study': 4242, 'artist': 307, 'branagh': 564, 'carter': 703, 'wit': 4908, 'virtually': 4751, 'kenneth': 2455, 'pleasantly': 3303, 'trailer': 4554, 'extent': 1605, 'ruthless': 3764, 'standards': 4145, 'identify': 2216, 'adventures': 131, 'stunning': 4244, 'creative': 1041, 'futuristic': 1857, 'designs': 1204, 'historically': 2120, 'scientific': 3817, 'reporter': 3636, 'storytelling': 4209, 'characterization': 759, 'performers': 3232, 'wishing': 4907, 'generated': 1882, 'substance': 4258, 'mel': 2796, 'promise': 3430, 'hook': 2152, 'deliberately': 1166, 'meaningless': 2782, 'meaningful': 2781, 'technical': 4381, 'rap': 3520, 'hop': 2154, 'mtv': 2933, 'tap': 4364, 'butler': 637, 'uninspired': 4657, 'slightest': 4028, 'prince': 3396, 'knock': 2488, 'weapons': 4829, 'poem': 3312, 'jump': 2429, 'door': 1328, 'watchable': 4812, 'occasion': 3073, 'carradine': 695, 'solo': 4058, 'surface': 4310, 'purple': 3473, 'attached': 336, 'pal': 3177, 'contact': 961, 'mail': 2706, 'chick': 786, 'immensely': 2243, 'uneven': 4649, 'root': 3737, 'gotten': 1947, 'safe': 3771, 'hidden': 2096, 'creators': 1044, '16': 8, '1933': 12, 'ruby': 3749, 'musicals': 2948, 'offered': 3088, 'depression': 1189, 'broadway': 592, 'tunes': 4603, 'arguably': 289, 'warren': 4801, 'burned': 626, 'size': 4012, 'surreal': 4317, 'nick': 3012, 'nowadays': 3055, 'anne': 246, 'represent': 3637, 'civilization': 827, 'hurt': 2202, 'shark': 3921, 'table': 4346, 'surrounded': 4318, 'lol': 2640, 'accurate': 90, 'mom': 2885, 'eating': 1413, 'words': 4938, 'dickens': 1240, 'mild': 2839, 'sings': 3997, 'england': 1482, 'shakespeare': 3915, 'hamlet': 2013, 'starting': 4158, 'hopefully': 2157, 'exploration': 1593, 'cutting': 1092, 'flying': 1764, 'emotions': 1461, 'derek': 1192, 'nicholas': 3010, 'welcome': 4842, 'gothic': 1945, 'patrick': 3213, 'tune': 4602, 'nominated': 3025, 'sum': 4289, 'genius': 1887, '2002': 32, 'providing': 3451, 'treats': 4575, 'moronic': 2907, 'producing': 3417, 'subjects': 4254, 'jerk': 2395, 'hint': 2112, 'rough': 3741, 'kudos': 2497, 'reviewer': 3677, 'stated': 4161, 'indie': 2276, 'criticism': 1063, 'continued': 970, 'dare': 1113, 'philosophical': 3253, 'afford': 138, 'chosen': 805, 'began': 441, 'rolled': 3729, 'thousand': 4465, 'scale': 3802, 'super': 4295, 'folks': 1771, 'da': 1094, 'statement': 4162, 'wannabe': 4787, 'blockbuster': 509, 'involvement': 2347, 'tender': 4401, 'regard': 3588, '25': 40, 'unbearable': 4633, 'studios': 4241, 'pile': 3275, 'resources': 3651, 'cameron': 661, 'stiller': 4189, 'talented': 4355, 'costs': 1004, 'rush': 3759, 'ourselves': 3140, 'discuss': 1283, 'chase': 769, 'eddie': 1416, 'consequences': 947, 'proceeds': 3411, 'funniest': 1851, 'bucks': 606, 'pulp': 3465, 'ludicrous': 2685, 'unlikely': 4671, 'quotes': 3497, '2006': 36, 'victim': 4729, 'flies': 1756, 'toilet': 4512, 'closet': 858, 'vast': 4716, 'dangerous': 1110, 'personally': 3243, 'evidence': 1546, 'guilt': 1994, 'assigned': 325, 'glass': 1917, 'patients': 3212, 'troubled': 4593, 'roy': 3745, 'prime': 3395, 'charlotte': 766, 'nostalgia': 3038, 'stones': 4198, 'strangely': 4212, 'cliff': 847, 'instinct': 2308, 'louise': 2666, 'associated': 327, 'intrigued': 2334, 'assumed': 329, 'shed': 3924, 'focusing': 1769, 'wins': 4899, 'legal': 2563, 'coffee': 870, 'shop': 3945, 'removed': 3624, 'dating': 1120, 'painted': 3174, 'respected': 3653, 'teacher': 4375, 'teach': 4374, 'staying': 4168, 'commercials': 903, 'rambo': 3511, 'secretly': 3851, 'vietnam': 4735, 'enemy': 1477, 'guns': 1998, 'slick': 4026, 'suits': 4287, 'cynical': 1093, 'foreign': 1790, 'beer': 439, 'north': 3036, 'weapon': 4828, 'pig': 3274, 'display': 1291, 'russian': 3762, 'returning': 3667, 'raped': 3522, 'deadly': 1133, 'finest': 1730, 'burns': 628, 'pro': 3406, 'devoid': 1230, 'describes': 1196, 'proud': 3444, 'touch': 4533, 'winter': 4900, 'surprisingly': 4316, 'fox': 1814, 'timothy': 4499, 'physically': 3263, 'ripped': 3701, 'awake': 365, 'forth': 1804, 'artistic': 308, 'floating': 1758, 'ocean': 3079, 'contemporary': 965, 'technology': 4385, 'ms': 2931, 'olivier': 3103, 'ann': 244, 'repeatedly': 3632, 'neither': 2996, 'bone': 533, 'defined': 1160, 'sexuality': 3909, 'martial': 2747, 'fighter': 1708, 'wwii': 4975, 'heaven': 2068, 'poetic': 3313, 'henry': 2084, 'fay': 1674, 'grim': 1974, 'claims': 830, 'serving': 3897, 'empire': 1464, 'strikes': 4225, 'cringe': 1059, 'dig': 1250, 'sun': 4292, 'treasure': 4571, 'colorful': 878, 'stan': 4142, 'smaller': 4034, 'rocks': 3722, 'company': 910, 'generic': 1885, 'em': 1452, 'unit': 4663, 'waited': 4771, 'introduced': 2337, 'method': 2824, 'broke': 593, 'vaguely': 4706, 'comparison': 914, 'tough': 4537, 'property': 3438, 'winner': 4897, 'mst3k': 2932, 'repeat': 3630, 'presumably': 3380, 'conflicts': 940, 'catching': 716, 'harry': 2039, 'finger': 1731, 'fashioned': 1660, 'performer': 3231, 'filming': 1718, 'titles': 4506, 'lately': 2524, 'focused': 1767, 'jaw': 2384, 'inspiring': 2302, 'jessica': 2398, 'generous': 1886, 'ass': 323, 'appearing': 277, 'experienced': 1581, 'agrees': 157, 'previously': 3388, 'styles': 4250, 'afraid': 140, 'ignorant': 2223, 'drunken': 1376, 'drivel': 1364, 'commit': 904, 'mass': 2753, 'represents': 3639, 'sleeping': 4025, 'range': 3516, 'wear': 4830, 'duo': 1386, 'ears': 1402, 'rabbit': 3498, 'thugs': 4484, 'worry': 4950, 'guessed': 1990, 'neighborhood': 2993, 'wilson': 4891, 'cleverly': 842, 'revealing': 3672, 'shocking': 3940, 'corruption': 1002, 'corner': 996, 'humanity': 2189, 'higher': 2101, 'convoluted': 987, 'review': 3676, 'finale': 1723, 'liking': 2604, 'reflect': 3584, 'iraq': 2351, 'soldiers': 4054, 'motivations': 2915, 'dry': 1377, 'adorable': 124, 'inner': 2292, 'outer': 3143, 'insight': 2298, 'anybody': 257, 'handle': 2018, 'innovative': 2295, 'diane': 1238, 'tommy': 4516, 'extraordinary': 1607, 'messed': 2821, 'commercial': 902, 'randomly': 3515, 'itll': 2369, 'glover': 1923, '1940s': 13, 'emma': 1457, 'marvelous': 2750, 'missed': 2867, 'rick': 3689, 'morris': 2908, 'claim': 828, 'countries': 1013, 'flash': 1745, 'cases': 708, 'degree': 1164, 'centered': 733, 'christopher': 811, 'paced': 3162, 'undoubtedly': 4648, 'imaginative': 2237, 'irony': 2357, 'comedian': 887, 'stooges': 4200, 'shorts': 3948, 'aid': 160, 'comedic': 888, 'outcome': 3142, 'print': 3399, 'colour': 880, 'ruined': 3751, 'reading': 3544, 'intention': 2319, 'calling': 653, 'flow': 1762, 'forgot': 1796, 'unfunny': 4655, 'latin': 2527, 'amazingly': 210, 'achievement': 94, 'modesty': 2883, 'purchase': 3469, 'blob': 507, 'tracks': 4545, 'edition': 1422, 'switch': 4339, 'flaw': 1749, '1950s': 14, 'attitudes': 347, 'sole': 4055, 'juvenile': 2441, 'kicks': 2463, 'traveling': 4568, 'variety': 4714, 'emphasis': 1463, 'bullets': 621, 'danger': 1109, '1972': 18, 'suck': 4269, 'professor': 3422, 'science': 3816, 'ha': 2002, 'millions': 2848, 'specifically': 4100, 'concern': 931, 'presented': 3376, 'warrior': 4802, 'majority': 2712, 'directions': 1262, 'craig': 1030, 'powers': 3361, 'hammer': 2014, 'guessing': 1991, 'rising': 3703, 'snake': 4042, 'pants': 3182, 'repetitive': 3633, 'robot': 3717, 'ps': 3453, 'lisa': 2616, 'vhs': 4725, 'dave': 1123, 'campy': 664, 'ritter': 3705, 'paid': 3169, 'ultra': 4629, 'kinda': 2477, 'ron': 3734, 'attend': 344, 'fascinated': 1657, 'royal': 3746, 'britain': 588, 'victoria': 4732, 'bore': 540, 'passionate': 3206, 'emily': 1456, 'blunt': 520, 'handful': 2017, 'professional': 3421, 'falk': 1636, 'helen': 2075, 'abusive': 75, 'contest': 967, 'conservative': 948, 'reaching': 3539, 'peace': 3219, 'wet': 4855, 'terrorists': 4414, 'carefully': 689, 'shall': 3916, 'foot': 1781, '70': 55, 'zone': 4999, 'lincoln': 2608, 'huh': 2187, 'global': 1920, 'warming': 4795, '50': 51, 'magazine': 2701, 'ice': 2210, 'usa': 4691, 'titled': 4505, 'china': 795, 'india': 2273, 'heck': 2071, 'santa': 3783, 'pg': 3250, 'rental': 3627, 'serves': 3895, 'blair': 497, 'cameras': 660, 'wise': 4903, 'advise': 134, '3d': 46, 'bugs': 613, 'generation': 1883, 'scream': 3826, 'giallo': 1904, 'focuses': 1768, 'julie': 2428, 'offended': 3085, 'surrounding': 4319, 'doomed': 1327, 'lucky': 2683, '3rd': 47, 'souls': 4080, 'mexico': 2827, 'voiced': 4762, 'affect': 136, 'reviewers': 3678, 'channels': 754, 'challenge': 743, 'holiday': 2134, 'painfully': 3172, 'sidney': 3968, 'lumet': 2688, 'garbo': 1871, 'quest': 3486, 'silver': 3977, 'carrie': 697, 'fisher': 1739, 'worker': 4942, 'jane': 2380, 'guest': 1992, 'harvey': 2042, '75': 57, 'frustration': 1843, 'translation': 4562, 'silence': 3974, 'kinds': 2478, 'provoking': 3452, 'carried': 698, 'combat': 882, 'savage': 3793, 'monk': 2889, 'nightmares': 3015, 'homage': 2141, 'earl': 1398, 'clichéd': 845, 'soccer': 4048, 'political': 3324, 'communist': 907, 'corpse': 999, 'domino': 1319, 'hunters': 2200, 'mickey': 2831, 'sin': 3988, 'lucy': 2684, 'acid': 95, 'blacks': 494, 'miscast': 2862, 'mountain': 2917, 'upset': 4687, 'mainstream': 2709, 'chilling': 794, 'floor': 1759, 'suggested': 4281, 'mans': 2730, 'furthermore': 1854, 'received': 3564, 'east': 1407, 'germany': 1898, 'pays': 3218, 'fathers': 1667, 'education': 1424, 'department': 1182, 'talked': 4359, 'uk': 4626, 'spike': 4111, 'gordon': 1940, 'gentle': 1890, 'shape': 3919, 'junior': 2435, 'unintentional': 4658, 'handsome': 2021, 'jet': 2400, 'bobby': 525, 'sophisticated': 4075, 'prefer': 3368, 'wallace': 4782, 'philip': 3252, 'devil': 1228, 'howard': 2182, 'inspiration': 2300, 'streep': 4215, 'angles': 237, 'jumped': 2430, 'bela': 450, 'lugosi': 2686, 'invisible': 2344, 'karloff': 2445, 'comics': 895, 'novels': 3053, 'border': 539, 'writes': 4970, 'object': 3066, 'wives': 4918, 'bible': 477, 'jesus': 2399, 'horribly': 2164, 'wood': 4933, 'joy': 2422, 'alcohol': 176, 'rescue': 3643, 'correct': 1000, 'costumes': 1006, 'rolling': 3730, 'arm': 292, 'movements': 2924, 'succeeds': 4264, 'card': 681, 'julia': 2427, 'described': 1195, 'idiotic': 2219, 'hardcore': 2034, 'answers': 252, 'ned': 2986, 'odds': 3082, 'legs': 2566, 'captured': 677, 'schools': 3814, 'attempting': 342, 'irish': 2353, 'mixed': 2877, 'chinese': 796, 'corrupt': 1001, 'infamous': 2284, 'roll': 3728, 'grace': 1950, 'passion': 3205, 'testament': 4417, 'walls': 4783, 'warriors': 4803, 'court': 1020, 'refreshing': 3586, 'bath': 411, 'officers': 3093, 'discovers': 1281, 'threat': 4467, 'pregnant': 3369, 'gods': 1928, 'spread': 4133, 'plight': 3308, 'demand': 1174, 'raymond': 3534, 'greed': 1968, 'national': 2970, 'lazy': 2543, 'ho': 2127, 'drew': 1360, 'hunt': 2198, 'operation': 3117, 'hired': 2117, 'sink': 3999, 'wears': 4832, 'abc': 63, 'tad': 4347, 'provided': 3449, 'dubbing': 1380, 'extras': 1608, 'secretary': 3850, 'familys': 1646, 'estate': 1525, 'golden': 1934, 'melodramatic': 2798, 'spain': 4091, 'dragged': 1343, 'ah': 158, 'nail': 2957, 'shelf': 3926, 'tiresome': 4502, 'commented': 900, 'instantly': 2306, 'marketing': 2741, 'documentaries': 1306, 'frame': 1815, 'solely': 4056, 'deaths': 1142, 'resulting': 3661, 'longer': 2645, 'fights': 1710, 'forest': 1791, 'loosely': 2651, 'resort': 3650, 'jealous': 2388, 'repeated': 3631, 'viewings': 4741, 'dressed': 1358, 'hysterical': 2208, 'phone': 3255, 'views': 4742, 'forty': 1807, 'trite': 4589, 'incident': 2260, 'spielberg': 4110, 'pitch': 3279, 'alongside': 196, 'antics': 255, 'robbery': 3711, 'maria': 2736, 'balance': 387, 'craft': 1028, 'liners': 2611, 'overwhelming': 3157, 'push': 3477, 'altogether': 202, 'subtlety': 4261, 'gandhi': 1866, 'godfather': 1927, 'rings': 3699, 'eve': 1532, 'scare': 3803, 'scrooge': 3837, 'grows': 1985, 'grey': 1973, 'market': 2740, 'ruins': 3752, 'ancient': 225, 'kim': 2475, 'spring': 4134, 'alike': 185, 'mountains': 2918, 'waters': 4817, 'dvds': 1392, 'anymore': 258, 'greater': 1965, 'source': 4086, 'miike': 2837, 'behave': 445, 'notable': 3041, 'mixture': 2878, 'facial': 1619, 'expressions': 1603, 'suffering': 4277, 'accomplished': 87, 'confusion': 943, 'improve': 2254, 'breasts': 572, 'partly': 3197, 'crafted': 1029, 'westerns': 4854, 'chuck': 812, 'baseball': 403, 'existence': 1571, 'nuclear': 3057, 'grant': 1956, 'constructed': 959, 'alas': 172, 'embarrassing': 1454, 'occur': 3076, 'bakshi': 386, 'understandable': 4644, 'ford': 1789, 'required': 3641, 'counter': 1011, 'faced': 1617, 'heroic': 2090, 'worn': 4948, 'woods': 4935, 'introduction': 2339, 'threatening': 4468, 'lust': 2689, 'depiction': 1185, 'illogical': 2231, 'revolves': 3682, 'brady': 561, 'cats': 721, 'whenever': 4863, 'lay': 2542, 'spare': 4093, 'tends': 4402, 'dean': 1139, 'mirror': 2861, 'elm': 1447, 'eva': 1531, 'ellen': 1446, 'expression': 1602, '14': 6, 'drinking': 1362, 'reads': 3545, 'simplicity': 3984, 'empathy': 1462, 'carrying': 701, 'transformation': 4560, 'polished': 3323, 'cry': 1073, 'serve': 3893, 'household': 2179, 'ad': 110, 'nose': 3037, 'drops': 1372, 'pool': 3327, 'encounters': 1467, 'accident': 84, 'jimmy': 2403, 'nelson': 2997, 'boll': 529, 'shines': 3932, '1990': 24, 'gripping': 1976, 'sisters': 4002, 'recognized': 3570, 'distance': 1294, 'generations': 1884, 'defend': 1158, 'glory': 1922, 'careers': 687, 'tie': 4488, 'li': 2587, 'jazz': 2387, 'dancer': 1104, 'orange': 3125, 'mistakes': 2873, 'celluloid': 731, 'consists': 955, 'godzilla': 1929, 'paulie': 3215, 'splendid': 4119, 'eerie': 1427, 'matthew': 2772, 'southern': 4088, 'raised': 3508, 'cards': 683, 'weakest': 4825, 'recognition': 3568, 'involving': 2349, 'rose': 3739, 'university': 4667, 'greek': 1970, 'chorus': 803, 'scripts': 3836, 'hollow': 2135, 'dozen': 1338, 'doll': 1313, 'haunting': 2051, 'st': 4137, 'sequels': 3886, 'arnold': 296, 'wholly': 4874, 'map': 2733, 'tortured': 4530, 'levels': 2585, 'drop': 1369, 'potentially': 3356, 'fatal': 1664, 'sleep': 4024, 'logic': 2638, 'tracy': 4546, 'accused': 91, 'cia': 814, 'shadow': 3912, 'react': 3540, 'glimpse': 1919, 'regardless': 3590, 'errors': 1516, 'sheer': 3925, 'cameo': 657, 'robots': 3718, 'brutally': 604, 'pamela': 3179, 'disappear': 1270, 'meeting': 2794, 'betty': 474, 'douglas': 1334, 'relations': 3596, 'destroying': 1215, 'basis': 408, 'creation': 1040, 'trailers': 4555, 'cube': 1076, 'strangers': 4214, 'trapped': 4564, 'sullivan': 4288, 'foster': 1809, 'conspiracy': 956, 'creep': 1051, 'allowing': 191, 'noir': 3023, 'borrowed': 545, 'fits': 1741, 'carol': 693, 'barbara': 397, 'roots': 3738, 'chapter': 757, 'lloyd': 2630, 'ties': 4490, 'challenging': 744, 'conversations': 981, 'conceived': 929, 'sean': 3840, 'lawrence': 2539, 'areas': 287, 'shine': 3931, 'killers': 2471, 'soviet': 4089, 'caused': 724, 'goal': 1925, 'detective': 1220, 'blatant': 502, 'advertising': 132, 'industry': 2280, 'rendition': 3625, 'snl': 4044, 'pseudo': 3454, 'bourne': 554, 'photographed': 3258, 'ward': 4793, 'voices': 4763, 'bacall': 377, 'farm': 1656, 'splatter': 4118, 'listed': 2618, 'judy': 2426, 'mistress': 2874, 'idiots': 2220, 'zombies': 4998, 'le': 2544, 'urban': 4688, 'cars': 702, 'blade': 495, 'bell': 458, 'stole': 4194, 'gangsters': 1869, 'skip': 4016, 'bear': 420, 'guide': 1993, 'philosophy': 3254, 'critic': 1061, 'analysis': 224, 'birds': 485, 'lynch': 2691, 'elvis': 1451, 'catholic': 720, 'retired': 3664, 'persons': 3244, 'rural': 3758, '1960s': 15, 'divorce': 1301, 'hitchcock': 2123, 'window': 4894, 'brand': 565, 'authority': 360, 'subsequent': 4257, 'murphy': 2944, 'rachel': 3500, 'wes': 4851, 'craven': 1034, 'chasing': 772, 'twelve': 4611, 'grandmother': 1955, 'sinatra': 3989, 'simmons': 3981, 'bag': 384, 'fancy': 1649, 'improved': 2255, 'shower': 3957, 'adams': 112, 'poetry': 3314, 'goldberg': 1933, 'worthless': 4954, 'likewise': 2603, 'nomination': 3026, 'praise': 3364, 'lemmon': 2567, 'critical': 1062, 'rocky': 3723, 'maintain': 2710, 'wrestling': 4966, 'acts': 107, 'buck': 605, 'spider': 4109, 'superhero': 4299, 'covers': 1024, 'population': 3335, 'priest': 3392, 'loyal': 2679, 'fx': 1858, 'damon': 1101, 'dennis': 1179, 'clown': 862, 'delivery': 1173, 'parties': 3196, 'lab': 2501, 'lively': 2627, 'amazed': 208, 'showcase': 3954, 'checking': 778, 'placed': 3283, 'stereotype': 4178, 'punk': 3468, 'che': 773, 'engaged': 1480, 'glorious': 1921, 'letters': 2582, 'trek': 4578, 'kirk': 2482, 'landing': 2512, 'capital': 673, 'beast': 422, 'exploitation': 1592, 'crimes': 1056, 'joey': 2408, 'witches': 4910, 'factory': 1623, 'riding': 3695, 'media': 2789, 'combine': 884, 'landscapes': 2514, 'horses': 2171, 'kitchen': 2485, 'vincent': 4746, 'stinks': 4192, 'warmth': 4796, 'dutch': 1389, 'duke': 1383, 'authentic': 358, 'props': 3439, 'cross': 1066, 'dressing': 1359, 'unfolds': 4651, 'gary': 1873, 'kicking': 2462, 'cary': 706, 'veteran': 4724, 'matches': 2764, 'desired': 1206, 'marks': 2742, 'europe': 1529, 'properly': 3437, 'brenda': 575, 'purposes': 3475, '1990s': 25, 'streets': 4217, 'introduces': 2338, 'simon': 3982, 'wonders': 4931, 'tremendous': 4579, 'widmark': 4882, 'everyones': 1543, 'seagal': 3839, 'belief': 451, 'hill': 2108, 'cup': 1080, 'ear': 1397, 'inspector': 2299, 'solve': 4060, 'originality': 3130, 'banned': 395, 'donna': 1323, 'masses': 2755, 'stiff': 4187, 'doom': 1326, 'introduce': 2336, 'argue': 290, 'replaced': 3634, 'hopper': 2161, 'isolated': 2363, 'cinematographer': 819, 'drawing': 1350, '3000': 43, 'margaret': 2735, 'flawed': 1750, 'torn': 4528, 'complicated': 925, 'rebel': 3561, 'pit': 3278, 'karen': 2444, 'sixties': 4011, 'belongs': 460, 'plans': 3292, 'fed': 1682, 'supernatural': 4302, 'broad': 590, 'germans': 1897, 'rocket': 3721, 'explosion': 1596, 'overrated': 3156, 'abilities': 64, 'atmospheric': 334, 'menacing': 2807, 'gifted': 1907, 'exotic': 1574, 'stunts': 4246, 'pokemon': 3320, 'pretend': 3381, 'piano': 3264, 'flawless': 1751, 'worlds': 4947, 'vengeance': 4719, 'nations': 2971, 'narrator': 2967, 'facing': 1620, 'unaware': 4632, 'walken': 4777, 'fourth': 1813, 'valley': 4707, 'joseph': 2419, 'similarities': 3979, 'riveting': 3708, 'comparing': 913, 'narration': 2965, 'roberts': 3714, 'shake': 3914, 'domestic': 1318, 'airplane': 166, 'pointed': 3317, 'report': 3635, 'shoots': 3944, 'photographer': 3259, 'tame': 4363, 'catchy': 717, 'explored': 1595, 'eyre': 1614, 'crucial': 1068, 'rochester': 3719, 'dialogues': 1235, 'scheme': 3812, '18': 10, 'despair': 1207, 'hyde': 2206, 'tooth': 4524, 'denzel': 1181, 'sandra': 3782, 'spectacular': 4101, 'hamilton': 2012, 'innocence': 2293, 'sacrifice': 3766, 'spin': 4112, 'lasted': 2522, 'steps': 4177, 'neighbor': 2992, 'thoughtful': 4463, 'darkness': 1117, 'lou': 2663, 'nuts': 3064, 'intellectual': 2312, 'till': 4493, 'spiritual': 4116, 'wizard': 4919, 'oz': 3160, 'frankenstein': 1822, 'thief': 4448, 'tour': 4538, 'dedicated': 1153, 'charisma': 762, 'moody': 2899, 'performing': 3233, 'australian': 357, 'boom': 537, 'mistaken': 2872, 'oil': 3097, 'centers': 734, 'suited': 4286, 'greedy': 1969, 'eaten': 1412, 'holy': 2140, 'bin': 483, 'stunt': 4245, 'preview': 3386, 'glenn': 1918, 'dogs': 1311, 'doo': 1325, 'caliber': 649, 'kidding': 2465, 'compelled': 915, 'reference': 3582, 'elaborate': 1439, 'streisand': 4218, 'pearl': 3220, 'models': 2881, 'cheating': 776, 'khan': 2459, 'macy': 2695, 'fond': 1776, 'resident': 3647, 'kidnapped': 2466, 'jeffrey': 2391, 'aliens': 184, 'hills': 2109, 'cannibal': 669, 'sticks': 4186, 'bird': 484, 'reasonable': 3558, 'warm': 4794, 'boot': 538, 'fbi': 1675, 'represented': 3638, 'mansion': 2731, 'stilted': 4190, 'ethan': 1528, 'alexander': 180, 'sutherland': 4333, 'citizen': 824, 'principal': 3398, 'brooks': 596, 'nazi': 2977, 'pot': 3354, 'ramones': 3512, 'jenny': 2393, 'houses': 2180, 'staring': 4152, 'fu': 1844, 'row': 3744, 'franco': 1820, 'closest': 857, 'pie': 3271, 'aids': 161, 'hints': 2113, 'scottish': 3825, 'spirited': 4114, 'offering': 3089, 'amitabh': 216, 'companion': 909, 'competition': 918, 'uwe': 4703, 'rob': 3710, 'ireland': 2352, 'complaint': 920, 'con': 928, 'heat': 2067, 'wave': 4818, 'territory': 4411, 'tribute': 4581, 'security': 3854, 'literature': 2623, 'gender': 1878, 'tiger': 4491, 'lily': 2605, '20th': 38, 'vulnerable': 4768, 'genres': 1889, 'assistant': 326, 'tons': 4520, 'advanced': 128, 'possibilities': 3348, 'cities': 823, 'foul': 1810, 'creativity': 1042, 'alfred': 181, 'atlantis': 332, 'twilight': 4614, 'staff': 4138, 'response': 3654, 'mall': 2720, 'online': 3109, 'arrested': 298, 'contained': 963, 'travels': 4569, 'touched': 4534, 'spooky': 4128, 'marie': 2737, 'buildings': 616, 'equipment': 1511, 'wandering': 4785, 'changing': 752, 'mouse': 2919, 'virginia': 4750, 'frequent': 1831, 'primarily': 3393, 'matched': 2763, 'blake': 498, 'defense': 1159, 'turner': 4607, 'fix': 1744, 'lucas': 2680, 'greatly': 1967, 'spoke': 4125, 'responsibility': 3655, 'medium': 2792, 'pages': 3168, 'omen': 3104, 'travesty': 4570, 'occurred': 3077, 'bite': 489, 'inevitably': 2283, 'amanda': 205, 'raising': 3509, 'dropping': 1371, 'inappropriate': 2259, 'misery': 2865, 'revelation': 3674, 'improvement': 2256, 'annoyed': 248, 'countryside': 1015, 'orson': 3132, 'welles': 4844, 'enormous': 1490, 'construction': 960, 'firstly': 1737, 'album': 175, 'iii': 2227, 'solution': 4059, 'builds': 617, 'perry': 3237, 'terrorist': 4413, '2007': 37, 'troops': 4591, 'experiment': 1583, 'enterprise': 1495, 'species': 4098, 'prostitute': 3440, 'embarrassment': 1455, 'psychic': 3456, 'leo': 2571, 'titanic': 4503, 'miller': 2846, 'ape': 266, 'swedish': 4335, 'shining': 3933, 'unoriginal': 4673, 'gotta': 1946, 'gratuitous': 1961, 'recorded': 3574, 'icon': 2211, 'complexity': 924, 'alcoholic': 177, 'depicts': 1186, 'superficial': 4298, 'crocodile': 1065, 'hitting': 2126, 'gas': 1874, 'duty': 1390, 'smoke': 4039, 'arrives': 302, 'basketball': 409, 'nancy': 2964, 'threw': 4470, 'dolph': 1317, 'quit': 3494, 'feminist': 1695, 'twins': 4616, 'pops': 3332, 'awe': 370, 'tonight': 4519, 'circle': 821, 'excessive': 1560, 'masterful': 2758, 'achieved': 93, 'ideal': 2214, 'prom': 3429, 'fury': 1855, 'directorial': 1265, 'native': 2972, 'medical': 2790, 'gerard': 1895, 'kung': 2498, 'dealt': 1138, 'hart': 2041, 'bare': 398, 'widow': 4883, '1968': 16, 'felix': 1689, 'ignored': 2225, 'revolutionary': 3681, 'receive': 3563, 'spy': 4135, 'reel': 3581, 'rubber': 3747, 'backgrounds': 381, 'dalton': 1098, 'brad': 560, 'concerning': 933, 'madness': 2698, 'returned': 3666, 'receives': 3565, 'entry': 1504, '35': 45, 'blows': 517, 'pan': 3180, 'robinson': 3716, 'mars': 2746, 'politically': 3325, 'simpson': 3987, 'plastic': 3294, 'secondly': 3847, 'judging': 2425, 'connect': 944, 'edie': 1419, 'paint': 3173, 'museum': 2945, 'whale': 4857, 'ashley': 313, 'wished': 4905, 'daddy': 1096, 'disappeared': 1271, 'symbolism': 4341, 'marty': 2749, 'tomatoes': 4515, 'bo': 521, '1996': 26, 'demands': 1175, 'hung': 2197, 'interaction': 2322, 'berlin': 467, 'myers': 2952, 'cheated': 775, 'angels': 234, 'defeat': 1157, 'dracula': 1341, 'promises': 3432, 'pink': 3277, 'unreal': 4676, 'sits': 4006, 'failing': 1627, 'spoof': 4127, 'wreck': 4965, 'topic': 4526, 'reduced': 3579, 'sport': 4129, 'muslim': 2949, 'iran': 2350, 'forms': 1801, 'dolls': 1316, 'dawson': 1128, 'grinch': 1975, 'lit': 2621, 'maker': 2714, 'faults': 1669, 'temple': 4398, 'discovery': 1282, 'scooby': 3820, 'cg': 739, 'championship': 745, 'deaf': 1134, 'rat': 3525, 'waves': 4819, 'elegant': 1441, 'danes': 1108, 'priceless': 3390, 'jaws': 2385, 'performs': 3234, 'steel': 4173, 'phantom': 3251, 'dorothy': 1330, 'endings': 1472, 'formulaic': 1803, 'females': 1694, 'porno': 3337, 'texas': 4418, 'homer': 2144, 'vegas': 4717, 'nervous': 2999, 'bat': 410, 'richards': 3687, 'diana': 1237, 'stress': 4220, 'gundam': 1997, 'eastern': 1408, 'shirley': 3936, 'celebrity': 729, 'mummy': 2937, 'cave': 727, 'clip': 851, 'agreed': 156, 'stanwyck': 4149, 'fulci': 1845, 'creator': 1043, 'fonda': 1777, 'stargate': 4151, 'rats': 3531, 'angela': 232, 'astaire': 330, 'bottle': 550, 'cusack': 1088, 'bettie': 473, 'seed': 3856}\n"
     ]
    }
   ],
   "source": [
    "print(str(vocabulary))"
   ]
  },
  {
   "cell_type": "markdown",
   "metadata": {},
   "source": [
    "Once you have added the endpoint name to the Lambda function, click on **Save**. Your Lambda function is now up and running. Next we need to create a way for our web app to execute the Lambda function."
   ]
  },
  {
   "cell_type": "markdown",
   "metadata": {},
   "source": [
    "### Setting up API Gateway\n",
    "\n",
    "Now that our Lambda function is set up, it is time to create a new API using API Gateway that will trigger the Lambda function we have just created.\n",
    "\n",
    "Using AWS Console, navigate to **Amazon API Gateway** and then click on **Get started**.\n",
    "\n",
    "On the next page, make sure that **New API** is selected and give the new api a name, for example, `sentiment_analysis_web_app`. Then, click on **Create API**.\n",
    "\n",
    "Now we have created an API, however it doesn't currently do anything. What we want it to do is to trigger the Lambda function that we created earlier.\n",
    "\n",
    "Select the **Actions** dropdown menu and click **Create Method**. A new blank method will be created, select its dropdown menu and select **POST**, then click on the check mark beside it.\n",
    "\n",
    "For the integration point, make sure that **Lambda Function** is selected and click on the **Use Lambda Proxy integration**. This option makes sure that the data that is sent to the API is then sent directly to the Lambda function with no processing. It also means that the return value must be a proper response object as it will also not be processed by API Gateway.\n",
    "\n",
    "Type the name of the Lambda function you created earlier into the **Lambda Function** text entry box and then click on **Save**. Click on **OK** in the pop-up box that then appears, giving permission to API Gateway to invoke the Lambda function you created.\n",
    "\n",
    "The last step in creating the API Gateway is to select the **Actions** dropdown and click on **Deploy API**. You will need to create a new Deployment stage and name it anything you like, for example `prod`.\n",
    "\n",
    "You have now successfully set up a public API to access your SageMaker model. Make sure to copy or write down the URL provided to invoke your newly created public API as this will be needed in the next step. This URL can be found at the top of the page, highlighted in blue next to the text **Invoke URL**."
   ]
  },
  {
   "cell_type": "markdown",
   "metadata": {},
   "source": [
    "## Step 7: Deploying our web app\n",
    "\n",
    "Now that we have a publicly available API, we can start using it in a web app. For our purposes, we have provided a simple static html file which can make use of the public api you created earlier.\n",
    "\n",
    "In the `website` folder there should be a file called `index.html`. Download the file to your computer and open that file up in a text editor of your choice. There should be a line which contains **\\*\\*REPLACE WITH PUBLIC API URL\\*\\***. Replace this string with the url that you wrote down in the last step and then save the file.\n",
    "\n",
    "Now, if you open `index.html` on your local computer, your browser will behave as a local web server and you can use the provided site to interact with your SageMaker model.\n",
    "\n",
    "If you'd like to go further, you can host this html file anywhere you'd like, for example using github or hosting a static site on Amazon's S3. Once you have done this you can share the link with anyone you'd like and have them play with it too!\n",
    "\n",
    "> **Important Note** In order for the web app to communicate with the SageMaker endpoint, the endpoint has to actually be deployed and running. This means that you are paying for it. Make sure that the endpoint is running when you want to use the web app but that you shut it down when you don't need it, otherwise you will end up with a surprisingly large AWS bill."
   ]
  },
  {
   "cell_type": "markdown",
   "metadata": {},
   "source": [
    "### Delete the endpoint\n",
    "\n",
    "Remember to always shut down your endpoint if you are no longer using it. You are charged for the length of time that the endpoint is running so if you forget and leave it on you could end up with an unexpectedly large bill."
   ]
  },
  {
   "cell_type": "code",
   "execution_count": 58,
   "metadata": {
    "collapsed": true
   },
   "outputs": [
    {
     "ename": "ClientError",
     "evalue": "An error occurred (ValidationException) when calling the DeleteEndpoint operation: Could not find endpoint \"arn:aws:sagemaker:us-east-2:574947211111:endpoint/xgboost-2020-08-04-07-23-48-943\".",
     "output_type": "error",
     "traceback": [
      "\u001b[0;31m---------------------------------------------------------------------------\u001b[0m",
      "\u001b[0;31mClientError\u001b[0m                               Traceback (most recent call last)",
      "\u001b[0;32m<ipython-input-58-16a6b43a8b29>\u001b[0m in \u001b[0;36m<module>\u001b[0;34m\u001b[0m\n\u001b[0;32m----> 1\u001b[0;31m \u001b[0mxgb_predictor\u001b[0m\u001b[0;34m.\u001b[0m\u001b[0mdelete_endpoint\u001b[0m\u001b[0;34m(\u001b[0m\u001b[0;34m)\u001b[0m\u001b[0;34m\u001b[0m\u001b[0;34m\u001b[0m\u001b[0m\n\u001b[0m",
      "\u001b[0;32m~/anaconda3/envs/python3/lib/python3.6/site-packages/sagemaker/predictor.py\u001b[0m in \u001b[0;36mdelete_endpoint\u001b[0;34m(self, delete_endpoint_config)\u001b[0m\n\u001b[1;32m    176\u001b[0m             \u001b[0mself\u001b[0m\u001b[0;34m.\u001b[0m\u001b[0m_delete_endpoint_config\u001b[0m\u001b[0;34m(\u001b[0m\u001b[0;34m)\u001b[0m\u001b[0;34m\u001b[0m\u001b[0;34m\u001b[0m\u001b[0m\n\u001b[1;32m    177\u001b[0m \u001b[0;34m\u001b[0m\u001b[0m\n\u001b[0;32m--> 178\u001b[0;31m         \u001b[0mself\u001b[0m\u001b[0;34m.\u001b[0m\u001b[0msagemaker_session\u001b[0m\u001b[0;34m.\u001b[0m\u001b[0mdelete_endpoint\u001b[0m\u001b[0;34m(\u001b[0m\u001b[0mself\u001b[0m\u001b[0;34m.\u001b[0m\u001b[0mendpoint\u001b[0m\u001b[0;34m)\u001b[0m\u001b[0;34m\u001b[0m\u001b[0;34m\u001b[0m\u001b[0m\n\u001b[0m\u001b[1;32m    179\u001b[0m \u001b[0;34m\u001b[0m\u001b[0m\n\u001b[1;32m    180\u001b[0m     \u001b[0;32mdef\u001b[0m \u001b[0mdelete_model\u001b[0m\u001b[0;34m(\u001b[0m\u001b[0mself\u001b[0m\u001b[0;34m)\u001b[0m\u001b[0;34m:\u001b[0m\u001b[0;34m\u001b[0m\u001b[0;34m\u001b[0m\u001b[0m\n",
      "\u001b[0;32m~/anaconda3/envs/python3/lib/python3.6/site-packages/sagemaker/session.py\u001b[0m in \u001b[0;36mdelete_endpoint\u001b[0;34m(self, endpoint_name)\u001b[0m\n\u001b[1;32m   2468\u001b[0m         \"\"\"\n\u001b[1;32m   2469\u001b[0m         \u001b[0mLOGGER\u001b[0m\u001b[0;34m.\u001b[0m\u001b[0minfo\u001b[0m\u001b[0;34m(\u001b[0m\u001b[0;34m\"Deleting endpoint with name: %s\"\u001b[0m\u001b[0;34m,\u001b[0m \u001b[0mendpoint_name\u001b[0m\u001b[0;34m)\u001b[0m\u001b[0;34m\u001b[0m\u001b[0;34m\u001b[0m\u001b[0m\n\u001b[0;32m-> 2470\u001b[0;31m         \u001b[0mself\u001b[0m\u001b[0;34m.\u001b[0m\u001b[0msagemaker_client\u001b[0m\u001b[0;34m.\u001b[0m\u001b[0mdelete_endpoint\u001b[0m\u001b[0;34m(\u001b[0m\u001b[0mEndpointName\u001b[0m\u001b[0;34m=\u001b[0m\u001b[0mendpoint_name\u001b[0m\u001b[0;34m)\u001b[0m\u001b[0;34m\u001b[0m\u001b[0;34m\u001b[0m\u001b[0m\n\u001b[0m\u001b[1;32m   2471\u001b[0m \u001b[0;34m\u001b[0m\u001b[0m\n\u001b[1;32m   2472\u001b[0m     \u001b[0;32mdef\u001b[0m \u001b[0mdelete_endpoint_config\u001b[0m\u001b[0;34m(\u001b[0m\u001b[0mself\u001b[0m\u001b[0;34m,\u001b[0m \u001b[0mendpoint_config_name\u001b[0m\u001b[0;34m)\u001b[0m\u001b[0;34m:\u001b[0m\u001b[0;34m\u001b[0m\u001b[0;34m\u001b[0m\u001b[0m\n",
      "\u001b[0;32m~/anaconda3/envs/python3/lib/python3.6/site-packages/botocore/client.py\u001b[0m in \u001b[0;36m_api_call\u001b[0;34m(self, *args, **kwargs)\u001b[0m\n\u001b[1;32m    314\u001b[0m                     \"%s() only accepts keyword arguments.\" % py_operation_name)\n\u001b[1;32m    315\u001b[0m             \u001b[0;31m# The \"self\" in this scope is referring to the BaseClient.\u001b[0m\u001b[0;34m\u001b[0m\u001b[0;34m\u001b[0m\u001b[0;34m\u001b[0m\u001b[0m\n\u001b[0;32m--> 316\u001b[0;31m             \u001b[0;32mreturn\u001b[0m \u001b[0mself\u001b[0m\u001b[0;34m.\u001b[0m\u001b[0m_make_api_call\u001b[0m\u001b[0;34m(\u001b[0m\u001b[0moperation_name\u001b[0m\u001b[0;34m,\u001b[0m \u001b[0mkwargs\u001b[0m\u001b[0;34m)\u001b[0m\u001b[0;34m\u001b[0m\u001b[0;34m\u001b[0m\u001b[0m\n\u001b[0m\u001b[1;32m    317\u001b[0m \u001b[0;34m\u001b[0m\u001b[0m\n\u001b[1;32m    318\u001b[0m         \u001b[0m_api_call\u001b[0m\u001b[0;34m.\u001b[0m\u001b[0m__name__\u001b[0m \u001b[0;34m=\u001b[0m \u001b[0mstr\u001b[0m\u001b[0;34m(\u001b[0m\u001b[0mpy_operation_name\u001b[0m\u001b[0;34m)\u001b[0m\u001b[0;34m\u001b[0m\u001b[0;34m\u001b[0m\u001b[0m\n",
      "\u001b[0;32m~/anaconda3/envs/python3/lib/python3.6/site-packages/botocore/client.py\u001b[0m in \u001b[0;36m_make_api_call\u001b[0;34m(self, operation_name, api_params)\u001b[0m\n\u001b[1;32m    633\u001b[0m             \u001b[0merror_code\u001b[0m \u001b[0;34m=\u001b[0m \u001b[0mparsed_response\u001b[0m\u001b[0;34m.\u001b[0m\u001b[0mget\u001b[0m\u001b[0;34m(\u001b[0m\u001b[0;34m\"Error\"\u001b[0m\u001b[0;34m,\u001b[0m \u001b[0;34m{\u001b[0m\u001b[0;34m}\u001b[0m\u001b[0;34m)\u001b[0m\u001b[0;34m.\u001b[0m\u001b[0mget\u001b[0m\u001b[0;34m(\u001b[0m\u001b[0;34m\"Code\"\u001b[0m\u001b[0;34m)\u001b[0m\u001b[0;34m\u001b[0m\u001b[0;34m\u001b[0m\u001b[0m\n\u001b[1;32m    634\u001b[0m             \u001b[0merror_class\u001b[0m \u001b[0;34m=\u001b[0m \u001b[0mself\u001b[0m\u001b[0;34m.\u001b[0m\u001b[0mexceptions\u001b[0m\u001b[0;34m.\u001b[0m\u001b[0mfrom_code\u001b[0m\u001b[0;34m(\u001b[0m\u001b[0merror_code\u001b[0m\u001b[0;34m)\u001b[0m\u001b[0;34m\u001b[0m\u001b[0;34m\u001b[0m\u001b[0m\n\u001b[0;32m--> 635\u001b[0;31m             \u001b[0;32mraise\u001b[0m \u001b[0merror_class\u001b[0m\u001b[0;34m(\u001b[0m\u001b[0mparsed_response\u001b[0m\u001b[0;34m,\u001b[0m \u001b[0moperation_name\u001b[0m\u001b[0;34m)\u001b[0m\u001b[0;34m\u001b[0m\u001b[0;34m\u001b[0m\u001b[0m\n\u001b[0m\u001b[1;32m    636\u001b[0m         \u001b[0;32melse\u001b[0m\u001b[0;34m:\u001b[0m\u001b[0;34m\u001b[0m\u001b[0;34m\u001b[0m\u001b[0m\n\u001b[1;32m    637\u001b[0m             \u001b[0;32mreturn\u001b[0m \u001b[0mparsed_response\u001b[0m\u001b[0;34m\u001b[0m\u001b[0;34m\u001b[0m\u001b[0m\n",
      "\u001b[0;31mClientError\u001b[0m: An error occurred (ValidationException) when calling the DeleteEndpoint operation: Could not find endpoint \"arn:aws:sagemaker:us-east-2:574947211111:endpoint/xgboost-2020-08-04-07-23-48-943\"."
     ]
    }
   ],
   "source": [
    "xgb_predictor.delete_endpoint()"
   ]
  },
  {
   "cell_type": "markdown",
   "metadata": {},
   "source": [
    "## Optional: Clean up\n",
    "\n",
    "The default notebook instance on SageMaker doesn't have a lot of excess disk space available. As you continue to complete and execute notebooks you will eventually fill up this disk space, leading to errors which can be difficult to diagnose. Once you are completely finished using a notebook it is a good idea to remove the files that you created along the way. Of course, you can do this from the terminal or from the notebook hub if you would like. The cell below contains some commands to clean up the created files from within the notebook."
   ]
  },
  {
   "cell_type": "code",
   "execution_count": 57,
   "metadata": {},
   "outputs": [],
   "source": [
    "# First we will remove all of the files contained in the data_dir directory\n",
    "!rm $data_dir/*\n",
    "\n",
    "# And then we delete the directory itself\n",
    "!rmdir $data_dir\n",
    "\n",
    "# Similarly we remove the files in the cache_dir directory and the directory itself\n",
    "!rm $cache_dir/*\n",
    "!rmdir $cache_dir"
   ]
  },
  {
   "cell_type": "code",
   "execution_count": null,
   "metadata": {},
   "outputs": [],
   "source": []
  }
 ],
 "metadata": {
  "kernelspec": {
   "display_name": "conda_python3",
   "language": "python",
   "name": "conda_python3"
  },
  "language_info": {
   "codemirror_mode": {
    "name": "ipython",
    "version": 3
   },
   "file_extension": ".py",
   "mimetype": "text/x-python",
   "name": "python",
   "nbconvert_exporter": "python",
   "pygments_lexer": "ipython3",
   "version": "3.6.10"
  }
 },
 "nbformat": 4,
 "nbformat_minor": 2
}
